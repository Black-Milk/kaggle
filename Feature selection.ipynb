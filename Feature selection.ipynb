{
 "cells": [
  {
   "cell_type": "markdown",
   "metadata": {
    "toc": true
   },
   "source": [
    "<h1>Table of Contents<span class=\"tocSkip\"></span></h1>\n",
    "<div class=\"toc\"><ul class=\"toc-item\"></ul></div>"
   ]
  },
  {
   "cell_type": "code",
   "execution_count": 1,
   "metadata": {},
   "outputs": [],
   "source": [
    "from fastai.io import *\n",
    "from fastai.structured import *\n",
    "from sklearn.ensemble import RandomForestRegressor, RandomForestClassifier\n",
    "from pandas_summary import DataFrameSummary\n",
    "from IPython.display import display\n",
    "from sklearn import metrics\n",
    "import feather\n",
    "import lightgbm as lgb\n",
    "from sklearn.model_selection import StratifiedKFold, KFold\n",
    "from sklearn.metrics import mean_squared_error\n",
    "import warnings\n",
    "import gc\n",
    "from sklearn.linear_model import Ridge"
   ]
  },
  {
   "cell_type": "code",
   "execution_count": 2,
   "metadata": {},
   "outputs": [],
   "source": [
    "from sklearn.model_selection import train_test_split"
   ]
  },
  {
   "cell_type": "code",
   "execution_count": 3,
   "metadata": {},
   "outputs": [],
   "source": [
    "from mlxtend.feature_selection import SequentialFeatureSelector as SFS"
   ]
  },
  {
   "cell_type": "code",
   "execution_count": 4,
   "metadata": {},
   "outputs": [],
   "source": [
    "train_df2 = feather.read_dataframe('train_df_beta')"
   ]
  },
  {
   "cell_type": "code",
   "execution_count": 5,
   "metadata": {},
   "outputs": [
    {
     "data": {
      "text/plain": [
       "(201917, 253)"
      ]
     },
     "execution_count": 5,
     "metadata": {},
     "output_type": "execute_result"
    }
   ],
   "source": [
    "train_df2.shape"
   ]
  },
  {
   "cell_type": "code",
   "execution_count": 6,
   "metadata": {},
   "outputs": [],
   "source": [
    "base_cols = ['feature_1','feature_2','feature_3','transactions_count','subsector_id_nunique','merchant_id_nunique','merchant_category_id_nunique','purchase_Month_mean','purchase_Month_min','purchase_Month_max','purchase_Week_nunique','purchase_Week_mean','purchase_Week_min','purchase_Week_max','purchase_Dayofweek_mean','purchase_Dayofweek_min','purchase_Dayofweek_max','purchase_Day_nunique','purchase_Day_mean','purchase_Day_min','purchase_Day_max','purchase_Hour_nunique','purchase_Hour_mean','purchase_Hour_min','purchase_Hour_max','purchase_amount_sum','purchase_amount_max','purchase_amount_min','purchase_amount_mean','purchase_amount_var','purchase_amount_skew','installments_sum','installments_max','installments_mean','installments_var','installments_skew','month_lag_max','month_lag_min','month_lag_mean','month_lag_var','month_lag_skew','month_diff_mean','month_diff_var','month_diff_skew','purchased_on_weekend_mean','category_1_mean','category_2_mean','category_3_mean','card_id_count','price_mean','price_max','price_min','price_var','Christmas_Day_2017_mean','Children_day_2017_mean','Black_Friday_2017_mean','Mothers_Day_2018_mean','duration_mean','duration_min','duration_max','duration_var','duration_skew','amount_month_ratio_mean','amount_month_ratio_min','amount_month_ratio_max','amount_month_ratio_var','amount_month_ratio_skew','category_2_mean_mean','category_3_mean_mean','purchase_date_diff','purchase_date_average','purchase_date_uptonow','purchase_date_uptomin','transactions_count_old','subsector_id_nunique_old','merchant_id_nunique_old','merchant_category_id_nunique_old','purchase_Month_nunique','purchase_Month_mean_old','purchase_Month_min_old','purchase_Month_max_old','purchase_Week_nunique_old','purchase_Week_mean_old','purchase_Week_min_old','purchase_Week_max_old','purchase_Dayofweek_mean_old','purchase_Day_nunique_old','purchase_Day_mean_old','purchase_Day_min_old','purchase_Hour_nunique_old','purchase_Hour_mean_old','purchase_Hour_min_old','purchase_Hour_max_old','purchase_amount_sum_old','purchase_amount_max_old','purchase_amount_min_old','purchase_amount_mean_old','purchase_amount_var_old','purchase_amount_skew_old','installments_sum_old','installments_max_old','installments_mean_old','installments_var_old','installments_skew_old','month_lag_max_old','month_lag_min_old','month_lag_mean_old','month_lag_var_old','month_lag_skew_old','month_diff_max','month_diff_min','month_diff_mean_old','month_diff_var_old','month_diff_skew_old','authorized_flag_mean','purchased_on_weekend_mean_old','category_1_mean_old','category_2_mean_old','category_3_mean_old','card_id_count_old','price_sum','price_mean_old','price_max_old','price_min_old','price_var_old','Christmas_Day_2017_mean_old','Mothers_Day_2017_mean','fathers_day_2017_mean','Children_day_2017_mean_old','Valentine_Day_2017_mean','Black_Friday_2017_mean_old','Mothers_Day_2018_mean_old','duration_mean_old','duration_min_old','duration_max_old','duration_var_old','duration_skew_old','amount_month_ratio_mean_old','amount_month_ratio_min_old','amount_month_ratio_max_old','amount_month_ratio_var_old','amount_month_ratio_skew_old','category_2_mean_mean_old','category_3_mean_mean_old','purchase_date_diff_old','purchase_date_average_old','purchase_date_uptonow_old','purchase_date_uptomin_old','quarter','elapsed_time','days_feature1','days_feature2','days_feature3','days_feature1_ratio','days_feature2_ratio','days_feature3_ratio','feature_sum','feature_mean','feature_max','feature_min','feature_var','card_id_total','card_id_count_total','card_id_count_ratio','purchase_amount_total','purchase_amount_total_mean','purchase_amount_total_max','purchase_amount_total_min','purchase_amount_sum_ratio','hist_first_buy','new_first_buy','hist_last_buy','new_last_buy','month_diff_ratio','installments_total','installments_ratio','price_total','CLV','CLV_old','CLV_ratio']"
   ]
  },
  {
   "cell_type": "code",
   "execution_count": 7,
   "metadata": {},
   "outputs": [],
   "source": [
    "for df in [train_df2]:\n",
    "    for f in ['purchase_date_max','purchase_date_min','purchase_date_max_old',\\\n",
    "                     'purchase_date_min_old']:\n",
    "        df[f] = df[f].astype(np.int64) * 1e-9\n",
    "        \n",
    "cols_excluded = ['purchase_date_max', 'purchase_date_max_old', 'card_id', 'first_active_month',\n",
    "                 'target','outliers','card_id_size', 'card_id_size_old', \n",
    "                 'purchase_date_min', 'purchase_date_min_old','first_active_monthYear',\n",
    "                 'first_active_monthMonth',\n",
    "                 'first_active_monthWeek',\n",
    "                 'first_active_monthDay',\n",
    "                 'first_active_monthDayofweek',\n",
    "                 'first_active_monthDayofyear',\n",
    "                 'first_active_monthIs_month_end',\n",
    "                 'first_active_monthIs_month_start',\n",
    "                 'first_active_monthIs_quarter_end',\n",
    "                 'first_active_monthIs_quarter_start',\n",
    "                 'first_active_monthIs_year_end',\n",
    "                 'first_active_monthIs_year_start']"
   ]
  },
  {
   "cell_type": "code",
   "execution_count": 8,
   "metadata": {},
   "outputs": [],
   "source": [
    "df_train_columns = [c for c in train_df2.columns.values if c not in cols_excluded]"
   ]
  },
  {
   "cell_type": "code",
   "execution_count": 9,
   "metadata": {},
   "outputs": [],
   "source": [
    "x, x_t, y, y_t = train_test_split(train_df2, train_df2['target'], \n",
    "                                 stratify=train_df2['outliers'], test_size=.1, random_state=1)"
   ]
  },
  {
   "cell_type": "code",
   "execution_count": 10,
   "metadata": {},
   "outputs": [
    {
     "data": {
      "text/plain": [
       "((181725, 253), (20192, 253))"
      ]
     },
     "execution_count": 10,
     "metadata": {},
     "output_type": "execute_result"
    }
   ],
   "source": [
    "x.shape, x_t.shape"
   ]
  },
  {
   "cell_type": "code",
   "execution_count": 11,
   "metadata": {},
   "outputs": [],
   "source": [
    "x, x_t, y, y_t = train_test_split(x, y, \n",
    "                                 stratify=x['outliers'], test_size=.2, random_state=1)"
   ]
  },
  {
   "cell_type": "code",
   "execution_count": 12,
   "metadata": {},
   "outputs": [
    {
     "data": {
      "text/plain": [
       "((145380, 253), (36345, 253))"
      ]
     },
     "execution_count": 12,
     "metadata": {},
     "output_type": "execute_result"
    }
   ],
   "source": [
    "x.shape, x_t.shape"
   ]
  },
  {
   "cell_type": "code",
   "execution_count": 13,
   "metadata": {},
   "outputs": [
    {
     "data": {
      "text/plain": [
       "(1589, 397)"
      ]
     },
     "execution_count": 13,
     "metadata": {},
     "output_type": "execute_result"
    }
   ],
   "source": [
    "(x['outliers']==1).sum(), (x_t['outliers']==1).sum()"
   ]
  },
  {
   "cell_type": "code",
   "execution_count": 14,
   "metadata": {},
   "outputs": [
    {
     "data": {
      "text/plain": [
       "((145380,), (36345,))"
      ]
     },
     "execution_count": 14,
     "metadata": {},
     "output_type": "execute_result"
    }
   ],
   "source": [
    "y.shape, y_t.shape"
   ]
  },
  {
   "cell_type": "code",
   "execution_count": 15,
   "metadata": {},
   "outputs": [],
   "source": [
    "df_train_columns = base_cols"
   ]
  },
  {
   "cell_type": "code",
   "execution_count": 16,
   "metadata": {},
   "outputs": [
    {
     "data": {
      "text/plain": [
       "180"
      ]
     },
     "execution_count": 16,
     "metadata": {},
     "output_type": "execute_result"
    }
   ],
   "source": [
    "len(df_train_columns)"
   ]
  },
  {
   "cell_type": "code",
   "execution_count": 17,
   "metadata": {},
   "outputs": [],
   "source": [
    "x = x[df_train_columns]\n",
    "x_t = x_t[df_train_columns]"
   ]
  },
  {
   "cell_type": "code",
   "execution_count": 18,
   "metadata": {},
   "outputs": [],
   "source": [
    "lgb_param = {\n",
    "        'task': 'train',\n",
    "        'boosting': 'goss',\n",
    "        'objective': 'regression',\n",
    "        'metric': 'rmse',\n",
    "        'learning_rate': 0.01,\n",
    "        'subsample': 0.9855232997390695,\n",
    "        'max_depth': 7,\n",
    "        'top_rate': 0.9064148448434349,\n",
    "        'num_leaves': 123,\n",
    "        'min_child_weight': 41.9612869171337,\n",
    "        'other_rate': 0.0721768246018207,\n",
    "        'reg_alpha': 9.677537745007898,\n",
    "        'colsample_bytree': 0.5665320670155495,\n",
    "        'min_split_gain': 9.820197773625843,\n",
    "        'reg_lambda': 8.2532317400459,\n",
    "        'min_data_in_leaf': 21,\n",
    "        'verbose': -1,\n",
    "        'seed':int(2**5),\n",
    "        'bagging_seed':int(2**5),\n",
    "        'drop_seed':int(2**5)\n",
    "        }\n",
    "trn_data = lgb.Dataset(x[base_cols], label=y)\n",
    "val_data = lgb.Dataset(x_t[base_cols], label=y_t)"
   ]
  },
  {
   "cell_type": "code",
   "execution_count": 19,
   "metadata": {},
   "outputs": [
    {
     "name": "stdout",
     "output_type": "stream",
     "text": [
      "CPU times: user 1min 41s, sys: 333 ms, total: 1min 41s\n",
      "Wall time: 17.2 s\n"
     ]
    },
    {
     "data": {
      "text/plain": [
       "3.6524335955342595"
      ]
     },
     "execution_count": 19,
     "metadata": {},
     "output_type": "execute_result"
    }
   ],
   "source": [
    "num_round = 10000\n",
    "%time clf = lgb.train(lgb_param, trn_data, num_round, valid_sets = [trn_data, val_data], verbose_eval=0, early_stopping_rounds = 200)\n",
    "oof = clf.predict(x_t[base_cols], num_iteration=clf.best_iteration)\n",
    "np.sqrt(mean_squared_error(oof, y_t))"
   ]
  },
  {
   "cell_type": "code",
   "execution_count": 114,
   "metadata": {},
   "outputs": [],
   "source": [
    "base_cols2 = ['feature_1', 'feature_2', 'feature_3']"
   ]
  },
  {
   "cell_type": "code",
   "execution_count": 168,
   "metadata": {},
   "outputs": [],
   "source": [
    "cols_to_add = [c for c in df_train_columns if c not in base_cols2]"
   ]
  },
  {
   "cell_type": "code",
   "execution_count": 169,
   "metadata": {},
   "outputs": [
    {
     "data": {
      "text/plain": [
       "240"
      ]
     },
     "execution_count": 169,
     "metadata": {},
     "output_type": "execute_result"
    }
   ],
   "source": [
    "len(cols_to_add)"
   ]
  },
  {
   "cell_type": "code",
   "execution_count": 119,
   "metadata": {},
   "outputs": [],
   "source": [
    "base_score2 = 3.847374431825333"
   ]
  },
  {
   "cell_type": "code",
   "execution_count": 72,
   "metadata": {},
   "outputs": [],
   "source": [
    "base_score = 3.691041093650063"
   ]
  },
  {
   "cell_type": "code",
   "execution_count": 189,
   "metadata": {},
   "outputs": [],
   "source": [
    "selected_cols = []"
   ]
  },
  {
   "cell_type": "code",
   "execution_count": 190,
   "metadata": {},
   "outputs": [],
   "source": [
    "fe_deltas_df = pd.DataFrame()"
   ]
  },
  {
   "cell_type": "code",
   "execution_count": 191,
   "metadata": {},
   "outputs": [],
   "source": [
    "final_cols = base_cols2"
   ]
  },
  {
   "cell_type": "code",
   "execution_count": 192,
   "metadata": {},
   "outputs": [],
   "source": [
    "fe_d = {}"
   ]
  },
  {
   "cell_type": "code",
   "execution_count": 202,
   "metadata": {
    "collapsed": true
   },
   "outputs": [
    {
     "name": "stdout",
     "output_type": "stream",
     "text": [
      "4 lg_cols\n",
      "5 lg_cols\n",
      "6 lg_cols\n",
      "7 lg_cols\n",
      "8 lg_cols\n",
      "9 lg_cols\n",
      "10 lg_cols\n",
      "11 lg_cols\n",
      "12 lg_cols\n",
      "13 lg_cols\n",
      "14 lg_cols\n",
      "15 lg_cols\n",
      "16 lg_cols\n",
      "17 lg_cols\n",
      "18 lg_cols\n",
      "19 lg_cols\n",
      "20 lg_cols\n",
      "21 lg_cols\n",
      "22 lg_cols\n",
      "23 lg_cols\n",
      "24 lg_cols\n",
      "25 lg_cols\n",
      "26 lg_cols\n",
      "27 lg_cols\n",
      "28 lg_cols\n",
      "29 lg_cols\n",
      "30 lg_cols\n",
      "31 lg_cols\n",
      "32 lg_cols\n",
      "33 lg_cols\n",
      "34 lg_cols\n",
      "35 lg_cols\n",
      "36 lg_cols\n",
      "37 lg_cols\n",
      "38 lg_cols\n",
      "39 lg_cols\n",
      "40 lg_cols\n",
      "41 lg_cols\n",
      "42 lg_cols\n",
      "43 lg_cols\n",
      "44 lg_cols\n",
      "45 lg_cols\n",
      "46 lg_cols\n",
      "47 lg_cols\n",
      "48 lg_cols\n",
      "49 lg_cols\n",
      "50 lg_cols\n",
      "51 lg_cols\n",
      "52 lg_cols\n",
      "53 lg_cols\n",
      "54 lg_cols\n",
      "55 lg_cols\n",
      "56 lg_cols\n",
      "57 lg_cols\n",
      "58 lg_cols\n",
      "59 lg_cols\n",
      "60 lg_cols\n",
      "61 lg_cols\n",
      "62 lg_cols\n"
     ]
    },
    {
     "ename": "KeyboardInterrupt",
     "evalue": "",
     "output_type": "error",
     "traceback": [
      "\u001b[0;31m---------------------------------------------------------------------------\u001b[0m",
      "\u001b[0;31mKeyboardInterrupt\u001b[0m                         Traceback (most recent call last)",
      "\u001b[0;32m<ipython-input-202-e484fef00925>\u001b[0m in \u001b[0;36m<module>\u001b[0;34m\u001b[0m\n\u001b[1;32m      5\u001b[0m     \u001b[0mval_data\u001b[0m \u001b[0;34m=\u001b[0m \u001b[0mlgb\u001b[0m\u001b[0;34m.\u001b[0m\u001b[0mDataset\u001b[0m\u001b[0;34m(\u001b[0m\u001b[0mx_t\u001b[0m\u001b[0;34m[\u001b[0m\u001b[0mlgb_cols\u001b[0m\u001b[0;34m]\u001b[0m\u001b[0;34m,\u001b[0m \u001b[0mlabel\u001b[0m\u001b[0;34m=\u001b[0m\u001b[0my_t\u001b[0m\u001b[0;34m)\u001b[0m\u001b[0;34m\u001b[0m\u001b[0;34m\u001b[0m\u001b[0m\n\u001b[1;32m      6\u001b[0m     clf = lgb.train(lgb_param, trn_data, num_round, \n\u001b[0;32m----> 7\u001b[0;31m                     valid_sets = [trn_data, val_data], verbose_eval=0, early_stopping_rounds = 200)\n\u001b[0m\u001b[1;32m      8\u001b[0m     \u001b[0moof\u001b[0m \u001b[0;34m=\u001b[0m \u001b[0mclf\u001b[0m\u001b[0;34m.\u001b[0m\u001b[0mpredict\u001b[0m\u001b[0;34m(\u001b[0m\u001b[0mx_t\u001b[0m\u001b[0;34m[\u001b[0m\u001b[0mlgb_cols\u001b[0m\u001b[0;34m]\u001b[0m\u001b[0;34m,\u001b[0m \u001b[0mnum_iteration\u001b[0m\u001b[0;34m=\u001b[0m\u001b[0mclf\u001b[0m\u001b[0;34m.\u001b[0m\u001b[0mbest_iteration\u001b[0m\u001b[0;34m)\u001b[0m\u001b[0;34m\u001b[0m\u001b[0;34m\u001b[0m\u001b[0m\n\u001b[1;32m      9\u001b[0m     \u001b[0mscore\u001b[0m \u001b[0;34m=\u001b[0m \u001b[0mnp\u001b[0m\u001b[0;34m.\u001b[0m\u001b[0msqrt\u001b[0m\u001b[0;34m(\u001b[0m\u001b[0mmean_squared_error\u001b[0m\u001b[0;34m(\u001b[0m\u001b[0my_t\u001b[0m\u001b[0;34m,\u001b[0m \u001b[0moof\u001b[0m\u001b[0;34m)\u001b[0m\u001b[0;34m)\u001b[0m\u001b[0;34m\u001b[0m\u001b[0;34m\u001b[0m\u001b[0m\n",
      "\u001b[0;32m~/anaconda3/envs/fastai/lib/python3.6/site-packages/lightgbm/engine.py\u001b[0m in \u001b[0;36mtrain\u001b[0;34m(params, train_set, num_boost_round, valid_sets, valid_names, fobj, feval, init_model, feature_name, categorical_feature, early_stopping_rounds, evals_result, verbose_eval, learning_rates, keep_training_booster, callbacks)\u001b[0m\n\u001b[1;32m    211\u001b[0m                                     evaluation_result_list=None))\n\u001b[1;32m    212\u001b[0m \u001b[0;34m\u001b[0m\u001b[0m\n\u001b[0;32m--> 213\u001b[0;31m         \u001b[0mbooster\u001b[0m\u001b[0;34m.\u001b[0m\u001b[0mupdate\u001b[0m\u001b[0;34m(\u001b[0m\u001b[0mfobj\u001b[0m\u001b[0;34m=\u001b[0m\u001b[0mfobj\u001b[0m\u001b[0;34m)\u001b[0m\u001b[0;34m\u001b[0m\u001b[0;34m\u001b[0m\u001b[0m\n\u001b[0m\u001b[1;32m    214\u001b[0m \u001b[0;34m\u001b[0m\u001b[0m\n\u001b[1;32m    215\u001b[0m         \u001b[0mevaluation_result_list\u001b[0m \u001b[0;34m=\u001b[0m \u001b[0;34m[\u001b[0m\u001b[0;34m]\u001b[0m\u001b[0;34m\u001b[0m\u001b[0;34m\u001b[0m\u001b[0m\n",
      "\u001b[0;32m~/anaconda3/envs/fastai/lib/python3.6/site-packages/lightgbm/basic.py\u001b[0m in \u001b[0;36mupdate\u001b[0;34m(self, train_set, fobj)\u001b[0m\n\u001b[1;32m   1753\u001b[0m             _safe_call(_LIB.LGBM_BoosterUpdateOneIter(\n\u001b[1;32m   1754\u001b[0m                 \u001b[0mself\u001b[0m\u001b[0;34m.\u001b[0m\u001b[0mhandle\u001b[0m\u001b[0;34m,\u001b[0m\u001b[0;34m\u001b[0m\u001b[0;34m\u001b[0m\u001b[0m\n\u001b[0;32m-> 1755\u001b[0;31m                 ctypes.byref(is_finished)))\n\u001b[0m\u001b[1;32m   1756\u001b[0m             \u001b[0mself\u001b[0m\u001b[0;34m.\u001b[0m\u001b[0m__is_predicted_cur_iter\u001b[0m \u001b[0;34m=\u001b[0m \u001b[0;34m[\u001b[0m\u001b[0;32mFalse\u001b[0m \u001b[0;32mfor\u001b[0m \u001b[0m_\u001b[0m \u001b[0;32min\u001b[0m \u001b[0mrange_\u001b[0m\u001b[0;34m(\u001b[0m\u001b[0mself\u001b[0m\u001b[0;34m.\u001b[0m\u001b[0m__num_dataset\u001b[0m\u001b[0;34m)\u001b[0m\u001b[0;34m]\u001b[0m\u001b[0;34m\u001b[0m\u001b[0;34m\u001b[0m\u001b[0m\n\u001b[1;32m   1757\u001b[0m             \u001b[0;32mreturn\u001b[0m \u001b[0mis_finished\u001b[0m\u001b[0;34m.\u001b[0m\u001b[0mvalue\u001b[0m \u001b[0;34m==\u001b[0m \u001b[0;36m1\u001b[0m\u001b[0;34m\u001b[0m\u001b[0;34m\u001b[0m\u001b[0m\n",
      "\u001b[0;31mKeyboardInterrupt\u001b[0m: "
     ]
    }
   ],
   "source": [
    "for c in cols_to_add:\n",
    "    lgb_cols = final_cols + [c]\n",
    "    print(len(lgb_cols), 'lg_cols')\n",
    "    trn_data = lgb.Dataset(x[lgb_cols], label=y)\n",
    "    val_data = lgb.Dataset(x_t[lgb_cols], label=y_t)\n",
    "    clf = lgb.train(lgb_param, trn_data, num_round, \n",
    "                    valid_sets = [trn_data, val_data], verbose_eval=0, early_stopping_rounds = 200)\n",
    "    oof = clf.predict(x_t[lgb_cols], num_iteration=clf.best_iteration)\n",
    "    score = np.sqrt(mean_squared_error(y_t, oof))\n",
    "    delta = base_score - score\n",
    "    fe_d[c] = delta\n",
    "    if delta < 0:\n",
    "        selected_cols.append(c)\n",
    "        final_cols = final_cols + [c]"
   ]
  },
  {
   "cell_type": "code",
   "execution_count": 194,
   "metadata": {},
   "outputs": [
    {
     "data": {
      "text/plain": [
       "578"
      ]
     },
     "execution_count": 194,
     "metadata": {},
     "output_type": "execute_result"
    }
   ],
   "source": [
    "gc.collect()"
   ]
  },
  {
   "cell_type": "code",
   "execution_count": 195,
   "metadata": {},
   "outputs": [
    {
     "data": {
      "text/plain": [
       "0"
      ]
     },
     "execution_count": 195,
     "metadata": {},
     "output_type": "execute_result"
    }
   ],
   "source": [
    "len(selected_cols)"
   ]
  },
  {
   "cell_type": "code",
   "execution_count": 196,
   "metadata": {},
   "outputs": [],
   "source": [
    "fe_deltas_df = pd.DataFrame.from_dict(fe_d, orient='index')"
   ]
  },
  {
   "cell_type": "code",
   "execution_count": 197,
   "metadata": {
    "collapsed": true
   },
   "outputs": [
    {
     "data": {
      "text/html": [
       "<div>\n",
       "<style scoped>\n",
       "    .dataframe tbody tr th:only-of-type {\n",
       "        vertical-align: middle;\n",
       "    }\n",
       "\n",
       "    .dataframe tbody tr th {\n",
       "        vertical-align: top;\n",
       "    }\n",
       "\n",
       "    .dataframe thead th {\n",
       "        text-align: right;\n",
       "    }\n",
       "</style>\n",
       "<table border=\"1\" class=\"dataframe\">\n",
       "  <thead>\n",
       "    <tr style=\"text-align: right;\">\n",
       "      <th></th>\n",
       "      <th>0</th>\n",
       "    </tr>\n",
       "  </thead>\n",
       "  <tbody>\n",
       "    <tr>\n",
       "      <th>transactions_count</th>\n",
       "      <td>-0.150052</td>\n",
       "    </tr>\n",
       "    <tr>\n",
       "      <th>subsector_id_nunique</th>\n",
       "      <td>-0.148867</td>\n",
       "    </tr>\n",
       "    <tr>\n",
       "      <th>merchant_id_nunique</th>\n",
       "      <td>-0.150136</td>\n",
       "    </tr>\n",
       "    <tr>\n",
       "      <th>merchant_category_id_nunique</th>\n",
       "      <td>-0.149662</td>\n",
       "    </tr>\n",
       "    <tr>\n",
       "      <th>purchase_Month_mean</th>\n",
       "      <td>-0.117247</td>\n",
       "    </tr>\n",
       "    <tr>\n",
       "      <th>purchase_Month_min</th>\n",
       "      <td>-0.118750</td>\n",
       "    </tr>\n",
       "    <tr>\n",
       "      <th>purchase_Month_max</th>\n",
       "      <td>-0.116200</td>\n",
       "    </tr>\n",
       "    <tr>\n",
       "      <th>purchase_Week_nunique</th>\n",
       "      <td>-0.149430</td>\n",
       "    </tr>\n",
       "    <tr>\n",
       "      <th>purchase_Week_mean</th>\n",
       "      <td>-0.106378</td>\n",
       "    </tr>\n",
       "    <tr>\n",
       "      <th>purchase_Week_min</th>\n",
       "      <td>-0.114731</td>\n",
       "    </tr>\n",
       "    <tr>\n",
       "      <th>purchase_Week_max</th>\n",
       "      <td>-0.110754</td>\n",
       "    </tr>\n",
       "    <tr>\n",
       "      <th>purchase_Dayofweek_mean</th>\n",
       "      <td>-0.151258</td>\n",
       "    </tr>\n",
       "    <tr>\n",
       "      <th>purchase_Dayofweek_min</th>\n",
       "      <td>-0.150686</td>\n",
       "    </tr>\n",
       "    <tr>\n",
       "      <th>purchase_Dayofweek_max</th>\n",
       "      <td>-0.147374</td>\n",
       "    </tr>\n",
       "    <tr>\n",
       "      <th>purchase_Day_nunique</th>\n",
       "      <td>-0.148126</td>\n",
       "    </tr>\n",
       "    <tr>\n",
       "      <th>purchase_Day_mean</th>\n",
       "      <td>-0.146837</td>\n",
       "    </tr>\n",
       "    <tr>\n",
       "      <th>purchase_Day_min</th>\n",
       "      <td>-0.145331</td>\n",
       "    </tr>\n",
       "    <tr>\n",
       "      <th>purchase_Day_max</th>\n",
       "      <td>-0.150433</td>\n",
       "    </tr>\n",
       "    <tr>\n",
       "      <th>purchase_Hour_nunique</th>\n",
       "      <td>-0.150162</td>\n",
       "    </tr>\n",
       "    <tr>\n",
       "      <th>purchase_Hour_mean</th>\n",
       "      <td>-0.149936</td>\n",
       "    </tr>\n",
       "    <tr>\n",
       "      <th>purchase_Hour_min</th>\n",
       "      <td>-0.147686</td>\n",
       "    </tr>\n",
       "    <tr>\n",
       "      <th>purchase_Hour_max</th>\n",
       "      <td>-0.149023</td>\n",
       "    </tr>\n",
       "    <tr>\n",
       "      <th>purchase_amount_sum</th>\n",
       "      <td>-0.142631</td>\n",
       "    </tr>\n",
       "    <tr>\n",
       "      <th>purchase_amount_pct_75</th>\n",
       "      <td>-0.143030</td>\n",
       "    </tr>\n",
       "    <tr>\n",
       "      <th>purchase_amount_pct_25</th>\n",
       "      <td>-0.147739</td>\n",
       "    </tr>\n",
       "    <tr>\n",
       "      <th>purchase_amount_mean</th>\n",
       "      <td>-0.143986</td>\n",
       "    </tr>\n",
       "    <tr>\n",
       "      <th>purchase_amount_median</th>\n",
       "      <td>-0.144876</td>\n",
       "    </tr>\n",
       "    <tr>\n",
       "      <th>purchase_amount_max</th>\n",
       "      <td>-0.139022</td>\n",
       "    </tr>\n",
       "    <tr>\n",
       "      <th>purchase_amount_min</th>\n",
       "      <td>-0.147256</td>\n",
       "    </tr>\n",
       "    <tr>\n",
       "      <th>purchase_amount_var</th>\n",
       "      <td>-0.144690</td>\n",
       "    </tr>\n",
       "    <tr>\n",
       "      <th>...</th>\n",
       "      <td>...</td>\n",
       "    </tr>\n",
       "    <tr>\n",
       "      <th>days_feature2</th>\n",
       "      <td>-0.146333</td>\n",
       "    </tr>\n",
       "    <tr>\n",
       "      <th>days_feature3</th>\n",
       "      <td>-0.153122</td>\n",
       "    </tr>\n",
       "    <tr>\n",
       "      <th>days_feature1_ratio</th>\n",
       "      <td>-0.147171</td>\n",
       "    </tr>\n",
       "    <tr>\n",
       "      <th>days_feature2_ratio</th>\n",
       "      <td>-0.143542</td>\n",
       "    </tr>\n",
       "    <tr>\n",
       "      <th>days_feature3_ratio</th>\n",
       "      <td>-0.153021</td>\n",
       "    </tr>\n",
       "    <tr>\n",
       "      <th>feature_sum</th>\n",
       "      <td>-0.154089</td>\n",
       "    </tr>\n",
       "    <tr>\n",
       "      <th>feature_mean</th>\n",
       "      <td>-0.154089</td>\n",
       "    </tr>\n",
       "    <tr>\n",
       "      <th>feature_max</th>\n",
       "      <td>-0.156205</td>\n",
       "    </tr>\n",
       "    <tr>\n",
       "      <th>feature_min</th>\n",
       "      <td>-0.156205</td>\n",
       "    </tr>\n",
       "    <tr>\n",
       "      <th>feature_var</th>\n",
       "      <td>-0.156205</td>\n",
       "    </tr>\n",
       "    <tr>\n",
       "      <th>card_id_total</th>\n",
       "      <td>-0.149681</td>\n",
       "    </tr>\n",
       "    <tr>\n",
       "      <th>card_id_count_total</th>\n",
       "      <td>-0.149681</td>\n",
       "    </tr>\n",
       "    <tr>\n",
       "      <th>card_id_count_ratio</th>\n",
       "      <td>-0.150981</td>\n",
       "    </tr>\n",
       "    <tr>\n",
       "      <th>purchase_amount_total</th>\n",
       "      <td>-0.153602</td>\n",
       "    </tr>\n",
       "    <tr>\n",
       "      <th>purchase_amount_total_mean</th>\n",
       "      <td>-0.149227</td>\n",
       "    </tr>\n",
       "    <tr>\n",
       "      <th>purchase_amount_total_max</th>\n",
       "      <td>-0.146412</td>\n",
       "    </tr>\n",
       "    <tr>\n",
       "      <th>purchase_amount_total_min</th>\n",
       "      <td>-0.150095</td>\n",
       "    </tr>\n",
       "    <tr>\n",
       "      <th>purchase_amount_sum_ratio</th>\n",
       "      <td>-0.152210</td>\n",
       "    </tr>\n",
       "    <tr>\n",
       "      <th>hist_first_buy</th>\n",
       "      <td>-0.149081</td>\n",
       "    </tr>\n",
       "    <tr>\n",
       "      <th>new_first_buy</th>\n",
       "      <td>-0.145978</td>\n",
       "    </tr>\n",
       "    <tr>\n",
       "      <th>hist_last_buy</th>\n",
       "      <td>-0.144760</td>\n",
       "    </tr>\n",
       "    <tr>\n",
       "      <th>new_last_buy</th>\n",
       "      <td>-0.141976</td>\n",
       "    </tr>\n",
       "    <tr>\n",
       "      <th>purchased_before_issue</th>\n",
       "      <td>-0.156205</td>\n",
       "    </tr>\n",
       "    <tr>\n",
       "      <th>month_diff_ratio</th>\n",
       "      <td>-0.143926</td>\n",
       "    </tr>\n",
       "    <tr>\n",
       "      <th>installments_total</th>\n",
       "      <td>-0.150340</td>\n",
       "    </tr>\n",
       "    <tr>\n",
       "      <th>installments_ratio</th>\n",
       "      <td>-0.156992</td>\n",
       "    </tr>\n",
       "    <tr>\n",
       "      <th>price_total</th>\n",
       "      <td>-0.151305</td>\n",
       "    </tr>\n",
       "    <tr>\n",
       "      <th>CLV</th>\n",
       "      <td>-0.142472</td>\n",
       "    </tr>\n",
       "    <tr>\n",
       "      <th>CLV_old</th>\n",
       "      <td>-0.154081</td>\n",
       "    </tr>\n",
       "    <tr>\n",
       "      <th>CLV_ratio</th>\n",
       "      <td>-0.148115</td>\n",
       "    </tr>\n",
       "  </tbody>\n",
       "</table>\n",
       "<p>240 rows × 1 columns</p>\n",
       "</div>"
      ],
      "text/plain": [
       "                                     0\n",
       "transactions_count           -0.150052\n",
       "subsector_id_nunique         -0.148867\n",
       "merchant_id_nunique          -0.150136\n",
       "merchant_category_id_nunique -0.149662\n",
       "purchase_Month_mean          -0.117247\n",
       "purchase_Month_min           -0.118750\n",
       "purchase_Month_max           -0.116200\n",
       "purchase_Week_nunique        -0.149430\n",
       "purchase_Week_mean           -0.106378\n",
       "purchase_Week_min            -0.114731\n",
       "purchase_Week_max            -0.110754\n",
       "purchase_Dayofweek_mean      -0.151258\n",
       "purchase_Dayofweek_min       -0.150686\n",
       "purchase_Dayofweek_max       -0.147374\n",
       "purchase_Day_nunique         -0.148126\n",
       "purchase_Day_mean            -0.146837\n",
       "purchase_Day_min             -0.145331\n",
       "purchase_Day_max             -0.150433\n",
       "purchase_Hour_nunique        -0.150162\n",
       "purchase_Hour_mean           -0.149936\n",
       "purchase_Hour_min            -0.147686\n",
       "purchase_Hour_max            -0.149023\n",
       "purchase_amount_sum          -0.142631\n",
       "purchase_amount_pct_75       -0.143030\n",
       "purchase_amount_pct_25       -0.147739\n",
       "purchase_amount_mean         -0.143986\n",
       "purchase_amount_median       -0.144876\n",
       "purchase_amount_max          -0.139022\n",
       "purchase_amount_min          -0.147256\n",
       "purchase_amount_var          -0.144690\n",
       "...                                ...\n",
       "days_feature2                -0.146333\n",
       "days_feature3                -0.153122\n",
       "days_feature1_ratio          -0.147171\n",
       "days_feature2_ratio          -0.143542\n",
       "days_feature3_ratio          -0.153021\n",
       "feature_sum                  -0.154089\n",
       "feature_mean                 -0.154089\n",
       "feature_max                  -0.156205\n",
       "feature_min                  -0.156205\n",
       "feature_var                  -0.156205\n",
       "card_id_total                -0.149681\n",
       "card_id_count_total          -0.149681\n",
       "card_id_count_ratio          -0.150981\n",
       "purchase_amount_total        -0.153602\n",
       "purchase_amount_total_mean   -0.149227\n",
       "purchase_amount_total_max    -0.146412\n",
       "purchase_amount_total_min    -0.150095\n",
       "purchase_amount_sum_ratio    -0.152210\n",
       "hist_first_buy               -0.149081\n",
       "new_first_buy                -0.145978\n",
       "hist_last_buy                -0.144760\n",
       "new_last_buy                 -0.141976\n",
       "purchased_before_issue       -0.156205\n",
       "month_diff_ratio             -0.143926\n",
       "installments_total           -0.150340\n",
       "installments_ratio           -0.156992\n",
       "price_total                  -0.151305\n",
       "CLV                          -0.142472\n",
       "CLV_old                      -0.154081\n",
       "CLV_ratio                    -0.148115\n",
       "\n",
       "[240 rows x 1 columns]"
      ]
     },
     "execution_count": 197,
     "metadata": {},
     "output_type": "execute_result"
    }
   ],
   "source": [
    "fe_deltas_df"
   ]
  },
  {
   "cell_type": "code",
   "execution_count": 199,
   "metadata": {},
   "outputs": [],
   "source": [
    "fe_df = fe_deltas_df.reset_index()\n",
    "fe_df.columns = ['feature', 'delta']"
   ]
  },
  {
   "cell_type": "code",
   "execution_count": 200,
   "metadata": {
    "collapsed": true
   },
   "outputs": [
    {
     "data": {
      "text/html": [
       "<div>\n",
       "<style scoped>\n",
       "    .dataframe tbody tr th:only-of-type {\n",
       "        vertical-align: middle;\n",
       "    }\n",
       "\n",
       "    .dataframe tbody tr th {\n",
       "        vertical-align: top;\n",
       "    }\n",
       "\n",
       "    .dataframe thead th {\n",
       "        text-align: right;\n",
       "    }\n",
       "</style>\n",
       "<table border=\"1\" class=\"dataframe\">\n",
       "  <thead>\n",
       "    <tr style=\"text-align: right;\">\n",
       "      <th></th>\n",
       "      <th>feature</th>\n",
       "      <th>delta</th>\n",
       "    </tr>\n",
       "  </thead>\n",
       "  <tbody>\n",
       "    <tr>\n",
       "      <th>105</th>\n",
       "      <td>purchase_amount_median_old</td>\n",
       "      <td>-0.157000</td>\n",
       "    </tr>\n",
       "    <tr>\n",
       "      <th>196</th>\n",
       "      <td>category_2_5.0_purchase_amount_sum</td>\n",
       "      <td>-0.157000</td>\n",
       "    </tr>\n",
       "    <tr>\n",
       "      <th>193</th>\n",
       "      <td>category_2_2.0_purchase_amount_sum</td>\n",
       "      <td>-0.157000</td>\n",
       "    </tr>\n",
       "    <tr>\n",
       "      <th>185</th>\n",
       "      <td>category_1_0_purchase_amount_sum</td>\n",
       "      <td>-0.157000</td>\n",
       "    </tr>\n",
       "    <tr>\n",
       "      <th>115</th>\n",
       "      <td>month_lag_max_old</td>\n",
       "      <td>-0.157000</td>\n",
       "    </tr>\n",
       "    <tr>\n",
       "      <th>182</th>\n",
       "      <td>purchase_amount_mean_max</td>\n",
       "      <td>-0.157000</td>\n",
       "    </tr>\n",
       "    <tr>\n",
       "      <th>174</th>\n",
       "      <td>purchase_amount_sum_max</td>\n",
       "      <td>-0.157000</td>\n",
       "    </tr>\n",
       "    <tr>\n",
       "      <th>204</th>\n",
       "      <td>authorized_flag_1_purchase_amount_mean</td>\n",
       "      <td>-0.157000</td>\n",
       "    </tr>\n",
       "    <tr>\n",
       "      <th>95</th>\n",
       "      <td>purchase_Day_mean_old</td>\n",
       "      <td>-0.157000</td>\n",
       "    </tr>\n",
       "    <tr>\n",
       "      <th>98</th>\n",
       "      <td>purchase_Hour_mean_old</td>\n",
       "      <td>-0.157000</td>\n",
       "    </tr>\n",
       "    <tr>\n",
       "      <th>103</th>\n",
       "      <td>purchase_amount_pct_25_old</td>\n",
       "      <td>-0.157000</td>\n",
       "    </tr>\n",
       "    <tr>\n",
       "      <th>151</th>\n",
       "      <td>amount_month_ratio_var_old</td>\n",
       "      <td>-0.157000</td>\n",
       "    </tr>\n",
       "    <tr>\n",
       "      <th>235</th>\n",
       "      <td>installments_ratio</td>\n",
       "      <td>-0.156992</td>\n",
       "    </tr>\n",
       "    <tr>\n",
       "      <th>150</th>\n",
       "      <td>amount_month_ratio_max_old</td>\n",
       "      <td>-0.156954</td>\n",
       "    </tr>\n",
       "    <tr>\n",
       "      <th>183</th>\n",
       "      <td>category_1_0_purchase_amount_mean</td>\n",
       "      <td>-0.156944</td>\n",
       "    </tr>\n",
       "    <tr>\n",
       "      <th>90</th>\n",
       "      <td>purchase_Week_mean_old</td>\n",
       "      <td>-0.156884</td>\n",
       "    </tr>\n",
       "    <tr>\n",
       "      <th>126</th>\n",
       "      <td>purchased_on_weekend_mean_old</td>\n",
       "      <td>-0.156865</td>\n",
       "    </tr>\n",
       "    <tr>\n",
       "      <th>181</th>\n",
       "      <td>purchase_amount_mean_ptp</td>\n",
       "      <td>-0.156834</td>\n",
       "    </tr>\n",
       "    <tr>\n",
       "      <th>177</th>\n",
       "      <td>purchase_amount_max_ptp</td>\n",
       "      <td>-0.156813</td>\n",
       "    </tr>\n",
       "    <tr>\n",
       "      <th>187</th>\n",
       "      <td>category_2_1.0_purchase_amount_mean</td>\n",
       "      <td>-0.156746</td>\n",
       "    </tr>\n",
       "    <tr>\n",
       "      <th>128</th>\n",
       "      <td>category_2_mean_old</td>\n",
       "      <td>-0.156599</td>\n",
       "    </tr>\n",
       "    <tr>\n",
       "      <th>198</th>\n",
       "      <td>category_3_1_purchase_amount_mean</td>\n",
       "      <td>-0.156599</td>\n",
       "    </tr>\n",
       "    <tr>\n",
       "      <th>119</th>\n",
       "      <td>month_lag_skew_old</td>\n",
       "      <td>-0.156556</td>\n",
       "    </tr>\n",
       "    <tr>\n",
       "      <th>93</th>\n",
       "      <td>purchase_Dayofweek_mean_old</td>\n",
       "      <td>-0.156549</td>\n",
       "    </tr>\n",
       "    <tr>\n",
       "      <th>147</th>\n",
       "      <td>duration_skew_old</td>\n",
       "      <td>-0.156506</td>\n",
       "    </tr>\n",
       "    <tr>\n",
       "      <th>108</th>\n",
       "      <td>purchase_amount_var_old</td>\n",
       "      <td>-0.156495</td>\n",
       "    </tr>\n",
       "    <tr>\n",
       "      <th>206</th>\n",
       "      <td>authorized_flag_1_purchase_amount_sum</td>\n",
       "      <td>-0.156487</td>\n",
       "    </tr>\n",
       "    <tr>\n",
       "      <th>189</th>\n",
       "      <td>category_2_3.0_purchase_amount_mean</td>\n",
       "      <td>-0.156483</td>\n",
       "    </tr>\n",
       "    <tr>\n",
       "      <th>178</th>\n",
       "      <td>purchase_amount_max_max</td>\n",
       "      <td>-0.156481</td>\n",
       "    </tr>\n",
       "    <tr>\n",
       "      <th>106</th>\n",
       "      <td>purchase_amount_max_old</td>\n",
       "      <td>-0.156481</td>\n",
       "    </tr>\n",
       "    <tr>\n",
       "      <th>...</th>\n",
       "      <td>...</td>\n",
       "      <td>...</td>\n",
       "    </tr>\n",
       "    <tr>\n",
       "      <th>71</th>\n",
       "      <td>purchase_date_average</td>\n",
       "      <td>-0.143160</td>\n",
       "    </tr>\n",
       "    <tr>\n",
       "      <th>23</th>\n",
       "      <td>purchase_amount_pct_75</td>\n",
       "      <td>-0.143030</td>\n",
       "    </tr>\n",
       "    <tr>\n",
       "      <th>22</th>\n",
       "      <td>purchase_amount_sum</td>\n",
       "      <td>-0.142631</td>\n",
       "    </tr>\n",
       "    <tr>\n",
       "      <th>237</th>\n",
       "      <td>CLV</td>\n",
       "      <td>-0.142472</td>\n",
       "    </tr>\n",
       "    <tr>\n",
       "      <th>32</th>\n",
       "      <td>installments_max</td>\n",
       "      <td>-0.142284</td>\n",
       "    </tr>\n",
       "    <tr>\n",
       "      <th>231</th>\n",
       "      <td>new_last_buy</td>\n",
       "      <td>-0.141976</td>\n",
       "    </tr>\n",
       "    <tr>\n",
       "      <th>57</th>\n",
       "      <td>duration_mean</td>\n",
       "      <td>-0.141491</td>\n",
       "    </tr>\n",
       "    <tr>\n",
       "      <th>143</th>\n",
       "      <td>duration_mean_old</td>\n",
       "      <td>-0.141180</td>\n",
       "    </tr>\n",
       "    <tr>\n",
       "      <th>88</th>\n",
       "      <td>purchase_Month_max_old</td>\n",
       "      <td>-0.139861</td>\n",
       "    </tr>\n",
       "    <tr>\n",
       "      <th>27</th>\n",
       "      <td>purchase_amount_max</td>\n",
       "      <td>-0.139022</td>\n",
       "    </tr>\n",
       "    <tr>\n",
       "      <th>149</th>\n",
       "      <td>amount_month_ratio_min_old</td>\n",
       "      <td>-0.132123</td>\n",
       "    </tr>\n",
       "    <tr>\n",
       "      <th>56</th>\n",
       "      <td>Mothers_Day_2018_mean</td>\n",
       "      <td>-0.128131</td>\n",
       "    </tr>\n",
       "    <tr>\n",
       "      <th>58</th>\n",
       "      <td>duration_min</td>\n",
       "      <td>-0.127335</td>\n",
       "    </tr>\n",
       "    <tr>\n",
       "      <th>144</th>\n",
       "      <td>duration_min_old</td>\n",
       "      <td>-0.126103</td>\n",
       "    </tr>\n",
       "    <tr>\n",
       "      <th>142</th>\n",
       "      <td>Mothers_Day_2018_mean_old</td>\n",
       "      <td>-0.125346</td>\n",
       "    </tr>\n",
       "    <tr>\n",
       "      <th>158</th>\n",
       "      <td>purchase_date_uptonow_old</td>\n",
       "      <td>-0.123235</td>\n",
       "    </tr>\n",
       "    <tr>\n",
       "      <th>161</th>\n",
       "      <td>days_since_last_transaction_old</td>\n",
       "      <td>-0.123125</td>\n",
       "    </tr>\n",
       "    <tr>\n",
       "      <th>72</th>\n",
       "      <td>purchase_date_uptonow</td>\n",
       "      <td>-0.119081</td>\n",
       "    </tr>\n",
       "    <tr>\n",
       "      <th>75</th>\n",
       "      <td>days_since_last_transaction</td>\n",
       "      <td>-0.119081</td>\n",
       "    </tr>\n",
       "    <tr>\n",
       "      <th>5</th>\n",
       "      <td>purchase_Month_min</td>\n",
       "      <td>-0.118750</td>\n",
       "    </tr>\n",
       "    <tr>\n",
       "      <th>4</th>\n",
       "      <td>purchase_Month_mean</td>\n",
       "      <td>-0.117247</td>\n",
       "    </tr>\n",
       "    <tr>\n",
       "      <th>6</th>\n",
       "      <td>purchase_Month_max</td>\n",
       "      <td>-0.116200</td>\n",
       "    </tr>\n",
       "    <tr>\n",
       "      <th>73</th>\n",
       "      <td>purchase_date_uptomin</td>\n",
       "      <td>-0.114951</td>\n",
       "    </tr>\n",
       "    <tr>\n",
       "      <th>9</th>\n",
       "      <td>purchase_Week_min</td>\n",
       "      <td>-0.114731</td>\n",
       "    </tr>\n",
       "    <tr>\n",
       "      <th>122</th>\n",
       "      <td>month_diff_mean_old</td>\n",
       "      <td>-0.113953</td>\n",
       "    </tr>\n",
       "    <tr>\n",
       "      <th>41</th>\n",
       "      <td>month_diff_mean</td>\n",
       "      <td>-0.113785</td>\n",
       "    </tr>\n",
       "    <tr>\n",
       "      <th>121</th>\n",
       "      <td>month_diff_min</td>\n",
       "      <td>-0.110959</td>\n",
       "    </tr>\n",
       "    <tr>\n",
       "      <th>10</th>\n",
       "      <td>purchase_Week_max</td>\n",
       "      <td>-0.110754</td>\n",
       "    </tr>\n",
       "    <tr>\n",
       "      <th>120</th>\n",
       "      <td>month_diff_max</td>\n",
       "      <td>-0.110591</td>\n",
       "    </tr>\n",
       "    <tr>\n",
       "      <th>8</th>\n",
       "      <td>purchase_Week_mean</td>\n",
       "      <td>-0.106378</td>\n",
       "    </tr>\n",
       "  </tbody>\n",
       "</table>\n",
       "<p>240 rows × 2 columns</p>\n",
       "</div>"
      ],
      "text/plain": [
       "                                    feature     delta\n",
       "105              purchase_amount_median_old -0.157000\n",
       "196      category_2_5.0_purchase_amount_sum -0.157000\n",
       "193      category_2_2.0_purchase_amount_sum -0.157000\n",
       "185        category_1_0_purchase_amount_sum -0.157000\n",
       "115                       month_lag_max_old -0.157000\n",
       "182                purchase_amount_mean_max -0.157000\n",
       "174                 purchase_amount_sum_max -0.157000\n",
       "204  authorized_flag_1_purchase_amount_mean -0.157000\n",
       "95                    purchase_Day_mean_old -0.157000\n",
       "98                   purchase_Hour_mean_old -0.157000\n",
       "103              purchase_amount_pct_25_old -0.157000\n",
       "151              amount_month_ratio_var_old -0.157000\n",
       "235                      installments_ratio -0.156992\n",
       "150              amount_month_ratio_max_old -0.156954\n",
       "183       category_1_0_purchase_amount_mean -0.156944\n",
       "90                   purchase_Week_mean_old -0.156884\n",
       "126           purchased_on_weekend_mean_old -0.156865\n",
       "181                purchase_amount_mean_ptp -0.156834\n",
       "177                 purchase_amount_max_ptp -0.156813\n",
       "187     category_2_1.0_purchase_amount_mean -0.156746\n",
       "128                     category_2_mean_old -0.156599\n",
       "198       category_3_1_purchase_amount_mean -0.156599\n",
       "119                      month_lag_skew_old -0.156556\n",
       "93              purchase_Dayofweek_mean_old -0.156549\n",
       "147                       duration_skew_old -0.156506\n",
       "108                 purchase_amount_var_old -0.156495\n",
       "206   authorized_flag_1_purchase_amount_sum -0.156487\n",
       "189     category_2_3.0_purchase_amount_mean -0.156483\n",
       "178                 purchase_amount_max_max -0.156481\n",
       "106                 purchase_amount_max_old -0.156481\n",
       "..                                      ...       ...\n",
       "71                    purchase_date_average -0.143160\n",
       "23                   purchase_amount_pct_75 -0.143030\n",
       "22                      purchase_amount_sum -0.142631\n",
       "237                                     CLV -0.142472\n",
       "32                         installments_max -0.142284\n",
       "231                            new_last_buy -0.141976\n",
       "57                            duration_mean -0.141491\n",
       "143                       duration_mean_old -0.141180\n",
       "88                   purchase_Month_max_old -0.139861\n",
       "27                      purchase_amount_max -0.139022\n",
       "149              amount_month_ratio_min_old -0.132123\n",
       "56                    Mothers_Day_2018_mean -0.128131\n",
       "58                             duration_min -0.127335\n",
       "144                        duration_min_old -0.126103\n",
       "142               Mothers_Day_2018_mean_old -0.125346\n",
       "158               purchase_date_uptonow_old -0.123235\n",
       "161         days_since_last_transaction_old -0.123125\n",
       "72                    purchase_date_uptonow -0.119081\n",
       "75              days_since_last_transaction -0.119081\n",
       "5                        purchase_Month_min -0.118750\n",
       "4                       purchase_Month_mean -0.117247\n",
       "6                        purchase_Month_max -0.116200\n",
       "73                    purchase_date_uptomin -0.114951\n",
       "9                         purchase_Week_min -0.114731\n",
       "122                     month_diff_mean_old -0.113953\n",
       "41                          month_diff_mean -0.113785\n",
       "121                          month_diff_min -0.110959\n",
       "10                        purchase_Week_max -0.110754\n",
       "120                          month_diff_max -0.110591\n",
       "8                        purchase_Week_mean -0.106378\n",
       "\n",
       "[240 rows x 2 columns]"
      ]
     },
     "execution_count": 200,
     "metadata": {},
     "output_type": "execute_result"
    }
   ],
   "source": [
    "fe_df.sort_values('delta', ascending=True)"
   ]
  },
  {
   "cell_type": "code",
   "execution_count": 129,
   "metadata": {},
   "outputs": [],
   "source": [
    "from sklearn.metrics.scorer import make_scorer"
   ]
  },
  {
   "cell_type": "code",
   "execution_count": 234,
   "metadata": {},
   "outputs": [],
   "source": [
    "def rmse(actual, predict):\n",
    "    return mean_squared_error(actual, predict)\n",
    "\n",
    "rmse_score = make_scorer(rmse, greater_is_better = False)"
   ]
  },
  {
   "cell_type": "code",
   "execution_count": 20,
   "metadata": {},
   "outputs": [],
   "source": [
    "clf = Ridge(alpha=1.0)"
   ]
  },
  {
   "cell_type": "code",
   "execution_count": 21,
   "metadata": {},
   "outputs": [],
   "source": [
    "from sklearn.pipeline import make_pipeline"
   ]
  },
  {
   "cell_type": "code",
   "execution_count": 32,
   "metadata": {
    "scrolled": false
   },
   "outputs": [],
   "source": [
    "sfs = SFS(clf, \n",
    "          k_features=160, \n",
    "          forward=True, \n",
    "          floating=False, \n",
    "          scoring='r2',\n",
    "          cv=5,\n",
    "          n_jobs=-1)\n",
    "pipe = make_pipeline(sfs)"
   ]
  },
  {
   "cell_type": "code",
   "execution_count": 47,
   "metadata": {},
   "outputs": [
    {
     "data": {
      "text/plain": [
       "dict_keys(['explained_variance', 'r2', 'neg_median_absolute_error', 'neg_mean_absolute_error', 'neg_mean_squared_error', 'neg_mean_squared_log_error', 'accuracy', 'roc_auc', 'balanced_accuracy', 'average_precision', 'neg_log_loss', 'brier_score_loss', 'adjusted_rand_score', 'homogeneity_score', 'completeness_score', 'v_measure_score', 'mutual_info_score', 'adjusted_mutual_info_score', 'normalized_mutual_info_score', 'fowlkes_mallows_score', 'precision', 'precision_macro', 'precision_micro', 'precision_samples', 'precision_weighted', 'recall', 'recall_macro', 'recall_micro', 'recall_samples', 'recall_weighted', 'f1', 'f1_macro', 'f1_micro', 'f1_samples', 'f1_weighted'])"
      ]
     },
     "execution_count": 47,
     "metadata": {},
     "output_type": "execute_result"
    }
   ],
   "source": [
    "sklearn.metrics.SCORERS.keys()"
   ]
  },
  {
   "cell_type": "code",
   "execution_count": 23,
   "metadata": {},
   "outputs": [
    {
     "data": {
      "text/plain": [
       "180"
      ]
     },
     "execution_count": 23,
     "metadata": {},
     "output_type": "execute_result"
    }
   ],
   "source": [
    "len(df_train_columns)"
   ]
  },
  {
   "cell_type": "code",
   "execution_count": 24,
   "metadata": {},
   "outputs": [],
   "source": [
    "x.fillna(0, inplace=True)\n",
    "x.replace(-np.inf, 0, inplace=True)\n",
    "x.replace(np.inf, 0, inplace=True)"
   ]
  },
  {
   "cell_type": "code",
   "execution_count": 33,
   "metadata": {},
   "outputs": [
    {
     "data": {
      "text/plain": [
       "5806"
      ]
     },
     "execution_count": 33,
     "metadata": {},
     "output_type": "execute_result"
    }
   ],
   "source": [
    "gc.collect()"
   ]
  },
  {
   "cell_type": "code",
   "execution_count": 34,
   "metadata": {
    "scrolled": true
   },
   "outputs": [
    {
     "name": "stderr",
     "output_type": "stream",
     "text": [
      "/home/chandrasekhar/anaconda3/envs/fastai/lib/python3.6/site-packages/sklearn/externals/joblib/externals/loky/process_executor.py:706: UserWarning: A worker stopped while some jobs were given to the executor. This can be caused by a too short worker timeout or by a memory leak.\n",
      "  \"timeout or by a memory leak.\", UserWarning\n",
      "/home/chandrasekhar/anaconda3/envs/fastai/lib/python3.6/site-packages/sklearn/externals/joblib/externals/loky/process_executor.py:706: UserWarning: A worker stopped while some jobs were given to the executor. This can be caused by a too short worker timeout or by a memory leak.\n",
      "  \"timeout or by a memory leak.\", UserWarning\n",
      "/home/chandrasekhar/anaconda3/envs/fastai/lib/python3.6/site-packages/sklearn/externals/joblib/externals/loky/process_executor.py:706: UserWarning: A worker stopped while some jobs were given to the executor. This can be caused by a too short worker timeout or by a memory leak.\n",
      "  \"timeout or by a memory leak.\", UserWarning\n",
      "/home/chandrasekhar/anaconda3/envs/fastai/lib/python3.6/site-packages/sklearn/externals/joblib/externals/loky/process_executor.py:706: UserWarning: A worker stopped while some jobs were given to the executor. This can be caused by a too short worker timeout or by a memory leak.\n",
      "  \"timeout or by a memory leak.\", UserWarning\n",
      "/home/chandrasekhar/anaconda3/envs/fastai/lib/python3.6/site-packages/sklearn/externals/joblib/externals/loky/process_executor.py:706: UserWarning: A worker stopped while some jobs were given to the executor. This can be caused by a too short worker timeout or by a memory leak.\n",
      "  \"timeout or by a memory leak.\", UserWarning\n",
      "/home/chandrasekhar/anaconda3/envs/fastai/lib/python3.6/site-packages/sklearn/externals/joblib/externals/loky/process_executor.py:706: UserWarning: A worker stopped while some jobs were given to the executor. This can be caused by a too short worker timeout or by a memory leak.\n",
      "  \"timeout or by a memory leak.\", UserWarning\n",
      "/home/chandrasekhar/anaconda3/envs/fastai/lib/python3.6/site-packages/sklearn/externals/joblib/externals/loky/process_executor.py:706: UserWarning: A worker stopped while some jobs were given to the executor. This can be caused by a too short worker timeout or by a memory leak.\n",
      "  \"timeout or by a memory leak.\", UserWarning\n",
      "/home/chandrasekhar/anaconda3/envs/fastai/lib/python3.6/site-packages/sklearn/externals/joblib/externals/loky/process_executor.py:706: UserWarning: A worker stopped while some jobs were given to the executor. This can be caused by a too short worker timeout or by a memory leak.\n",
      "  \"timeout or by a memory leak.\", UserWarning\n",
      "/home/chandrasekhar/anaconda3/envs/fastai/lib/python3.6/site-packages/sklearn/externals/joblib/externals/loky/process_executor.py:706: UserWarning: A worker stopped while some jobs were given to the executor. This can be caused by a too short worker timeout or by a memory leak.\n",
      "  \"timeout or by a memory leak.\", UserWarning\n"
     ]
    },
    {
     "name": "stdout",
     "output_type": "stream",
     "text": [
      "CPU times: user 3min 55s, sys: 27.6 s, total: 4min 23s\n",
      "Wall time: 53min 40s\n"
     ]
    },
    {
     "data": {
      "text/plain": [
       "Pipeline(memory=None,\n",
       "     steps=[('sequentialfeatureselector', SequentialFeatureSelector(clone_estimator=True, cv=5,\n",
       "             estimator=Ridge(alpha=1.0, copy_X=True, fit_intercept=True, max_iter=None,\n",
       "   normalize=False, random_state=None, solver='auto', tol=0.001),\n",
       "             floating=False, forward=True, k_features=160, n_jobs=-1,\n",
       "             pre_dispatch='2*n_jobs', scoring='r2', verbose=0))])"
      ]
     },
     "execution_count": 34,
     "metadata": {},
     "output_type": "execute_result"
    }
   ],
   "source": [
    "%time pipe.fit(x[df_train_columns].values, y)"
   ]
  },
  {
   "cell_type": "code",
   "execution_count": 35,
   "metadata": {},
   "outputs": [
    {
     "data": {
      "text/plain": [
       "0.046826811091055645"
      ]
     },
     "execution_count": 35,
     "metadata": {},
     "output_type": "execute_result"
    }
   ],
   "source": [
    "sfs.k_score_ #160 72% dataset"
   ]
  },
  {
   "cell_type": "code",
   "execution_count": 27,
   "metadata": {},
   "outputs": [
    {
     "data": {
      "text/plain": [
       "0.04270958032826948"
      ]
     },
     "execution_count": 27,
     "metadata": {},
     "output_type": "execute_result"
    }
   ],
   "source": [
    "sfs.k_score_ #40 72% dataset"
   ]
  },
  {
   "cell_type": "code",
   "execution_count": 64,
   "metadata": {},
   "outputs": [
    {
     "data": {
      "text/plain": [
       "0.045418292964324404"
      ]
     },
     "execution_count": 64,
     "metadata": {},
     "output_type": "execute_result"
    }
   ],
   "source": [
    "sfs.k_score_ #40 10% dataset"
   ]
  },
  {
   "cell_type": "code",
   "execution_count": 51,
   "metadata": {},
   "outputs": [
    {
     "data": {
      "text/plain": [
       "0.040013368847060214"
      ]
     },
     "execution_count": 51,
     "metadata": {},
     "output_type": "execute_result"
    }
   ],
   "source": [
    "sfs.k_score_ #160"
   ]
  },
  {
   "cell_type": "code",
   "execution_count": 30,
   "metadata": {},
   "outputs": [],
   "source": [
    "from mlxtend.plotting import plot_sequential_feature_selection as plot_sfs"
   ]
  },
  {
   "cell_type": "code",
   "execution_count": 36,
   "metadata": {},
   "outputs": [
    {
     "name": "stdout",
     "output_type": "stream",
     "text": [
      "best combination (ACC: 0.047): (0, 1, 2, 3, 4, 5, 6, 7, 8, 9, 10, 11, 12, 13, 14, 15, 16, 17, 18, 19, 20, 21, 22, 23, 24, 25, 26, 27, 28, 29, 30, 31, 32, 33, 34, 35, 36, 37, 38, 39, 40, 41, 42, 43, 44, 45, 46, 47, 48, 49, 50, 51, 53, 54, 55, 56, 58, 60, 61, 63, 64, 65, 66, 67, 68, 69, 70, 71, 72, 73, 74, 75, 76, 77, 78, 79, 80, 81, 82, 83, 84, 85, 86, 87, 88, 89, 90, 91, 92, 95, 98, 99, 100, 101, 102, 103, 104, 105, 106, 107, 108, 109, 110, 111, 112, 113, 114, 115, 116, 117, 118, 119, 121, 123, 125, 126, 127, 128, 129, 130, 131, 132, 133, 136, 138, 141, 142, 143, 144, 145, 146, 147, 148, 149, 150, 151, 152, 153, 154, 155, 156, 157, 158, 159, 160, 161, 162, 163, 167, 168, 169, 170, 171, 172, 173, 174, 175, 176, 177, 179)\n",
      "\n"
     ]
    }
   ],
   "source": [
    "print('best combination (ACC: %.3f): %s\\n' % (sfs.k_score_, sfs.k_feature_idx_))"
   ]
  },
  {
   "cell_type": "code",
   "execution_count": 98,
   "metadata": {},
   "outputs": [
    {
     "name": "stdout",
     "output_type": "stream",
     "text": [
      "best combination (ACC: -14.237): (0, 1, 2, 3, 4, 5, 6, 10, 14, 15, 17, 18, 19, 21, 22, 25, 26, 27, 28, 30, 31, 34, 35, 36, 37, 38, 39, 40, 42, 43, 44, 45, 46, 48, 49, 53, 56, 62, 63, 64, 65, 66, 67, 70, 71, 73, 77, 79, 80, 81, 82, 83, 86, 87, 89, 91, 96, 100, 101, 102, 103, 104, 106, 107, 108, 111, 112, 113, 116, 118, 119, 122, 124, 128, 129, 130, 131, 134, 135, 136, 138, 139, 141, 143, 146, 147, 148, 149, 150, 151, 152, 153, 154, 155, 156, 161, 163, 165, 168, 169)\n",
      "\n",
      "all subsets:\n",
      " {1: {'feature_idx': (108,), 'cv_scores': array([-13.0142 , -16.20725, -14.21346, -15.21542]), 'avg_score': -14.662580626967827, 'feature_names': ('108',)}, 2: {'feature_idx': (77, 108), 'cv_scores': array([-12.91242, -16.08779, -14.02797, -15.15898]), 'avg_score': -14.54678860569546, 'feature_names': ('77', '108')}, 3: {'feature_idx': (26, 77, 108), 'cv_scores': array([-12.88092, -16.03325, -13.96852, -15.09211]), 'avg_score': -14.493701100309321, 'feature_names': ('26', '77', '108')}, 4: {'feature_idx': (26, 38, 77, 108), 'cv_scores': array([-12.87792, -15.97805, -13.93796, -15.06413]), 'avg_score': -14.464513770491575, 'feature_names': ('26', '38', '77', '108')}, 5: {'feature_idx': (15, 26, 38, 77, 108), 'cv_scores': array([-12.85053, -15.96103, -13.9042 , -15.03483]), 'avg_score': -14.437646206057769, 'feature_names': ('15', '26', '38', '77', '108')}, 6: {'feature_idx': (15, 26, 38, 45, 77, 108), 'cv_scores': array([-12.8569 , -15.89513, -13.86484, -15.03666]), 'avg_score': -14.413384360842043, 'feature_names': ('15', '26', '38', '45', '77', '108')}, 7: {'feature_idx': (15, 18, 26, 38, 45, 77, 108), 'cv_scores': array([-12.84666, -15.84775, -13.86794, -15.01833]), 'avg_score': -14.395170502481777, 'feature_names': ('15', '18', '26', '38', '45', '77', '108')}, 8: {'feature_idx': (15, 18, 26, 38, 45, 53, 77, 108), 'cv_scores': array([-12.7957 , -15.792  , -13.8546 , -15.07393]), 'avg_score': -14.379058620894034, 'feature_names': ('15', '18', '26', '38', '45', '53', '77', '108')}, 9: {'feature_idx': (15, 18, 26, 38, 45, 53, 77, 103, 108), 'cv_scores': array([-12.77647, -15.74626, -13.81276, -15.1081 ]), 'avg_score': -14.36089866265675, 'feature_names': ('15', '18', '26', '38', '45', '53', '77', '103', '108')}, 10: {'feature_idx': (15, 18, 26, 38, 45, 53, 77, 103, 108, 111), 'cv_scores': array([-12.75824, -15.73965, -13.79494, -15.08157]), 'avg_score': -14.343598346238322, 'feature_names': ('15', '18', '26', '38', '45', '53', '77', '103', '108', '111')}, 11: {'feature_idx': (15, 18, 26, 38, 39, 45, 53, 77, 103, 108, 111), 'cv_scores': array([-12.72236, -15.74664, -13.79699, -15.05373]), 'avg_score': -14.32993121640631, 'feature_names': ('15', '18', '26', '38', '39', '45', '53', '77', '103', '108', '111')}, 12: {'feature_idx': (4, 15, 18, 26, 38, 39, 45, 53, 77, 103, 108, 111), 'cv_scores': array([-12.7195 , -15.74314, -13.78879, -15.04444]), 'avg_score': -14.323968250775362, 'feature_names': ('4', '15', '18', '26', '38', '39', '45', '53', '77', '103', '108', '111')}, 13: {'feature_idx': (4, 15, 18, 26, 38, 39, 45, 53, 65, 77, 103, 108, 111), 'cv_scores': array([-12.71152, -15.73345, -13.78459, -15.03876]), 'avg_score': -14.317081754893344, 'feature_names': ('4', '15', '18', '26', '38', '39', '45', '53', '65', '77', '103', '108', '111')}, 14: {'feature_idx': (4, 15, 18, 26, 38, 39, 40, 45, 53, 65, 77, 103, 108, 111), 'cv_scores': array([-12.70539, -15.7206 , -13.78044, -15.04294]), 'avg_score': -14.31234062884421, 'feature_names': ('4', '15', '18', '26', '38', '39', '40', '45', '53', '65', '77', '103', '108', '111')}, 15: {'feature_idx': (4, 15, 18, 26, 38, 39, 40, 45, 53, 65, 77, 86, 103, 108, 111), 'cv_scores': array([-12.7012 , -15.72287, -13.77219, -15.03698]), 'avg_score': -14.308311494572207, 'feature_names': ('4', '15', '18', '26', '38', '39', '40', '45', '53', '65', '77', '86', '103', '108', '111')}, 16: {'feature_idx': (4, 15, 18, 26, 38, 39, 40, 45, 53, 65, 73, 77, 86, 103, 108, 111), 'cv_scores': array([-12.67059, -15.73703, -13.76609, -15.01268]), 'avg_score': -14.296597835544574, 'feature_names': ('4', '15', '18', '26', '38', '39', '40', '45', '53', '65', '73', '77', '86', '103', '108', '111')}, 17: {'feature_idx': (4, 15, 18, 26, 38, 39, 40, 45, 53, 65, 73, 77, 86, 103, 108, 111, 124), 'cv_scores': array([-12.67051, -15.73601, -13.75841, -15.00676]), 'avg_score': -14.292921975358123, 'feature_names': ('4', '15', '18', '26', '38', '39', '40', '45', '53', '65', '73', '77', '86', '103', '108', '111', '124')}, 18: {'feature_idx': (4, 15, 18, 26, 36, 38, 39, 40, 45, 53, 65, 73, 77, 86, 103, 108, 111, 124), 'cv_scores': array([-12.67474, -15.72183, -13.75714, -14.99762]), 'avg_score': -14.287832301354667, 'feature_names': ('4', '15', '18', '26', '36', '38', '39', '40', '45', '53', '65', '73', '77', '86', '103', '108', '111', '124')}, 19: {'feature_idx': (4, 15, 18, 26, 36, 37, 38, 39, 40, 45, 53, 65, 73, 77, 86, 103, 108, 111, 124), 'cv_scores': array([-12.672  , -15.72424, -13.74743, -14.99219]), 'avg_score': -14.283965778075537, 'feature_names': ('4', '15', '18', '26', '36', '37', '38', '39', '40', '45', '53', '65', '73', '77', '86', '103', '108', '111', '124')}, 20: {'feature_idx': (4, 15, 18, 26, 36, 37, 38, 39, 40, 45, 53, 65, 73, 77, 86, 103, 107, 108, 111, 124), 'cv_scores': array([-12.65964, -15.72222, -13.74249, -14.99626]), 'avg_score': -14.28015105910031, 'feature_names': ('4', '15', '18', '26', '36', '37', '38', '39', '40', '45', '53', '65', '73', '77', '86', '103', '107', '108', '111', '124')}, 21: {'feature_idx': (4, 15, 18, 26, 36, 37, 38, 39, 40, 45, 53, 65, 73, 77, 86, 103, 107, 108, 111, 124, 139), 'cv_scores': array([-12.65614, -15.71689, -13.74362, -14.98677]), 'avg_score': -14.27585425350352, 'feature_names': ('4', '15', '18', '26', '36', '37', '38', '39', '40', '45', '53', '65', '73', '77', '86', '103', '107', '108', '111', '124', '139')}, 22: {'feature_idx': (4, 15, 18, 26, 36, 37, 38, 39, 40, 45, 53, 65, 73, 77, 86, 103, 107, 108, 111, 119, 124, 139), 'cv_scores': array([-12.64205, -15.70115, -13.75274, -14.99528]), 'avg_score': -14.27280538778122, 'feature_names': ('4', '15', '18', '26', '36', '37', '38', '39', '40', '45', '53', '65', '73', '77', '86', '103', '107', '108', '111', '119', '124', '139')}, 23: {'feature_idx': (4, 15, 18, 26, 36, 37, 38, 39, 40, 45, 53, 65, 73, 77, 80, 86, 103, 107, 108, 111, 119, 124, 139), 'cv_scores': array([-12.64218, -15.6948 , -13.75413, -14.99164]), 'avg_score': -14.270690174445862, 'feature_names': ('4', '15', '18', '26', '36', '37', '38', '39', '40', '45', '53', '65', '73', '77', '80', '86', '103', '107', '108', '111', '119', '124', '139')}, 24: {'feature_idx': (4, 15, 18, 26, 36, 37, 38, 39, 40, 45, 53, 65, 73, 77, 80, 86, 103, 107, 108, 111, 119, 124, 131, 139), 'cv_scores': array([-12.64159, -15.6909 , -13.75297, -14.9885 ]), 'avg_score': -14.268491045372057, 'feature_names': ('4', '15', '18', '26', '36', '37', '38', '39', '40', '45', '53', '65', '73', '77', '80', '86', '103', '107', '108', '111', '119', '124', '131', '139')}, 25: {'feature_idx': (4, 15, 18, 26, 36, 37, 38, 39, 40, 45, 53, 65, 73, 77, 80, 86, 103, 107, 108, 111, 119, 124, 131, 139, 156), 'cv_scores': array([-12.64152, -15.68741, -13.75072, -14.98654]), 'avg_score': -14.266547656748429, 'feature_names': ('4', '15', '18', '26', '36', '37', '38', '39', '40', '45', '53', '65', '73', '77', '80', '86', '103', '107', '108', '111', '119', '124', '131', '139', '156')}, 26: {'feature_idx': (4, 15, 18, 26, 35, 36, 37, 38, 39, 40, 45, 53, 65, 73, 77, 80, 86, 103, 107, 108, 111, 119, 124, 131, 139, 156), 'cv_scores': array([-12.63652, -15.68288, -13.75152, -14.98685]), 'avg_score': -14.264441022989793, 'feature_names': ('4', '15', '18', '26', '35', '36', '37', '38', '39', '40', '45', '53', '65', '73', '77', '80', '86', '103', '107', '108', '111', '119', '124', '131', '139', '156')}, 27: {'feature_idx': (4, 15, 18, 26, 34, 35, 36, 37, 38, 39, 40, 45, 53, 65, 73, 77, 80, 86, 103, 107, 108, 111, 119, 124, 131, 139, 156), 'cv_scores': array([-12.63315, -15.68082, -13.75378, -14.98049]), 'avg_score': -14.262062510838954, 'feature_names': ('4', '15', '18', '26', '34', '35', '36', '37', '38', '39', '40', '45', '53', '65', '73', '77', '80', '86', '103', '107', '108', '111', '119', '124', '131', '139', '156')}, 28: {'feature_idx': (4, 15, 18, 26, 34, 35, 36, 37, 38, 39, 40, 45, 53, 65, 73, 77, 80, 83, 86, 103, 107, 108, 111, 119, 124, 131, 139, 156), 'cv_scores': array([-12.62917, -15.68132, -13.75077, -14.98146]), 'avg_score': -14.260679277218316, 'feature_names': ('4', '15', '18', '26', '34', '35', '36', '37', '38', '39', '40', '45', '53', '65', '73', '77', '80', '83', '86', '103', '107', '108', '111', '119', '124', '131', '139', '156')}, 29: {'feature_idx': (4, 15, 17, 18, 26, 34, 35, 36, 37, 38, 39, 40, 45, 53, 65, 73, 77, 80, 83, 86, 103, 107, 108, 111, 119, 124, 131, 139, 156), 'cv_scores': array([-12.63191, -15.67738, -13.74624, -14.98132]), 'avg_score': -14.25921158521572, 'feature_names': ('4', '15', '17', '18', '26', '34', '35', '36', '37', '38', '39', '40', '45', '53', '65', '73', '77', '80', '83', '86', '103', '107', '108', '111', '119', '124', '131', '139', '156')}, 30: {'feature_idx': (4, 15, 17, 18, 19, 26, 34, 35, 36, 37, 38, 39, 40, 45, 53, 65, 73, 77, 80, 83, 86, 103, 107, 108, 111, 119, 124, 131, 139, 156), 'cv_scores': array([-12.63492, -15.67587, -13.7423 , -14.97839]), 'avg_score': -14.257868089049934, 'feature_names': ('4', '15', '17', '18', '19', '26', '34', '35', '36', '37', '38', '39', '40', '45', '53', '65', '73', '77', '80', '83', '86', '103', '107', '108', '111', '119', '124', '131', '139', '156')}, 31: {'feature_idx': (4, 15, 17, 18, 19, 26, 34, 35, 36, 37, 38, 39, 40, 45, 53, 65, 66, 73, 77, 80, 83, 86, 103, 107, 108, 111, 119, 124, 131, 139, 156), 'cv_scores': array([-12.63617, -15.67518, -13.73776, -14.97545]), 'avg_score': -14.256138692755332, 'feature_names': ('4', '15', '17', '18', '19', '26', '34', '35', '36', '37', '38', '39', '40', '45', '53', '65', '66', '73', '77', '80', '83', '86', '103', '107', '108', '111', '119', '124', '131', '139', '156')}, 32: {'feature_idx': (4, 15, 17, 18, 19, 26, 34, 35, 36, 37, 38, 39, 40, 45, 53, 65, 66, 67, 73, 77, 80, 83, 86, 103, 107, 108, 111, 119, 124, 131, 139, 156), 'cv_scores': array([-12.63563, -15.67176, -13.7401 , -14.97043]), 'avg_score': -14.254480092273543, 'feature_names': ('4', '15', '17', '18', '19', '26', '34', '35', '36', '37', '38', '39', '40', '45', '53', '65', '66', '67', '73', '77', '80', '83', '86', '103', '107', '108', '111', '119', '124', '131', '139', '156')}, 33: {'feature_idx': (4, 15, 17, 18, 19, 26, 34, 35, 36, 37, 38, 39, 40, 45, 53, 65, 66, 67, 73, 77, 80, 83, 86, 103, 107, 108, 111, 112, 119, 124, 131, 139, 156), 'cv_scores': array([-12.63916, -15.66698, -13.73562, -14.97203]), 'avg_score': -14.25344634341284, 'feature_names': ('4', '15', '17', '18', '19', '26', '34', '35', '36', '37', '38', '39', '40', '45', '53', '65', '66', '67', '73', '77', '80', '83', '86', '103', '107', '108', '111', '112', '119', '124', '131', '139', '156')}, 34: {'feature_idx': (4, 15, 17, 18, 19, 21, 26, 34, 35, 36, 37, 38, 39, 40, 45, 53, 65, 66, 67, 73, 77, 80, 83, 86, 103, 107, 108, 111, 112, 119, 124, 131, 139, 156), 'cv_scores': array([-12.633  , -15.68207, -13.72831, -14.96642]), 'avg_score': -14.252448347576326, 'feature_names': ('4', '15', '17', '18', '19', '21', '26', '34', '35', '36', '37', '38', '39', '40', '45', '53', '65', '66', '67', '73', '77', '80', '83', '86', '103', '107', '108', '111', '112', '119', '124', '131', '139', '156')}, 35: {'feature_idx': (4, 15, 17, 18, 19, 21, 26, 34, 35, 36, 37, 38, 39, 40, 45, 48, 53, 65, 66, 67, 73, 77, 80, 83, 86, 103, 107, 108, 111, 112, 119, 124, 131, 139, 156), 'cv_scores': array([-12.6331 , -15.67874, -13.72546, -14.96769]), 'avg_score': -14.251247989235262, 'feature_names': ('4', '15', '17', '18', '19', '21', '26', '34', '35', '36', '37', '38', '39', '40', '45', '48', '53', '65', '66', '67', '73', '77', '80', '83', '86', '103', '107', '108', '111', '112', '119', '124', '131', '139', '156')}, 36: {'feature_idx': (1, 4, 15, 17, 18, 19, 21, 26, 34, 35, 36, 37, 38, 39, 40, 45, 48, 53, 65, 66, 67, 73, 77, 80, 83, 86, 103, 107, 108, 111, 112, 119, 124, 131, 139, 156), 'cv_scores': array([-12.63228, -15.67744, -13.7252 , -14.96638]), 'avg_score': -14.250322117472617, 'feature_names': ('1', '4', '15', '17', '18', '19', '21', '26', '34', '35', '36', '37', '38', '39', '40', '45', '48', '53', '65', '66', '67', '73', '77', '80', '83', '86', '103', '107', '108', '111', '112', '119', '124', '131', '139', '156')}, 37: {'feature_idx': (1, 4, 15, 17, 18, 19, 21, 26, 34, 35, 36, 37, 38, 39, 40, 45, 48, 53, 65, 66, 67, 73, 77, 80, 83, 86, 100, 103, 107, 108, 111, 112, 119, 124, 131, 139, 156), 'cv_scores': array([-12.63024, -15.67804, -13.72242, -14.96728]), 'avg_score': -14.249493403259613, 'feature_names': ('1', '4', '15', '17', '18', '19', '21', '26', '34', '35', '36', '37', '38', '39', '40', '45', '48', '53', '65', '66', '67', '73', '77', '80', '83', '86', '100', '103', '107', '108', '111', '112', '119', '124', '131', '139', '156')}, 38: {'feature_idx': (1, 4, 15, 17, 18, 19, 21, 26, 34, 35, 36, 37, 38, 39, 40, 45, 48, 53, 65, 66, 67, 73, 77, 80, 83, 86, 100, 102, 103, 107, 108, 111, 112, 119, 124, 131, 139, 156), 'cv_scores': array([-12.6262 , -15.68164, -13.72917, -14.95823]), 'avg_score': -14.248808111829204, 'feature_names': ('1', '4', '15', '17', '18', '19', '21', '26', '34', '35', '36', '37', '38', '39', '40', '45', '48', '53', '65', '66', '67', '73', '77', '80', '83', '86', '100', '102', '103', '107', '108', '111', '112', '119', '124', '131', '139', '156')}, 39: {'feature_idx': (1, 4, 15, 17, 18, 19, 21, 26, 34, 35, 36, 37, 38, 39, 40, 45, 48, 49, 53, 65, 66, 67, 73, 77, 80, 83, 86, 100, 102, 103, 107, 108, 111, 112, 119, 124, 131, 139, 156), 'cv_scores': array([-12.62421, -15.68015, -13.73056, -14.9583 ]), 'avg_score': -14.248303731910395, 'feature_names': ('1', '4', '15', '17', '18', '19', '21', '26', '34', '35', '36', '37', '38', '39', '40', '45', '48', '49', '53', '65', '66', '67', '73', '77', '80', '83', '86', '100', '102', '103', '107', '108', '111', '112', '119', '124', '131', '139', '156')}, 40: {'feature_idx': (1, 4, 15, 17, 18, 19, 21, 26, 34, 35, 36, 37, 38, 39, 40, 42, 45, 48, 49, 53, 65, 66, 67, 73, 77, 80, 83, 86, 100, 102, 103, 107, 108, 111, 112, 119, 124, 131, 139, 156), 'cv_scores': array([-12.61941, -15.69064, -13.72688, -14.95409]), 'avg_score': -14.247754275733572, 'feature_names': ('1', '4', '15', '17', '18', '19', '21', '26', '34', '35', '36', '37', '38', '39', '40', '42', '45', '48', '49', '53', '65', '66', '67', '73', '77', '80', '83', '86', '100', '102', '103', '107', '108', '111', '112', '119', '124', '131', '139', '156')}, 41: {'feature_idx': (1, 4, 15, 17, 18, 19, 21, 26, 34, 35, 36, 37, 38, 39, 40, 42, 45, 48, 49, 53, 65, 66, 67, 73, 77, 80, 83, 86, 100, 102, 103, 107, 108, 111, 112, 119, 124, 131, 139, 156, 168), 'cv_scores': array([-12.61875, -15.6877 , -13.73061, -14.95223]), 'avg_score': -14.247323551336361, 'feature_names': ('1', '4', '15', '17', '18', '19', '21', '26', '34', '35', '36', '37', '38', '39', '40', '42', '45', '48', '49', '53', '65', '66', '67', '73', '77', '80', '83', '86', '100', '102', '103', '107', '108', '111', '112', '119', '124', '131', '139', '156', '168')}, 42: {'feature_idx': (1, 4, 6, 15, 17, 18, 19, 21, 26, 34, 35, 36, 37, 38, 39, 40, 42, 45, 48, 49, 53, 65, 66, 67, 73, 77, 80, 83, 86, 100, 102, 103, 107, 108, 111, 112, 119, 124, 131, 139, 156, 168), 'cv_scores': array([-12.61661, -15.6885 , -13.72749, -14.95247]), 'avg_score': -14.246267478334014, 'feature_names': ('1', '4', '6', '15', '17', '18', '19', '21', '26', '34', '35', '36', '37', '38', '39', '40', '42', '45', '48', '49', '53', '65', '66', '67', '73', '77', '80', '83', '86', '100', '102', '103', '107', '108', '111', '112', '119', '124', '131', '139', '156', '168')}, 43: {'feature_idx': (1, 4, 6, 15, 17, 18, 19, 21, 26, 34, 35, 36, 37, 38, 39, 40, 42, 45, 48, 49, 53, 65, 66, 67, 73, 77, 80, 83, 86, 100, 102, 103, 107, 108, 111, 112, 119, 124, 131, 139, 156, 163, 168), 'cv_scores': array([-12.61526, -15.68968, -13.72591, -14.95265]), 'avg_score': -14.245872423859504, 'feature_names': ('1', '4', '6', '15', '17', '18', '19', '21', '26', '34', '35', '36', '37', '38', '39', '40', '42', '45', '48', '49', '53', '65', '66', '67', '73', '77', '80', '83', '86', '100', '102', '103', '107', '108', '111', '112', '119', '124', '131', '139', '156', '163', '168')}, 44: {'feature_idx': (1, 4, 6, 15, 17, 18, 19, 21, 26, 34, 35, 36, 37, 38, 39, 40, 42, 45, 48, 49, 53, 65, 66, 67, 73, 77, 80, 83, 86, 100, 102, 103, 107, 108, 111, 112, 119, 124, 128, 131, 139, 156, 163, 168), 'cv_scores': array([-12.61507, -15.68991, -13.72534, -14.95165]), 'avg_score': -14.245493188756553, 'feature_names': ('1', '4', '6', '15', '17', '18', '19', '21', '26', '34', '35', '36', '37', '38', '39', '40', '42', '45', '48', '49', '53', '65', '66', '67', '73', '77', '80', '83', '86', '100', '102', '103', '107', '108', '111', '112', '119', '124', '128', '131', '139', '156', '163', '168')}, 45: {'feature_idx': (1, 4, 6, 15, 17, 18, 19, 21, 26, 34, 35, 36, 37, 38, 39, 40, 42, 44, 45, 48, 49, 53, 65, 66, 67, 73, 77, 80, 83, 86, 100, 102, 103, 107, 108, 111, 112, 119, 124, 128, 131, 139, 156, 163, 168), 'cv_scores': array([-12.61659, -15.68856, -13.72351, -14.95189]), 'avg_score': -14.245135336305808, 'feature_names': ('1', '4', '6', '15', '17', '18', '19', '21', '26', '34', '35', '36', '37', '38', '39', '40', '42', '44', '45', '48', '49', '53', '65', '66', '67', '73', '77', '80', '83', '86', '100', '102', '103', '107', '108', '111', '112', '119', '124', '128', '131', '139', '156', '163', '168')}, 46: {'feature_idx': (1, 4, 6, 14, 15, 17, 18, 19, 21, 26, 34, 35, 36, 37, 38, 39, 40, 42, 44, 45, 48, 49, 53, 65, 66, 67, 73, 77, 80, 83, 86, 100, 102, 103, 107, 108, 111, 112, 119, 124, 128, 131, 139, 156, 163, 168), 'cv_scores': array([-12.61132, -15.6868 , -13.72421, -14.95392]), 'avg_score': -14.244060668506563, 'feature_names': ('1', '4', '6', '14', '15', '17', '18', '19', '21', '26', '34', '35', '36', '37', '38', '39', '40', '42', '44', '45', '48', '49', '53', '65', '66', '67', '73', '77', '80', '83', '86', '100', '102', '103', '107', '108', '111', '112', '119', '124', '128', '131', '139', '156', '163', '168')}, 47: {'feature_idx': (1, 4, 6, 14, 15, 17, 18, 19, 21, 26, 34, 35, 36, 37, 38, 39, 40, 42, 44, 45, 48, 49, 53, 65, 66, 67, 73, 77, 80, 83, 86, 100, 102, 103, 107, 108, 111, 112, 113, 119, 124, 128, 131, 139, 156, 163, 168), 'cv_scores': array([-12.60859, -15.6851 , -13.72911, -14.9519 ]), 'avg_score': -14.243673491839168, 'feature_names': ('1', '4', '6', '14', '15', '17', '18', '19', '21', '26', '34', '35', '36', '37', '38', '39', '40', '42', '44', '45', '48', '49', '53', '65', '66', '67', '73', '77', '80', '83', '86', '100', '102', '103', '107', '108', '111', '112', '113', '119', '124', '128', '131', '139', '156', '163', '168')}, 48: {'feature_idx': (1, 4, 6, 14, 15, 17, 18, 19, 21, 26, 34, 35, 36, 37, 38, 39, 40, 42, 44, 45, 48, 49, 53, 65, 66, 67, 73, 77, 80, 83, 86, 89, 100, 102, 103, 107, 108, 111, 112, 113, 119, 124, 128, 131, 139, 156, 163, 168), 'cv_scores': array([-12.60583, -15.68399, -13.73159, -14.95179]), 'avg_score': -14.243299280783758, 'feature_names': ('1', '4', '6', '14', '15', '17', '18', '19', '21', '26', '34', '35', '36', '37', '38', '39', '40', '42', '44', '45', '48', '49', '53', '65', '66', '67', '73', '77', '80', '83', '86', '89', '100', '102', '103', '107', '108', '111', '112', '113', '119', '124', '128', '131', '139', '156', '163', '168')}, 49: {'feature_idx': (1, 4, 6, 14, 15, 17, 18, 19, 21, 22, 26, 34, 35, 36, 37, 38, 39, 40, 42, 44, 45, 48, 49, 53, 65, 66, 67, 73, 77, 80, 83, 86, 89, 100, 102, 103, 107, 108, 111, 112, 113, 119, 124, 128, 131, 139, 156, 163, 168), 'cv_scores': array([-12.60685, -15.69174, -13.72696, -14.94617]), 'avg_score': -14.242928166526621, 'feature_names': ('1', '4', '6', '14', '15', '17', '18', '19', '21', '22', '26', '34', '35', '36', '37', '38', '39', '40', '42', '44', '45', '48', '49', '53', '65', '66', '67', '73', '77', '80', '83', '86', '89', '100', '102', '103', '107', '108', '111', '112', '113', '119', '124', '128', '131', '139', '156', '163', '168')}, 50: {'feature_idx': (1, 4, 6, 14, 15, 17, 18, 19, 21, 22, 26, 34, 35, 36, 37, 38, 39, 40, 42, 44, 45, 48, 49, 53, 65, 66, 67, 73, 77, 80, 83, 86, 89, 100, 102, 103, 107, 108, 111, 112, 113, 119, 124, 128, 131, 139, 156, 163, 165, 168), 'cv_scores': array([-12.60375, -15.69076, -13.72611, -14.95026]), 'avg_score': -14.242718960533416, 'feature_names': ('1', '4', '6', '14', '15', '17', '18', '19', '21', '22', '26', '34', '35', '36', '37', '38', '39', '40', '42', '44', '45', '48', '49', '53', '65', '66', '67', '73', '77', '80', '83', '86', '89', '100', '102', '103', '107', '108', '111', '112', '113', '119', '124', '128', '131', '139', '156', '163', '165', '168')}, 51: {'feature_idx': (1, 4, 6, 14, 15, 17, 18, 19, 21, 22, 26, 34, 35, 36, 37, 38, 39, 40, 42, 44, 45, 48, 49, 53, 65, 66, 67, 73, 77, 80, 83, 86, 89, 100, 102, 103, 107, 108, 111, 112, 113, 118, 119, 124, 128, 131, 139, 156, 163, 165, 168), 'cv_scores': array([-12.60388, -15.69048, -13.72582, -14.95047]), 'avg_score': -14.242661585306845, 'feature_names': ('1', '4', '6', '14', '15', '17', '18', '19', '21', '22', '26', '34', '35', '36', '37', '38', '39', '40', '42', '44', '45', '48', '49', '53', '65', '66', '67', '73', '77', '80', '83', '86', '89', '100', '102', '103', '107', '108', '111', '112', '113', '118', '119', '124', '128', '131', '139', '156', '163', '165', '168')}, 52: {'feature_idx': (1, 4, 6, 14, 15, 17, 18, 19, 21, 22, 26, 34, 35, 36, 37, 38, 39, 40, 42, 44, 45, 48, 49, 53, 65, 66, 67, 73, 77, 80, 83, 86, 89, 100, 102, 103, 106, 107, 108, 111, 112, 113, 118, 119, 124, 128, 131, 139, 156, 163, 165, 168), 'cv_scores': array([-12.60206, -15.69123, -13.72854, -14.94859]), 'avg_score': -14.242603862291057, 'feature_names': ('1', '4', '6', '14', '15', '17', '18', '19', '21', '22', '26', '34', '35', '36', '37', '38', '39', '40', '42', '44', '45', '48', '49', '53', '65', '66', '67', '73', '77', '80', '83', '86', '89', '100', '102', '103', '106', '107', '108', '111', '112', '113', '118', '119', '124', '128', '131', '139', '156', '163', '165', '168')}, 53: {'feature_idx': (1, 4, 6, 14, 15, 17, 18, 19, 21, 22, 26, 34, 35, 36, 37, 38, 39, 40, 42, 44, 45, 48, 49, 53, 65, 66, 67, 73, 77, 80, 83, 86, 89, 100, 102, 103, 106, 107, 108, 111, 112, 113, 118, 119, 124, 128, 131, 139, 153, 156, 163, 165, 168), 'cv_scores': array([-12.60076, -15.68894, -13.72915, -14.95141]), 'avg_score': -14.242564860340295, 'feature_names': ('1', '4', '6', '14', '15', '17', '18', '19', '21', '22', '26', '34', '35', '36', '37', '38', '39', '40', '42', '44', '45', '48', '49', '53', '65', '66', '67', '73', '77', '80', '83', '86', '89', '100', '102', '103', '106', '107', '108', '111', '112', '113', '118', '119', '124', '128', '131', '139', '153', '156', '163', '165', '168')}, 54: {'feature_idx': (1, 4, 6, 14, 15, 17, 18, 19, 21, 22, 26, 34, 35, 36, 37, 38, 39, 40, 42, 44, 45, 48, 49, 53, 65, 66, 67, 73, 77, 80, 83, 86, 89, 100, 102, 103, 106, 107, 108, 111, 112, 113, 118, 119, 124, 128, 131, 139, 150, 153, 156, 163, 165, 168), 'cv_scores': array([-12.58602, -15.68411, -13.73804, -14.94774]), 'avg_score': -14.23897812116543, 'feature_names': ('1', '4', '6', '14', '15', '17', '18', '19', '21', '22', '26', '34', '35', '36', '37', '38', '39', '40', '42', '44', '45', '48', '49', '53', '65', '66', '67', '73', '77', '80', '83', '86', '89', '100', '102', '103', '106', '107', '108', '111', '112', '113', '118', '119', '124', '128', '131', '139', '150', '153', '156', '163', '165', '168')}, 55: {'feature_idx': (1, 4, 6, 14, 15, 17, 18, 19, 21, 22, 26, 34, 35, 36, 37, 38, 39, 40, 42, 44, 45, 48, 49, 53, 65, 66, 67, 73, 77, 80, 83, 86, 89, 100, 102, 103, 106, 107, 108, 111, 112, 113, 118, 119, 124, 128, 131, 136, 139, 150, 153, 156, 163, 165, 168), 'cv_scores': array([-12.60753, -15.67569, -13.73075, -14.93285]), 'avg_score': -14.236701445519335, 'feature_names': ('1', '4', '6', '14', '15', '17', '18', '19', '21', '22', '26', '34', '35', '36', '37', '38', '39', '40', '42', '44', '45', '48', '49', '53', '65', '66', '67', '73', '77', '80', '83', '86', '89', '100', '102', '103', '106', '107', '108', '111', '112', '113', '118', '119', '124', '128', '131', '136', '139', '150', '153', '156', '163', '165', '168')}, 56: {'feature_idx': (1, 4, 6, 14, 15, 17, 18, 19, 21, 22, 26, 34, 35, 36, 37, 38, 39, 40, 42, 44, 45, 48, 49, 53, 63, 65, 66, 67, 73, 77, 80, 83, 86, 89, 100, 102, 103, 106, 107, 108, 111, 112, 113, 118, 119, 124, 128, 131, 136, 139, 150, 153, 156, 163, 165, 168), 'cv_scores': array([-12.60612, -15.67792, -13.73115, -14.93135]), 'avg_score': -14.236632543129993, 'feature_names': ('1', '4', '6', '14', '15', '17', '18', '19', '21', '22', '26', '34', '35', '36', '37', '38', '39', '40', '42', '44', '45', '48', '49', '53', '63', '65', '66', '67', '73', '77', '80', '83', '86', '89', '100', '102', '103', '106', '107', '108', '111', '112', '113', '118', '119', '124', '128', '131', '136', '139', '150', '153', '156', '163', '165', '168')}, 57: {'feature_idx': (1, 4, 6, 14, 15, 17, 18, 19, 21, 22, 26, 28, 34, 35, 36, 37, 38, 39, 40, 42, 44, 45, 48, 49, 53, 63, 65, 66, 67, 73, 77, 80, 83, 86, 89, 100, 102, 103, 106, 107, 108, 111, 112, 113, 118, 119, 124, 128, 131, 136, 139, 150, 153, 156, 163, 165, 168), 'cv_scores': array([-12.62003, -15.67484, -13.72394, -14.92554]), 'avg_score': -14.23608939260324, 'feature_names': ('1', '4', '6', '14', '15', '17', '18', '19', '21', '22', '26', '28', '34', '35', '36', '37', '38', '39', '40', '42', '44', '45', '48', '49', '53', '63', '65', '66', '67', '73', '77', '80', '83', '86', '89', '100', '102', '103', '106', '107', '108', '111', '112', '113', '118', '119', '124', '128', '131', '136', '139', '150', '153', '156', '163', '165', '168')}, 58: {'feature_idx': (1, 4, 6, 14, 15, 17, 18, 19, 21, 22, 26, 27, 28, 34, 35, 36, 37, 38, 39, 40, 42, 44, 45, 48, 49, 53, 63, 65, 66, 67, 73, 77, 80, 83, 86, 89, 100, 102, 103, 106, 107, 108, 111, 112, 113, 118, 119, 124, 128, 131, 136, 139, 150, 153, 156, 163, 165, 168), 'cv_scores': array([-12.61594, -15.67473, -13.72497, -14.92691]), 'avg_score': -14.235635141372693, 'feature_names': ('1', '4', '6', '14', '15', '17', '18', '19', '21', '22', '26', '27', '28', '34', '35', '36', '37', '38', '39', '40', '42', '44', '45', '48', '49', '53', '63', '65', '66', '67', '73', '77', '80', '83', '86', '89', '100', '102', '103', '106', '107', '108', '111', '112', '113', '118', '119', '124', '128', '131', '136', '139', '150', '153', '156', '163', '165', '168')}, 59: {'feature_idx': (1, 4, 6, 14, 15, 17, 18, 19, 21, 22, 26, 27, 28, 34, 35, 36, 37, 38, 39, 40, 42, 44, 45, 48, 49, 53, 62, 63, 65, 66, 67, 73, 77, 80, 83, 86, 89, 100, 102, 103, 106, 107, 108, 111, 112, 113, 118, 119, 124, 128, 131, 136, 139, 150, 153, 156, 163, 165, 168), 'cv_scores': array([-12.61288, -15.67149, -13.72385, -14.92012]), 'avg_score': -14.232085307417446, 'feature_names': ('1', '4', '6', '14', '15', '17', '18', '19', '21', '22', '26', '27', '28', '34', '35', '36', '37', '38', '39', '40', '42', '44', '45', '48', '49', '53', '62', '63', '65', '66', '67', '73', '77', '80', '83', '86', '89', '100', '102', '103', '106', '107', '108', '111', '112', '113', '118', '119', '124', '128', '131', '136', '139', '150', '153', '156', '163', '165', '168')}, 60: {'feature_idx': (0, 1, 4, 6, 14, 15, 17, 18, 19, 21, 22, 26, 27, 28, 34, 35, 36, 37, 38, 39, 40, 42, 44, 45, 48, 49, 53, 62, 63, 65, 66, 67, 73, 77, 80, 83, 86, 89, 100, 102, 103, 106, 107, 108, 111, 112, 113, 118, 119, 124, 128, 131, 136, 139, 150, 153, 156, 163, 165, 168), 'cv_scores': array([-12.61284, -15.67145, -13.7238 , -14.92008]), 'avg_score': -14.232044794835419, 'feature_names': ('0', '1', '4', '6', '14', '15', '17', '18', '19', '21', '22', '26', '27', '28', '34', '35', '36', '37', '38', '39', '40', '42', '44', '45', '48', '49', '53', '62', '63', '65', '66', '67', '73', '77', '80', '83', '86', '89', '100', '102', '103', '106', '107', '108', '111', '112', '113', '118', '119', '124', '128', '131', '136', '139', '150', '153', '156', '163', '165', '168')}, 61: {'feature_idx': (0, 1, 4, 6, 14, 15, 17, 18, 19, 21, 22, 26, 27, 28, 34, 35, 36, 37, 38, 39, 40, 42, 44, 45, 48, 49, 53, 62, 63, 64, 65, 66, 67, 73, 77, 80, 83, 86, 89, 100, 102, 103, 106, 107, 108, 111, 112, 113, 118, 119, 124, 128, 131, 136, 139, 150, 153, 156, 163, 165, 168), 'cv_scores': array([-12.61279, -15.6715 , -13.72374, -14.92006]), 'avg_score': -14.232022424763754, 'feature_names': ('0', '1', '4', '6', '14', '15', '17', '18', '19', '21', '22', '26', '27', '28', '34', '35', '36', '37', '38', '39', '40', '42', '44', '45', '48', '49', '53', '62', '63', '64', '65', '66', '67', '73', '77', '80', '83', '86', '89', '100', '102', '103', '106', '107', '108', '111', '112', '113', '118', '119', '124', '128', '131', '136', '139', '150', '153', '156', '163', '165', '168')}, 62: {'feature_idx': (0, 1, 4, 6, 14, 15, 17, 18, 19, 21, 22, 26, 27, 28, 34, 35, 36, 37, 38, 39, 40, 42, 44, 45, 48, 49, 53, 62, 63, 64, 65, 66, 67, 73, 77, 80, 83, 86, 89, 100, 102, 103, 106, 107, 108, 111, 112, 113, 118, 119, 124, 128, 131, 136, 139, 148, 150, 153, 156, 163, 165, 168), 'cv_scores': array([-12.61278, -15.67149, -13.72374, -14.92005]), 'avg_score': -14.23201416732762, 'feature_names': ('0', '1', '4', '6', '14', '15', '17', '18', '19', '21', '22', '26', '27', '28', '34', '35', '36', '37', '38', '39', '40', '42', '44', '45', '48', '49', '53', '62', '63', '64', '65', '66', '67', '73', '77', '80', '83', '86', '89', '100', '102', '103', '106', '107', '108', '111', '112', '113', '118', '119', '124', '128', '131', '136', '139', '148', '150', '153', '156', '163', '165', '168')}, 63: {'feature_idx': (0, 1, 2, 4, 6, 14, 15, 17, 18, 19, 21, 22, 26, 27, 28, 34, 35, 36, 37, 38, 39, 40, 42, 44, 45, 48, 49, 53, 62, 63, 64, 65, 66, 67, 73, 77, 80, 83, 86, 89, 100, 102, 103, 106, 107, 108, 111, 112, 113, 118, 119, 124, 128, 131, 136, 139, 148, 150, 153, 156, 163, 165, 168), 'cv_scores': array([-12.61278, -15.67149, -13.72374, -14.92005]), 'avg_score': -14.232014030947475, 'feature_names': ('0', '1', '2', '4', '6', '14', '15', '17', '18', '19', '21', '22', '26', '27', '28', '34', '35', '36', '37', '38', '39', '40', '42', '44', '45', '48', '49', '53', '62', '63', '64', '65', '66', '67', '73', '77', '80', '83', '86', '89', '100', '102', '103', '106', '107', '108', '111', '112', '113', '118', '119', '124', '128', '131', '136', '139', '148', '150', '153', '156', '163', '165', '168')}, 64: {'feature_idx': (0, 1, 2, 3, 4, 6, 14, 15, 17, 18, 19, 21, 22, 26, 27, 28, 34, 35, 36, 37, 38, 39, 40, 42, 44, 45, 48, 49, 53, 62, 63, 64, 65, 66, 67, 73, 77, 80, 83, 86, 89, 100, 102, 103, 106, 107, 108, 111, 112, 113, 118, 119, 124, 128, 131, 136, 139, 148, 150, 153, 156, 163, 165, 168), 'cv_scores': array([-12.61278, -15.67149, -13.72374, -14.92005]), 'avg_score': -14.232014119105088, 'feature_names': ('0', '1', '2', '3', '4', '6', '14', '15', '17', '18', '19', '21', '22', '26', '27', '28', '34', '35', '36', '37', '38', '39', '40', '42', '44', '45', '48', '49', '53', '62', '63', '64', '65', '66', '67', '73', '77', '80', '83', '86', '89', '100', '102', '103', '106', '107', '108', '111', '112', '113', '118', '119', '124', '128', '131', '136', '139', '148', '150', '153', '156', '163', '165', '168')}, 65: {'feature_idx': (0, 1, 2, 3, 4, 6, 14, 15, 17, 18, 19, 21, 22, 26, 27, 28, 34, 35, 36, 37, 38, 39, 40, 42, 44, 45, 48, 49, 53, 62, 63, 64, 65, 66, 67, 73, 77, 80, 83, 86, 89, 100, 102, 103, 106, 107, 108, 111, 112, 113, 118, 119, 124, 128, 131, 136, 139, 148, 149, 150, 153, 156, 163, 165, 168), 'cv_scores': array([-12.61277, -15.67149, -13.72375, -14.92005]), 'avg_score': -14.232015237913389, 'feature_names': ('0', '1', '2', '3', '4', '6', '14', '15', '17', '18', '19', '21', '22', '26', '27', '28', '34', '35', '36', '37', '38', '39', '40', '42', '44', '45', '48', '49', '53', '62', '63', '64', '65', '66', '67', '73', '77', '80', '83', '86', '89', '100', '102', '103', '106', '107', '108', '111', '112', '113', '118', '119', '124', '128', '131', '136', '139', '148', '149', '150', '153', '156', '163', '165', '168')}, 66: {'feature_idx': (0, 1, 2, 3, 4, 6, 14, 15, 17, 18, 19, 21, 22, 26, 27, 28, 34, 35, 36, 37, 38, 39, 40, 42, 44, 45, 48, 49, 53, 62, 63, 64, 65, 66, 67, 73, 77, 80, 83, 86, 89, 100, 102, 103, 106, 107, 108, 111, 112, 113, 118, 119, 124, 128, 131, 136, 139, 146, 148, 149, 150, 153, 156, 163, 165, 168), 'cv_scores': array([-12.61278, -15.67149, -13.72375, -14.92006]), 'avg_score': -14.23201900804353, 'feature_names': ('0', '1', '2', '3', '4', '6', '14', '15', '17', '18', '19', '21', '22', '26', '27', '28', '34', '35', '36', '37', '38', '39', '40', '42', '44', '45', '48', '49', '53', '62', '63', '64', '65', '66', '67', '73', '77', '80', '83', '86', '89', '100', '102', '103', '106', '107', '108', '111', '112', '113', '118', '119', '124', '128', '131', '136', '139', '146', '148', '149', '150', '153', '156', '163', '165', '168')}, 67: {'feature_idx': (0, 1, 2, 3, 4, 6, 14, 15, 17, 18, 19, 21, 22, 26, 27, 28, 34, 35, 36, 37, 38, 39, 40, 42, 44, 45, 48, 49, 53, 62, 63, 64, 65, 66, 67, 73, 77, 80, 83, 86, 89, 100, 102, 103, 106, 107, 108, 111, 112, 113, 118, 119, 124, 128, 131, 136, 139, 146, 147, 148, 149, 150, 153, 156, 163, 165, 168), 'cv_scores': array([-12.61281, -15.67158, -13.72379, -14.92005]), 'avg_score': -14.232057497818296, 'feature_names': ('0', '1', '2', '3', '4', '6', '14', '15', '17', '18', '19', '21', '22', '26', '27', '28', '34', '35', '36', '37', '38', '39', '40', '42', '44', '45', '48', '49', '53', '62', '63', '64', '65', '66', '67', '73', '77', '80', '83', '86', '89', '100', '102', '103', '106', '107', '108', '111', '112', '113', '118', '119', '124', '128', '131', '136', '139', '146', '147', '148', '149', '150', '153', '156', '163', '165', '168')}, 68: {'feature_idx': (0, 1, 2, 3, 4, 6, 14, 15, 17, 18, 19, 21, 22, 26, 27, 28, 34, 35, 36, 37, 38, 39, 40, 42, 44, 45, 48, 49, 53, 62, 63, 64, 65, 66, 67, 73, 77, 80, 83, 86, 89, 100, 102, 103, 106, 107, 108, 111, 112, 113, 118, 119, 124, 128, 131, 136, 139, 146, 147, 148, 149, 150, 153, 156, 161, 163, 165, 168), 'cv_scores': array([-12.61442, -15.67131, -13.72307, -14.91964]), 'avg_score': -14.232110216203328, 'feature_names': ('0', '1', '2', '3', '4', '6', '14', '15', '17', '18', '19', '21', '22', '26', '27', '28', '34', '35', '36', '37', '38', '39', '40', '42', '44', '45', '48', '49', '53', '62', '63', '64', '65', '66', '67', '73', '77', '80', '83', '86', '89', '100', '102', '103', '106', '107', '108', '111', '112', '113', '118', '119', '124', '128', '131', '136', '139', '146', '147', '148', '149', '150', '153', '156', '161', '163', '165', '168')}, 69: {'feature_idx': (0, 1, 2, 3, 4, 6, 14, 15, 17, 18, 19, 21, 22, 26, 27, 28, 34, 35, 36, 37, 38, 39, 40, 42, 44, 45, 48, 49, 53, 62, 63, 64, 65, 66, 67, 70, 73, 77, 80, 83, 86, 89, 100, 102, 103, 106, 107, 108, 111, 112, 113, 118, 119, 124, 128, 131, 136, 139, 146, 147, 148, 149, 150, 153, 156, 161, 163, 165, 168), 'cv_scores': array([-12.61487, -15.67168, -13.72288, -14.91946]), 'avg_score': -14.232223443354492, 'feature_names': ('0', '1', '2', '3', '4', '6', '14', '15', '17', '18', '19', '21', '22', '26', '27', '28', '34', '35', '36', '37', '38', '39', '40', '42', '44', '45', '48', '49', '53', '62', '63', '64', '65', '66', '67', '70', '73', '77', '80', '83', '86', '89', '100', '102', '103', '106', '107', '108', '111', '112', '113', '118', '119', '124', '128', '131', '136', '139', '146', '147', '148', '149', '150', '153', '156', '161', '163', '165', '168')}, 70: {'feature_idx': (0, 1, 2, 3, 4, 6, 14, 15, 17, 18, 19, 21, 22, 26, 27, 28, 34, 35, 36, 37, 38, 39, 40, 42, 44, 45, 48, 49, 53, 62, 63, 64, 65, 66, 67, 70, 73, 77, 80, 83, 86, 89, 100, 102, 103, 106, 107, 108, 111, 112, 113, 118, 119, 124, 128, 131, 136, 139, 146, 147, 148, 149, 150, 153, 154, 156, 161, 163, 165, 168), 'cv_scores': array([-12.61566, -15.6643 , -13.73428, -14.91327]), 'avg_score': -14.2318758123211, 'feature_names': ('0', '1', '2', '3', '4', '6', '14', '15', '17', '18', '19', '21', '22', '26', '27', '28', '34', '35', '36', '37', '38', '39', '40', '42', '44', '45', '48', '49', '53', '62', '63', '64', '65', '66', '67', '70', '73', '77', '80', '83', '86', '89', '100', '102', '103', '106', '107', '108', '111', '112', '113', '118', '119', '124', '128', '131', '136', '139', '146', '147', '148', '149', '150', '153', '154', '156', '161', '163', '165', '168')}, 71: {'feature_idx': (0, 1, 2, 3, 4, 6, 14, 15, 17, 18, 19, 21, 22, 26, 27, 28, 34, 35, 36, 37, 38, 39, 40, 42, 44, 45, 48, 49, 53, 62, 63, 64, 65, 66, 67, 70, 73, 77, 80, 83, 86, 89, 100, 102, 103, 106, 107, 108, 111, 112, 113, 116, 118, 119, 124, 128, 131, 136, 139, 146, 147, 148, 149, 150, 153, 154, 156, 161, 163, 165, 168), 'cv_scores': array([-12.61566, -15.6643 , -13.73428, -14.91327]), 'avg_score': -14.231875812628074, 'feature_names': ('0', '1', '2', '3', '4', '6', '14', '15', '17', '18', '19', '21', '22', '26', '27', '28', '34', '35', '36', '37', '38', '39', '40', '42', '44', '45', '48', '49', '53', '62', '63', '64', '65', '66', '67', '70', '73', '77', '80', '83', '86', '89', '100', '102', '103', '106', '107', '108', '111', '112', '113', '116', '118', '119', '124', '128', '131', '136', '139', '146', '147', '148', '149', '150', '153', '154', '156', '161', '163', '165', '168')}, 72: {'feature_idx': (0, 1, 2, 3, 4, 6, 14, 15, 17, 18, 19, 21, 22, 26, 27, 28, 34, 35, 36, 37, 38, 39, 40, 42, 44, 45, 48, 49, 53, 62, 63, 64, 65, 66, 67, 70, 73, 77, 80, 83, 86, 89, 100, 102, 103, 106, 107, 108, 111, 112, 113, 116, 118, 119, 124, 128, 131, 136, 139, 146, 147, 148, 149, 150, 153, 154, 155, 156, 161, 163, 165, 168), 'cv_scores': array([-12.61566, -15.6643 , -13.73428, -14.91327]), 'avg_score': -14.23187581297891, 'feature_names': ('0', '1', '2', '3', '4', '6', '14', '15', '17', '18', '19', '21', '22', '26', '27', '28', '34', '35', '36', '37', '38', '39', '40', '42', '44', '45', '48', '49', '53', '62', '63', '64', '65', '66', '67', '70', '73', '77', '80', '83', '86', '89', '100', '102', '103', '106', '107', '108', '111', '112', '113', '116', '118', '119', '124', '128', '131', '136', '139', '146', '147', '148', '149', '150', '153', '154', '155', '156', '161', '163', '165', '168')}, 73: {'feature_idx': (0, 1, 2, 3, 4, 6, 14, 15, 17, 18, 19, 21, 22, 26, 27, 28, 34, 35, 36, 37, 38, 39, 40, 42, 44, 45, 48, 49, 53, 62, 63, 64, 65, 66, 67, 70, 73, 77, 80, 83, 86, 89, 100, 102, 103, 106, 107, 108, 111, 112, 113, 116, 118, 119, 124, 128, 131, 136, 138, 139, 146, 147, 148, 149, 150, 153, 154, 155, 156, 161, 163, 165, 168), 'cv_scores': array([-12.62369, -15.66267, -13.73052, -14.91101]), 'avg_score': -14.231971638340166, 'feature_names': ('0', '1', '2', '3', '4', '6', '14', '15', '17', '18', '19', '21', '22', '26', '27', '28', '34', '35', '36', '37', '38', '39', '40', '42', '44', '45', '48', '49', '53', '62', '63', '64', '65', '66', '67', '70', '73', '77', '80', '83', '86', '89', '100', '102', '103', '106', '107', '108', '111', '112', '113', '116', '118', '119', '124', '128', '131', '136', '138', '139', '146', '147', '148', '149', '150', '153', '154', '155', '156', '161', '163', '165', '168')}, 74: {'feature_idx': (0, 1, 2, 3, 4, 6, 10, 14, 15, 17, 18, 19, 21, 22, 26, 27, 28, 34, 35, 36, 37, 38, 39, 40, 42, 44, 45, 48, 49, 53, 62, 63, 64, 65, 66, 67, 70, 73, 77, 80, 83, 86, 89, 100, 102, 103, 106, 107, 108, 111, 112, 113, 116, 118, 119, 124, 128, 131, 136, 138, 139, 146, 147, 148, 149, 150, 153, 154, 155, 156, 161, 163, 165, 168), 'cv_scores': array([-12.62436, -15.66276, -13.73032, -14.91101]), 'avg_score': -14.232110970420631, 'feature_names': ('0', '1', '2', '3', '4', '6', '10', '14', '15', '17', '18', '19', '21', '22', '26', '27', '28', '34', '35', '36', '37', '38', '39', '40', '42', '44', '45', '48', '49', '53', '62', '63', '64', '65', '66', '67', '70', '73', '77', '80', '83', '86', '89', '100', '102', '103', '106', '107', '108', '111', '112', '113', '116', '118', '119', '124', '128', '131', '136', '138', '139', '146', '147', '148', '149', '150', '153', '154', '155', '156', '161', '163', '165', '168')}, 75: {'feature_idx': (0, 1, 2, 3, 4, 6, 10, 14, 15, 17, 18, 19, 21, 22, 26, 27, 28, 34, 35, 36, 37, 38, 39, 40, 42, 44, 45, 48, 49, 53, 56, 62, 63, 64, 65, 66, 67, 70, 73, 77, 80, 83, 86, 89, 100, 102, 103, 106, 107, 108, 111, 112, 113, 116, 118, 119, 124, 128, 131, 136, 138, 139, 146, 147, 148, 149, 150, 153, 154, 155, 156, 161, 163, 165, 168), 'cv_scores': array([-12.6244 , -15.66282, -13.73082, -14.91109]), 'avg_score': -14.232281607044996, 'feature_names': ('0', '1', '2', '3', '4', '6', '10', '14', '15', '17', '18', '19', '21', '22', '26', '27', '28', '34', '35', '36', '37', '38', '39', '40', '42', '44', '45', '48', '49', '53', '56', '62', '63', '64', '65', '66', '67', '70', '73', '77', '80', '83', '86', '89', '100', '102', '103', '106', '107', '108', '111', '112', '113', '116', '118', '119', '124', '128', '131', '136', '138', '139', '146', '147', '148', '149', '150', '153', '154', '155', '156', '161', '163', '165', '168')}, 76: {'feature_idx': (0, 1, 2, 3, 4, 6, 10, 14, 15, 17, 18, 19, 21, 22, 26, 27, 28, 34, 35, 36, 37, 38, 39, 40, 42, 44, 45, 48, 49, 53, 56, 62, 63, 64, 65, 66, 67, 70, 73, 77, 80, 83, 86, 89, 100, 102, 103, 106, 107, 108, 111, 112, 113, 116, 118, 119, 124, 128, 130, 131, 136, 138, 139, 146, 147, 148, 149, 150, 153, 154, 155, 156, 161, 163, 165, 168), 'cv_scores': array([-12.62421, -15.66281, -13.73105, -14.91152]), 'avg_score': -14.232397861300214, 'feature_names': ('0', '1', '2', '3', '4', '6', '10', '14', '15', '17', '18', '19', '21', '22', '26', '27', '28', '34', '35', '36', '37', '38', '39', '40', '42', '44', '45', '48', '49', '53', '56', '62', '63', '64', '65', '66', '67', '70', '73', '77', '80', '83', '86', '89', '100', '102', '103', '106', '107', '108', '111', '112', '113', '116', '118', '119', '124', '128', '130', '131', '136', '138', '139', '146', '147', '148', '149', '150', '153', '154', '155', '156', '161', '163', '165', '168')}, 77: {'feature_idx': (0, 1, 2, 3, 4, 6, 10, 14, 15, 17, 18, 19, 21, 22, 26, 27, 28, 34, 35, 36, 37, 38, 39, 40, 42, 44, 45, 48, 49, 53, 56, 62, 63, 64, 65, 66, 67, 70, 73, 77, 80, 83, 86, 89, 91, 100, 102, 103, 106, 107, 108, 111, 112, 113, 116, 118, 119, 124, 128, 130, 131, 136, 138, 139, 146, 147, 148, 149, 150, 153, 154, 155, 156, 161, 163, 165, 168), 'cv_scores': array([-12.62613, -15.66063, -13.72718, -14.90648]), 'avg_score': -14.230101708893699, 'feature_names': ('0', '1', '2', '3', '4', '6', '10', '14', '15', '17', '18', '19', '21', '22', '26', '27', '28', '34', '35', '36', '37', '38', '39', '40', '42', '44', '45', '48', '49', '53', '56', '62', '63', '64', '65', '66', '67', '70', '73', '77', '80', '83', '86', '89', '91', '100', '102', '103', '106', '107', '108', '111', '112', '113', '116', '118', '119', '124', '128', '130', '131', '136', '138', '139', '146', '147', '148', '149', '150', '153', '154', '155', '156', '161', '163', '165', '168')}, 78: {'feature_idx': (0, 1, 2, 3, 4, 6, 10, 14, 15, 17, 18, 19, 21, 22, 26, 27, 28, 34, 35, 36, 37, 38, 39, 40, 42, 44, 45, 48, 49, 53, 56, 62, 63, 64, 65, 66, 67, 70, 73, 77, 80, 83, 86, 89, 91, 100, 102, 103, 106, 107, 108, 111, 112, 113, 116, 118, 119, 124, 128, 130, 131, 136, 138, 139, 141, 146, 147, 148, 149, 150, 153, 154, 155, 156, 161, 163, 165, 168), 'cv_scores': array([-12.62617, -15.66193, -13.72702, -14.90639]), 'avg_score': -14.230377123327822, 'feature_names': ('0', '1', '2', '3', '4', '6', '10', '14', '15', '17', '18', '19', '21', '22', '26', '27', '28', '34', '35', '36', '37', '38', '39', '40', '42', '44', '45', '48', '49', '53', '56', '62', '63', '64', '65', '66', '67', '70', '73', '77', '80', '83', '86', '89', '91', '100', '102', '103', '106', '107', '108', '111', '112', '113', '116', '118', '119', '124', '128', '130', '131', '136', '138', '139', '141', '146', '147', '148', '149', '150', '153', '154', '155', '156', '161', '163', '165', '168')}, 79: {'feature_idx': (0, 1, 2, 3, 4, 6, 10, 14, 15, 17, 18, 19, 21, 22, 26, 27, 28, 34, 35, 36, 37, 38, 39, 40, 42, 44, 45, 48, 49, 53, 56, 62, 63, 64, 65, 66, 67, 70, 73, 77, 80, 83, 86, 89, 91, 100, 102, 103, 106, 107, 108, 111, 112, 113, 116, 118, 119, 122, 124, 128, 130, 131, 136, 138, 139, 141, 146, 147, 148, 149, 150, 153, 154, 155, 156, 161, 163, 165, 168), 'cv_scores': array([-12.62607, -15.66298, -13.72671, -14.90676]), 'avg_score': -14.230629325493421, 'feature_names': ('0', '1', '2', '3', '4', '6', '10', '14', '15', '17', '18', '19', '21', '22', '26', '27', '28', '34', '35', '36', '37', '38', '39', '40', '42', '44', '45', '48', '49', '53', '56', '62', '63', '64', '65', '66', '67', '70', '73', '77', '80', '83', '86', '89', '91', '100', '102', '103', '106', '107', '108', '111', '112', '113', '116', '118', '119', '122', '124', '128', '130', '131', '136', '138', '139', '141', '146', '147', '148', '149', '150', '153', '154', '155', '156', '161', '163', '165', '168')}, 80: {'feature_idx': (0, 1, 2, 3, 4, 5, 6, 10, 14, 15, 17, 18, 19, 21, 22, 26, 27, 28, 34, 35, 36, 37, 38, 39, 40, 42, 44, 45, 48, 49, 53, 56, 62, 63, 64, 65, 66, 67, 70, 73, 77, 80, 83, 86, 89, 91, 100, 102, 103, 106, 107, 108, 111, 112, 113, 116, 118, 119, 122, 124, 128, 130, 131, 136, 138, 139, 141, 146, 147, 148, 149, 150, 153, 154, 155, 156, 161, 163, 165, 168), 'cv_scores': array([-12.62595, -15.66298, -13.72699, -14.90778]), 'avg_score': -14.230926300300531, 'feature_names': ('0', '1', '2', '3', '4', '5', '6', '10', '14', '15', '17', '18', '19', '21', '22', '26', '27', '28', '34', '35', '36', '37', '38', '39', '40', '42', '44', '45', '48', '49', '53', '56', '62', '63', '64', '65', '66', '67', '70', '73', '77', '80', '83', '86', '89', '91', '100', '102', '103', '106', '107', '108', '111', '112', '113', '116', '118', '119', '122', '124', '128', '130', '131', '136', '138', '139', '141', '146', '147', '148', '149', '150', '153', '154', '155', '156', '161', '163', '165', '168')}, 81: {'feature_idx': (0, 1, 2, 3, 4, 5, 6, 10, 14, 15, 17, 18, 19, 21, 22, 26, 27, 28, 34, 35, 36, 37, 38, 39, 40, 42, 44, 45, 48, 49, 53, 56, 62, 63, 64, 65, 66, 67, 70, 73, 77, 80, 81, 83, 86, 89, 91, 100, 102, 103, 106, 107, 108, 111, 112, 113, 116, 118, 119, 122, 124, 128, 130, 131, 136, 138, 139, 141, 146, 147, 148, 149, 150, 153, 154, 155, 156, 161, 163, 165, 168), 'cv_scores': array([-12.62586, -15.66635, -13.72617, -14.90687]), 'avg_score': -14.231312666538528, 'feature_names': ('0', '1', '2', '3', '4', '5', '6', '10', '14', '15', '17', '18', '19', '21', '22', '26', '27', '28', '34', '35', '36', '37', '38', '39', '40', '42', '44', '45', '48', '49', '53', '56', '62', '63', '64', '65', '66', '67', '70', '73', '77', '80', '81', '83', '86', '89', '91', '100', '102', '103', '106', '107', '108', '111', '112', '113', '116', '118', '119', '122', '124', '128', '130', '131', '136', '138', '139', '141', '146', '147', '148', '149', '150', '153', '154', '155', '156', '161', '163', '165', '168')}, 82: {'feature_idx': (0, 1, 2, 3, 4, 5, 6, 10, 14, 15, 17, 18, 19, 21, 22, 26, 27, 28, 34, 35, 36, 37, 38, 39, 40, 42, 44, 45, 48, 49, 53, 56, 62, 63, 64, 65, 66, 67, 70, 73, 77, 80, 81, 83, 86, 89, 91, 100, 101, 102, 103, 106, 107, 108, 111, 112, 113, 116, 118, 119, 122, 124, 128, 130, 131, 136, 138, 139, 141, 146, 147, 148, 149, 150, 153, 154, 155, 156, 161, 163, 165, 168), 'cv_scores': array([-12.62441, -15.66919, -13.72778, -14.90539]), 'avg_score': -14.231691723954661, 'feature_names': ('0', '1', '2', '3', '4', '5', '6', '10', '14', '15', '17', '18', '19', '21', '22', '26', '27', '28', '34', '35', '36', '37', '38', '39', '40', '42', '44', '45', '48', '49', '53', '56', '62', '63', '64', '65', '66', '67', '70', '73', '77', '80', '81', '83', '86', '89', '91', '100', '101', '102', '103', '106', '107', '108', '111', '112', '113', '116', '118', '119', '122', '124', '128', '130', '131', '136', '138', '139', '141', '146', '147', '148', '149', '150', '153', '154', '155', '156', '161', '163', '165', '168')}, 83: {'feature_idx': (0, 1, 2, 3, 4, 5, 6, 10, 14, 15, 17, 18, 19, 21, 22, 26, 27, 28, 34, 35, 36, 37, 38, 39, 40, 42, 44, 45, 48, 49, 53, 56, 62, 63, 64, 65, 66, 67, 70, 73, 77, 80, 81, 83, 86, 87, 89, 91, 100, 101, 102, 103, 106, 107, 108, 111, 112, 113, 116, 118, 119, 122, 124, 128, 130, 131, 136, 138, 139, 141, 146, 147, 148, 149, 150, 153, 154, 155, 156, 161, 163, 165, 168), 'cv_scores': array([-12.62465, -15.66921, -13.72764, -14.90695]), 'avg_score': -14.23211232879219, 'feature_names': ('0', '1', '2', '3', '4', '5', '6', '10', '14', '15', '17', '18', '19', '21', '22', '26', '27', '28', '34', '35', '36', '37', '38', '39', '40', '42', '44', '45', '48', '49', '53', '56', '62', '63', '64', '65', '66', '67', '70', '73', '77', '80', '81', '83', '86', '87', '89', '91', '100', '101', '102', '103', '106', '107', '108', '111', '112', '113', '116', '118', '119', '122', '124', '128', '130', '131', '136', '138', '139', '141', '146', '147', '148', '149', '150', '153', '154', '155', '156', '161', '163', '165', '168')}, 84: {'feature_idx': (0, 1, 2, 3, 4, 5, 6, 10, 14, 15, 17, 18, 19, 21, 22, 26, 27, 28, 34, 35, 36, 37, 38, 39, 40, 42, 44, 45, 48, 49, 53, 56, 62, 63, 64, 65, 66, 67, 70, 73, 77, 80, 81, 83, 86, 87, 89, 91, 96, 100, 101, 102, 103, 106, 107, 108, 111, 112, 113, 116, 118, 119, 122, 124, 128, 130, 131, 136, 138, 139, 141, 146, 147, 148, 149, 150, 153, 154, 155, 156, 161, 163, 165, 168), 'cv_scores': array([-12.624  , -15.67465, -13.72623, -14.9051 ]), 'avg_score': -14.232493986687619, 'feature_names': ('0', '1', '2', '3', '4', '5', '6', '10', '14', '15', '17', '18', '19', '21', '22', '26', '27', '28', '34', '35', '36', '37', '38', '39', '40', '42', '44', '45', '48', '49', '53', '56', '62', '63', '64', '65', '66', '67', '70', '73', '77', '80', '81', '83', '86', '87', '89', '91', '96', '100', '101', '102', '103', '106', '107', '108', '111', '112', '113', '116', '118', '119', '122', '124', '128', '130', '131', '136', '138', '139', '141', '146', '147', '148', '149', '150', '153', '154', '155', '156', '161', '163', '165', '168')}, 85: {'feature_idx': (0, 1, 2, 3, 4, 5, 6, 10, 14, 15, 17, 18, 19, 21, 22, 26, 27, 28, 34, 35, 36, 37, 38, 39, 40, 42, 44, 45, 48, 49, 53, 56, 62, 63, 64, 65, 66, 67, 70, 71, 73, 77, 80, 81, 83, 86, 87, 89, 91, 96, 100, 101, 102, 103, 106, 107, 108, 111, 112, 113, 116, 118, 119, 122, 124, 128, 130, 131, 136, 138, 139, 141, 146, 147, 148, 149, 150, 153, 154, 155, 156, 161, 163, 165, 168), 'cv_scores': array([-12.62494, -15.67637, -13.726  , -14.90447]), 'avg_score': -14.232944625661972, 'feature_names': ('0', '1', '2', '3', '4', '5', '6', '10', '14', '15', '17', '18', '19', '21', '22', '26', '27', '28', '34', '35', '36', '37', '38', '39', '40', '42', '44', '45', '48', '49', '53', '56', '62', '63', '64', '65', '66', '67', '70', '71', '73', '77', '80', '81', '83', '86', '87', '89', '91', '96', '100', '101', '102', '103', '106', '107', '108', '111', '112', '113', '116', '118', '119', '122', '124', '128', '130', '131', '136', '138', '139', '141', '146', '147', '148', '149', '150', '153', '154', '155', '156', '161', '163', '165', '168')}, 86: {'feature_idx': (0, 1, 2, 3, 4, 5, 6, 10, 14, 15, 17, 18, 19, 21, 22, 26, 27, 28, 34, 35, 36, 37, 38, 39, 40, 42, 44, 45, 48, 49, 53, 56, 62, 63, 64, 65, 66, 67, 70, 71, 73, 77, 79, 80, 81, 83, 86, 87, 89, 91, 96, 100, 101, 102, 103, 106, 107, 108, 111, 112, 113, 116, 118, 119, 122, 124, 128, 130, 131, 136, 138, 139, 141, 146, 147, 148, 149, 150, 153, 154, 155, 156, 161, 163, 165, 168), 'cv_scores': array([-12.62951, -15.67465, -13.72537, -14.90399]), 'avg_score': -14.23337953217725, 'feature_names': ('0', '1', '2', '3', '4', '5', '6', '10', '14', '15', '17', '18', '19', '21', '22', '26', '27', '28', '34', '35', '36', '37', '38', '39', '40', '42', '44', '45', '48', '49', '53', '56', '62', '63', '64', '65', '66', '67', '70', '71', '73', '77', '79', '80', '81', '83', '86', '87', '89', '91', '96', '100', '101', '102', '103', '106', '107', '108', '111', '112', '113', '116', '118', '119', '122', '124', '128', '130', '131', '136', '138', '139', '141', '146', '147', '148', '149', '150', '153', '154', '155', '156', '161', '163', '165', '168')}, 87: {'feature_idx': (0, 1, 2, 3, 4, 5, 6, 10, 14, 15, 17, 18, 19, 21, 22, 26, 27, 28, 31, 34, 35, 36, 37, 38, 39, 40, 42, 44, 45, 48, 49, 53, 56, 62, 63, 64, 65, 66, 67, 70, 71, 73, 77, 79, 80, 81, 83, 86, 87, 89, 91, 96, 100, 101, 102, 103, 106, 107, 108, 111, 112, 113, 116, 118, 119, 122, 124, 128, 130, 131, 136, 138, 139, 141, 146, 147, 148, 149, 150, 153, 154, 155, 156, 161, 163, 165, 168), 'cv_scores': array([-12.6313 , -15.67447, -13.72422, -14.90541]), 'avg_score': -14.233847706003965, 'feature_names': ('0', '1', '2', '3', '4', '5', '6', '10', '14', '15', '17', '18', '19', '21', '22', '26', '27', '28', '31', '34', '35', '36', '37', '38', '39', '40', '42', '44', '45', '48', '49', '53', '56', '62', '63', '64', '65', '66', '67', '70', '71', '73', '77', '79', '80', '81', '83', '86', '87', '89', '91', '96', '100', '101', '102', '103', '106', '107', '108', '111', '112', '113', '116', '118', '119', '122', '124', '128', '130', '131', '136', '138', '139', '141', '146', '147', '148', '149', '150', '153', '154', '155', '156', '161', '163', '165', '168')}, 88: {'feature_idx': (0, 1, 2, 3, 4, 5, 6, 10, 14, 15, 17, 18, 19, 21, 22, 25, 26, 27, 28, 31, 34, 35, 36, 37, 38, 39, 40, 42, 44, 45, 48, 49, 53, 56, 62, 63, 64, 65, 66, 67, 70, 71, 73, 77, 79, 80, 81, 83, 86, 87, 89, 91, 96, 100, 101, 102, 103, 106, 107, 108, 111, 112, 113, 116, 118, 119, 122, 124, 128, 130, 131, 136, 138, 139, 141, 146, 147, 148, 149, 150, 153, 154, 155, 156, 161, 163, 165, 168), 'cv_scores': array([-12.63313, -15.67618, -13.72306, -14.90503]), 'avg_score': -14.234350236487892, 'feature_names': ('0', '1', '2', '3', '4', '5', '6', '10', '14', '15', '17', '18', '19', '21', '22', '25', '26', '27', '28', '31', '34', '35', '36', '37', '38', '39', '40', '42', '44', '45', '48', '49', '53', '56', '62', '63', '64', '65', '66', '67', '70', '71', '73', '77', '79', '80', '81', '83', '86', '87', '89', '91', '96', '100', '101', '102', '103', '106', '107', '108', '111', '112', '113', '116', '118', '119', '122', '124', '128', '130', '131', '136', '138', '139', '141', '146', '147', '148', '149', '150', '153', '154', '155', '156', '161', '163', '165', '168')}, 89: {'feature_idx': (0, 1, 2, 3, 4, 5, 6, 10, 14, 15, 17, 18, 19, 21, 22, 25, 26, 27, 28, 31, 34, 35, 36, 37, 38, 39, 40, 42, 44, 45, 48, 49, 53, 56, 62, 63, 64, 65, 66, 67, 70, 71, 73, 77, 79, 80, 81, 83, 86, 87, 89, 91, 96, 100, 101, 102, 103, 104, 106, 107, 108, 111, 112, 113, 116, 118, 119, 122, 124, 128, 130, 131, 136, 138, 139, 141, 146, 147, 148, 149, 150, 153, 154, 155, 156, 161, 163, 165, 168), 'cv_scores': array([-12.63403, -15.67498, -13.72336, -14.90718]), 'avg_score': -14.23488638952231, 'feature_names': ('0', '1', '2', '3', '4', '5', '6', '10', '14', '15', '17', '18', '19', '21', '22', '25', '26', '27', '28', '31', '34', '35', '36', '37', '38', '39', '40', '42', '44', '45', '48', '49', '53', '56', '62', '63', '64', '65', '66', '67', '70', '71', '73', '77', '79', '80', '81', '83', '86', '87', '89', '91', '96', '100', '101', '102', '103', '104', '106', '107', '108', '111', '112', '113', '116', '118', '119', '122', '124', '128', '130', '131', '136', '138', '139', '141', '146', '147', '148', '149', '150', '153', '154', '155', '156', '161', '163', '165', '168')}, 90: {'feature_idx': (0, 1, 2, 3, 4, 5, 6, 10, 14, 15, 17, 18, 19, 21, 22, 25, 26, 27, 28, 31, 34, 35, 36, 37, 38, 39, 40, 42, 43, 44, 45, 48, 49, 53, 56, 62, 63, 64, 65, 66, 67, 70, 71, 73, 77, 79, 80, 81, 83, 86, 87, 89, 91, 96, 100, 101, 102, 103, 104, 106, 107, 108, 111, 112, 113, 116, 118, 119, 122, 124, 128, 130, 131, 136, 138, 139, 141, 146, 147, 148, 149, 150, 153, 154, 155, 156, 161, 163, 165, 168), 'cv_scores': array([-12.63303, -15.67718, -13.72324, -14.90841]), 'avg_score': -14.235462913654406, 'feature_names': ('0', '1', '2', '3', '4', '5', '6', '10', '14', '15', '17', '18', '19', '21', '22', '25', '26', '27', '28', '31', '34', '35', '36', '37', '38', '39', '40', '42', '43', '44', '45', '48', '49', '53', '56', '62', '63', '64', '65', '66', '67', '70', '71', '73', '77', '79', '80', '81', '83', '86', '87', '89', '91', '96', '100', '101', '102', '103', '104', '106', '107', '108', '111', '112', '113', '116', '118', '119', '122', '124', '128', '130', '131', '136', '138', '139', '141', '146', '147', '148', '149', '150', '153', '154', '155', '156', '161', '163', '165', '168')}, 91: {'feature_idx': (0, 1, 2, 3, 4, 5, 6, 10, 14, 15, 17, 18, 19, 21, 22, 25, 26, 27, 28, 31, 34, 35, 36, 37, 38, 39, 40, 42, 43, 44, 45, 48, 49, 53, 56, 62, 63, 64, 65, 66, 67, 70, 71, 73, 77, 79, 80, 81, 83, 86, 87, 89, 91, 96, 100, 101, 102, 103, 104, 106, 107, 108, 111, 112, 113, 116, 118, 119, 122, 124, 128, 129, 130, 131, 136, 138, 139, 141, 146, 147, 148, 149, 150, 153, 154, 155, 156, 161, 163, 165, 168), 'cv_scores': array([-12.63618, -15.67818, -13.72265, -14.9072 ]), 'avg_score': -14.236053460997397, 'feature_names': ('0', '1', '2', '3', '4', '5', '6', '10', '14', '15', '17', '18', '19', '21', '22', '25', '26', '27', '28', '31', '34', '35', '36', '37', '38', '39', '40', '42', '43', '44', '45', '48', '49', '53', '56', '62', '63', '64', '65', '66', '67', '70', '71', '73', '77', '79', '80', '81', '83', '86', '87', '89', '91', '96', '100', '101', '102', '103', '104', '106', '107', '108', '111', '112', '113', '116', '118', '119', '122', '124', '128', '129', '130', '131', '136', '138', '139', '141', '146', '147', '148', '149', '150', '153', '154', '155', '156', '161', '163', '165', '168')}, 92: {'feature_idx': (0, 1, 2, 3, 4, 5, 6, 10, 14, 15, 17, 18, 19, 21, 22, 25, 26, 27, 28, 31, 34, 35, 36, 37, 38, 39, 40, 42, 43, 44, 45, 48, 49, 53, 56, 62, 63, 64, 65, 66, 67, 70, 71, 73, 77, 79, 80, 81, 83, 86, 87, 89, 91, 96, 100, 101, 102, 103, 104, 106, 107, 108, 111, 112, 113, 116, 118, 119, 122, 124, 128, 129, 130, 131, 134, 136, 138, 139, 141, 146, 147, 148, 149, 150, 153, 154, 155, 156, 161, 163, 165, 168), 'cv_scores': array([-12.63597, -15.678  , -13.72512, -14.90755]), 'avg_score': -14.236658025413018, 'feature_names': ('0', '1', '2', '3', '4', '5', '6', '10', '14', '15', '17', '18', '19', '21', '22', '25', '26', '27', '28', '31', '34', '35', '36', '37', '38', '39', '40', '42', '43', '44', '45', '48', '49', '53', '56', '62', '63', '64', '65', '66', '67', '70', '71', '73', '77', '79', '80', '81', '83', '86', '87', '89', '91', '96', '100', '101', '102', '103', '104', '106', '107', '108', '111', '112', '113', '116', '118', '119', '122', '124', '128', '129', '130', '131', '134', '136', '138', '139', '141', '146', '147', '148', '149', '150', '153', '154', '155', '156', '161', '163', '165', '168')}, 93: {'feature_idx': (0, 1, 2, 3, 4, 5, 6, 10, 14, 15, 17, 18, 19, 21, 22, 25, 26, 27, 28, 31, 34, 35, 36, 37, 38, 39, 40, 42, 43, 44, 45, 48, 49, 53, 56, 62, 63, 64, 65, 66, 67, 70, 71, 73, 77, 79, 80, 81, 83, 86, 87, 89, 91, 96, 100, 101, 102, 103, 104, 106, 107, 108, 111, 112, 113, 116, 118, 119, 122, 124, 128, 129, 130, 131, 134, 136, 138, 139, 141, 146, 147, 148, 149, 150, 151, 153, 154, 155, 156, 161, 163, 165, 168), 'cv_scores': array([-12.63601, -15.67529, -13.73324, -14.90468]), 'avg_score': -14.237305185878284, 'feature_names': ('0', '1', '2', '3', '4', '5', '6', '10', '14', '15', '17', '18', '19', '21', '22', '25', '26', '27', '28', '31', '34', '35', '36', '37', '38', '39', '40', '42', '43', '44', '45', '48', '49', '53', '56', '62', '63', '64', '65', '66', '67', '70', '71', '73', '77', '79', '80', '81', '83', '86', '87', '89', '91', '96', '100', '101', '102', '103', '104', '106', '107', '108', '111', '112', '113', '116', '118', '119', '122', '124', '128', '129', '130', '131', '134', '136', '138', '139', '141', '146', '147', '148', '149', '150', '151', '153', '154', '155', '156', '161', '163', '165', '168')}, 94: {'feature_idx': (0, 1, 2, 3, 4, 5, 6, 10, 14, 15, 17, 18, 19, 21, 22, 25, 26, 27, 28, 31, 34, 35, 36, 37, 38, 39, 40, 42, 43, 44, 45, 48, 49, 53, 56, 62, 63, 64, 65, 66, 67, 70, 71, 73, 77, 79, 80, 81, 83, 86, 87, 89, 91, 96, 100, 101, 102, 103, 104, 106, 107, 108, 111, 112, 113, 116, 118, 119, 122, 124, 128, 129, 130, 131, 134, 136, 138, 139, 141, 143, 146, 147, 148, 149, 150, 151, 153, 154, 155, 156, 161, 163, 165, 168), 'cv_scores': array([-12.61704, -15.69423, -13.72383, -14.90099]), 'avg_score': -14.234021641912147, 'feature_names': ('0', '1', '2', '3', '4', '5', '6', '10', '14', '15', '17', '18', '19', '21', '22', '25', '26', '27', '28', '31', '34', '35', '36', '37', '38', '39', '40', '42', '43', '44', '45', '48', '49', '53', '56', '62', '63', '64', '65', '66', '67', '70', '71', '73', '77', '79', '80', '81', '83', '86', '87', '89', '91', '96', '100', '101', '102', '103', '104', '106', '107', '108', '111', '112', '113', '116', '118', '119', '122', '124', '128', '129', '130', '131', '134', '136', '138', '139', '141', '143', '146', '147', '148', '149', '150', '151', '153', '154', '155', '156', '161', '163', '165', '168')}, 95: {'feature_idx': (0, 1, 2, 3, 4, 5, 6, 10, 14, 15, 17, 18, 19, 21, 22, 25, 26, 27, 28, 31, 34, 35, 36, 37, 38, 39, 40, 42, 43, 44, 45, 46, 48, 49, 53, 56, 62, 63, 64, 65, 66, 67, 70, 71, 73, 77, 79, 80, 81, 83, 86, 87, 89, 91, 96, 100, 101, 102, 103, 104, 106, 107, 108, 111, 112, 113, 116, 118, 119, 122, 124, 128, 129, 130, 131, 134, 136, 138, 139, 141, 143, 146, 147, 148, 149, 150, 151, 153, 154, 155, 156, 161, 163, 165, 168), 'cv_scores': array([-12.61561, -15.69944, -13.72205, -14.90093]), 'avg_score': -14.234509669325035, 'feature_names': ('0', '1', '2', '3', '4', '5', '6', '10', '14', '15', '17', '18', '19', '21', '22', '25', '26', '27', '28', '31', '34', '35', '36', '37', '38', '39', '40', '42', '43', '44', '45', '46', '48', '49', '53', '56', '62', '63', '64', '65', '66', '67', '70', '71', '73', '77', '79', '80', '81', '83', '86', '87', '89', '91', '96', '100', '101', '102', '103', '104', '106', '107', '108', '111', '112', '113', '116', '118', '119', '122', '124', '128', '129', '130', '131', '134', '136', '138', '139', '141', '143', '146', '147', '148', '149', '150', '151', '153', '154', '155', '156', '161', '163', '165', '168')}, 96: {'feature_idx': (0, 1, 2, 3, 4, 5, 6, 10, 14, 15, 17, 18, 19, 21, 22, 25, 26, 27, 28, 31, 34, 35, 36, 37, 38, 39, 40, 42, 43, 44, 45, 46, 48, 49, 53, 56, 62, 63, 64, 65, 66, 67, 70, 71, 73, 77, 79, 80, 81, 83, 86, 87, 89, 91, 96, 100, 101, 102, 103, 104, 106, 107, 108, 111, 112, 113, 116, 118, 119, 122, 124, 128, 129, 130, 131, 134, 135, 136, 138, 139, 141, 143, 146, 147, 148, 149, 150, 151, 153, 154, 155, 156, 161, 163, 165, 168), 'cv_scores': array([-12.61586, -15.69937, -13.72323, -14.90124]), 'avg_score': -14.234923603959968, 'feature_names': ('0', '1', '2', '3', '4', '5', '6', '10', '14', '15', '17', '18', '19', '21', '22', '25', '26', '27', '28', '31', '34', '35', '36', '37', '38', '39', '40', '42', '43', '44', '45', '46', '48', '49', '53', '56', '62', '63', '64', '65', '66', '67', '70', '71', '73', '77', '79', '80', '81', '83', '86', '87', '89', '91', '96', '100', '101', '102', '103', '104', '106', '107', '108', '111', '112', '113', '116', '118', '119', '122', '124', '128', '129', '130', '131', '134', '135', '136', '138', '139', '141', '143', '146', '147', '148', '149', '150', '151', '153', '154', '155', '156', '161', '163', '165', '168')}, 97: {'feature_idx': (0, 1, 2, 3, 4, 5, 6, 10, 14, 15, 17, 18, 19, 21, 22, 25, 26, 27, 28, 31, 34, 35, 36, 37, 38, 39, 40, 42, 43, 44, 45, 46, 48, 49, 53, 56, 62, 63, 64, 65, 66, 67, 70, 71, 73, 77, 79, 80, 81, 83, 86, 87, 89, 91, 96, 100, 101, 102, 103, 104, 106, 107, 108, 111, 112, 113, 116, 118, 119, 122, 124, 128, 129, 130, 131, 134, 135, 136, 138, 139, 141, 143, 146, 147, 148, 149, 150, 151, 152, 153, 154, 155, 156, 161, 163, 165, 168), 'cv_scores': array([-12.61364, -15.6966 , -13.72095, -14.91024]), 'avg_score': -14.235358153140506, 'feature_names': ('0', '1', '2', '3', '4', '5', '6', '10', '14', '15', '17', '18', '19', '21', '22', '25', '26', '27', '28', '31', '34', '35', '36', '37', '38', '39', '40', '42', '43', '44', '45', '46', '48', '49', '53', '56', '62', '63', '64', '65', '66', '67', '70', '71', '73', '77', '79', '80', '81', '83', '86', '87', '89', '91', '96', '100', '101', '102', '103', '104', '106', '107', '108', '111', '112', '113', '116', '118', '119', '122', '124', '128', '129', '130', '131', '134', '135', '136', '138', '139', '141', '143', '146', '147', '148', '149', '150', '151', '152', '153', '154', '155', '156', '161', '163', '165', '168')}, 98: {'feature_idx': (0, 1, 2, 3, 4, 5, 6, 10, 14, 15, 17, 18, 19, 21, 22, 25, 26, 27, 28, 31, 34, 35, 36, 37, 38, 39, 40, 42, 43, 44, 45, 46, 48, 49, 53, 56, 62, 63, 64, 65, 66, 67, 70, 71, 73, 77, 79, 80, 81, 82, 83, 86, 87, 89, 91, 96, 100, 101, 102, 103, 104, 106, 107, 108, 111, 112, 113, 116, 118, 119, 122, 124, 128, 129, 130, 131, 134, 135, 136, 138, 139, 141, 143, 146, 147, 148, 149, 150, 151, 152, 153, 154, 155, 156, 161, 163, 165, 168), 'cv_scores': array([-12.6128 , -15.70145, -13.7202 , -14.90946]), 'avg_score': -14.235977111789339, 'feature_names': ('0', '1', '2', '3', '4', '5', '6', '10', '14', '15', '17', '18', '19', '21', '22', '25', '26', '27', '28', '31', '34', '35', '36', '37', '38', '39', '40', '42', '43', '44', '45', '46', '48', '49', '53', '56', '62', '63', '64', '65', '66', '67', '70', '71', '73', '77', '79', '80', '81', '82', '83', '86', '87', '89', '91', '96', '100', '101', '102', '103', '104', '106', '107', '108', '111', '112', '113', '116', '118', '119', '122', '124', '128', '129', '130', '131', '134', '135', '136', '138', '139', '141', '143', '146', '147', '148', '149', '150', '151', '152', '153', '154', '155', '156', '161', '163', '165', '168')}, 99: {'feature_idx': (0, 1, 2, 3, 4, 5, 6, 10, 14, 15, 17, 18, 19, 21, 22, 25, 26, 27, 28, 31, 34, 35, 36, 37, 38, 39, 40, 42, 43, 44, 45, 46, 48, 49, 53, 56, 62, 63, 64, 65, 66, 67, 70, 71, 73, 77, 79, 80, 81, 82, 83, 86, 87, 89, 91, 96, 100, 101, 102, 103, 104, 106, 107, 108, 111, 112, 113, 116, 118, 119, 122, 124, 128, 129, 130, 131, 134, 135, 136, 138, 139, 141, 143, 146, 147, 148, 149, 150, 151, 152, 153, 154, 155, 156, 161, 163, 165, 168, 169), 'cv_scores': array([-12.61279, -15.70212, -13.72158, -14.90981]), 'avg_score': -14.23657370836351, 'feature_names': ('0', '1', '2', '3', '4', '5', '6', '10', '14', '15', '17', '18', '19', '21', '22', '25', '26', '27', '28', '31', '34', '35', '36', '37', '38', '39', '40', '42', '43', '44', '45', '46', '48', '49', '53', '56', '62', '63', '64', '65', '66', '67', '70', '71', '73', '77', '79', '80', '81', '82', '83', '86', '87', '89', '91', '96', '100', '101', '102', '103', '104', '106', '107', '108', '111', '112', '113', '116', '118', '119', '122', '124', '128', '129', '130', '131', '134', '135', '136', '138', '139', '141', '143', '146', '147', '148', '149', '150', '151', '152', '153', '154', '155', '156', '161', '163', '165', '168', '169')}, 100: {'feature_idx': (0, 1, 2, 3, 4, 5, 6, 10, 14, 15, 17, 18, 19, 21, 22, 25, 26, 27, 28, 30, 31, 34, 35, 36, 37, 38, 39, 40, 42, 43, 44, 45, 46, 48, 49, 53, 56, 62, 63, 64, 65, 66, 67, 70, 71, 73, 77, 79, 80, 81, 82, 83, 86, 87, 89, 91, 96, 100, 101, 102, 103, 104, 106, 107, 108, 111, 112, 113, 116, 118, 119, 122, 124, 128, 129, 130, 131, 134, 135, 136, 138, 139, 141, 143, 146, 147, 148, 149, 150, 151, 152, 153, 154, 155, 156, 161, 163, 165, 168, 169), 'cv_scores': array([-12.6128 , -15.704  , -13.72271, -14.90972]), 'avg_score': -14.237308120241192, 'feature_names': ('0', '1', '2', '3', '4', '5', '6', '10', '14', '15', '17', '18', '19', '21', '22', '25', '26', '27', '28', '30', '31', '34', '35', '36', '37', '38', '39', '40', '42', '43', '44', '45', '46', '48', '49', '53', '56', '62', '63', '64', '65', '66', '67', '70', '71', '73', '77', '79', '80', '81', '82', '83', '86', '87', '89', '91', '96', '100', '101', '102', '103', '104', '106', '107', '108', '111', '112', '113', '116', '118', '119', '122', '124', '128', '129', '130', '131', '134', '135', '136', '138', '139', '141', '143', '146', '147', '148', '149', '150', '151', '152', '153', '154', '155', '156', '161', '163', '165', '168', '169')}}\n"
     ]
    }
   ],
   "source": [
    "print('best combination (ACC: %.3f): %s\\n' % (sfs.k_score_, sfs.k_feature_idx_))\n",
    "print('all subsets:\\n', sfs.subsets_)"
   ]
  },
  {
   "cell_type": "code",
   "execution_count": 54,
   "metadata": {},
   "outputs": [
    {
     "data": {
      "image/png": "[encoded data removed]",
      "text/plain": [
       "<Figure size 432x288 with 1 Axes>"
      ]
     },
     "metadata": {
      "needs_background": "light"
     },
     "output_type": "display_data"
    }
   ],
   "source": [
    "plot_sfs(sfs.get_metric_dict(), kind='std_err');"
   ]
  },
  {
   "cell_type": "code",
   "execution_count": 31,
   "metadata": {},
   "outputs": [
    {
     "data": {
      "image/png": "[encoded data removed]",
      "text/plain": [
       "<Figure size 432x288 with 1 Axes>"
      ]
     },
     "metadata": {
      "needs_background": "light"
     },
     "output_type": "display_data"
    }
   ],
   "source": [
    "fig1 = plot_sfs(sfs.get_metric_dict(), kind='std_err')\n",
    "plt.title('Sequential Forward Selection (w. StdDev)')\n",
    "plt.grid()\n",
    "plt.show()"
   ]
  },
  {
   "cell_type": "code",
   "execution_count": 67,
   "metadata": {},
   "outputs": [
    {
     "data": {
      "image/png": "[encoded data removed]",
      "text/plain": [
       "<Figure size 432x288 with 1 Axes>"
      ]
     },
     "metadata": {
      "needs_background": "light"
     },
     "output_type": "display_data"
    }
   ],
   "source": [
    "fig1 = plot_sfs(sfs.get_metric_dict(), kind='std_err')\n",
    "plt.title('Sequential Forward Selection (w. StdDev)')\n",
    "plt.grid()\n",
    "plt.show()"
   ]
  },
  {
   "cell_type": "code",
   "execution_count": 43,
   "metadata": {},
   "outputs": [
    {
     "data": {
      "text/plain": [
       "array([  0,   1,   2,   3,   4,   5,   6,   7,   8,   9,  10,  11,  12,  13,  14,  15,  16,  17,  18,  19,\n",
       "        20,  21,  22,  23,  24,  25,  26,  27,  28,  29,  30,  31,  32,  33,  34,  35,  36,  37,  38,  39,\n",
       "        40,  41,  42,  43,  44,  45,  46,  47,  48,  49,  50,  51,  52,  53,  54,  55,  56,  57,  58,  59,\n",
       "        60,  61,  62,  63,  64,  65,  66,  67,  68,  69,  70,  71,  72,  73,  74,  75,  76,  77,  78,  79,\n",
       "        80,  81,  82,  83,  84,  85,  86,  87,  88,  89,  90,  91,  92,  93,  94,  95,  96,  97,  98,  99,\n",
       "       100, 101, 102, 103, 104, 105, 106, 107, 108, 109, 110, 111, 112, 113, 114, 115, 116, 117, 118, 119,\n",
       "       120, 121, 122, 123, 124, 125, 126, 127, 128, 129, 130, 131, 132, 133, 134, 135, 136, 137, 138, 139,\n",
       "       140, 141, 142, 143, 144, 145, 146, 147, 148, 149, 150, 151, 152, 153, 154, 155, 156, 157, 158, 159])"
      ]
     },
     "execution_count": 43,
     "metadata": {},
     "output_type": "execute_result"
    }
   ],
   "source": [
    "np.arange(160)"
   ]
  },
  {
   "cell_type": "code",
   "execution_count": 47,
   "metadata": {},
   "outputs": [
    {
     "data": {
      "image/png": "[encoded data removed]",
      "text/plain": [
       "<Figure size 432x288 with 1 Axes>"
      ]
     },
     "metadata": {
      "needs_background": "light"
     },
     "output_type": "display_data"
    }
   ],
   "source": [
    "fig1 = plot_sfs(sfs.get_metric_dict(), kind='std_err')\n",
    "plt.title('Sequential Forward Selection (w. StdDev)')\n",
    "pos = np.arange(160)\n",
    "ticks = plt.xticks(pos[::10], pos[::10], rotation=90)\n",
    "plt.grid()\n",
    "plt.show() #full 72% dataset\n"
   ]
  },
  {
   "cell_type": "code",
   "execution_count": 181,
   "metadata": {},
   "outputs": [],
   "source": [
    "feats_se_100 = [0, 1, 2, 3, 4, 5, 6, 9, 10, 13, 14, 15, 17, 19, 21, 23, 25, 26, 27, 28, 30, 31, 32, 33, 34, 35, 36, 37, 40, 41, 43, 44, 45, 46, 47, 48, 49, 50, 52, 56, 59, 63, 66, 67, 68, 70, 71, 73, 75, 76, 80, 83, 84, 85, 89, 91, 92, 94, 95, 99, 100, 103, 104, 107, 109, 110, 111, 114, 115, 119, 120, 123, 127, 130, 131, 133, 135, 137, 138, 143, 145, 146, 153, 154, 155, 156, 157, 158, 159, 160, 161, 162, 168, 172, 173, 174, 175, 176, 177, 179]"
   ]
  },
  {
   "cell_type": "code",
   "execution_count": 193,
   "metadata": {},
   "outputs": [],
   "source": [
    "cols_fe_100 = x.columns[feats_se_100]"
   ]
  },
  {
   "cell_type": "code",
   "execution_count": 186,
   "metadata": {},
   "outputs": [],
   "source": [
    "feats_se_80 = [0, 1, 2, 3, 4, 6, 9, 13, 14, 15, 19, 21, 23, 26, 27, 28, 31, 32, 34, 35, 36, 37, 40, 41, 43, 44, 45, 46, 47, 48, 50, 52, 56, 59, 63, 66, 67, 68, 70, 71, 75, 76, 80, 83, 89, 92, 94, 99, 100, 104, 107, 109, 110, 111, 114, 115, 120, 123, 127, 130, 131, 135, 137, 138, 143, 146, 153, 154, 155, 156, 157, 159, 160, 161, 162, 168, 173, 174, 177, 179]"
   ]
  },
  {
   "cell_type": "code",
   "execution_count": 187,
   "metadata": {},
   "outputs": [
    {
     "data": {
      "text/plain": [
       "Index(['feature_1', 'feature_2', 'feature_3', 'transactions_count',\n",
       "       'subsector_id_nunique', 'merchant_category_id_nunique',\n",
       "       'purchase_Month_max', 'purchase_Week_max', 'purchase_Dayofweek_mean',\n",
       "       'purchase_Dayofweek_min', 'purchase_Day_min', 'purchase_Hour_nunique',\n",
       "       'purchase_Hour_min', 'purchase_amount_max', 'purchase_amount_min',\n",
       "       'purchase_amount_mean', 'installments_sum', 'installments_max',\n",
       "       'installments_var', 'installments_skew', 'month_lag_max',\n",
       "       'month_lag_min', 'month_lag_skew', 'month_diff_mean', 'month_diff_skew',\n",
       "       'purchased_on_weekend_mean', 'category_1_mean', 'category_2_mean',\n",
       "       'category_3_mean', 'card_id_count', 'price_max', 'price_var',\n",
       "       'Mothers_Day_2018_mean', 'duration_max', 'amount_month_ratio_min',\n",
       "       'amount_month_ratio_skew', 'category_2_mean_mean',\n",
       "       'category_3_mean_mean', 'purchase_date_average',\n",
       "       'purchase_date_uptonow', 'merchant_id_nunique_old',\n",
       "       'merchant_category_id_nunique_old', 'purchase_Month_max_old',\n",
       "       'purchase_Week_min_old', 'purchase_Hour_nunique_old',\n",
       "       'purchase_Hour_max_old', 'purchase_amount_max_old',\n",
       "       'installments_sum_old', 'installments_max_old', 'month_lag_max_old',\n",
       "       'month_lag_var_old', 'month_diff_max', 'month_diff_min',\n",
       "       'month_diff_mean_old', 'authorized_flag_mean',\n",
       "       'purchased_on_weekend_mean_old', 'price_sum', 'price_min_old',\n",
       "       'fathers_day_2017_mean', 'Black_Friday_2017_mean_old',\n",
       "       'Mothers_Day_2018_mean_old', 'duration_var_old',\n",
       "       'amount_month_ratio_mean_old', 'amount_month_ratio_min_old',\n",
       "       'category_3_mean_mean_old', 'purchase_date_uptonow_old',\n",
       "       'days_feature1_ratio', 'days_feature2_ratio', 'days_feature3_ratio',\n",
       "       'feature_sum', 'feature_mean', 'feature_min', 'feature_var',\n",
       "       'card_id_total', 'card_id_count_total', 'purchase_amount_sum_ratio',\n",
       "       'month_diff_ratio', 'installments_total', 'CLV', 'CLV_ratio'],\n",
       "      dtype='object')"
      ]
     },
     "execution_count": 187,
     "metadata": {},
     "output_type": "execute_result"
    }
   ],
   "source": [
    "x.columns[feats_se_80]"
   ]
  },
  {
   "cell_type": "code",
   "execution_count": 188,
   "metadata": {},
   "outputs": [],
   "source": [
    "cols_fe_80 = x.columns[feats_se_80]"
   ]
  },
  {
   "cell_type": "code",
   "execution_count": 41,
   "metadata": {},
   "outputs": [],
   "source": [
    "fe_100 = [0, 1, 2, 3, 4, 5, 6, 9, 10, 13, 14, 15, 17, 19, 21, 23, 25, 26, 27, 28, 30, 31, 32, 33, 34, 35, 36, 37, 40, 41, 43, 44, 45, 46, 47, 48, 49, 50, 52, 56, 59, 63, 66, 67, 68, 70, 71, 73, 75, 76, 80, 83, 84, 85, 89, 91, 92, 94, 95, 99, 100, 103, 104, 107, 109, 110, 111, 114, 115, 119, 120, 123, 127, 130, 131, 133, 135, 137, 138, 143, 145, 146, 153, 154, 155, 156, 157, 158, 159, 160, 161, 162, 168, 172, 173, 174, 175, 176, 177, 179]"
   ]
  },
  {
   "cell_type": "code",
   "execution_count": 42,
   "metadata": {},
   "outputs": [],
   "source": [
    "cols_fe_100 = x.columns[fe_100]"
   ]
  },
  {
   "cell_type": "code",
   "execution_count": 43,
   "metadata": {},
   "outputs": [
    {
     "data": {
      "text/plain": [
       "Index(['feature_1', 'feature_2', 'feature_3', 'transactions_count',\n",
       "       'subsector_id_nunique', 'merchant_id_nunique',\n",
       "       'merchant_category_id_nunique', 'purchase_Month_max',\n",
       "       'purchase_Week_nunique', 'purchase_Week_max', 'purchase_Dayofweek_mean',\n",
       "       'purchase_Dayofweek_min', 'purchase_Day_nunique', 'purchase_Day_min',\n",
       "       'purchase_Hour_nunique', 'purchase_Hour_min', 'purchase_amount_sum',\n",
       "       'purchase_amount_max', 'purchase_amount_min', 'purchase_amount_mean',\n",
       "       'purchase_amount_skew', 'installments_sum', 'installments_max',\n",
       "       'installments_mean', 'installments_var', 'installments_skew',\n",
       "       'month_lag_max', 'month_lag_min', 'month_lag_skew', 'month_diff_mean',\n",
       "       'month_diff_skew', 'purchased_on_weekend_mean', 'category_1_mean',\n",
       "       'category_2_mean', 'category_3_mean', 'card_id_count', 'price_mean',\n",
       "       'price_max', 'price_var', 'Mothers_Day_2018_mean', 'duration_max',\n",
       "       'amount_month_ratio_min', 'amount_month_ratio_skew',\n",
       "       'category_2_mean_mean', 'category_3_mean_mean', 'purchase_date_average',\n",
       "       'purchase_date_uptonow', 'transactions_count_old',\n",
       "       'merchant_id_nunique_old', 'merchant_category_id_nunique_old',\n",
       "       'purchase_Month_max_old', 'purchase_Week_min_old',\n",
       "       'purchase_Week_max_old', 'purchase_Dayofweek_mean_old',\n",
       "       'purchase_Hour_nunique_old', 'purchase_Hour_min_old',\n",
       "       'purchase_Hour_max_old', 'purchase_amount_max_old',\n",
       "       'purchase_amount_min_old', 'installments_sum_old',\n",
       "       'installments_max_old', 'installments_skew_old', 'month_lag_max_old',\n",
       "       'month_lag_var_old', 'month_diff_max', 'month_diff_min',\n",
       "       'month_diff_mean_old', 'authorized_flag_mean',\n",
       "       'purchased_on_weekend_mean_old', 'card_id_count_old', 'price_sum',\n",
       "       'price_min_old', 'fathers_day_2017_mean', 'Black_Friday_2017_mean_old',\n",
       "       'Mothers_Day_2018_mean_old', 'duration_min_old', 'duration_var_old',\n",
       "       'amount_month_ratio_mean_old', 'amount_month_ratio_min_old',\n",
       "       'category_3_mean_mean_old', 'purchase_date_average_old',\n",
       "       'purchase_date_uptonow_old', 'days_feature1_ratio',\n",
       "       'days_feature2_ratio', 'days_feature3_ratio', 'feature_sum',\n",
       "       'feature_mean', 'feature_max', 'feature_min', 'feature_var',\n",
       "       'card_id_total', 'card_id_count_total', 'purchase_amount_sum_ratio',\n",
       "       'new_last_buy', 'month_diff_ratio', 'installments_total',\n",
       "       'installments_ratio', 'price_total', 'CLV', 'CLV_ratio'],\n",
       "      dtype='object')"
      ]
     },
     "execution_count": 43,
     "metadata": {},
     "output_type": "execute_result"
    }
   ],
   "source": [
    "cols_fe_100"
   ]
  },
  {
   "cell_type": "code",
   "execution_count": 55,
   "metadata": {},
   "outputs": [],
   "source": [
    "fe_160 = [0, 1, 2, 3, 4, 5, 6, 7, 8, 9, 10, 11, 12, 13, 14, 15, 16, 17, 18, 19, 20, 21, 22, 23, 24, 25, 26, 27, 28, 30, 31, 32, 33, 34, 35, 36, 37, 38, 39, 40, 41, 42, 43, 44, 45, 46, 47, 48, 49, 50, 51, 52, 53, 55, 56, 58, 59, 61, 63, 65, 66, 67, 68, 69, 70, 71, 72, 73, 74, 75, 76, 77, 78, 79, 80, 81, 82, 83, 84, 85, 86, 87, 88, 89, 90, 91, 92, 95, 97, 98, 99, 100, 101, 102, 103, 104, 105, 106, 107, 108, 109, 110, 111, 112, 113, 114, 115, 116, 117, 118, 119, 120, 121, 123, 125, 126, 127, 128, 129, 130, 131, 132, 133, 135, 136, 137, 138, 139, 141, 142, 143, 144, 145, 146, 147, 148, 150, 152, 153, 154, 155, 156, 157, 158, 159, 160, 161, 162, 163, 167, 168, 170, 172, 173, 174, 175, 176, 177, 178, 179]"
   ]
  },
  {
   "cell_type": "code",
   "execution_count": 56,
   "metadata": {},
   "outputs": [],
   "source": [
    "cols_fe_160 = x.columns[fe_160]"
   ]
  },
  {
   "cell_type": "code",
   "execution_count": 58,
   "metadata": {},
   "outputs": [
    {
     "data": {
      "text/plain": [
       "array(['feature_1', 'feature_2', 'feature_3', 'transactions_count', 'subsector_id_nunique',\n",
       "       'merchant_id_nunique', 'merchant_category_id_nunique', 'purchase_Month_mean', 'purchase_Month_min',\n",
       "       'purchase_Month_max', 'purchase_Week_nunique', 'purchase_Week_mean', 'purchase_Week_min',\n",
       "       'purchase_Week_max', 'purchase_Dayofweek_mean', 'purchase_Dayofweek_min', 'purchase_Dayofweek_max',\n",
       "       'purchase_Day_nunique', 'purchase_Day_mean', 'purchase_Day_min', 'purchase_Day_max',\n",
       "       'purchase_Hour_nunique', 'purchase_Hour_mean', 'purchase_Hour_min', 'purchase_Hour_max',\n",
       "       'purchase_amount_sum', 'purchase_amount_max', 'purchase_amount_min', 'purchase_amount_mean',\n",
       "       'purchase_amount_skew', 'installments_sum', 'installments_max', 'installments_mean',\n",
       "       'installments_var', 'installments_skew', 'month_lag_max', 'month_lag_min', 'month_lag_mean',\n",
       "       'month_lag_var', 'month_lag_skew', 'month_diff_mean', 'month_diff_var', 'month_diff_skew',\n",
       "       'purchased_on_weekend_mean', 'category_1_mean', 'category_2_mean', 'category_3_mean', 'card_id_count',\n",
       "       'price_mean', 'price_max', 'price_min', 'price_var', 'Christmas_Day_2017_mean',\n",
       "       'Black_Friday_2017_mean', 'Mothers_Day_2018_mean', 'duration_min', 'duration_max', 'duration_skew',\n",
       "       'amount_month_ratio_min', 'amount_month_ratio_var', 'amount_month_ratio_skew', 'category_2_mean_mean',\n",
       "       'category_3_mean_mean', 'purchase_date_diff', 'purchase_date_average', 'purchase_date_uptonow',\n",
       "       'purchase_date_uptomin', 'transactions_count_old', 'subsector_id_nunique_old',\n",
       "       'merchant_id_nunique_old', 'merchant_category_id_nunique_old', 'purchase_Month_nunique',\n",
       "       'purchase_Month_mean_old', 'purchase_Month_min_old', 'purchase_Month_max_old',\n",
       "       'purchase_Week_nunique_old', 'purchase_Week_mean_old', 'purchase_Week_min_old',\n",
       "       'purchase_Week_max_old', 'purchase_Dayofweek_mean_old', 'purchase_Day_nunique_old',\n",
       "       'purchase_Day_mean_old', 'purchase_Day_min_old', 'purchase_Hour_nunique_old',\n",
       "       'purchase_Hour_mean_old', 'purchase_Hour_min_old', 'purchase_Hour_max_old', 'purchase_amount_min_old',\n",
       "       'purchase_amount_var_old', 'purchase_amount_skew_old', 'installments_sum_old', 'installments_max_old',\n",
       "       'installments_mean_old', 'installments_var_old', 'installments_skew_old', 'month_lag_max_old',\n",
       "       'month_lag_min_old', 'month_lag_mean_old', 'month_lag_var_old', 'month_lag_skew_old',\n",
       "       'month_diff_max', 'month_diff_min', 'month_diff_mean_old', 'month_diff_var_old',\n",
       "       'month_diff_skew_old', 'authorized_flag_mean', 'purchased_on_weekend_mean_old', 'category_1_mean_old',\n",
       "       'category_2_mean_old', 'category_3_mean_old', 'card_id_count_old', 'price_sum', 'price_mean_old',\n",
       "       'price_min_old', 'Christmas_Day_2017_mean_old', 'Mothers_Day_2017_mean', 'fathers_day_2017_mean',\n",
       "       'Children_day_2017_mean_old', 'Valentine_Day_2017_mean', 'Black_Friday_2017_mean_old',\n",
       "       'Mothers_Day_2018_mean_old', 'duration_mean_old', 'duration_min_old', 'duration_var_old',\n",
       "       'duration_skew_old', 'amount_month_ratio_mean_old', 'amount_month_ratio_min_old',\n",
       "       'amount_month_ratio_max_old', 'amount_month_ratio_skew_old', 'category_2_mean_mean_old',\n",
       "       'category_3_mean_mean_old', 'purchase_date_diff_old', 'purchase_date_average_old',\n",
       "       'purchase_date_uptonow_old', 'purchase_date_uptomin_old', 'quarter', 'days_feature1', 'days_feature3',\n",
       "       'days_feature1_ratio', 'days_feature2_ratio', 'days_feature3_ratio', 'feature_sum', 'feature_mean',\n",
       "       'feature_max', 'feature_min', 'feature_var', 'card_id_total', 'card_id_count_total',\n",
       "       'card_id_count_ratio', 'purchase_amount_total_min', 'purchase_amount_sum_ratio', 'new_first_buy',\n",
       "       'new_last_buy', 'month_diff_ratio', 'installments_total', 'installments_ratio', 'price_total', 'CLV',\n",
       "       'CLV_old', 'CLV_ratio'], dtype=object)"
      ]
     },
     "execution_count": 58,
     "metadata": {},
     "output_type": "execute_result"
    }
   ],
   "source": [
    "cols_fe_160.values"
   ]
  },
  {
   "cell_type": "code",
   "execution_count": 59,
   "metadata": {},
   "outputs": [
    {
     "data": {
      "text/plain": [
       "160"
      ]
     },
     "execution_count": 59,
     "metadata": {},
     "output_type": "execute_result"
    }
   ],
   "source": [
    "len(fe_160)"
   ]
  },
  {
   "cell_type": "code",
   "execution_count": 66,
   "metadata": {},
   "outputs": [
    {
     "data": {
      "text/plain": [
       "Index(['subsector_id_nunique', 'purchase_Month_max', 'purchase_Week_max',\n",
       "       'purchase_Dayofweek_min', 'purchase_Day_min', 'purchase_Hour_min',\n",
       "       'purchase_amount_max', 'installments_sum', 'installments_mean',\n",
       "       'installments_var', 'month_lag_max', 'month_lag_min', 'month_lag_skew',\n",
       "       'month_diff_mean', 'month_diff_skew', 'purchased_on_weekend_mean',\n",
       "       'category_2_mean', 'price_max', 'Mothers_Day_2018_mean',\n",
       "       'amount_month_ratio_skew', 'purchase_date_uptonow',\n",
       "       'merchant_category_id_nunique_old', 'purchase_Month_max_old',\n",
       "       'purchase_Week_min_old', 'purchase_Hour_nunique_old',\n",
       "       'installments_sum_old', 'installments_max_old', 'month_diff_min',\n",
       "       'month_diff_mean_old', 'authorized_flag_mean',\n",
       "       'purchased_on_weekend_mean_old', 'category_1_mean_old',\n",
       "       'fathers_day_2017_mean', 'Mothers_Day_2018_mean_old',\n",
       "       'amount_month_ratio_min_old', 'purchase_date_uptonow_old',\n",
       "       'feature_mean', 'feature_min', 'feature_var', 'month_diff_ratio'],\n",
       "      dtype='object')"
      ]
     },
     "execution_count": 66,
     "metadata": {},
     "output_type": "execute_result"
    }
   ],
   "source": [
    "fe_40 = [4, 9, 13, 15, 19, 23, 26, 31, 33, 34, 36, 37, 40, 41, 43, 44, 46, 50, 56, 66, 71, 76, 80, 83, 89, 99, 100, 110, 111, 114, 115, 116, 127, 131, 138, 146, 157, 159, 160, 173]\n",
    "cols_fe_40 = x.columns[fe_40]\n",
    "cols_fe_40"
   ]
  },
  {
   "cell_type": "code",
   "execution_count": 39,
   "metadata": {},
   "outputs": [
    {
     "data": {
      "text/plain": [
       "array(['feature_1', 'feature_2', 'feature_3', 'transactions_count', 'subsector_id_nunique',\n",
       "       'merchant_id_nunique', 'merchant_category_id_nunique', 'purchase_Month_mean', 'purchase_Month_min',\n",
       "       'purchase_Month_max', 'purchase_Week_nunique', 'purchase_Week_mean', 'purchase_Week_min',\n",
       "       'purchase_Week_max', 'purchase_Dayofweek_mean', 'purchase_Dayofweek_min', 'purchase_Dayofweek_max',\n",
       "       'purchase_Day_nunique', 'purchase_Day_mean', 'purchase_Day_min', 'purchase_Day_max',\n",
       "       'purchase_Hour_nunique', 'purchase_Hour_mean', 'purchase_Hour_min', 'purchase_Hour_max',\n",
       "       'purchase_amount_sum', 'purchase_amount_max', 'purchase_amount_min', 'purchase_amount_mean',\n",
       "       'purchase_amount_var', 'purchase_amount_skew', 'installments_sum', 'installments_max',\n",
       "       'installments_mean', 'installments_var', 'installments_skew', 'month_lag_max', 'month_lag_min',\n",
       "       'month_lag_mean', 'month_lag_var', 'month_lag_skew', 'month_diff_mean', 'month_diff_var',\n",
       "       'month_diff_skew', 'purchased_on_weekend_mean', 'category_1_mean', 'category_2_mean',\n",
       "       'category_3_mean', 'card_id_count', 'price_mean', 'price_max', 'price_min', 'Christmas_Day_2017_mean',\n",
       "       'Children_day_2017_mean', 'Black_Friday_2017_mean', 'Mothers_Day_2018_mean', 'duration_min',\n",
       "       'duration_var', 'duration_skew', 'amount_month_ratio_min', 'amount_month_ratio_max',\n",
       "       'amount_month_ratio_var', 'amount_month_ratio_skew', 'category_2_mean_mean', 'category_3_mean_mean',\n",
       "       'purchase_date_diff', 'purchase_date_average', 'purchase_date_uptonow', 'purchase_date_uptomin',\n",
       "       'transactions_count_old', 'subsector_id_nunique_old', 'merchant_id_nunique_old',\n",
       "       'merchant_category_id_nunique_old', 'purchase_Month_nunique', 'purchase_Month_mean_old',\n",
       "       'purchase_Month_min_old', 'purchase_Month_max_old', 'purchase_Week_nunique_old',\n",
       "       'purchase_Week_mean_old', 'purchase_Week_min_old', 'purchase_Week_max_old',\n",
       "       'purchase_Dayofweek_mean_old', 'purchase_Day_nunique_old', 'purchase_Day_mean_old',\n",
       "       'purchase_Day_min_old', 'purchase_Hour_nunique_old', 'purchase_Hour_mean_old',\n",
       "       'purchase_Hour_min_old', 'purchase_Hour_max_old', 'purchase_amount_min_old',\n",
       "       'purchase_amount_skew_old', 'installments_sum_old', 'installments_max_old', 'installments_mean_old',\n",
       "       'installments_var_old', 'installments_skew_old', 'month_lag_max_old', 'month_lag_min_old',\n",
       "       'month_lag_mean_old', 'month_lag_var_old', 'month_lag_skew_old', 'month_diff_max', 'month_diff_min',\n",
       "       'month_diff_mean_old', 'month_diff_var_old', 'month_diff_skew_old', 'authorized_flag_mean',\n",
       "       'purchased_on_weekend_mean_old', 'category_1_mean_old', 'category_2_mean_old', 'category_3_mean_old',\n",
       "       'card_id_count_old', 'price_mean_old', 'price_min_old', 'Christmas_Day_2017_mean_old',\n",
       "       'Mothers_Day_2017_mean', 'fathers_day_2017_mean', 'Children_day_2017_mean_old',\n",
       "       'Valentine_Day_2017_mean', 'Black_Friday_2017_mean_old', 'Mothers_Day_2018_mean_old',\n",
       "       'duration_mean_old', 'duration_min_old', 'duration_skew_old', 'amount_month_ratio_min_old',\n",
       "       'amount_month_ratio_skew_old', 'category_2_mean_mean_old', 'category_3_mean_mean_old',\n",
       "       'purchase_date_diff_old', 'purchase_date_average_old', 'purchase_date_uptonow_old',\n",
       "       'purchase_date_uptomin_old', 'quarter', 'elapsed_time', 'days_feature1', 'days_feature2',\n",
       "       'days_feature3', 'days_feature1_ratio', 'days_feature2_ratio', 'days_feature3_ratio', 'feature_sum',\n",
       "       'feature_mean', 'feature_max', 'feature_min', 'feature_var', 'card_id_total', 'card_id_count_total',\n",
       "       'card_id_count_ratio', 'purchase_amount_total_min', 'purchase_amount_sum_ratio', 'hist_first_buy',\n",
       "       'new_first_buy', 'hist_last_buy', 'new_last_buy', 'month_diff_ratio', 'installments_total',\n",
       "       'installments_ratio', 'price_total', 'CLV', 'CLV_ratio'], dtype=object)"
      ]
     },
     "execution_count": 39,
     "metadata": {},
     "output_type": "execute_result"
    }
   ],
   "source": [
    "full_160 = [0, 1, 2, 3, 4, 5, 6, 7, 8, 9, 10, 11, 12, 13, 14, 15, 16, 17, 18, 19, 20, 21, 22, 23, 24, 25, 26, 27, 28, 29, 30, 31, 32, 33, 34, 35, 36, 37, 38, 39, 40, 41, 42, 43, 44, 45, 46, 47, 48, 49, 50, 51, 53, 54, 55, 56, 58, 60, 61, 63, 64, 65, 66, 67, 68, 69, 70, 71, 72, 73, 74, 75, 76, 77, 78, 79, 80, 81, 82, 83, 84, 85, 86, 87, 88, 89, 90, 91, 92, 95, 98, 99, 100, 101, 102, 103, 104, 105, 106, 107, 108, 109, 110, 111, 112, 113, 114, 115, 116, 117, 118, 119, 121, 123, 125, 126, 127, 128, 129, 130, 131, 132, 133, 136, 138, 141, 142, 143, 144, 145, 146, 147, 148, 149, 150, 151, 152, 153, 154, 155, 156, 157, 158, 159, 160, 161, 162, 163, 167, 168, 169, 170, 171, 172, 173, 174, 175, 176, 177, 179]\n",
    "cols_ful_160 = x.columns[full_160]\n",
    "cols_ful_160.values"
   ]
  },
  {
   "cell_type": "code",
   "execution_count": 49,
   "metadata": {},
   "outputs": [],
   "source": [
    "cols_fe_160 = ['feature_1', 'feature_2', 'feature_3', 'transactions_count', 'subsector_id_nunique',\n",
    "       'merchant_id_nunique', 'merchant_category_id_nunique', 'purchase_Month_mean', 'purchase_Month_min',\n",
    "       'purchase_Month_max', 'purchase_Week_nunique', 'purchase_Week_mean', 'purchase_Week_min',\n",
    "       'purchase_Week_max', 'purchase_Dayofweek_mean', 'purchase_Dayofweek_min', 'purchase_Dayofweek_max',\n",
    "       'purchase_Day_nunique', 'purchase_Day_mean', 'purchase_Day_min', 'purchase_Day_max',\n",
    "       'purchase_Hour_nunique', 'purchase_Hour_mean', 'purchase_Hour_min', 'purchase_Hour_max',\n",
    "       'purchase_amount_sum', 'purchase_amount_max', 'purchase_amount_min', 'purchase_amount_mean',\n",
    "       'purchase_amount_skew', 'installments_sum', 'installments_max', 'installments_mean',\n",
    "       'installments_var', 'installments_skew', 'month_lag_max', 'month_lag_min', 'month_lag_mean',\n",
    "       'month_lag_var', 'month_lag_skew', 'month_diff_mean', 'month_diff_var', 'month_diff_skew',\n",
    "       'purchased_on_weekend_mean', 'category_1_mean', 'category_2_mean', 'category_3_mean', 'card_id_count',\n",
    "       'price_mean', 'price_max', 'price_min', 'price_var', 'Christmas_Day_2017_mean',\n",
    "       'Black_Friday_2017_mean', 'Mothers_Day_2018_mean', 'duration_min', 'duration_max', 'duration_skew',\n",
    "       'amount_month_ratio_min', 'amount_month_ratio_var', 'amount_month_ratio_skew', 'category_2_mean_mean',\n",
    "       'category_3_mean_mean', 'purchase_date_diff', 'purchase_date_average', 'purchase_date_uptonow',\n",
    "       'purchase_date_uptomin', 'transactions_count_old', 'subsector_id_nunique_old',\n",
    "       'merchant_id_nunique_old', 'merchant_category_id_nunique_old', 'purchase_Month_nunique',\n",
    "       'purchase_Month_mean_old', 'purchase_Month_min_old', 'purchase_Month_max_old',\n",
    "       'purchase_Week_nunique_old', 'purchase_Week_mean_old', 'purchase_Week_min_old',\n",
    "       'purchase_Week_max_old', 'purchase_Dayofweek_mean_old', 'purchase_Day_nunique_old',\n",
    "       'purchase_Day_mean_old', 'purchase_Day_min_old', 'purchase_Hour_nunique_old',\n",
    "       'purchase_Hour_mean_old', 'purchase_Hour_min_old', 'purchase_Hour_max_old', 'purchase_amount_min_old',\n",
    "       'purchase_amount_var_old', 'purchase_amount_skew_old', 'installments_sum_old', 'installments_max_old',\n",
    "       'installments_mean_old', 'installments_var_old', 'installments_skew_old', 'month_lag_max_old',\n",
    "       'month_lag_min_old', 'month_lag_mean_old', 'month_lag_var_old', 'month_lag_skew_old',\n",
    "       'month_diff_max', 'month_diff_min', 'month_diff_mean_old', 'month_diff_var_old',\n",
    "       'month_diff_skew_old', 'authorized_flag_mean', 'purchased_on_weekend_mean_old', 'category_1_mean_old',\n",
    "       'category_2_mean_old', 'category_3_mean_old', 'card_id_count_old', 'price_sum', 'price_mean_old',\n",
    "       'price_min_old', 'Christmas_Day_2017_mean_old', 'Mothers_Day_2017_mean', 'fathers_day_2017_mean',\n",
    "       'Children_day_2017_mean_old', 'Valentine_Day_2017_mean', 'Black_Friday_2017_mean_old',\n",
    "       'Mothers_Day_2018_mean_old', 'duration_mean_old', 'duration_min_old', 'duration_var_old',\n",
    "       'duration_skew_old', 'amount_month_ratio_mean_old', 'amount_month_ratio_min_old',\n",
    "       'amount_month_ratio_max_old', 'amount_month_ratio_skew_old', 'category_2_mean_mean_old',\n",
    "       'category_3_mean_mean_old', 'purchase_date_diff_old', 'purchase_date_average_old',\n",
    "       'purchase_date_uptonow_old', 'purchase_date_uptomin_old', 'quarter', 'days_feature1', 'days_feature3',\n",
    "       'days_feature1_ratio', 'days_feature2_ratio', 'days_feature3_ratio', 'feature_sum', 'feature_mean',\n",
    "       'feature_max', 'feature_min', 'feature_var', 'card_id_total', 'card_id_count_total',\n",
    "       'card_id_count_ratio', 'purchase_amount_total_min', 'purchase_amount_sum_ratio', 'new_first_buy',\n",
    "       'new_last_buy', 'month_diff_ratio', 'installments_total', 'installments_ratio', 'price_total', 'CLV',\n",
    "       'CLV_old', 'CLV_ratio']"
   ]
  },
  {
   "cell_type": "code",
   "execution_count": 50,
   "metadata": {},
   "outputs": [
    {
     "data": {
      "text/plain": [
       "Index(['feature_1', 'feature_2', 'feature_3', 'transactions_count',\n",
       "       'subsector_id_nunique', 'merchant_id_nunique',\n",
       "       'merchant_category_id_nunique', 'purchase_Month_mean',\n",
       "       'purchase_Month_min', 'purchase_Month_max',\n",
       "       ...\n",
       "       'hist_first_buy', 'new_first_buy', 'hist_last_buy', 'new_last_buy',\n",
       "       'month_diff_ratio', 'installments_total', 'installments_ratio',\n",
       "       'price_total', 'CLV', 'CLV_ratio'],\n",
       "      dtype='object', length=160)"
      ]
     },
     "execution_count": 50,
     "metadata": {},
     "output_type": "execute_result"
    }
   ],
   "source": [
    "cols_ful_160"
   ]
  },
  {
   "cell_type": "code",
   "execution_count": 51,
   "metadata": {},
   "outputs": [
    {
     "data": {
      "text/plain": [
       "['purchase_amount_var',\n",
       " 'Children_day_2017_mean',\n",
       " 'duration_var',\n",
       " 'amount_month_ratio_max',\n",
       " 'elapsed_time',\n",
       " 'days_feature2',\n",
       " 'hist_first_buy',\n",
       " 'hist_last_buy']"
      ]
     },
     "execution_count": 51,
     "metadata": {},
     "output_type": "execute_result"
    }
   ],
   "source": [
    "[c for c in cols_ful_160 if c not in cols_fe_160]"
   ]
  },
  {
   "cell_type": "code",
   "execution_count": null,
   "metadata": {},
   "outputs": [],
   "source": []
  }
 ],
 "metadata": {
  "kernelspec": {
   "display_name": "Python 3",
   "language": "python",
   "name": "python3"
  },
  "language_info": {
   "codemirror_mode": {
    "name": "ipython",
    "version": 3
   },
   "file_extension": ".py",
   "mimetype": "text/x-python",
   "name": "python",
   "nbconvert_exporter": "python",
   "pygments_lexer": "ipython3",
   "version": "3.6.7"
  },
  "toc": {
   "base_numbering": 1,
   "nav_menu": {},
   "number_sections": true,
   "sideBar": true,
   "skip_h1_title": false,
   "title_cell": "Table of Contents",
   "title_sidebar": "Contents",
   "toc_cell": true,
   "toc_position": {},
   "toc_section_display": true,
   "toc_window_display": true
  }
 },
 "nbformat": 4,
 "nbformat_minor": 2
}
