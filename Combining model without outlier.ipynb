{
 "cells": [
  {
   "cell_type": "markdown",
   "metadata": {
    "toc": true
   },
   "source": [
    "<h1>Table of Contents<span class=\"tocSkip\"></span></h1>\n",
    "<div class=\"toc\"><ul class=\"toc-item\"><li><span><a href=\"#Training-Model-Without-Outliers\" data-toc-modified-id=\"Training-Model-Without-Outliers-1\"><span class=\"toc-item-num\">1&nbsp;&nbsp;</span>Training Model Without Outliers</a></span></li><li><span><a href=\"#Training-Model-For-Outliers-Classification\" data-toc-modified-id=\"Training-Model-For-Outliers-Classification-2\"><span class=\"toc-item-num\">2&nbsp;&nbsp;</span>Training Model For Outliers Classification</a></span></li><li><span><a href=\"#Combining-Submission:\" data-toc-modified-id=\"Combining-Submission:-3\"><span class=\"toc-item-num\">3&nbsp;&nbsp;</span>Combining Submission:</a></span></li></ul></div>"
   ]
  },
  {
   "cell_type": "code",
   "execution_count": 1,
   "metadata": {},
   "outputs": [
    {
     "data": {
      "application/javascript": [
       "IPython.notebook.set_autosave_interval(120000)"
      ]
     },
     "metadata": {},
     "output_type": "display_data"
    },
    {
     "name": "stdout",
     "output_type": "stream",
     "text": [
      "Autosaving every 120 seconds\n"
     ]
    }
   ],
   "source": [
    "%matplotlib inline\n",
    "%load_ext autoreload\n",
    "%autoreload 4\n",
    "%autosave 120"
   ]
  },
  {
   "cell_type": "code",
   "execution_count": 2,
   "metadata": {},
   "outputs": [],
   "source": [
    "from fastai.io import *\n",
    "from fastai.structured import *\n",
    "from sklearn.ensemble import RandomForestRegressor, RandomForestClassifier\n",
    "from pandas_summary import DataFrameSummary\n",
    "from IPython.display import display\n",
    "from sklearn import metrics\n",
    "import feather\n",
    "import lightgbm as lgb\n",
    "from sklearn.model_selection import StratifiedKFold, KFold\n",
    "from sklearn.metrics import mean_squared_error\n",
    "import warnings\n",
    "import gc\n",
    "from sklearn.metrics import mean_squared_error\n",
    "from sklearn.metrics import log_loss"
   ]
  },
  {
   "cell_type": "markdown",
   "metadata": {},
   "source": [
    "### Training Model Without Outliers"
   ]
  },
  {
   "cell_type": "code",
   "execution_count": 3,
   "metadata": {},
   "outputs": [
    {
     "name": "stderr",
     "output_type": "stream",
     "text": [
      "/home/chandrasekhar/anaconda3/envs/fastai/lib/python3.6/site-packages/pyarrow/pandas_compat.py:752: FutureWarning: .labels was deprecated in version 0.24.0. Use .codes instead.\n",
      "  labels, = index.labels\n"
     ]
    }
   ],
   "source": [
    "train_df2 = feather.read_dataframe('train_df_alpha')\n",
    "test_df2 = feather.read_dataframe('test_df_alpha')"
   ]
  },
  {
   "cell_type": "code",
   "execution_count": 4,
   "metadata": {},
   "outputs": [],
   "source": [
    "for df in [train_df2, test_df2]:\n",
    "    for f in ['purchase_date_max','purchase_date_min','purchase_date_max_old',\\\n",
    "                     'purchase_date_min_old', 'observation_date_old']:\n",
    "        df[f] = df[f].astype(np.int64) * 1e-9"
   ]
  },
  {
   "cell_type": "code",
   "execution_count": 5,
   "metadata": {},
   "outputs": [],
   "source": [
    "cols_excluded = ['purchase_date_max', 'purchase_date_max_old', 'card_id', 'first_active_month',\n",
    "                 'target','outliers','card_id_size', 'card_id_size_old', \n",
    "                 'purchase_date_min', 'purchase_date_min_old','first_active_monthYear',\n",
    "                 'first_active_monthMonth',\n",
    "                 'first_active_monthWeek',\n",
    "                 'first_active_monthDay',\n",
    "                 'first_active_monthDayofweek',\n",
    "                 'first_active_monthDayofyear',\n",
    "                 'first_active_monthIs_month_end',\n",
    "                 'first_active_monthIs_month_start',\n",
    "                 'first_active_monthIs_quarter_end',\n",
    "                 'first_active_monthIs_quarter_start',\n",
    "                 'first_active_monthIs_year_end',\n",
    "                 'Black_Friday_2017_mean',\n",
    "                 'amount_month_ratio_max',\n",
    "                 'purchase_Month_mean_old',\n",
    "                 'purchase_amount_total_max',\n",
    "                 'first_active_monthIs_year_start']"
   ]
  },
  {
   "cell_type": "code",
   "execution_count": 6,
   "metadata": {},
   "outputs": [],
   "source": [
    "cols_included = ['feature_1','feature_2','feature_3','transactions_count','subsector_id_nunique','merchant_id_nunique','merchant_category_id_nunique','purchase_Month_mean','purchase_Month_min','purchase_Month_max','purchase_Week_nunique','purchase_Week_mean','purchase_Week_min','purchase_Week_max','purchase_Dayofweek_mean','purchase_Dayofweek_min','purchase_Dayofweek_max','purchase_Day_nunique','purchase_Day_mean','purchase_Day_min','purchase_Day_max','purchase_Hour_nunique','purchase_Hour_mean','purchase_Hour_min','purchase_Hour_max','purchase_amount_sum','purchase_amount_max','purchase_amount_min','purchase_amount_mean','purchase_amount_var','purchase_amount_skew','installments_sum','installments_max','installments_mean','installments_var','installments_skew','month_lag_max','month_lag_min','month_lag_mean','month_lag_var','month_lag_skew','month_diff_mean','month_diff_var','month_diff_skew','purchased_on_weekend_mean','category_1_mean','category_2_mean','category_3_mean','card_id_count','price_mean','price_max','price_min','price_var','Christmas_Day_2017_mean','Children_day_2017_mean','Black_Friday_2017_mean','Mothers_Day_2018_mean','duration_mean','duration_min','duration_max','duration_var','duration_skew','amount_month_ratio_mean','amount_month_ratio_min','amount_month_ratio_max','amount_month_ratio_var','amount_month_ratio_skew','category_2_mean_mean','category_3_mean_mean','purchase_date_diff','purchase_date_average','purchase_date_uptonow','purchase_date_uptomin','transactions_count_old','subsector_id_nunique_old','merchant_id_nunique_old','merchant_category_id_nunique_old','purchase_Month_nunique','purchase_Month_mean_old','purchase_Month_min_old','purchase_Month_max_old','purchase_Week_nunique_old','purchase_Week_mean_old','purchase_Week_min_old','purchase_Week_max_old','purchase_Dayofweek_mean_old','purchase_Day_nunique_old','purchase_Day_mean_old','purchase_Day_min_old','purchase_Hour_nunique_old','purchase_Hour_mean_old','purchase_Hour_min_old','purchase_Hour_max_old','purchase_amount_sum_old','purchase_amount_max_old','purchase_amount_min_old','purchase_amount_mean_old','purchase_amount_var_old','purchase_amount_skew_old','installments_sum_old','installments_max_old','installments_mean_old','installments_var_old','installments_skew_old','month_lag_max_old','month_lag_min_old','month_lag_mean_old','month_lag_var_old','month_lag_skew_old','month_diff_max','month_diff_min','month_diff_mean_old','month_diff_var_old','month_diff_skew_old','authorized_flag_mean','purchased_on_weekend_mean_old','category_1_mean_old','category_2_mean_old','category_3_mean_old','card_id_count_old','price_sum','price_mean_old','price_max_old','price_min_old','price_var_old','Christmas_Day_2017_mean_old','Mothers_Day_2017_mean','fathers_day_2017_mean','Children_day_2017_mean_old','Valentine_Day_2017_mean','Black_Friday_2017_mean_old','Mothers_Day_2018_mean_old','duration_mean_old','duration_min_old','duration_max_old','duration_var_old','duration_skew_old','amount_month_ratio_mean_old','amount_month_ratio_min_old','amount_month_ratio_max_old','amount_month_ratio_var_old','amount_month_ratio_skew_old','category_2_mean_mean_old','category_3_mean_mean_old','purchase_date_diff_old','purchase_date_average_old','purchase_date_uptonow_old','purchase_date_uptomin_old','quarter','observed_elapsed_time','days_feature1','days_feature2','days_feature3','days_feature1_ratio','days_feature2_ratio','days_feature3_ratio','feature_sum','feature_mean','feature_max','feature_min','feature_var','card_id_total','card_id_count_total','card_id_count_ratio','purchase_amount_total','purchase_amount_total_mean','purchase_amount_total_max','purchase_amount_total_min','purchase_amount_sum_ratio','hist_first_buy','new_first_buy','hist_last_buy','new_last_buy','month_diff_ratio','installments_total','installments_ratio','price_total','CLV','CLV_old','CLV_ratio']"
   ]
  },
  {
   "cell_type": "code",
   "execution_count": 7,
   "metadata": {},
   "outputs": [],
   "source": [
    "extra_cols = ['merchant_address_id_nunique', 'merchant_rating_nunique']"
   ]
  },
  {
   "cell_type": "code",
   "execution_count": 8,
   "metadata": {},
   "outputs": [],
   "source": [
    "df_train_columns = [c for c in cols_included if c not in cols_excluded]"
   ]
  },
  {
   "cell_type": "code",
   "execution_count": 9,
   "metadata": {},
   "outputs": [],
   "source": [
    "df_train_columns = df_train_columns + extra_cols"
   ]
  },
  {
   "cell_type": "code",
   "execution_count": 10,
   "metadata": {},
   "outputs": [
    {
     "data": {
      "text/plain": [
       "178"
      ]
     },
     "execution_count": 10,
     "metadata": {},
     "output_type": "execute_result"
    }
   ],
   "source": [
    "len(df_train_columns)"
   ]
  },
  {
   "cell_type": "code",
   "execution_count": 11,
   "metadata": {},
   "outputs": [],
   "source": [
    "train_df2 = train_df2[train_df2['outliers'] == 0]"
   ]
  },
  {
   "cell_type": "code",
   "execution_count": 12,
   "metadata": {},
   "outputs": [],
   "source": [
    "target = train_df2['target']"
   ]
  },
  {
   "cell_type": "code",
   "execution_count": 13,
   "metadata": {},
   "outputs": [],
   "source": [
    "del train_df2['target']"
   ]
  },
  {
   "cell_type": "code",
   "execution_count": 14,
   "metadata": {},
   "outputs": [
    {
     "data": {
      "text/plain": [
       "178"
      ]
     },
     "execution_count": 14,
     "metadata": {},
     "output_type": "execute_result"
    }
   ],
   "source": [
    "len(df_train_columns)"
   ]
  },
  {
   "cell_type": "code",
   "execution_count": 15,
   "metadata": {},
   "outputs": [
    {
     "data": {
      "text/plain": [
       "12"
      ]
     },
     "execution_count": 15,
     "metadata": {},
     "output_type": "execute_result"
    }
   ],
   "source": [
    "gc.collect()"
   ]
  },
  {
   "cell_type": "code",
   "execution_count": 16,
   "metadata": {
    "scrolled": true
   },
   "outputs": [
    {
     "name": "stdout",
     "output_type": "stream",
     "text": [
      "fold 0\n",
      "Training until validation scores don't improve for 200 rounds.\n",
      "[100]\ttraining's rmse: 1.59443\tvalid_1's rmse: 1.62578\n",
      "[200]\ttraining's rmse: 1.56186\tvalid_1's rmse: 1.59798\n",
      "[300]\ttraining's rmse: 1.54754\tvalid_1's rmse: 1.58832\n",
      "[400]\ttraining's rmse: 1.53858\tvalid_1's rmse: 1.58359\n",
      "[500]\ttraining's rmse: 1.53166\tvalid_1's rmse: 1.58081\n",
      "[600]\ttraining's rmse: 1.52572\tvalid_1's rmse: 1.57891\n",
      "[700]\ttraining's rmse: 1.52048\tvalid_1's rmse: 1.57782\n",
      "[800]\ttraining's rmse: 1.51555\tvalid_1's rmse: 1.57696\n",
      "[900]\ttraining's rmse: 1.51108\tvalid_1's rmse: 1.57631\n",
      "[1000]\ttraining's rmse: 1.50674\tvalid_1's rmse: 1.57584\n",
      "[1100]\ttraining's rmse: 1.50253\tvalid_1's rmse: 1.57576\n",
      "[1200]\ttraining's rmse: 1.49858\tvalid_1's rmse: 1.57554\n",
      "[1300]\ttraining's rmse: 1.49482\tvalid_1's rmse: 1.57538\n",
      "[1400]\ttraining's rmse: 1.49115\tvalid_1's rmse: 1.57523\n",
      "[1500]\ttraining's rmse: 1.48751\tvalid_1's rmse: 1.57525\n",
      "[1600]\ttraining's rmse: 1.48386\tvalid_1's rmse: 1.57499\n",
      "[1700]\ttraining's rmse: 1.48031\tvalid_1's rmse: 1.57505\n",
      "[1800]\ttraining's rmse: 1.47651\tvalid_1's rmse: 1.57509\n",
      "Early stopping, best iteration is:\n",
      "[1600]\ttraining's rmse: 1.48386\tvalid_1's rmse: 1.57499\n",
      "fold 1\n",
      "Training until validation scores don't improve for 200 rounds.\n",
      "[100]\ttraining's rmse: 1.60159\tvalid_1's rmse: 1.59794\n",
      "[200]\ttraining's rmse: 1.56868\tvalid_1's rmse: 1.57078\n",
      "[300]\ttraining's rmse: 1.55406\tvalid_1's rmse: 1.5616\n",
      "[400]\ttraining's rmse: 1.54485\tvalid_1's rmse: 1.55706\n",
      "[500]\ttraining's rmse: 1.53785\tvalid_1's rmse: 1.55458\n",
      "[600]\ttraining's rmse: 1.53188\tvalid_1's rmse: 1.55319\n",
      "[700]\ttraining's rmse: 1.52653\tvalid_1's rmse: 1.55209\n",
      "[800]\ttraining's rmse: 1.52174\tvalid_1's rmse: 1.55118\n",
      "[900]\ttraining's rmse: 1.51727\tvalid_1's rmse: 1.55064\n",
      "[1000]\ttraining's rmse: 1.51303\tvalid_1's rmse: 1.55028\n",
      "[1100]\ttraining's rmse: 1.50889\tvalid_1's rmse: 1.55007\n",
      "[1200]\ttraining's rmse: 1.50494\tvalid_1's rmse: 1.54986\n",
      "[1300]\ttraining's rmse: 1.50117\tvalid_1's rmse: 1.54976\n",
      "[1400]\ttraining's rmse: 1.49742\tvalid_1's rmse: 1.54961\n",
      "[1500]\ttraining's rmse: 1.49382\tvalid_1's rmse: 1.54948\n",
      "[1600]\ttraining's rmse: 1.49021\tvalid_1's rmse: 1.54944\n",
      "[1700]\ttraining's rmse: 1.4868\tvalid_1's rmse: 1.54937\n",
      "[1800]\ttraining's rmse: 1.48334\tvalid_1's rmse: 1.54935\n",
      "[1900]\ttraining's rmse: 1.47989\tvalid_1's rmse: 1.54936\n",
      "Early stopping, best iteration is:\n",
      "[1783]\ttraining's rmse: 1.48389\tvalid_1's rmse: 1.54933\n",
      "fold 2\n",
      "Training until validation scores don't improve for 200 rounds.\n",
      "[100]\ttraining's rmse: 1.59521\tvalid_1's rmse: 1.62244\n",
      "[200]\ttraining's rmse: 1.56306\tvalid_1's rmse: 1.59419\n",
      "[300]\ttraining's rmse: 1.54873\tvalid_1's rmse: 1.58412\n",
      "[400]\ttraining's rmse: 1.53974\tvalid_1's rmse: 1.57958\n",
      "[500]\ttraining's rmse: 1.53276\tvalid_1's rmse: 1.5769\n",
      "[600]\ttraining's rmse: 1.5269\tvalid_1's rmse: 1.57533\n",
      "[700]\ttraining's rmse: 1.52148\tvalid_1's rmse: 1.57428\n",
      "[800]\ttraining's rmse: 1.51664\tvalid_1's rmse: 1.57363\n",
      "[900]\ttraining's rmse: 1.51227\tvalid_1's rmse: 1.57316\n",
      "[1000]\ttraining's rmse: 1.5079\tvalid_1's rmse: 1.57281\n",
      "[1100]\ttraining's rmse: 1.50386\tvalid_1's rmse: 1.57243\n",
      "[1200]\ttraining's rmse: 1.49981\tvalid_1's rmse: 1.57216\n",
      "[1300]\ttraining's rmse: 1.49601\tvalid_1's rmse: 1.57194\n",
      "[1400]\ttraining's rmse: 1.49246\tvalid_1's rmse: 1.5718\n",
      "[1500]\ttraining's rmse: 1.48885\tvalid_1's rmse: 1.57184\n",
      "[1600]\ttraining's rmse: 1.48527\tvalid_1's rmse: 1.57168\n",
      "[1700]\ttraining's rmse: 1.48179\tvalid_1's rmse: 1.57151\n",
      "[1800]\ttraining's rmse: 1.47838\tvalid_1's rmse: 1.5715\n",
      "[1900]\ttraining's rmse: 1.47496\tvalid_1's rmse: 1.57148\n",
      "[2000]\ttraining's rmse: 1.47149\tvalid_1's rmse: 1.57138\n",
      "[2100]\ttraining's rmse: 1.46803\tvalid_1's rmse: 1.57127\n",
      "[2200]\ttraining's rmse: 1.46471\tvalid_1's rmse: 1.57133\n",
      "[2300]\ttraining's rmse: 1.46147\tvalid_1's rmse: 1.57126\n",
      "[2400]\ttraining's rmse: 1.45824\tvalid_1's rmse: 1.57116\n",
      "[2500]\ttraining's rmse: 1.45512\tvalid_1's rmse: 1.57132\n",
      "[2600]\ttraining's rmse: 1.45195\tvalid_1's rmse: 1.57139\n",
      "Early stopping, best iteration is:\n",
      "[2415]\ttraining's rmse: 1.45781\tvalid_1's rmse: 1.57113\n",
      "fold 3\n",
      "Training until validation scores don't improve for 200 rounds.\n",
      "[100]\ttraining's rmse: 1.60018\tvalid_1's rmse: 1.60372\n",
      "[200]\ttraining's rmse: 1.56803\tvalid_1's rmse: 1.57482\n",
      "[300]\ttraining's rmse: 1.55372\tvalid_1's rmse: 1.56447\n",
      "[400]\ttraining's rmse: 1.54469\tvalid_1's rmse: 1.55946\n",
      "[500]\ttraining's rmse: 1.53769\tvalid_1's rmse: 1.55655\n",
      "[600]\ttraining's rmse: 1.5317\tvalid_1's rmse: 1.55468\n",
      "[700]\ttraining's rmse: 1.52647\tvalid_1's rmse: 1.55357\n",
      "[800]\ttraining's rmse: 1.52154\tvalid_1's rmse: 1.55259\n",
      "[900]\ttraining's rmse: 1.51692\tvalid_1's rmse: 1.55201\n",
      "[1000]\ttraining's rmse: 1.51267\tvalid_1's rmse: 1.55161\n",
      "[1100]\ttraining's rmse: 1.5085\tvalid_1's rmse: 1.55135\n",
      "[1200]\ttraining's rmse: 1.50463\tvalid_1's rmse: 1.55127\n",
      "[1300]\ttraining's rmse: 1.50079\tvalid_1's rmse: 1.55108\n",
      "[1400]\ttraining's rmse: 1.49715\tvalid_1's rmse: 1.551\n",
      "[1500]\ttraining's rmse: 1.49341\tvalid_1's rmse: 1.55095\n",
      "[1600]\ttraining's rmse: 1.48989\tvalid_1's rmse: 1.55092\n",
      "[1700]\ttraining's rmse: 1.48628\tvalid_1's rmse: 1.55082\n",
      "[1800]\ttraining's rmse: 1.48286\tvalid_1's rmse: 1.55095\n",
      "Early stopping, best iteration is:\n",
      "[1688]\ttraining's rmse: 1.48675\tvalid_1's rmse: 1.55076\n",
      "fold 4\n",
      "Training until validation scores don't improve for 200 rounds.\n",
      "[100]\ttraining's rmse: 1.60777\tvalid_1's rmse: 1.57221\n",
      "[200]\ttraining's rmse: 1.57527\tvalid_1's rmse: 1.54453\n",
      "[300]\ttraining's rmse: 1.56072\tvalid_1's rmse: 1.53464\n",
      "[400]\ttraining's rmse: 1.55178\tvalid_1's rmse: 1.52987\n",
      "[500]\ttraining's rmse: 1.54491\tvalid_1's rmse: 1.52731\n",
      "[600]\ttraining's rmse: 1.53889\tvalid_1's rmse: 1.52547\n",
      "[700]\ttraining's rmse: 1.53349\tvalid_1's rmse: 1.52434\n",
      "[800]\ttraining's rmse: 1.52859\tvalid_1's rmse: 1.52353\n",
      "[900]\ttraining's rmse: 1.52408\tvalid_1's rmse: 1.52312\n",
      "[1000]\ttraining's rmse: 1.51977\tvalid_1's rmse: 1.52268\n",
      "[1100]\ttraining's rmse: 1.51558\tvalid_1's rmse: 1.52237\n",
      "[1200]\ttraining's rmse: 1.51166\tvalid_1's rmse: 1.52218\n",
      "[1300]\ttraining's rmse: 1.5077\tvalid_1's rmse: 1.52212\n",
      "[1400]\ttraining's rmse: 1.50402\tvalid_1's rmse: 1.52179\n",
      "[1500]\ttraining's rmse: 1.50023\tvalid_1's rmse: 1.52169\n",
      "[1600]\ttraining's rmse: 1.49653\tvalid_1's rmse: 1.52162\n",
      "[1700]\ttraining's rmse: 1.49289\tvalid_1's rmse: 1.52149\n",
      "[1800]\ttraining's rmse: 1.48964\tvalid_1's rmse: 1.52146\n",
      "[1900]\ttraining's rmse: 1.48622\tvalid_1's rmse: 1.52135\n",
      "[2000]\ttraining's rmse: 1.48292\tvalid_1's rmse: 1.52135\n",
      "[2100]\ttraining's rmse: 1.47957\tvalid_1's rmse: 1.52124\n",
      "[2200]\ttraining's rmse: 1.47623\tvalid_1's rmse: 1.52126\n",
      "Early stopping, best iteration is:\n",
      "[2067]\ttraining's rmse: 1.48063\tvalid_1's rmse: 1.52121\n",
      "CPU times: user 20min 2s, sys: 4.15 s, total: 20min 7s\n",
      "Wall time: 3min 22s\n"
     ]
    }
   ],
   "source": [
    "%%time\n",
    "n_fold=5\n",
    "param = {'objective':'regression',\n",
    "         'num_leaves': 31,\n",
    "         'min_data_in_leaf': 25,\n",
    "         'max_depth': 7,\n",
    "         'learning_rate': 0.01,\n",
    "         'lambda_l1':0.13,\n",
    "         \"boosting\": \"gbdt\",\n",
    "         \"feature_fraction\":0.85,\n",
    "         'bagging_freq':8,\n",
    "         \"bagging_fraction\": 0.9 ,\n",
    "         \"metric\": 'rmse',\n",
    "         \"verbosity\": -1,\n",
    "         \"random_state\": 2333}\n",
    "folds = StratifiedKFold(n_splits=n_fold, shuffle=True, random_state=4590)\n",
    "oof = np.zeros(len(train_df2))\n",
    "predictions = np.zeros(len(test_df2))\n",
    "feature_importance_df = pd.DataFrame()\n",
    "\n",
    "for fold_, (trn_idx, val_idx) in enumerate(folds.split(train_df2,train_df2['outliers'].values)):\n",
    "    print(\"fold {}\".format(fold_))\n",
    "    trn_data = lgb.Dataset(train_df2.iloc[trn_idx][df_train_columns], label=target.iloc[trn_idx])\n",
    "    val_data = lgb.Dataset(train_df2.iloc[val_idx][df_train_columns], label=target.iloc[val_idx])\n",
    "\n",
    "    num_round = 10000\n",
    "    clf = lgb.train(param, trn_data, num_round, valid_sets = [trn_data, val_data], verbose_eval=100, early_stopping_rounds = 200)\n",
    "    oof[val_idx] = clf.predict(train_df2.iloc[val_idx][df_train_columns], num_iteration=clf.best_iteration)\n",
    "    \n",
    "    fold_importance_df = pd.DataFrame()\n",
    "    fold_importance_df[\"Feature\"] = df_train_columns\n",
    "    fold_importance_df[\"importance\"] = clf.feature_importance()\n",
    "    fold_importance_df[\"fold\"] = fold_ + 1\n",
    "    feature_importance_df = pd.concat([feature_importance_df, fold_importance_df], axis=0)\n",
    "    \n",
    "    predictions += clf.predict(test_df2[df_train_columns], num_iteration=clf.best_iteration) / folds.n_splits\n",
    "\n",
    "np.sqrt(mean_squared_error(oof, target))"
   ]
  },
  {
   "cell_type": "code",
   "execution_count": 17,
   "metadata": {},
   "outputs": [
    {
     "data": {
      "text/plain": [
       "1.553602833333153"
      ]
     },
     "execution_count": 17,
     "metadata": {},
     "output_type": "execute_result"
    }
   ],
   "source": [
    "np.sqrt(mean_squared_error(oof, target))"
   ]
  },
  {
   "cell_type": "markdown",
   "metadata": {},
   "source": [
    "1. 1.5545434532072333 - with existing params\n",
    "2. 1.553654745445917 - with kernel params\n",
    "3. 1.553602833333153 - latest with 178 cols"
   ]
  },
  {
   "cell_type": "code",
   "execution_count": 18,
   "metadata": {},
   "outputs": [],
   "source": [
    "model_without_outliers = pd.DataFrame({\"card_id\":test_df2[\"card_id\"].values})\n",
    "model_without_outliers[\"target\"] = predictions"
   ]
  },
  {
   "cell_type": "markdown",
   "metadata": {},
   "source": [
    "### Training Model For Outliers Classification"
   ]
  },
  {
   "cell_type": "code",
   "execution_count": 19,
   "metadata": {},
   "outputs": [
    {
     "name": "stderr",
     "output_type": "stream",
     "text": [
      "/home/chandrasekhar/anaconda3/envs/fastai/lib/python3.6/site-packages/pyarrow/pandas_compat.py:752: FutureWarning: .labels was deprecated in version 0.24.0. Use .codes instead.\n",
      "  labels, = index.labels\n"
     ]
    }
   ],
   "source": [
    "train_df2 = feather.read_dataframe('train_df_alpha')\n",
    "test_df2 = feather.read_dataframe('test_df_alpha')"
   ]
  },
  {
   "cell_type": "code",
   "execution_count": 20,
   "metadata": {},
   "outputs": [],
   "source": [
    "for df in [train_df2, test_df2]:\n",
    "    for f in ['purchase_date_max','purchase_date_min','purchase_date_max_old',\\\n",
    "                     'purchase_date_min_old', 'observation_date_old']:\n",
    "        df[f] = df[f].astype(np.int64) * 1e-9"
   ]
  },
  {
   "cell_type": "code",
   "execution_count": 21,
   "metadata": {},
   "outputs": [],
   "source": [
    "cols_excluded = ['purchase_date_max', 'purchase_date_max_old', 'card_id', 'first_active_month',\n",
    "                 'target','outliers','card_id_size', 'card_id_size_old', \n",
    "                 'purchase_date_min', 'purchase_date_min_old','first_active_monthYear',\n",
    "                 'first_active_monthMonth',\n",
    "                 'first_active_monthWeek',\n",
    "                 'first_active_monthDay',\n",
    "                 'first_active_monthDayofweek',\n",
    "                 'first_active_monthDayofyear',\n",
    "                 'first_active_monthIs_month_end',\n",
    "                 'first_active_monthIs_month_start',\n",
    "                 'first_active_monthIs_quarter_end',\n",
    "                 'first_active_monthIs_quarter_start',\n",
    "                 'first_active_monthIs_year_end',\n",
    "                 'Black_Friday_2017_mean',\n",
    "                 'amount_month_ratio_max',\n",
    "                 'purchase_Month_mean_old',\n",
    "                 'purchase_amount_total_max',\n",
    "                 'first_active_monthIs_year_start']"
   ]
  },
  {
   "cell_type": "code",
   "execution_count": 22,
   "metadata": {},
   "outputs": [],
   "source": [
    "cols_included = ['feature_1','feature_2','feature_3','transactions_count','subsector_id_nunique','merchant_id_nunique','merchant_category_id_nunique','purchase_Month_mean','purchase_Month_min','purchase_Month_max','purchase_Week_nunique','purchase_Week_mean','purchase_Week_min','purchase_Week_max','purchase_Dayofweek_mean','purchase_Dayofweek_min','purchase_Dayofweek_max','purchase_Day_nunique','purchase_Day_mean','purchase_Day_min','purchase_Day_max','purchase_Hour_nunique','purchase_Hour_mean','purchase_Hour_min','purchase_Hour_max','purchase_amount_sum','purchase_amount_max','purchase_amount_min','purchase_amount_mean','purchase_amount_var','purchase_amount_skew','installments_sum','installments_max','installments_mean','installments_var','installments_skew','month_lag_max','month_lag_min','month_lag_mean','month_lag_var','month_lag_skew','month_diff_mean','month_diff_var','month_diff_skew','purchased_on_weekend_mean','category_1_mean','category_2_mean','category_3_mean','card_id_count','price_mean','price_max','price_min','price_var','Christmas_Day_2017_mean','Children_day_2017_mean','Black_Friday_2017_mean','Mothers_Day_2018_mean','duration_mean','duration_min','duration_max','duration_var','duration_skew','amount_month_ratio_mean','amount_month_ratio_min','amount_month_ratio_max','amount_month_ratio_var','amount_month_ratio_skew','category_2_mean_mean','category_3_mean_mean','purchase_date_diff','purchase_date_average','purchase_date_uptonow','purchase_date_uptomin','transactions_count_old','subsector_id_nunique_old','merchant_id_nunique_old','merchant_category_id_nunique_old','purchase_Month_nunique','purchase_Month_mean_old','purchase_Month_min_old','purchase_Month_max_old','purchase_Week_nunique_old','purchase_Week_mean_old','purchase_Week_min_old','purchase_Week_max_old','purchase_Dayofweek_mean_old','purchase_Day_nunique_old','purchase_Day_mean_old','purchase_Day_min_old','purchase_Hour_nunique_old','purchase_Hour_mean_old','purchase_Hour_min_old','purchase_Hour_max_old','purchase_amount_sum_old','purchase_amount_max_old','purchase_amount_min_old','purchase_amount_mean_old','purchase_amount_var_old','purchase_amount_skew_old','installments_sum_old','installments_max_old','installments_mean_old','installments_var_old','installments_skew_old','month_lag_max_old','month_lag_min_old','month_lag_mean_old','month_lag_var_old','month_lag_skew_old','month_diff_max','month_diff_min','month_diff_mean_old','month_diff_var_old','month_diff_skew_old','authorized_flag_mean','purchased_on_weekend_mean_old','category_1_mean_old','category_2_mean_old','category_3_mean_old','card_id_count_old','price_sum','price_mean_old','price_max_old','price_min_old','price_var_old','Christmas_Day_2017_mean_old','Mothers_Day_2017_mean','fathers_day_2017_mean','Children_day_2017_mean_old','Valentine_Day_2017_mean','Black_Friday_2017_mean_old','Mothers_Day_2018_mean_old','duration_mean_old','duration_min_old','duration_max_old','duration_var_old','duration_skew_old','amount_month_ratio_mean_old','amount_month_ratio_min_old','amount_month_ratio_max_old','amount_month_ratio_var_old','amount_month_ratio_skew_old','category_2_mean_mean_old','category_3_mean_mean_old','purchase_date_diff_old','purchase_date_average_old','purchase_date_uptonow_old','purchase_date_uptomin_old','quarter','observed_elapsed_time','days_feature1','days_feature2','days_feature3','days_feature1_ratio','days_feature2_ratio','days_feature3_ratio','feature_sum','feature_mean','feature_max','feature_min','feature_var','card_id_total','card_id_count_total','card_id_count_ratio','purchase_amount_total','purchase_amount_total_mean','purchase_amount_total_max','purchase_amount_total_min','purchase_amount_sum_ratio','hist_first_buy','new_first_buy','hist_last_buy','new_last_buy','month_diff_ratio','installments_total','installments_ratio','price_total','CLV','CLV_old','CLV_ratio']"
   ]
  },
  {
   "cell_type": "code",
   "execution_count": 23,
   "metadata": {},
   "outputs": [],
   "source": [
    "df_train_columns = [c for c in cols_included if c not in cols_excluded]"
   ]
  },
  {
   "cell_type": "code",
   "execution_count": 24,
   "metadata": {},
   "outputs": [],
   "source": [
    "df_train_columns = df_train_columns + extra_cols"
   ]
  },
  {
   "cell_type": "code",
   "execution_count": 25,
   "metadata": {},
   "outputs": [],
   "source": [
    "df_train = train_df2[df_train_columns]\n",
    "target = train_df2['outliers']"
   ]
  },
  {
   "cell_type": "code",
   "execution_count": 26,
   "metadata": {},
   "outputs": [],
   "source": [
    "col_types = df_train[df_train_columns].nunique().reset_index()"
   ]
  },
  {
   "cell_type": "code",
   "execution_count": 27,
   "metadata": {},
   "outputs": [],
   "source": [
    "col_types.columns = ['f', 'uniq']"
   ]
  },
  {
   "cell_type": "code",
   "execution_count": 28,
   "metadata": {},
   "outputs": [],
   "source": [
    "categorical_feats = col_types[col_types['uniq'] < 6]['f'].values"
   ]
  },
  {
   "cell_type": "code",
   "execution_count": 29,
   "metadata": {},
   "outputs": [],
   "source": [
    "param = {'num_leaves': 31,\n",
    "         'min_data_in_leaf': 30, \n",
    "         'objective':'binary',\n",
    "         'max_depth': 6,\n",
    "         'learning_rate': 0.01,\n",
    "         \"boosting\": \"rf\",\n",
    "         \"feature_fraction\": 0.9,\n",
    "         \"bagging_freq\": 1,\n",
    "         \"bagging_fraction\": 0.9 ,\n",
    "         \"bagging_seed\": 11,\n",
    "         \"metric\": 'binary_logloss',\n",
    "         \"lambda_l1\": 0.1,\n",
    "         \"verbosity\": -1,\n",
    "         \"random_state\": 2333}"
   ]
  },
  {
   "cell_type": "code",
   "execution_count": 30,
   "metadata": {},
   "outputs": [],
   "source": [
    "features = df_train_columns"
   ]
  },
  {
   "cell_type": "code",
   "execution_count": 31,
   "metadata": {},
   "outputs": [],
   "source": [
    "categorical_feats = categorical_feats.tolist()"
   ]
  },
  {
   "cell_type": "code",
   "execution_count": 33,
   "metadata": {
    "scrolled": true
   },
   "outputs": [
    {
     "name": "stdout",
     "output_type": "stream",
     "text": [
      "fold n°0\n"
     ]
    },
    {
     "name": "stderr",
     "output_type": "stream",
     "text": [
      "/home/chandrasekhar/anaconda3/envs/fastai/lib/python3.6/site-packages/lightgbm/basic.py:1184: UserWarning: Using categorical_feature in Dataset.\n",
      "  warnings.warn('Using categorical_feature in Dataset.')\n",
      "/home/chandrasekhar/anaconda3/envs/fastai/lib/python3.6/site-packages/lightgbm/basic.py:742: UserWarning: categorical_feature in param dict is overridden.\n",
      "  warnings.warn('categorical_feature in param dict is overridden.')\n"
     ]
    },
    {
     "name": "stdout",
     "output_type": "stream",
     "text": [
      "Training until validation scores don't improve for 200 rounds.\n",
      "[100]\ttraining's binary_logloss: 0.0437081\tvalid_1's binary_logloss: 0.0463519\n",
      "[200]\ttraining's binary_logloss: 0.0437029\tvalid_1's binary_logloss: 0.0463364\n",
      "Early stopping, best iteration is:\n",
      "[61]\ttraining's binary_logloss: 0.0436896\tvalid_1's binary_logloss: 0.0462673\n",
      "fold n°1\n"
     ]
    },
    {
     "name": "stderr",
     "output_type": "stream",
     "text": [
      "/home/chandrasekhar/anaconda3/envs/fastai/lib/python3.6/site-packages/lightgbm/basic.py:1184: UserWarning: Using categorical_feature in Dataset.\n",
      "  warnings.warn('Using categorical_feature in Dataset.')\n",
      "/home/chandrasekhar/anaconda3/envs/fastai/lib/python3.6/site-packages/lightgbm/basic.py:742: UserWarning: categorical_feature in param dict is overridden.\n",
      "  warnings.warn('categorical_feature in param dict is overridden.')\n"
     ]
    },
    {
     "name": "stdout",
     "output_type": "stream",
     "text": [
      "Training until validation scores don't improve for 200 rounds.\n",
      "[100]\ttraining's binary_logloss: 0.0437631\tvalid_1's binary_logloss: 0.0450172\n",
      "[200]\ttraining's binary_logloss: 0.0437399\tvalid_1's binary_logloss: 0.0449974\n",
      "[300]\ttraining's binary_logloss: 0.0437419\tvalid_1's binary_logloss: 0.0449875\n",
      "[400]\ttraining's binary_logloss: 0.0437386\tvalid_1's binary_logloss: 0.0449768\n",
      "[500]\ttraining's binary_logloss: 0.0437296\tvalid_1's binary_logloss: 0.0449539\n",
      "[600]\ttraining's binary_logloss: 0.0437311\tvalid_1's binary_logloss: 0.0449671\n",
      "[700]\ttraining's binary_logloss: 0.0437213\tvalid_1's binary_logloss: 0.0449651\n",
      "Early stopping, best iteration is:\n",
      "[503]\ttraining's binary_logloss: 0.0437281\tvalid_1's binary_logloss: 0.0449496\n",
      "fold n°2\n"
     ]
    },
    {
     "name": "stderr",
     "output_type": "stream",
     "text": [
      "/home/chandrasekhar/anaconda3/envs/fastai/lib/python3.6/site-packages/lightgbm/basic.py:1184: UserWarning: Using categorical_feature in Dataset.\n",
      "  warnings.warn('Using categorical_feature in Dataset.')\n",
      "/home/chandrasekhar/anaconda3/envs/fastai/lib/python3.6/site-packages/lightgbm/basic.py:742: UserWarning: categorical_feature in param dict is overridden.\n",
      "  warnings.warn('categorical_feature in param dict is overridden.')\n"
     ]
    },
    {
     "name": "stdout",
     "output_type": "stream",
     "text": [
      "Training until validation scores don't improve for 200 rounds.\n",
      "[100]\ttraining's binary_logloss: 0.0443527\tvalid_1's binary_logloss: 0.0434314\n",
      "[200]\ttraining's binary_logloss: 0.0443462\tvalid_1's binary_logloss: 0.0434375\n",
      "[300]\ttraining's binary_logloss: 0.0443533\tvalid_1's binary_logloss: 0.0434344\n",
      "[400]\ttraining's binary_logloss: 0.044338\tvalid_1's binary_logloss: 0.0434282\n",
      "[500]\ttraining's binary_logloss: 0.0443456\tvalid_1's binary_logloss: 0.0434261\n",
      "Early stopping, best iteration is:\n",
      "[395]\ttraining's binary_logloss: 0.044335\tvalid_1's binary_logloss: 0.0434254\n",
      "fold n°3\n"
     ]
    },
    {
     "name": "stderr",
     "output_type": "stream",
     "text": [
      "/home/chandrasekhar/anaconda3/envs/fastai/lib/python3.6/site-packages/lightgbm/basic.py:1184: UserWarning: Using categorical_feature in Dataset.\n",
      "  warnings.warn('Using categorical_feature in Dataset.')\n",
      "/home/chandrasekhar/anaconda3/envs/fastai/lib/python3.6/site-packages/lightgbm/basic.py:742: UserWarning: categorical_feature in param dict is overridden.\n",
      "  warnings.warn('categorical_feature in param dict is overridden.')\n"
     ]
    },
    {
     "name": "stdout",
     "output_type": "stream",
     "text": [
      "Training until validation scores don't improve for 200 rounds.\n",
      "[100]\ttraining's binary_logloss: 0.042842\tvalid_1's binary_logloss: 0.0491988\n",
      "[200]\ttraining's binary_logloss: 0.0428534\tvalid_1's binary_logloss: 0.0491674\n",
      "Early stopping, best iteration is:\n",
      "[95]\ttraining's binary_logloss: 0.0428333\tvalid_1's binary_logloss: 0.0492037\n",
      "fold n°4\n"
     ]
    },
    {
     "name": "stderr",
     "output_type": "stream",
     "text": [
      "/home/chandrasekhar/anaconda3/envs/fastai/lib/python3.6/site-packages/lightgbm/basic.py:1184: UserWarning: Using categorical_feature in Dataset.\n",
      "  warnings.warn('Using categorical_feature in Dataset.')\n",
      "/home/chandrasekhar/anaconda3/envs/fastai/lib/python3.6/site-packages/lightgbm/basic.py:742: UserWarning: categorical_feature in param dict is overridden.\n",
      "  warnings.warn('categorical_feature in param dict is overridden.')\n"
     ]
    },
    {
     "name": "stdout",
     "output_type": "stream",
     "text": [
      "Training until validation scores don't improve for 200 rounds.\n",
      "[100]\ttraining's binary_logloss: 0.0439785\tvalid_1's binary_logloss: 0.0444379\n",
      "[200]\ttraining's binary_logloss: 0.0440146\tvalid_1's binary_logloss: 0.0444605\n",
      "Early stopping, best iteration is:\n",
      "[76]\ttraining's binary_logloss: 0.043957\tvalid_1's binary_logloss: 0.0444204\n",
      "CV score: 0.04565 \n",
      "CPU times: user 5min 32s, sys: 4.97 s, total: 5min 37s\n",
      "Wall time: 57.4 s\n"
     ]
    }
   ],
   "source": [
    "%%time\n",
    "folds = KFold(n_splits=5, shuffle=True, random_state=15)\n",
    "oof = np.zeros(len(df_train))\n",
    "predictions = np.zeros(len(test_df2))\n",
    "feature_importance_df = pd.DataFrame()\n",
    "\n",
    "start = time.time()\n",
    "\n",
    "\n",
    "for fold_, (trn_idx, val_idx) in enumerate(folds.split(df_train.values, target.values)):\n",
    "    print(\"fold n°{}\".format(fold_))\n",
    "    trn_data = lgb.Dataset(df_train.iloc[trn_idx][features], label=target.iloc[trn_idx], categorical_feature=categorical_feats)\n",
    "    val_data = lgb.Dataset(df_train.iloc[val_idx][features], label=target.iloc[val_idx], categorical_feature=categorical_feats)\n",
    "\n",
    "    num_round = 10000\n",
    "    clf = lgb.train(param, trn_data, num_round, valid_sets = [trn_data, val_data], verbose_eval=100, early_stopping_rounds = 200)\n",
    "    oof[val_idx] = clf.predict(df_train.iloc[val_idx][features], num_iteration=clf.best_iteration)\n",
    "    \n",
    "    fold_importance_df = pd.DataFrame()\n",
    "    fold_importance_df[\"feature\"] = features\n",
    "    fold_importance_df[\"importance\"] = clf.feature_importance()\n",
    "    fold_importance_df[\"fold\"] = fold_ + 1\n",
    "    feature_importance_df = pd.concat([feature_importance_df, fold_importance_df], axis=0)\n",
    "    \n",
    "    predictions += clf.predict(test_df2[features], num_iteration=clf.best_iteration) / folds.n_splits\n",
    "\n",
    "print(\"CV score: {:<8.5f}\".format(log_loss(target, oof)))"
   ]
  },
  {
   "cell_type": "markdown",
   "metadata": {},
   "source": [
    "1. 0.09934738333325951 CV score \n",
    "2. Kernels score - 0.04492 - regression params\n",
    "3. kernel params - 0.04556 "
   ]
  },
  {
   "cell_type": "code",
   "execution_count": 34,
   "metadata": {},
   "outputs": [
    {
     "data": {
      "text/html": [
       "<div>\n",
       "<style scoped>\n",
       "    .dataframe tbody tr th:only-of-type {\n",
       "        vertical-align: middle;\n",
       "    }\n",
       "\n",
       "    .dataframe tbody tr th {\n",
       "        vertical-align: top;\n",
       "    }\n",
       "\n",
       "    .dataframe thead th {\n",
       "        text-align: right;\n",
       "    }\n",
       "</style>\n",
       "<table border=\"1\" class=\"dataframe\">\n",
       "  <thead>\n",
       "    <tr style=\"text-align: right;\">\n",
       "      <th></th>\n",
       "      <th>card_id</th>\n",
       "      <th>target</th>\n",
       "    </tr>\n",
       "  </thead>\n",
       "  <tbody>\n",
       "    <tr>\n",
       "      <th>0</th>\n",
       "      <td>C_ID_0ab67a22ab</td>\n",
       "      <td>0.041347</td>\n",
       "    </tr>\n",
       "    <tr>\n",
       "      <th>1</th>\n",
       "      <td>C_ID_130fd0cbdd</td>\n",
       "      <td>0.001878</td>\n",
       "    </tr>\n",
       "    <tr>\n",
       "      <th>2</th>\n",
       "      <td>C_ID_b709037bc5</td>\n",
       "      <td>0.004944</td>\n",
       "    </tr>\n",
       "    <tr>\n",
       "      <th>3</th>\n",
       "      <td>C_ID_d27d835a9f</td>\n",
       "      <td>0.001878</td>\n",
       "    </tr>\n",
       "    <tr>\n",
       "      <th>4</th>\n",
       "      <td>C_ID_2b5e3df5c2</td>\n",
       "      <td>0.001932</td>\n",
       "    </tr>\n",
       "  </tbody>\n",
       "</table>\n",
       "</div>"
      ],
      "text/plain": [
       "           card_id    target\n",
       "0  C_ID_0ab67a22ab  0.041347\n",
       "1  C_ID_130fd0cbdd  0.001878\n",
       "2  C_ID_b709037bc5  0.004944\n",
       "3  C_ID_d27d835a9f  0.001878\n",
       "4  C_ID_2b5e3df5c2  0.001932"
      ]
     },
     "execution_count": 34,
     "metadata": {},
     "output_type": "execute_result"
    }
   ],
   "source": [
    "df_outlier_prob = pd.DataFrame({\"card_id\":test_df2[\"card_id\"].values})\n",
    "df_outlier_prob[\"target\"] = predictions\n",
    "df_outlier_prob.head()"
   ]
  },
  {
   "cell_type": "code",
   "execution_count": 35,
   "metadata": {},
   "outputs": [],
   "source": [
    "from sklearn import metrics\n",
    "fpr, tpr, thresholds = metrics.roc_curve(target,oof)"
   ]
  },
  {
   "cell_type": "code",
   "execution_count": 36,
   "metadata": {},
   "outputs": [
    {
     "data": {
      "text/plain": [
       "(array([0.     , 0.00001, 0.00002, ..., 0.99739, 0.99741, 1.     ]),\n",
       " array([0., 0., 0., ..., 1., 1., 1.]),\n",
       " array([1.48245, 0.48245, 0.43896, ..., 0.00163, 0.00163, 0.00162]))"
      ]
     },
     "execution_count": 36,
     "metadata": {},
     "output_type": "execute_result"
    }
   ],
   "source": [
    "fpr, tpr, thresholds"
   ]
  },
  {
   "cell_type": "code",
   "execution_count": 37,
   "metadata": {},
   "outputs": [],
   "source": [
    "optimal_idx = np.argmax(tpr - fpr)\n",
    "optimal_threshold = thresholds[optimal_idx]"
   ]
  },
  {
   "cell_type": "code",
   "execution_count": 38,
   "metadata": {},
   "outputs": [
    {
     "data": {
      "text/plain": [
       "0.011256291179551929"
      ]
     },
     "execution_count": 38,
     "metadata": {},
     "output_type": "execute_result"
    }
   ],
   "source": [
    "optimal_threshold"
   ]
  },
  {
   "cell_type": "code",
   "execution_count": 40,
   "metadata": {},
   "outputs": [
    {
     "data": {
      "text/plain": [
       "20474"
      ]
     },
     "execution_count": 40,
     "metadata": {},
     "output_type": "execute_result"
    }
   ],
   "source": [
    "(df_outlier_prob['target'] > optimal_threshold).sum()"
   ]
  },
  {
   "cell_type": "markdown",
   "metadata": {},
   "source": [
    "### Combining Submission:"
   ]
  },
  {
   "cell_type": "code",
   "execution_count": 41,
   "metadata": {},
   "outputs": [],
   "source": [
    "outlier_id = pd.DataFrame(df_outlier_prob.sort_values(by='target',\n",
    "                                                      ascending = False).head(20474)['card_id'])"
   ]
  },
  {
   "cell_type": "code",
   "execution_count": 42,
   "metadata": {},
   "outputs": [],
   "source": [
    "best_submission = pd.read_csv('./dl_xgb_submission_stacked_lgb-2019-02-26 22:45:24.597929.csv')"
   ]
  },
  {
   "cell_type": "code",
   "execution_count": 43,
   "metadata": {},
   "outputs": [
    {
     "data": {
      "text/html": [
       "<div>\n",
       "<style scoped>\n",
       "    .dataframe tbody tr th:only-of-type {\n",
       "        vertical-align: middle;\n",
       "    }\n",
       "\n",
       "    .dataframe tbody tr th {\n",
       "        vertical-align: top;\n",
       "    }\n",
       "\n",
       "    .dataframe thead th {\n",
       "        text-align: right;\n",
       "    }\n",
       "</style>\n",
       "<table border=\"1\" class=\"dataframe\">\n",
       "  <thead>\n",
       "    <tr style=\"text-align: right;\">\n",
       "      <th></th>\n",
       "      <th>card_id</th>\n",
       "      <th>target</th>\n",
       "    </tr>\n",
       "  </thead>\n",
       "  <tbody>\n",
       "    <tr>\n",
       "      <th>0</th>\n",
       "      <td>C_ID_0ab67a22ab</td>\n",
       "      <td>-2.122841</td>\n",
       "    </tr>\n",
       "    <tr>\n",
       "      <th>1</th>\n",
       "      <td>C_ID_6d8dba8475</td>\n",
       "      <td>-0.849764</td>\n",
       "    </tr>\n",
       "    <tr>\n",
       "      <th>2</th>\n",
       "      <td>C_ID_7f1041e8e1</td>\n",
       "      <td>-6.443781</td>\n",
       "    </tr>\n",
       "    <tr>\n",
       "      <th>3</th>\n",
       "      <td>C_ID_22e4a47c72</td>\n",
       "      <td>-0.487886</td>\n",
       "    </tr>\n",
       "    <tr>\n",
       "      <th>4</th>\n",
       "      <td>C_ID_b54cfad8b2</td>\n",
       "      <td>-0.969509</td>\n",
       "    </tr>\n",
       "  </tbody>\n",
       "</table>\n",
       "</div>"
      ],
      "text/plain": [
       "           card_id    target\n",
       "0  C_ID_0ab67a22ab -2.122841\n",
       "1  C_ID_6d8dba8475 -0.849764\n",
       "2  C_ID_7f1041e8e1 -6.443781\n",
       "3  C_ID_22e4a47c72 -0.487886\n",
       "4  C_ID_b54cfad8b2 -0.969509"
      ]
     },
     "execution_count": 43,
     "metadata": {},
     "output_type": "execute_result"
    }
   ],
   "source": [
    "most_likely_liers = best_submission.merge(outlier_id,how='right')\n",
    "most_likely_liers.head()"
   ]
  },
  {
   "cell_type": "code",
   "execution_count": 56,
   "metadata": {},
   "outputs": [],
   "source": [
    "# %%time\n",
    "# for card_id in most_likely_liers['card_id']:\n",
    "#     model_without_outliers.loc[model_without_outliers['card_id']==card_id,'target']\\\n",
    "#     = most_likely_liers.loc[most_likely_liers['card_id']==card_id,'target'].values"
   ]
  },
  {
   "cell_type": "code",
   "execution_count": 57,
   "metadata": {},
   "outputs": [
    {
     "name": "stdout",
     "output_type": "stream",
     "text": [
      "CPU times: user 12 ms, sys: 1e+03 ns, total: 12 ms\n",
      "Wall time: 11.6 ms\n"
     ]
    }
   ],
   "source": [
    "%%time\n",
    "ix = best_submission[\"card_id\"].isin(outlier_id[\"card_id\"].values)\n",
    "model_without_outliers.loc[ix, \"target\"] = best_submission[ix][\"target\"] "
   ]
  },
  {
   "cell_type": "code",
   "execution_count": 47,
   "metadata": {},
   "outputs": [],
   "source": [
    "submission_name = pd.to_datetime(\"today\")"
   ]
  },
  {
   "cell_type": "code",
   "execution_count": 48,
   "metadata": {},
   "outputs": [],
   "source": [
    "filename = f'outlier_combining_submission-{submission_name}.csv'"
   ]
  },
  {
   "cell_type": "code",
   "execution_count": 49,
   "metadata": {},
   "outputs": [],
   "source": [
    "model_without_outliers.to_csv(filename, index=False)"
   ]
  },
  {
   "cell_type": "code",
   "execution_count": 50,
   "metadata": {},
   "outputs": [
    {
     "data": {
      "text/plain": [
       "'outlier_combining_submission-2019-02-26 23:20:23.680409.csv'"
      ]
     },
     "execution_count": 50,
     "metadata": {},
     "output_type": "execute_result"
    }
   ],
   "source": [
    "filename"
   ]
  },
  {
   "cell_type": "code",
   "execution_count": 51,
   "metadata": {},
   "outputs": [
    {
     "name": "stdout",
     "output_type": "stream",
     "text": [
      "100%|#######################################| 4.23M/4.23M [00:22<00:00, 197kB/s]\n",
      "Successfully submitted to Elo Merchant Category Recommendation"
     ]
    }
   ],
   "source": [
    "!kaggle competitions submit elo-merchant-category-recommendation -f 'outlier_combining_submission-2019-02-26 23:20:23.680409.csv' -m \"combining model without outliers with threshold\""
   ]
  },
  {
   "cell_type": "code",
   "execution_count": 54,
   "metadata": {},
   "outputs": [
    {
     "name": "stdout",
     "output_type": "stream",
     "text": [
      "CPU times: user 15.5 ms, sys: 0 ns, total: 15.5 ms\n",
      "Wall time: 14.9 ms\n"
     ]
    }
   ],
   "source": [
    "%%time\n",
    "ix = best_submission[\"card_id\"].isin(outlier_id[\"card_id\"].values)\n",
    "model_without_outliers.loc[ix, \"target\"] = best_submission[ix][\"target\"] "
   ]
  },
  {
   "cell_type": "code",
   "execution_count": 55,
   "metadata": {},
   "outputs": [
    {
     "data": {
      "text/html": [
       "<div>\n",
       "<style scoped>\n",
       "    .dataframe tbody tr th:only-of-type {\n",
       "        vertical-align: middle;\n",
       "    }\n",
       "\n",
       "    .dataframe tbody tr th {\n",
       "        vertical-align: top;\n",
       "    }\n",
       "\n",
       "    .dataframe thead th {\n",
       "        text-align: right;\n",
       "    }\n",
       "</style>\n",
       "<table border=\"1\" class=\"dataframe\">\n",
       "  <thead>\n",
       "    <tr style=\"text-align: right;\">\n",
       "      <th></th>\n",
       "      <th>card_id</th>\n",
       "      <th>target</th>\n",
       "    </tr>\n",
       "  </thead>\n",
       "  <tbody>\n",
       "    <tr>\n",
       "      <th>123618</th>\n",
       "      <td>C_ID_7a239d2eda</td>\n",
       "      <td>1.417893</td>\n",
       "    </tr>\n",
       "    <tr>\n",
       "      <th>123619</th>\n",
       "      <td>C_ID_75ace375ae</td>\n",
       "      <td>-0.828231</td>\n",
       "    </tr>\n",
       "    <tr>\n",
       "      <th>123620</th>\n",
       "      <td>C_ID_21d56d950c</td>\n",
       "      <td>1.114384</td>\n",
       "    </tr>\n",
       "    <tr>\n",
       "      <th>123621</th>\n",
       "      <td>C_ID_6c46fc5a9d</td>\n",
       "      <td>-2.949170</td>\n",
       "    </tr>\n",
       "    <tr>\n",
       "      <th>123622</th>\n",
       "      <td>C_ID_87e7979a5f</td>\n",
       "      <td>0.172589</td>\n",
       "    </tr>\n",
       "  </tbody>\n",
       "</table>\n",
       "</div>"
      ],
      "text/plain": [
       "                card_id    target\n",
       "123618  C_ID_7a239d2eda  1.417893\n",
       "123619  C_ID_75ace375ae -0.828231\n",
       "123620  C_ID_21d56d950c  1.114384\n",
       "123621  C_ID_6c46fc5a9d -2.949170\n",
       "123622  C_ID_87e7979a5f  0.172589"
      ]
     },
     "execution_count": 55,
     "metadata": {},
     "output_type": "execute_result"
    }
   ],
   "source": [
    "model_without_outliers.tail()"
   ]
  },
  {
   "cell_type": "code",
   "execution_count": 52,
   "metadata": {},
   "outputs": [
    {
     "data": {
      "text/html": [
       "<div>\n",
       "<style scoped>\n",
       "    .dataframe tbody tr th:only-of-type {\n",
       "        vertical-align: middle;\n",
       "    }\n",
       "\n",
       "    .dataframe tbody tr th {\n",
       "        vertical-align: top;\n",
       "    }\n",
       "\n",
       "    .dataframe thead th {\n",
       "        text-align: right;\n",
       "    }\n",
       "</style>\n",
       "<table border=\"1\" class=\"dataframe\">\n",
       "  <thead>\n",
       "    <tr style=\"text-align: right;\">\n",
       "      <th></th>\n",
       "      <th>card_id</th>\n",
       "      <th>target</th>\n",
       "    </tr>\n",
       "  </thead>\n",
       "  <tbody>\n",
       "    <tr>\n",
       "      <th>123618</th>\n",
       "      <td>C_ID_7a239d2eda</td>\n",
       "      <td>1.417893</td>\n",
       "    </tr>\n",
       "    <tr>\n",
       "      <th>123619</th>\n",
       "      <td>C_ID_75ace375ae</td>\n",
       "      <td>-0.828231</td>\n",
       "    </tr>\n",
       "    <tr>\n",
       "      <th>123620</th>\n",
       "      <td>C_ID_21d56d950c</td>\n",
       "      <td>1.114384</td>\n",
       "    </tr>\n",
       "    <tr>\n",
       "      <th>123621</th>\n",
       "      <td>C_ID_6c46fc5a9d</td>\n",
       "      <td>-2.949170</td>\n",
       "    </tr>\n",
       "    <tr>\n",
       "      <th>123622</th>\n",
       "      <td>C_ID_87e7979a5f</td>\n",
       "      <td>0.172589</td>\n",
       "    </tr>\n",
       "  </tbody>\n",
       "</table>\n",
       "</div>"
      ],
      "text/plain": [
       "                card_id    target\n",
       "123618  C_ID_7a239d2eda  1.417893\n",
       "123619  C_ID_75ace375ae -0.828231\n",
       "123620  C_ID_21d56d950c  1.114384\n",
       "123621  C_ID_6c46fc5a9d -2.949170\n",
       "123622  C_ID_87e7979a5f  0.172589"
      ]
     },
     "execution_count": 52,
     "metadata": {},
     "output_type": "execute_result"
    }
   ],
   "source": [
    "model_without_outliers.tail()"
   ]
  },
  {
   "cell_type": "code",
   "execution_count": null,
   "metadata": {},
   "outputs": [],
   "source": []
  }
 ],
 "metadata": {
  "kernelspec": {
   "display_name": "Python 3",
   "language": "python",
   "name": "python3"
  },
  "language_info": {
   "codemirror_mode": {
    "name": "ipython",
    "version": 3
   },
   "file_extension": ".py",
   "mimetype": "text/x-python",
   "name": "python",
   "nbconvert_exporter": "python",
   "pygments_lexer": "ipython3",
   "version": "3.6.8"
  },
  "toc": {
   "base_numbering": 1,
   "nav_menu": {},
   "number_sections": true,
   "sideBar": true,
   "skip_h1_title": false,
   "title_cell": "Table of Contents",
   "title_sidebar": "Contents",
   "toc_cell": true,
   "toc_position": {},
   "toc_section_display": true,
   "toc_window_display": true
  }
 },
 "nbformat": 4,
 "nbformat_minor": 2
}
