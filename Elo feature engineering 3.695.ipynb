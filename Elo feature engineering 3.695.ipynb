{
 "cells": [
  {
   "cell_type": "markdown",
   "metadata": {
    "toc": true
   },
   "source": [
    "<h1>Table of Contents<span class=\"tocSkip\"></span></h1>\n",
    "<div class=\"toc\"><ul class=\"toc-item\"><li><span><a href=\"#Load-dependencies\" data-toc-modified-id=\"Load-dependencies-1\"><span class=\"toc-item-num\">1&nbsp;&nbsp;</span>Load dependencies</a></span></li><li><span><a href=\"#Read-csv-files-to-DFs\" data-toc-modified-id=\"Read-csv-files-to-DFs-2\"><span class=\"toc-item-num\">2&nbsp;&nbsp;</span>Read csv files to DFs</a></span></li><li><span><a href=\"#Fill-missing-values\" data-toc-modified-id=\"Fill-missing-values-3\"><span class=\"toc-item-num\">3&nbsp;&nbsp;</span>Fill missing values</a></span></li><li><span><a href=\"#Add-date-part\" data-toc-modified-id=\"Add-date-part-4\"><span class=\"toc-item-num\">4&nbsp;&nbsp;</span>Add date part</a></span></li><li><span><a href=\"#Add-extra-columns-(purchased-on-weekend,-monthend,-month_diff-etc.\" data-toc-modified-id=\"Add-extra-columns-(purchased-on-weekend,-monthend,-month_diff-etc.-5\"><span class=\"toc-item-num\">5&nbsp;&nbsp;</span>Add extra columns (purchased on weekend, monthend, month_diff etc.</a></span></li><li><span><a href=\"#Aggregate-by-card_id\" data-toc-modified-id=\"Aggregate-by-card_id-6\"><span class=\"toc-item-num\">6&nbsp;&nbsp;</span>Aggregate by card_id</a></span></li><li><span><a href=\"#Add-exta-interpreted-columns-on-aggregates\" data-toc-modified-id=\"Add-exta-interpreted-columns-on-aggregates-7\"><span class=\"toc-item-num\">7&nbsp;&nbsp;</span>Add exta interpreted columns on aggregates</a></span></li><li><span><a href=\"#Aggregate-on-categories\" data-toc-modified-id=\"Aggregate-on-categories-8\"><span class=\"toc-item-num\">8&nbsp;&nbsp;</span>Aggregate on categories</a></span></li><li><span><a href=\"#Load-test-&amp;-train-DFs\" data-toc-modified-id=\"Load-test-&amp;-train-DFs-9\"><span class=\"toc-item-num\">9&nbsp;&nbsp;</span>Load test &amp; train DFs</a></span></li><li><span><a href=\"#Add-date-part-to-test-&amp;-train-dfs\" data-toc-modified-id=\"Add-date-part-to-test-&amp;-train-dfs-10\"><span class=\"toc-item-num\">10&nbsp;&nbsp;</span>Add date part to test &amp; train dfs</a></span></li><li><span><a href=\"#Merge-train-&amp;-test-with-new-&amp;-old-transactions-history\" data-toc-modified-id=\"Merge-train-&amp;-test-with-new-&amp;-old-transactions-history-11\"><span class=\"toc-item-num\">11&nbsp;&nbsp;</span>Merge train &amp; test with new &amp; old transactions history</a></span></li><li><span><a href=\"#Add-extra-columns-like-age,-total-transactions,-installments,-purchase-amount,-first-buy-etc\" data-toc-modified-id=\"Add-extra-columns-like-age,-total-transactions,-installments,-purchase-amount,-first-buy-etc-12\"><span class=\"toc-item-num\">12&nbsp;&nbsp;</span>Add extra columns like age, total transactions, installments, purchase amount, first buy etc</a></span></li><li><span><a href=\"#Mark-the-outliers\" data-toc-modified-id=\"Mark-the-outliers-13\"><span class=\"toc-item-num\">13&nbsp;&nbsp;</span>Mark the outliers</a></span></li><li><span><a href=\"#Adding-train-days\" data-toc-modified-id=\"Adding-train-days-14\"><span class=\"toc-item-num\">14&nbsp;&nbsp;</span>Adding train days</a></span></li><li><span><a href=\"#Target-encode-the-outliers\" data-toc-modified-id=\"Target-encode-the-outliers-15\"><span class=\"toc-item-num\">15&nbsp;&nbsp;</span>Target encode the outliers</a></span></li></ul></div>"
   ]
  },
  {
   "cell_type": "markdown",
   "metadata": {},
   "source": [
    "1. Load dependencies\n",
    "2. Read csv files to dataframes\n",
    "3. Fill missing values\n",
    "4. Add date part \n",
    "5. Add extra columns (purchased on weekend, monthend, month_diff etc.\n",
    "6. Aggregate by card_id\n",
    "7. Aggregate by categories\n",
    "8. Mark categorical columns\n",
    "9. Add exta interpreted columns on aggregates\n",
    "10. Load test & train csvs to dfs\n",
    "11. Add date part to test & train dfs\n",
    "12. Merge train & test with new & old transactions history\n",
    "13. Add extra columns like age, total transactions, installments, purchase amount, first buy etc\n",
    "14. Mark the outliers\n",
    "15. Target encode the outliers \n",
    "16. Save to feather"
   ]
  },
  {
   "cell_type": "markdown",
   "metadata": {},
   "source": [
    "### Load dependencies"
   ]
  },
  {
   "cell_type": "code",
   "execution_count": 1,
   "metadata": {},
   "outputs": [
    {
     "data": {
      "application/javascript": [
       "IPython.notebook.set_autosave_interval(120000)"
      ]
     },
     "metadata": {},
     "output_type": "display_data"
    },
    {
     "name": "stdout",
     "output_type": "stream",
     "text": [
      "Autosaving every 120 seconds\n"
     ]
    }
   ],
   "source": [
    "%matplotlib inline\n",
    "%load_ext autoreload\n",
    "%autoreload 4\n",
    "%autosave 120"
   ]
  },
  {
   "cell_type": "code",
   "execution_count": 2,
   "metadata": {},
   "outputs": [],
   "source": [
    "from fastai.io import *\n",
    "from fastai.structured import *\n",
    "from sklearn.ensemble import RandomForestRegressor, RandomForestClassifier\n",
    "from pandas_summary import DataFrameSummary\n",
    "from IPython.display import display\n",
    "from sklearn import metrics\n",
    "import feather"
   ]
  },
  {
   "cell_type": "markdown",
   "metadata": {},
   "source": [
    "### Read csv files to DFs"
   ]
  },
  {
   "cell_type": "code",
   "execution_count": 3,
   "metadata": {},
   "outputs": [],
   "source": [
    "PATH = '../data/elo/'"
   ]
  },
  {
   "cell_type": "code",
   "execution_count": 4,
   "metadata": {},
   "outputs": [],
   "source": [
    "files = ['historical_transactions', 'new_merchant_transactions']"
   ]
  },
  {
   "cell_type": "code",
   "execution_count": 5,
   "metadata": {},
   "outputs": [],
   "source": [
    "hist_trans, new_hist_trans = [pd.read_csv(f'{PATH}{c}.csv') for c in files]"
   ]
  },
  {
   "cell_type": "markdown",
   "metadata": {},
   "source": [
    "### Fill missing values"
   ]
  },
  {
   "cell_type": "code",
   "execution_count": 6,
   "metadata": {},
   "outputs": [],
   "source": [
    "def fill_nas_for_transactions_df(df):\n",
    "    # Fill nas for category_3 with mode\n",
    "    df['category_2'].fillna(1.0,inplace=True)\n",
    "    df['category_3'].fillna('A',inplace=True)\n",
    "    df['merchant_id'].fillna('M_ID_00a6ca8a8a',inplace=True)\n",
    "    return df"
   ]
  },
  {
   "cell_type": "code",
   "execution_count": 7,
   "metadata": {},
   "outputs": [],
   "source": [
    "dfs = [hist_trans, new_hist_trans]"
   ]
  },
  {
   "cell_type": "code",
   "execution_count": 8,
   "metadata": {},
   "outputs": [],
   "source": [
    "hist_trans, new_hist_trans = [fill_nas_for_transactions_df(df) for df in dfs]"
   ]
  },
  {
   "cell_type": "markdown",
   "metadata": {},
   "source": [
    "### Add date part"
   ]
  },
  {
   "cell_type": "code",
   "execution_count": 9,
   "metadata": {},
   "outputs": [],
   "source": [
    "add_datepart(hist_trans, 'purchase_date', drop=False)\n",
    "add_datepart(new_hist_trans, 'purchase_date', drop=False)"
   ]
  },
  {
   "cell_type": "markdown",
   "metadata": {},
   "source": [
    "### Add extra columns (purchased on weekend, monthend, month_diff etc."
   ]
  },
  {
   "cell_type": "code",
   "execution_count": 10,
   "metadata": {},
   "outputs": [],
   "source": [
    "def add_extra_cols(df):\n",
    "    df['purchased_on_weekend'] = (df.purchase_Dayofweek >=5).astype(int)\n",
    "    df['month_diff'] = ((datetime.datetime.today() - df['purchase_date']).dt.days)//30\n",
    "    df['month_diff'] += df['month_lag']\n",
    "    df['authorized_flag'] = df['authorized_flag'].map({'Y':1, 'N':0})\n",
    "    df['category_1'] = df['category_1'].map({'Y':1, 'N':0}) \n",
    "    df['category_3'] = df['category_3'].map({'A':0, 'B':1, 'C':2}) \n",
    "    return df"
   ]
  },
  {
   "cell_type": "code",
   "execution_count": 11,
   "metadata": {},
   "outputs": [],
   "source": [
    "hist_trans, new_hist_trans = [add_extra_cols(df) for df in dfs]"
   ]
  },
  {
   "cell_type": "code",
   "execution_count": 12,
   "metadata": {},
   "outputs": [
    {
     "data": {
      "text/plain": [
       "((29112361, 29), (1963031, 29))"
      ]
     },
     "execution_count": 12,
     "metadata": {},
     "output_type": "execute_result"
    }
   ],
   "source": [
    "hist_trans.shape, new_hist_trans.shape"
   ]
  },
  {
   "cell_type": "code",
   "execution_count": 13,
   "metadata": {},
   "outputs": [],
   "source": [
    "hist_trans.to_feather('hist_trans')\n",
    "new_hist_trans.to_feather('new_hist_trans')"
   ]
  },
  {
   "cell_type": "code",
   "execution_count": 14,
   "metadata": {},
   "outputs": [],
   "source": [
    "hist_trans = feather.read_dataframe('hist_trans')"
   ]
  },
  {
   "cell_type": "code",
   "execution_count": 15,
   "metadata": {},
   "outputs": [],
   "source": [
    "new_hist_trans = feather.read_dataframe('new_hist_trans')"
   ]
  },
  {
   "cell_type": "markdown",
   "metadata": {},
   "source": [
    "### Aggregate by card_id"
   ]
  },
  {
   "cell_type": "code",
   "execution_count": 16,
   "metadata": {},
   "outputs": [],
   "source": [
    "# hist_trans.head().T"
   ]
  },
  {
   "cell_type": "code",
   "execution_count": 17,
   "metadata": {},
   "outputs": [],
   "source": [
    "def aggregate_by_card_id(df):\n",
    "    unique_cols = ['city_id', 'merchant_category_id', 'merchant_id', 'state_id', \n",
    "                   'subsector_id', 'purchase_Year', 'purchase_Month', 'purchase_Week', 'purchase_Day']\n",
    "    aggs = {}\n",
    "    for c in unique_cols:\n",
    "        aggs[c] = ['nunique'] \n",
    "    aggs['purchase_amount'] = ['sum','max','min','mean','var']\n",
    "    aggs['installments'] = ['sum','max','min','mean','var']\n",
    "    aggs['purchase_date'] = ['max','min']\n",
    "    aggs['month_lag'] = ['max','min','mean','var']\n",
    "    aggs['month_diff'] = ['mean', 'std', 'var']\n",
    "    aggs['authorized_flag'] = ['sum', 'mean']\n",
    "    aggs['purchased_on_weekend'] = ['sum', 'mean']\n",
    "    aggs['category_1'] = ['sum', 'mean']\n",
    "    aggs['card_id'] = ['size', 'count']\n",
    "    for col in ['category_2','category_3']:\n",
    "        df[col+'_mean'] = df.groupby([col])['purchase_amount'].transform('mean')\n",
    "        aggs[col+'_mean'] = ['mean']\n",
    "\n",
    "    new_df = df.groupby(['card_id']).agg(aggs)\n",
    "    new_df.columns = ['_'.join(col).strip() for col in new_df.columns.values]\n",
    "    new_df.reset_index(inplace=True)\n",
    "    other_df = (df.groupby('card_id')\n",
    "          .size()\n",
    "          .reset_index(name='transactions_count'))\n",
    "    \n",
    "    new_df = pd.merge(other_df, new_df, on='card_id', how='left')\n",
    "\n",
    "    new_df['purchase_date_diff'] = (new_df['purchase_date_max'] - new_df['purchase_date_min']).dt.days\n",
    "    new_df['purchase_date_average'] = new_df['purchase_date_diff']/new_df['card_id_size']\n",
    "    new_df['purchase_date_uptonow'] = (datetime.datetime.today() - new_df['purchase_date_max']).dt.days\n",
    "    new_df['purchase_date_uptomin'] = (datetime.datetime.today() - new_df['purchase_date_min']).dt.days\n",
    "    return new_df"
   ]
  },
  {
   "cell_type": "code",
   "execution_count": 18,
   "metadata": {},
   "outputs": [],
   "source": [
    "# dfs_e = [hist_trans_c_e, new_hist_trans_c_e]"
   ]
  },
  {
   "cell_type": "code",
   "execution_count": 19,
   "metadata": {},
   "outputs": [
    {
     "data": {
      "text/plain": [
       "0"
      ]
     },
     "execution_count": 19,
     "metadata": {},
     "output_type": "execute_result"
    }
   ],
   "source": [
    "import gc\n",
    "gc.collect()"
   ]
  },
  {
   "cell_type": "code",
   "execution_count": 20,
   "metadata": {
    "scrolled": true
   },
   "outputs": [
    {
     "name": "stdout",
     "output_type": "stream",
     "text": [
      "CPU times: user 1min 56s, sys: 15.8 s, total: 2min 11s\n",
      "Wall time: 1min 16s\n"
     ]
    }
   ],
   "source": [
    "%time hist_trans_agg, new_hist_trans_agg = [aggregate_by_card_id(df) for df in dfs]"
   ]
  },
  {
   "cell_type": "markdown",
   "metadata": {},
   "source": [
    "### Add exta interpreted columns on aggregates"
   ]
  },
  {
   "cell_type": "code",
   "execution_count": 21,
   "metadata": {},
   "outputs": [],
   "source": [
    "def add_extra_cols_on_agg(df):\n",
    "    df['inverse_avg_transactions_per_day'] = df['purchase_date_diff']/df['card_id_size']\n",
    "    df['days_since_last_transaction'] = (datetime.datetime.today() - df['purchase_date_max']).dt.days\n",
    "    df['repurchase_merchant_rate'] = df['transactions_count']/df['merchant_id_nunique']\n",
    "    df['merchant_category_repurchase'] = df['merchant_category_id_nunique']/df['merchant_id_nunique']\n",
    "    df['avg_spend_per_merchant'] = df['purchase_amount_sum']/df['merchant_id_nunique']\n",
    "    df['avg_trans_per_merchant'] = df['transactions_count']/df['merchant_id_nunique']\n",
    "    df['avg_spend_per_transaction'] = df['purchase_amount_sum']/df['transactions_count']\n",
    "    return df"
   ]
  },
  {
   "cell_type": "code",
   "execution_count": 22,
   "metadata": {},
   "outputs": [],
   "source": [
    "[hist_trans_agg, new_hist_trans_agg] = [add_extra_cols_on_agg(df) for df in [hist_trans_agg, \n",
    "                                                                             new_hist_trans_agg]]"
   ]
  },
  {
   "cell_type": "code",
   "execution_count": 23,
   "metadata": {},
   "outputs": [],
   "source": [
    "hist_trans_agg.to_feather('hist_trans_agg')\n",
    "new_hist_trans_agg.to_feather('new_hist_trans_agg')"
   ]
  },
  {
   "cell_type": "code",
   "execution_count": 24,
   "metadata": {},
   "outputs": [],
   "source": [
    "hist_trans_agg = feather.read_dataframe('hist_trans_agg')\n",
    "new_hist_trans_agg = feather.read_dataframe('new_hist_trans_agg')"
   ]
  },
  {
   "cell_type": "markdown",
   "metadata": {},
   "source": [
    "### Aggregate on categories"
   ]
  },
  {
   "cell_type": "code",
   "execution_count": 25,
   "metadata": {},
   "outputs": [],
   "source": [
    "def agg_on_cat(df, category, feature):\n",
    "    temp_df = df.pivot_table(index='card_id', columns=category, aggfunc={feature: ['sum', 'mean']})\n",
    "    cols = [category + '_{0[2]}_{0[0]}_{0[1]}'.format(col) for col in temp_df.columns.tolist()]\n",
    "    temp_df.columns = cols\n",
    "    return temp_df"
   ]
  },
  {
   "cell_type": "code",
   "execution_count": 26,
   "metadata": {},
   "outputs": [],
   "source": [
    "def get_cat_agg(df):\n",
    "    agg_df = agg_on_cat(df, 'category_1', 'purchase_amount')\n",
    "    agg_df = pd.merge(agg_df, agg_on_cat(df, 'category_2', 'purchase_amount'), on='card_id', how='left')\n",
    "    agg_df = pd.merge(agg_df, agg_on_cat(df, 'category_3', 'purchase_amount'), on='card_id', how='left')\n",
    "    agg_df = pd.merge(agg_df, agg_on_cat(df, 'authorized_flag', 'purchase_amount'), on='card_id', how='left')\n",
    "    return agg_df"
   ]
  },
  {
   "cell_type": "code",
   "execution_count": 27,
   "metadata": {},
   "outputs": [],
   "source": [
    "# %time hist_trans_agg_cat, new_hist_trans_agg_cat = [get_cat_agg(df) for df in [hist_trans, new_hist_trans]]"
   ]
  },
  {
   "cell_type": "code",
   "execution_count": 28,
   "metadata": {},
   "outputs": [],
   "source": [
    "# hist_trans_agg_cat.shape, new_hist_trans_agg_cat.shape"
   ]
  },
  {
   "cell_type": "markdown",
   "metadata": {},
   "source": [
    "### Load test & train DFs"
   ]
  },
  {
   "cell_type": "code",
   "execution_count": 29,
   "metadata": {},
   "outputs": [],
   "source": [
    "PATH = 'data/elo/'"
   ]
  },
  {
   "cell_type": "code",
   "execution_count": 30,
   "metadata": {},
   "outputs": [],
   "source": [
    "train, test = [pd.read_csv(f'{PATH}{c}') for c in ['train.csv', 'test.csv']]"
   ]
  },
  {
   "cell_type": "markdown",
   "metadata": {},
   "source": [
    "### Add date part to test & train dfs"
   ]
  },
  {
   "cell_type": "code",
   "execution_count": 31,
   "metadata": {},
   "outputs": [],
   "source": [
    "add_datepart(train, 'first_active_month', drop=False)\n",
    "add_datepart(test, 'first_active_month', drop=False)"
   ]
  },
  {
   "cell_type": "markdown",
   "metadata": {},
   "source": [
    "### Merge train & test with new & old transactions history"
   ]
  },
  {
   "cell_type": "code",
   "execution_count": 32,
   "metadata": {},
   "outputs": [],
   "source": [
    "def join_dfs(left, right, left_on, right_on=None, suffix='_old'):\n",
    "    if right_on is None: right_on = left_on\n",
    "    return left.merge(right, how='left', left_on=left_on, right_on=right_on, suffixes=(\"\", suffix))"
   ]
  },
  {
   "cell_type": "code",
   "execution_count": 33,
   "metadata": {},
   "outputs": [],
   "source": [
    "train_df = join_dfs(train, new_hist_trans_agg, left_on='card_id')"
   ]
  },
  {
   "cell_type": "code",
   "execution_count": 34,
   "metadata": {},
   "outputs": [],
   "source": [
    "train_df = join_dfs(train_df, hist_trans_agg, left_on='card_id', suffix='_old')\n",
    "# train_df = join_dfs(train_df, hist_trans_agg_cat, left_on='card_id', suffix='_old')"
   ]
  },
  {
   "cell_type": "code",
   "execution_count": 35,
   "metadata": {},
   "outputs": [],
   "source": [
    "test_df = join_dfs(test, new_hist_trans_agg, left_on='card_id')\n",
    "test_df = join_dfs(test_df, hist_trans_agg, left_on='card_id', suffix='_old')\n",
    "# test_df = join_dfs(test_df, new_hist_trans_agg_cat, left_on='card_id')"
   ]
  },
  {
   "cell_type": "code",
   "execution_count": 36,
   "metadata": {},
   "outputs": [
    {
     "data": {
      "text/plain": [
       "((123623, 118), (201917, 119))"
      ]
     },
     "execution_count": 36,
     "metadata": {},
     "output_type": "execute_result"
    }
   ],
   "source": [
    "test_df.shape, train_df.shape"
   ]
  },
  {
   "cell_type": "markdown",
   "metadata": {},
   "source": [
    "### Add extra columns like age, total transactions, installments, purchase amount, first buy etc"
   ]
  },
  {
   "cell_type": "code",
   "execution_count": 37,
   "metadata": {},
   "outputs": [],
   "source": [
    "for df in [train_df, test_df]:\n",
    "    df['elapsed_time'] = (datetime.datetime.today() - df['first_active_month']).dt.days\n",
    "    df['card_id_total'] = df['card_id_size']+df['card_id_size_old']\n",
    "    df['card_id_count_total'] = df['card_id_count']+df['card_id_count_old']\n",
    "    df['purchase_amount_total'] = df['purchase_amount_sum']+df['purchase_amount_sum_old']\n",
    "    df['purchase_amount_total_mean'] = df['purchase_amount_mean']+df['purchase_amount_mean_old']\n",
    "    df['installments_total'] = df['installments_sum'] + df['installments_sum_old']\n",
    "    df['hist_first_buy'] = (df['purchase_date_min_old'] - df['first_active_month']).dt.days\n",
    "    df['new_first_buy'] = (df['purchase_date_min'] - df['first_active_month']).dt.days\n",
    "    df['hist_last_buy'] = (df['purchase_date_max_old'] - df['first_active_month']).dt.days\n",
    "    df['new_last_buy'] = (df['purchase_date_max'] - df['first_active_month']).dt.days\n",
    "    df['purchase_amount_max_total'] = df['purchase_amount_max'] + df['purchase_amount_min_old']\n",
    "    df['avg_spend_per_transaction'] = df['purchase_amount_total']/df['card_id_total']"
   ]
  },
  {
   "cell_type": "markdown",
   "metadata": {},
   "source": [
    "### Mark the outliers"
   ]
  },
  {
   "cell_type": "code",
   "execution_count": 38,
   "metadata": {},
   "outputs": [
    {
     "data": {
      "text/plain": [
       "0    199710\n",
       "1      2207\n",
       "Name: outliers, dtype: int64"
      ]
     },
     "execution_count": 38,
     "metadata": {},
     "output_type": "execute_result"
    }
   ],
   "source": [
    "train_df['outliers'] = 0\n",
    "train_df.loc[train_df['target'] < -30, 'outliers'] = 1\n",
    "train_df['outliers'].value_counts()"
   ]
  },
  {
   "cell_type": "markdown",
   "metadata": {},
   "source": [
    "### Adding train days"
   ]
  },
  {
   "cell_type": "code",
   "execution_count": 39,
   "metadata": {},
   "outputs": [],
   "source": [
    "train_df['days'] = (datetime.date(2018, 2, 1) - train['first_active_month'].dt.date).dt.days"
   ]
  },
  {
   "cell_type": "code",
   "execution_count": 40,
   "metadata": {},
   "outputs": [],
   "source": [
    "def add_days_feature_interaction(df):\n",
    "    df['days'] = (datetime.date(2018, 2, 1) - df['first_active_month'].dt.date).dt.days\n",
    "    df['days_feature1'] = df['days'] * df['feature_1']\n",
    "    df['days_feature2'] = df['days'] * df['feature_2']\n",
    "    df['days_feature3'] = df['days'] * df['feature_3']\n",
    "    return df"
   ]
  },
  {
   "cell_type": "code",
   "execution_count": 41,
   "metadata": {},
   "outputs": [],
   "source": [
    "train_df, test_df = [add_days_feature_interaction(d) for d in [train_df, test_df]]"
   ]
  },
  {
   "cell_type": "code",
   "execution_count": 42,
   "metadata": {},
   "outputs": [
    {
     "data": {
      "text/html": [
       "<div>\n",
       "<style scoped>\n",
       "    .dataframe tbody tr th:only-of-type {\n",
       "        vertical-align: middle;\n",
       "    }\n",
       "\n",
       "    .dataframe tbody tr th {\n",
       "        vertical-align: top;\n",
       "    }\n",
       "\n",
       "    .dataframe thead th {\n",
       "        text-align: right;\n",
       "    }\n",
       "</style>\n",
       "<table border=\"1\" class=\"dataframe\">\n",
       "  <thead>\n",
       "    <tr style=\"text-align: right;\">\n",
       "      <th></th>\n",
       "      <th>0</th>\n",
       "      <th>1</th>\n",
       "      <th>2</th>\n",
       "      <th>3</th>\n",
       "      <th>4</th>\n",
       "    </tr>\n",
       "  </thead>\n",
       "  <tbody>\n",
       "    <tr>\n",
       "      <th>first_active_month</th>\n",
       "      <td>2017-06-01 00:00:00</td>\n",
       "      <td>2017-01-01 00:00:00</td>\n",
       "      <td>2016-08-01 00:00:00</td>\n",
       "      <td>2017-09-01 00:00:00</td>\n",
       "      <td>2017-11-01 00:00:00</td>\n",
       "    </tr>\n",
       "    <tr>\n",
       "      <th>card_id</th>\n",
       "      <td>C_ID_92a2005557</td>\n",
       "      <td>C_ID_3d0044924f</td>\n",
       "      <td>C_ID_d639edf6cd</td>\n",
       "      <td>C_ID_186d6a6901</td>\n",
       "      <td>C_ID_cdbd2c0db2</td>\n",
       "    </tr>\n",
       "    <tr>\n",
       "      <th>feature_1</th>\n",
       "      <td>5</td>\n",
       "      <td>4</td>\n",
       "      <td>2</td>\n",
       "      <td>4</td>\n",
       "      <td>1</td>\n",
       "    </tr>\n",
       "    <tr>\n",
       "      <th>feature_2</th>\n",
       "      <td>2</td>\n",
       "      <td>1</td>\n",
       "      <td>2</td>\n",
       "      <td>3</td>\n",
       "      <td>3</td>\n",
       "    </tr>\n",
       "    <tr>\n",
       "      <th>feature_3</th>\n",
       "      <td>1</td>\n",
       "      <td>0</td>\n",
       "      <td>0</td>\n",
       "      <td>0</td>\n",
       "      <td>0</td>\n",
       "    </tr>\n",
       "    <tr>\n",
       "      <th>target</th>\n",
       "      <td>-0.820283</td>\n",
       "      <td>0.392913</td>\n",
       "      <td>0.688056</td>\n",
       "      <td>0.142495</td>\n",
       "      <td>-0.159749</td>\n",
       "    </tr>\n",
       "    <tr>\n",
       "      <th>first_active_monthYear</th>\n",
       "      <td>2017</td>\n",
       "      <td>2017</td>\n",
       "      <td>2016</td>\n",
       "      <td>2017</td>\n",
       "      <td>2017</td>\n",
       "    </tr>\n",
       "    <tr>\n",
       "      <th>first_active_monthMonth</th>\n",
       "      <td>6</td>\n",
       "      <td>1</td>\n",
       "      <td>8</td>\n",
       "      <td>9</td>\n",
       "      <td>11</td>\n",
       "    </tr>\n",
       "    <tr>\n",
       "      <th>first_active_monthWeek</th>\n",
       "      <td>22</td>\n",
       "      <td>52</td>\n",
       "      <td>31</td>\n",
       "      <td>35</td>\n",
       "      <td>44</td>\n",
       "    </tr>\n",
       "    <tr>\n",
       "      <th>first_active_monthDay</th>\n",
       "      <td>1</td>\n",
       "      <td>1</td>\n",
       "      <td>1</td>\n",
       "      <td>1</td>\n",
       "      <td>1</td>\n",
       "    </tr>\n",
       "    <tr>\n",
       "      <th>first_active_monthDayofweek</th>\n",
       "      <td>3</td>\n",
       "      <td>6</td>\n",
       "      <td>0</td>\n",
       "      <td>4</td>\n",
       "      <td>2</td>\n",
       "    </tr>\n",
       "    <tr>\n",
       "      <th>first_active_monthDayofyear</th>\n",
       "      <td>152</td>\n",
       "      <td>1</td>\n",
       "      <td>214</td>\n",
       "      <td>244</td>\n",
       "      <td>305</td>\n",
       "    </tr>\n",
       "    <tr>\n",
       "      <th>first_active_monthIs_month_end</th>\n",
       "      <td>False</td>\n",
       "      <td>False</td>\n",
       "      <td>False</td>\n",
       "      <td>False</td>\n",
       "      <td>False</td>\n",
       "    </tr>\n",
       "    <tr>\n",
       "      <th>first_active_monthIs_month_start</th>\n",
       "      <td>True</td>\n",
       "      <td>True</td>\n",
       "      <td>True</td>\n",
       "      <td>True</td>\n",
       "      <td>True</td>\n",
       "    </tr>\n",
       "    <tr>\n",
       "      <th>first_active_monthIs_quarter_end</th>\n",
       "      <td>False</td>\n",
       "      <td>False</td>\n",
       "      <td>False</td>\n",
       "      <td>False</td>\n",
       "      <td>False</td>\n",
       "    </tr>\n",
       "    <tr>\n",
       "      <th>first_active_monthIs_quarter_start</th>\n",
       "      <td>False</td>\n",
       "      <td>True</td>\n",
       "      <td>False</td>\n",
       "      <td>False</td>\n",
       "      <td>False</td>\n",
       "    </tr>\n",
       "    <tr>\n",
       "      <th>first_active_monthIs_year_end</th>\n",
       "      <td>False</td>\n",
       "      <td>False</td>\n",
       "      <td>False</td>\n",
       "      <td>False</td>\n",
       "      <td>False</td>\n",
       "    </tr>\n",
       "    <tr>\n",
       "      <th>first_active_monthIs_year_start</th>\n",
       "      <td>False</td>\n",
       "      <td>True</td>\n",
       "      <td>False</td>\n",
       "      <td>False</td>\n",
       "      <td>False</td>\n",
       "    </tr>\n",
       "    <tr>\n",
       "      <th>first_active_monthElapsed</th>\n",
       "      <td>1496275200</td>\n",
       "      <td>1483228800</td>\n",
       "      <td>1470009600</td>\n",
       "      <td>1504224000</td>\n",
       "      <td>1509494400</td>\n",
       "    </tr>\n",
       "    <tr>\n",
       "      <th>transactions_count</th>\n",
       "      <td>23</td>\n",
       "      <td>6</td>\n",
       "      <td>1</td>\n",
       "      <td>7</td>\n",
       "      <td>36</td>\n",
       "    </tr>\n",
       "    <tr>\n",
       "      <th>city_id_nunique</th>\n",
       "      <td>3</td>\n",
       "      <td>1</td>\n",
       "      <td>1</td>\n",
       "      <td>2</td>\n",
       "      <td>5</td>\n",
       "    </tr>\n",
       "    <tr>\n",
       "      <th>merchant_category_id_nunique</th>\n",
       "      <td>14</td>\n",
       "      <td>5</td>\n",
       "      <td>1</td>\n",
       "      <td>6</td>\n",
       "      <td>17</td>\n",
       "    </tr>\n",
       "    <tr>\n",
       "      <th>merchant_id_nunique</th>\n",
       "      <td>23</td>\n",
       "      <td>6</td>\n",
       "      <td>1</td>\n",
       "      <td>7</td>\n",
       "      <td>36</td>\n",
       "    </tr>\n",
       "    <tr>\n",
       "      <th>state_id_nunique</th>\n",
       "      <td>1</td>\n",
       "      <td>1</td>\n",
       "      <td>1</td>\n",
       "      <td>2</td>\n",
       "      <td>5</td>\n",
       "    </tr>\n",
       "    <tr>\n",
       "      <th>subsector_id_nunique</th>\n",
       "      <td>10</td>\n",
       "      <td>4</td>\n",
       "      <td>1</td>\n",
       "      <td>5</td>\n",
       "      <td>10</td>\n",
       "    </tr>\n",
       "    <tr>\n",
       "      <th>purchase_Year_nunique</th>\n",
       "      <td>1</td>\n",
       "      <td>1</td>\n",
       "      <td>1</td>\n",
       "      <td>1</td>\n",
       "      <td>1</td>\n",
       "    </tr>\n",
       "    <tr>\n",
       "      <th>purchase_Month_nunique</th>\n",
       "      <td>2</td>\n",
       "      <td>2</td>\n",
       "      <td>1</td>\n",
       "      <td>2</td>\n",
       "      <td>2</td>\n",
       "    </tr>\n",
       "    <tr>\n",
       "      <th>purchase_Week_nunique</th>\n",
       "      <td>7</td>\n",
       "      <td>4</td>\n",
       "      <td>1</td>\n",
       "      <td>5</td>\n",
       "      <td>8</td>\n",
       "    </tr>\n",
       "    <tr>\n",
       "      <th>purchase_Day_nunique</th>\n",
       "      <td>17</td>\n",
       "      <td>4</td>\n",
       "      <td>1</td>\n",
       "      <td>7</td>\n",
       "      <td>22</td>\n",
       "    </tr>\n",
       "    <tr>\n",
       "      <th>purchase_amount_sum</th>\n",
       "      <td>-13.2442</td>\n",
       "      <td>-4.35573</td>\n",
       "      <td>-0.700326</td>\n",
       "      <td>-4.65437</td>\n",
       "      <td>-19.9262</td>\n",
       "    </tr>\n",
       "    <tr>\n",
       "      <th>...</th>\n",
       "      <td>...</td>\n",
       "      <td>...</td>\n",
       "      <td>...</td>\n",
       "      <td>...</td>\n",
       "      <td>...</td>\n",
       "    </tr>\n",
       "    <tr>\n",
       "      <th>card_id_count_old</th>\n",
       "      <td>260</td>\n",
       "      <td>350</td>\n",
       "      <td>43</td>\n",
       "      <td>77</td>\n",
       "      <td>133</td>\n",
       "    </tr>\n",
       "    <tr>\n",
       "      <th>category_2_mean_mean_old</th>\n",
       "      <td>0.0725022</td>\n",
       "      <td>0.0745679</td>\n",
       "      <td>-0.0878033</td>\n",
       "      <td>-0.0861658</td>\n",
       "      <td>-0.114647</td>\n",
       "    </tr>\n",
       "    <tr>\n",
       "      <th>category_3_mean_mean_old</th>\n",
       "      <td>0.346719</td>\n",
       "      <td>-0.295163</td>\n",
       "      <td>0.358458</td>\n",
       "      <td>-0.338321</td>\n",
       "      <td>-0.377684</td>\n",
       "    </tr>\n",
       "    <tr>\n",
       "      <th>purchase_date_diff_old</th>\n",
       "      <td>242</td>\n",
       "      <td>390</td>\n",
       "      <td>412</td>\n",
       "      <td>154</td>\n",
       "      <td>108</td>\n",
       "    </tr>\n",
       "    <tr>\n",
       "      <th>purchase_date_average_old</th>\n",
       "      <td>0.930769</td>\n",
       "      <td>1.11429</td>\n",
       "      <td>9.5814</td>\n",
       "      <td>2</td>\n",
       "      <td>0.81203</td>\n",
       "    </tr>\n",
       "    <tr>\n",
       "      <th>purchase_date_uptonow_old</th>\n",
       "      <td>329</td>\n",
       "      <td>353</td>\n",
       "      <td>327</td>\n",
       "      <td>326</td>\n",
       "      <td>325</td>\n",
       "    </tr>\n",
       "    <tr>\n",
       "      <th>purchase_date_uptomin_old</th>\n",
       "      <td>572</td>\n",
       "      <td>744</td>\n",
       "      <td>739</td>\n",
       "      <td>481</td>\n",
       "      <td>434</td>\n",
       "    </tr>\n",
       "    <tr>\n",
       "      <th>inverse_avg_transactions_per_day_old</th>\n",
       "      <td>0.930769</td>\n",
       "      <td>1.11429</td>\n",
       "      <td>9.5814</td>\n",
       "      <td>2</td>\n",
       "      <td>0.81203</td>\n",
       "    </tr>\n",
       "    <tr>\n",
       "      <th>days_since_last_transaction_old</th>\n",
       "      <td>329</td>\n",
       "      <td>353</td>\n",
       "      <td>327</td>\n",
       "      <td>326</td>\n",
       "      <td>325</td>\n",
       "    </tr>\n",
       "    <tr>\n",
       "      <th>repurchase_merchant_rate_old</th>\n",
       "      <td>2.76596</td>\n",
       "      <td>2.46479</td>\n",
       "      <td>3.30769</td>\n",
       "      <td>1.54</td>\n",
       "      <td>2.01515</td>\n",
       "    </tr>\n",
       "    <tr>\n",
       "      <th>merchant_category_repurchase_old</th>\n",
       "      <td>0.43617</td>\n",
       "      <td>0.401408</td>\n",
       "      <td>0.615385</td>\n",
       "      <td>0.5</td>\n",
       "      <td>0.393939</td>\n",
       "    </tr>\n",
       "    <tr>\n",
       "      <th>avg_spend_per_merchant_old</th>\n",
       "      <td>-1.76562</td>\n",
       "      <td>-1.47892</td>\n",
       "      <td>-2.24365</td>\n",
       "      <td>-0.989827</td>\n",
       "      <td>-0.737692</td>\n",
       "    </tr>\n",
       "    <tr>\n",
       "      <th>avg_trans_per_merchant_old</th>\n",
       "      <td>2.76596</td>\n",
       "      <td>2.46479</td>\n",
       "      <td>3.30769</td>\n",
       "      <td>1.54</td>\n",
       "      <td>2.01515</td>\n",
       "    </tr>\n",
       "    <tr>\n",
       "      <th>avg_spend_per_transaction_old</th>\n",
       "      <td>-0.638341</td>\n",
       "      <td>-0.600018</td>\n",
       "      <td>-0.678311</td>\n",
       "      <td>-0.642745</td>\n",
       "      <td>-0.366073</td>\n",
       "    </tr>\n",
       "    <tr>\n",
       "      <th>elapsed_time</th>\n",
       "      <td>598</td>\n",
       "      <td>749</td>\n",
       "      <td>902</td>\n",
       "      <td>506</td>\n",
       "      <td>445</td>\n",
       "    </tr>\n",
       "    <tr>\n",
       "      <th>card_id_total</th>\n",
       "      <td>283</td>\n",
       "      <td>356</td>\n",
       "      <td>44</td>\n",
       "      <td>84</td>\n",
       "      <td>169</td>\n",
       "    </tr>\n",
       "    <tr>\n",
       "      <th>card_id_count_total</th>\n",
       "      <td>283</td>\n",
       "      <td>356</td>\n",
       "      <td>44</td>\n",
       "      <td>84</td>\n",
       "      <td>169</td>\n",
       "    </tr>\n",
       "    <tr>\n",
       "      <th>purchase_amount_total</th>\n",
       "      <td>-179.213</td>\n",
       "      <td>-214.362</td>\n",
       "      <td>-29.8677</td>\n",
       "      <td>-54.1457</td>\n",
       "      <td>-68.6139</td>\n",
       "    </tr>\n",
       "    <tr>\n",
       "      <th>purchase_amount_total_mean</th>\n",
       "      <td>-1.21418</td>\n",
       "      <td>-1.32597</td>\n",
       "      <td>-1.37864</td>\n",
       "      <td>-1.30766</td>\n",
       "      <td>-0.919579</td>\n",
       "    </tr>\n",
       "    <tr>\n",
       "      <th>installments_total</th>\n",
       "      <td>4</td>\n",
       "      <td>549</td>\n",
       "      <td>0</td>\n",
       "      <td>89</td>\n",
       "      <td>217</td>\n",
       "    </tr>\n",
       "    <tr>\n",
       "      <th>hist_first_buy</th>\n",
       "      <td>26</td>\n",
       "      <td>5</td>\n",
       "      <td>163</td>\n",
       "      <td>25</td>\n",
       "      <td>11</td>\n",
       "    </tr>\n",
       "    <tr>\n",
       "      <th>new_first_buy</th>\n",
       "      <td>277</td>\n",
       "      <td>396</td>\n",
       "      <td>635</td>\n",
       "      <td>187</td>\n",
       "      <td>121</td>\n",
       "    </tr>\n",
       "    <tr>\n",
       "      <th>hist_last_buy</th>\n",
       "      <td>269</td>\n",
       "      <td>395</td>\n",
       "      <td>575</td>\n",
       "      <td>180</td>\n",
       "      <td>119</td>\n",
       "    </tr>\n",
       "    <tr>\n",
       "      <th>new_last_buy</th>\n",
       "      <td>332</td>\n",
       "      <td>453</td>\n",
       "      <td>635</td>\n",
       "      <td>229</td>\n",
       "      <td>178</td>\n",
       "    </tr>\n",
       "    <tr>\n",
       "      <th>purchase_amount_max_total</th>\n",
       "      <td>-1.03551</td>\n",
       "      <td>-1.44426</td>\n",
       "      <td>-1.43046</td>\n",
       "      <td>-1.30764</td>\n",
       "      <td>-0.295271</td>\n",
       "    </tr>\n",
       "    <tr>\n",
       "      <th>outliers</th>\n",
       "      <td>0</td>\n",
       "      <td>0</td>\n",
       "      <td>0</td>\n",
       "      <td>0</td>\n",
       "      <td>0</td>\n",
       "    </tr>\n",
       "    <tr>\n",
       "      <th>days</th>\n",
       "      <td>245</td>\n",
       "      <td>396</td>\n",
       "      <td>549</td>\n",
       "      <td>153</td>\n",
       "      <td>92</td>\n",
       "    </tr>\n",
       "    <tr>\n",
       "      <th>days_feature1</th>\n",
       "      <td>1225</td>\n",
       "      <td>1584</td>\n",
       "      <td>1098</td>\n",
       "      <td>612</td>\n",
       "      <td>92</td>\n",
       "    </tr>\n",
       "    <tr>\n",
       "      <th>days_feature2</th>\n",
       "      <td>490</td>\n",
       "      <td>396</td>\n",
       "      <td>1098</td>\n",
       "      <td>459</td>\n",
       "      <td>276</td>\n",
       "    </tr>\n",
       "    <tr>\n",
       "      <th>days_feature3</th>\n",
       "      <td>245</td>\n",
       "      <td>0</td>\n",
       "      <td>0</td>\n",
       "      <td>0</td>\n",
       "      <td>0</td>\n",
       "    </tr>\n",
       "  </tbody>\n",
       "</table>\n",
       "<p>135 rows × 5 columns</p>\n",
       "</div>"
      ],
      "text/plain": [
       "                                                        0  \\\n",
       "first_active_month                    2017-06-01 00:00:00   \n",
       "card_id                                   C_ID_92a2005557   \n",
       "feature_1                                               5   \n",
       "feature_2                                               2   \n",
       "feature_3                                               1   \n",
       "target                                          -0.820283   \n",
       "first_active_monthYear                               2017   \n",
       "first_active_monthMonth                                 6   \n",
       "first_active_monthWeek                                 22   \n",
       "first_active_monthDay                                   1   \n",
       "first_active_monthDayofweek                             3   \n",
       "first_active_monthDayofyear                           152   \n",
       "first_active_monthIs_month_end                      False   \n",
       "first_active_monthIs_month_start                     True   \n",
       "first_active_monthIs_quarter_end                    False   \n",
       "first_active_monthIs_quarter_start                  False   \n",
       "first_active_monthIs_year_end                       False   \n",
       "first_active_monthIs_year_start                     False   \n",
       "first_active_monthElapsed                      1496275200   \n",
       "transactions_count                                     23   \n",
       "city_id_nunique                                         3   \n",
       "merchant_category_id_nunique                           14   \n",
       "merchant_id_nunique                                    23   \n",
       "state_id_nunique                                        1   \n",
       "subsector_id_nunique                                   10   \n",
       "purchase_Year_nunique                                   1   \n",
       "purchase_Month_nunique                                  2   \n",
       "purchase_Week_nunique                                   7   \n",
       "purchase_Day_nunique                                   17   \n",
       "purchase_amount_sum                              -13.2442   \n",
       "...                                                   ...   \n",
       "card_id_count_old                                     260   \n",
       "category_2_mean_mean_old                        0.0725022   \n",
       "category_3_mean_mean_old                         0.346719   \n",
       "purchase_date_diff_old                                242   \n",
       "purchase_date_average_old                        0.930769   \n",
       "purchase_date_uptonow_old                             329   \n",
       "purchase_date_uptomin_old                             572   \n",
       "inverse_avg_transactions_per_day_old             0.930769   \n",
       "days_since_last_transaction_old                       329   \n",
       "repurchase_merchant_rate_old                      2.76596   \n",
       "merchant_category_repurchase_old                  0.43617   \n",
       "avg_spend_per_merchant_old                       -1.76562   \n",
       "avg_trans_per_merchant_old                        2.76596   \n",
       "avg_spend_per_transaction_old                   -0.638341   \n",
       "elapsed_time                                          598   \n",
       "card_id_total                                         283   \n",
       "card_id_count_total                                   283   \n",
       "purchase_amount_total                            -179.213   \n",
       "purchase_amount_total_mean                       -1.21418   \n",
       "installments_total                                      4   \n",
       "hist_first_buy                                         26   \n",
       "new_first_buy                                         277   \n",
       "hist_last_buy                                         269   \n",
       "new_last_buy                                          332   \n",
       "purchase_amount_max_total                        -1.03551   \n",
       "outliers                                                0   \n",
       "days                                                  245   \n",
       "days_feature1                                        1225   \n",
       "days_feature2                                         490   \n",
       "days_feature3                                         245   \n",
       "\n",
       "                                                        1  \\\n",
       "first_active_month                    2017-01-01 00:00:00   \n",
       "card_id                                   C_ID_3d0044924f   \n",
       "feature_1                                               4   \n",
       "feature_2                                               1   \n",
       "feature_3                                               0   \n",
       "target                                           0.392913   \n",
       "first_active_monthYear                               2017   \n",
       "first_active_monthMonth                                 1   \n",
       "first_active_monthWeek                                 52   \n",
       "first_active_monthDay                                   1   \n",
       "first_active_monthDayofweek                             6   \n",
       "first_active_monthDayofyear                             1   \n",
       "first_active_monthIs_month_end                      False   \n",
       "first_active_monthIs_month_start                     True   \n",
       "first_active_monthIs_quarter_end                    False   \n",
       "first_active_monthIs_quarter_start                   True   \n",
       "first_active_monthIs_year_end                       False   \n",
       "first_active_monthIs_year_start                      True   \n",
       "first_active_monthElapsed                      1483228800   \n",
       "transactions_count                                      6   \n",
       "city_id_nunique                                         1   \n",
       "merchant_category_id_nunique                            5   \n",
       "merchant_id_nunique                                     6   \n",
       "state_id_nunique                                        1   \n",
       "subsector_id_nunique                                    4   \n",
       "purchase_Year_nunique                                   1   \n",
       "purchase_Month_nunique                                  2   \n",
       "purchase_Week_nunique                                   4   \n",
       "purchase_Day_nunique                                    4   \n",
       "purchase_amount_sum                              -4.35573   \n",
       "...                                                   ...   \n",
       "card_id_count_old                                     350   \n",
       "category_2_mean_mean_old                        0.0745679   \n",
       "category_3_mean_mean_old                        -0.295163   \n",
       "purchase_date_diff_old                                390   \n",
       "purchase_date_average_old                         1.11429   \n",
       "purchase_date_uptonow_old                             353   \n",
       "purchase_date_uptomin_old                             744   \n",
       "inverse_avg_transactions_per_day_old              1.11429   \n",
       "days_since_last_transaction_old                       353   \n",
       "repurchase_merchant_rate_old                      2.46479   \n",
       "merchant_category_repurchase_old                 0.401408   \n",
       "avg_spend_per_merchant_old                       -1.47892   \n",
       "avg_trans_per_merchant_old                        2.46479   \n",
       "avg_spend_per_transaction_old                   -0.600018   \n",
       "elapsed_time                                          749   \n",
       "card_id_total                                         356   \n",
       "card_id_count_total                                   356   \n",
       "purchase_amount_total                            -214.362   \n",
       "purchase_amount_total_mean                       -1.32597   \n",
       "installments_total                                    549   \n",
       "hist_first_buy                                          5   \n",
       "new_first_buy                                         396   \n",
       "hist_last_buy                                         395   \n",
       "new_last_buy                                          453   \n",
       "purchase_amount_max_total                        -1.44426   \n",
       "outliers                                                0   \n",
       "days                                                  396   \n",
       "days_feature1                                        1584   \n",
       "days_feature2                                         396   \n",
       "days_feature3                                           0   \n",
       "\n",
       "                                                        2  \\\n",
       "first_active_month                    2016-08-01 00:00:00   \n",
       "card_id                                   C_ID_d639edf6cd   \n",
       "feature_1                                               2   \n",
       "feature_2                                               2   \n",
       "feature_3                                               0   \n",
       "target                                           0.688056   \n",
       "first_active_monthYear                               2016   \n",
       "first_active_monthMonth                                 8   \n",
       "first_active_monthWeek                                 31   \n",
       "first_active_monthDay                                   1   \n",
       "first_active_monthDayofweek                             0   \n",
       "first_active_monthDayofyear                           214   \n",
       "first_active_monthIs_month_end                      False   \n",
       "first_active_monthIs_month_start                     True   \n",
       "first_active_monthIs_quarter_end                    False   \n",
       "first_active_monthIs_quarter_start                  False   \n",
       "first_active_monthIs_year_end                       False   \n",
       "first_active_monthIs_year_start                     False   \n",
       "first_active_monthElapsed                      1470009600   \n",
       "transactions_count                                      1   \n",
       "city_id_nunique                                         1   \n",
       "merchant_category_id_nunique                            1   \n",
       "merchant_id_nunique                                     1   \n",
       "state_id_nunique                                        1   \n",
       "subsector_id_nunique                                    1   \n",
       "purchase_Year_nunique                                   1   \n",
       "purchase_Month_nunique                                  1   \n",
       "purchase_Week_nunique                                   1   \n",
       "purchase_Day_nunique                                    1   \n",
       "purchase_amount_sum                             -0.700326   \n",
       "...                                                   ...   \n",
       "card_id_count_old                                      43   \n",
       "category_2_mean_mean_old                       -0.0878033   \n",
       "category_3_mean_mean_old                         0.358458   \n",
       "purchase_date_diff_old                                412   \n",
       "purchase_date_average_old                          9.5814   \n",
       "purchase_date_uptonow_old                             327   \n",
       "purchase_date_uptomin_old                             739   \n",
       "inverse_avg_transactions_per_day_old               9.5814   \n",
       "days_since_last_transaction_old                       327   \n",
       "repurchase_merchant_rate_old                      3.30769   \n",
       "merchant_category_repurchase_old                 0.615385   \n",
       "avg_spend_per_merchant_old                       -2.24365   \n",
       "avg_trans_per_merchant_old                        3.30769   \n",
       "avg_spend_per_transaction_old                   -0.678311   \n",
       "elapsed_time                                          902   \n",
       "card_id_total                                          44   \n",
       "card_id_count_total                                    44   \n",
       "purchase_amount_total                            -29.8677   \n",
       "purchase_amount_total_mean                       -1.37864   \n",
       "installments_total                                      0   \n",
       "hist_first_buy                                        163   \n",
       "new_first_buy                                         635   \n",
       "hist_last_buy                                         575   \n",
       "new_last_buy                                          635   \n",
       "purchase_amount_max_total                        -1.43046   \n",
       "outliers                                                0   \n",
       "days                                                  549   \n",
       "days_feature1                                        1098   \n",
       "days_feature2                                        1098   \n",
       "days_feature3                                           0   \n",
       "\n",
       "                                                        3                    4  \n",
       "first_active_month                    2017-09-01 00:00:00  2017-11-01 00:00:00  \n",
       "card_id                                   C_ID_186d6a6901      C_ID_cdbd2c0db2  \n",
       "feature_1                                               4                    1  \n",
       "feature_2                                               3                    3  \n",
       "feature_3                                               0                    0  \n",
       "target                                           0.142495            -0.159749  \n",
       "first_active_monthYear                               2017                 2017  \n",
       "first_active_monthMonth                                 9                   11  \n",
       "first_active_monthWeek                                 35                   44  \n",
       "first_active_monthDay                                   1                    1  \n",
       "first_active_monthDayofweek                             4                    2  \n",
       "first_active_monthDayofyear                           244                  305  \n",
       "first_active_monthIs_month_end                      False                False  \n",
       "first_active_monthIs_month_start                     True                 True  \n",
       "first_active_monthIs_quarter_end                    False                False  \n",
       "first_active_monthIs_quarter_start                  False                False  \n",
       "first_active_monthIs_year_end                       False                False  \n",
       "first_active_monthIs_year_start                     False                False  \n",
       "first_active_monthElapsed                      1504224000           1509494400  \n",
       "transactions_count                                      7                   36  \n",
       "city_id_nunique                                         2                    5  \n",
       "merchant_category_id_nunique                            6                   17  \n",
       "merchant_id_nunique                                     7                   36  \n",
       "state_id_nunique                                        2                    5  \n",
       "subsector_id_nunique                                    5                   10  \n",
       "purchase_Year_nunique                                   1                    1  \n",
       "purchase_Month_nunique                                  2                    2  \n",
       "purchase_Week_nunique                                   5                    8  \n",
       "purchase_Day_nunique                                    7                   22  \n",
       "purchase_amount_sum                              -4.65437             -19.9262  \n",
       "...                                                   ...                  ...  \n",
       "card_id_count_old                                      77                  133  \n",
       "category_2_mean_mean_old                       -0.0861658            -0.114647  \n",
       "category_3_mean_mean_old                        -0.338321            -0.377684  \n",
       "purchase_date_diff_old                                154                  108  \n",
       "purchase_date_average_old                               2              0.81203  \n",
       "purchase_date_uptonow_old                             326                  325  \n",
       "purchase_date_uptomin_old                             481                  434  \n",
       "inverse_avg_transactions_per_day_old                    2              0.81203  \n",
       "days_since_last_transaction_old                       326                  325  \n",
       "repurchase_merchant_rate_old                         1.54              2.01515  \n",
       "merchant_category_repurchase_old                      0.5             0.393939  \n",
       "avg_spend_per_merchant_old                      -0.989827            -0.737692  \n",
       "avg_trans_per_merchant_old                           1.54              2.01515  \n",
       "avg_spend_per_transaction_old                   -0.642745            -0.366073  \n",
       "elapsed_time                                          506                  445  \n",
       "card_id_total                                          84                  169  \n",
       "card_id_count_total                                    84                  169  \n",
       "purchase_amount_total                            -54.1457             -68.6139  \n",
       "purchase_amount_total_mean                       -1.30766            -0.919579  \n",
       "installments_total                                     89                  217  \n",
       "hist_first_buy                                         25                   11  \n",
       "new_first_buy                                         187                  121  \n",
       "hist_last_buy                                         180                  119  \n",
       "new_last_buy                                          229                  178  \n",
       "purchase_amount_max_total                        -1.30764            -0.295271  \n",
       "outliers                                                0                    0  \n",
       "days                                                  153                   92  \n",
       "days_feature1                                         612                   92  \n",
       "days_feature2                                         459                  276  \n",
       "days_feature3                                           0                    0  \n",
       "\n",
       "[135 rows x 5 columns]"
      ]
     },
     "execution_count": 42,
     "metadata": {},
     "output_type": "execute_result"
    }
   ],
   "source": [
    "train_df.head().T"
   ]
  },
  {
   "cell_type": "markdown",
   "metadata": {},
   "source": [
    "### Target encode the outliers "
   ]
  },
  {
   "cell_type": "code",
   "execution_count": 43,
   "metadata": {},
   "outputs": [
    {
     "data": {
      "text/plain": [
       "((201917, 135), (123623, 133))"
      ]
     },
     "execution_count": 43,
     "metadata": {},
     "output_type": "execute_result"
    }
   ],
   "source": [
    "train_df.shape, test_df.shape"
   ]
  },
  {
   "cell_type": "code",
   "execution_count": 44,
   "metadata": {},
   "outputs": [],
   "source": [
    "for f in ['feature_1','feature_2','feature_3']:\n",
    "    order_label = train_df.groupby([f])['outliers'].mean()\n",
    "    train_df[f] = train_df[f].map(order_label)\n",
    "    test_df[f] = test_df[f].map(order_label)"
   ]
  },
  {
   "cell_type": "code",
   "execution_count": 46,
   "metadata": {},
   "outputs": [],
   "source": [
    "train_df.to_feather('train_df_3.695')\n",
    "test_df.to_feather('test_df_3.695')"
   ]
  },
  {
   "cell_type": "code",
   "execution_count": 50,
   "metadata": {
    "scrolled": true
   },
   "outputs": [],
   "source": [
    "# train_df.columns.values"
   ]
  },
  {
   "cell_type": "code",
   "execution_count": null,
   "metadata": {},
   "outputs": [],
   "source": []
  }
 ],
 "metadata": {
  "kernelspec": {
   "display_name": "Python 3",
   "language": "python",
   "name": "python3"
  },
  "language_info": {
   "codemirror_mode": {
    "name": "ipython",
    "version": 3
   },
   "file_extension": ".py",
   "mimetype": "text/x-python",
   "name": "python",
   "nbconvert_exporter": "python",
   "pygments_lexer": "ipython3",
   "version": "3.6.6"
  },
  "toc": {
   "base_numbering": 1,
   "nav_menu": {},
   "number_sections": true,
   "sideBar": true,
   "skip_h1_title": false,
   "title_cell": "Table of Contents",
   "title_sidebar": "Contents",
   "toc_cell": true,
   "toc_position": {},
   "toc_section_display": true,
   "toc_window_display": true
  }
 },
 "nbformat": 4,
 "nbformat_minor": 2
}
