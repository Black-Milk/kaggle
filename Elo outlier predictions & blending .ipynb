{
 "cells": [
  {
   "cell_type": "markdown",
   "metadata": {
    "toc": true
   },
   "source": [
    "<h1>Table of Contents<span class=\"tocSkip\"></span></h1>\n",
    "<div class=\"toc\"><ul class=\"toc-item\"><li><span><a href=\"#Load-imports-and-dfs\" data-toc-modified-id=\"Load-imports-and-dfs-1\"><span class=\"toc-item-num\">1&nbsp;&nbsp;</span>Load imports and dfs</a></span></li><li><span><a href=\"#Train-model-without-outliers\" data-toc-modified-id=\"Train-model-without-outliers-2\"><span class=\"toc-item-num\">2&nbsp;&nbsp;</span>Train model without outliers</a></span></li><li><span><a href=\"#Train-model-to-classify-outliers\" data-toc-modified-id=\"Train-model-to-classify-outliers-3\"><span class=\"toc-item-num\">3&nbsp;&nbsp;</span>Train model to classify outliers</a></span></li><li><span><a href=\"#Pick-the-outliers-from-classifed-list-by-sorting\" data-toc-modified-id=\"Pick-the-outliers-from-classifed-list-by-sorting-4\"><span class=\"toc-item-num\">4&nbsp;&nbsp;</span>Pick the outliers from classifed list by sorting</a></span></li><li><span><a href=\"#Merge-the-outlier-preds-from-best-submission-with-preds-without-outliers\" data-toc-modified-id=\"Merge-the-outlier-preds-from-best-submission-with-preds-without-outliers-5\"><span class=\"toc-item-num\">5&nbsp;&nbsp;</span>Merge the outlier preds from best submission with preds without outliers</a></span></li></ul></div>"
   ]
  },
  {
   "cell_type": "code",
   "execution_count": 1,
   "metadata": {},
   "outputs": [
    {
     "data": {
      "application/javascript": [
       "IPython.notebook.set_autosave_interval(120000)"
      ]
     },
     "metadata": {},
     "output_type": "display_data"
    },
    {
     "name": "stdout",
     "output_type": "stream",
     "text": [
      "Autosaving every 120 seconds\n"
     ]
    }
   ],
   "source": [
    "%matplotlib inline\n",
    "%load_ext autoreload\n",
    "%autoreload 4\n",
    "%autosave 120"
   ]
  },
  {
   "cell_type": "markdown",
   "metadata": {},
   "source": [
    "1. Load imports & test, train DFs\n",
    "2. Apply stratified kfold & traing with lgbm and submit to kaggle\n",
    "3. Check for missing data feature engineering parts missed if score > 3.7\n",
    "4. Split the training set to train & validation\n",
    "5. Train over RF to get a benchmark of the dataset\n",
    "6. Drop irrelevant features by sorting on feature importance\n",
    "7. Drop redundant features by plotting a Dendogram and removing the redundancy\n",
    "8. Use a feature interpreter to see which feature is contributing lot to prediction\n",
    "9. Use extrapolation to see if we can remove feature which add bias of training & validation set\n",
    "10. Use partial dependence plot to see outliers/missed features\n",
    "11. Submit to kaggle the RF model and see the score\n",
    "11. Use stratified kfold to train the RF model and submit to kaggle\n",
    "12. Repeat again with LGBM/XGBoost/Adaboost. Stack the model and submit to kaggle\n"
   ]
  },
  {
   "cell_type": "markdown",
   "metadata": {},
   "source": [
    "### Load imports and dfs"
   ]
  },
  {
   "cell_type": "code",
   "execution_count": 33,
   "metadata": {},
   "outputs": [],
   "source": [
    "from fastai.io import *\n",
    "from fastai.structured import *\n",
    "from sklearn.ensemble import RandomForestRegressor, RandomForestClassifier\n",
    "from pandas_summary import DataFrameSummary\n",
    "from IPython.display import display\n",
    "from sklearn import metrics\n",
    "import feather\n",
    "import lightgbm as lgb\n",
    "from sklearn.model_selection import StratifiedKFold\n",
    "from sklearn.metrics import mean_squared_error, log_loss\n",
    "import warnings"
   ]
  },
  {
   "cell_type": "code",
   "execution_count": 38,
   "metadata": {},
   "outputs": [],
   "source": [
    "train_df2 = feather.read_dataframe('train_df')\n",
    "test_df2 = feather.read_dataframe('test_df')"
   ]
  },
  {
   "cell_type": "code",
   "execution_count": 39,
   "metadata": {},
   "outputs": [],
   "source": [
    "for df in [train_df2, test_df2]:\n",
    "    for f in ['purchase_date_max','purchase_date_min','purchase_date_max_old',\\\n",
    "                     'purchase_date_min_old']:\n",
    "        df[f] = df[f].astype(np.int64) * 1e-9"
   ]
  },
  {
   "cell_type": "code",
   "execution_count": 40,
   "metadata": {},
   "outputs": [],
   "source": [
    "df_train_columns = [c for c in train_df2.columns if c not in ['card_id', 'first_active_month','target','outliers']]\n",
    "target = train_df2['target']"
   ]
  },
  {
   "cell_type": "code",
   "execution_count": 41,
   "metadata": {},
   "outputs": [
    {
     "data": {
      "text/plain": [
       "((201917, 135), (123623, 133))"
      ]
     },
     "execution_count": 41,
     "metadata": {},
     "output_type": "execute_result"
    }
   ],
   "source": [
    "train_df2.shape, test_df2.shape"
   ]
  },
  {
   "cell_type": "markdown",
   "metadata": {},
   "source": [
    "### Train model without outliers"
   ]
  },
  {
   "cell_type": "code",
   "execution_count": 42,
   "metadata": {},
   "outputs": [],
   "source": [
    "train_df2 = train_df2.loc[train_df2['outliers'] != 1]"
   ]
  },
  {
   "cell_type": "code",
   "execution_count": 43,
   "metadata": {},
   "outputs": [
    {
     "data": {
      "text/plain": [
       "(199710, 135)"
      ]
     },
     "execution_count": 43,
     "metadata": {},
     "output_type": "execute_result"
    }
   ],
   "source": [
    "train_df2.shape"
   ]
  },
  {
   "cell_type": "code",
   "execution_count": 44,
   "metadata": {},
   "outputs": [],
   "source": [
    "target = train_df2['target']"
   ]
  },
  {
   "cell_type": "code",
   "execution_count": 45,
   "metadata": {},
   "outputs": [],
   "source": [
    "del train_df2['target']"
   ]
  },
  {
   "cell_type": "code",
   "execution_count": 46,
   "metadata": {},
   "outputs": [
    {
     "data": {
      "text/plain": [
       "(131, (199710,))"
      ]
     },
     "execution_count": 46,
     "metadata": {},
     "output_type": "execute_result"
    }
   ],
   "source": [
    "len(df_train_columns), target.shape"
   ]
  },
  {
   "cell_type": "code",
   "execution_count": 47,
   "metadata": {
    "scrolled": true
   },
   "outputs": [
    {
     "name": "stdout",
     "output_type": "stream",
     "text": [
      "fold 0\n",
      "Training until validation scores don't improve for 100 rounds.\n",
      "[100]\ttraining's rmse: 1.59865\tvalid_1's rmse: 1.62829\n",
      "[200]\ttraining's rmse: 1.56697\tvalid_1's rmse: 1.60061\n",
      "[300]\ttraining's rmse: 1.55215\tvalid_1's rmse: 1.58965\n",
      "[400]\ttraining's rmse: 1.54277\tvalid_1's rmse: 1.5842\n",
      "[500]\ttraining's rmse: 1.53556\tvalid_1's rmse: 1.58109\n",
      "[600]\ttraining's rmse: 1.52941\tvalid_1's rmse: 1.57919\n",
      "[700]\ttraining's rmse: 1.52409\tvalid_1's rmse: 1.578\n",
      "[800]\ttraining's rmse: 1.5193\tvalid_1's rmse: 1.57727\n",
      "[900]\ttraining's rmse: 1.51492\tvalid_1's rmse: 1.57678\n",
      "[1000]\ttraining's rmse: 1.51085\tvalid_1's rmse: 1.57643\n",
      "[1100]\ttraining's rmse: 1.50695\tvalid_1's rmse: 1.57612\n",
      "[1200]\ttraining's rmse: 1.50315\tvalid_1's rmse: 1.57591\n",
      "[1300]\ttraining's rmse: 1.4995\tvalid_1's rmse: 1.57572\n",
      "[1400]\ttraining's rmse: 1.49591\tvalid_1's rmse: 1.5756\n",
      "[1500]\ttraining's rmse: 1.49234\tvalid_1's rmse: 1.57541\n",
      "[1600]\ttraining's rmse: 1.48898\tvalid_1's rmse: 1.57532\n",
      "[1700]\ttraining's rmse: 1.48549\tvalid_1's rmse: 1.57518\n",
      "[1800]\ttraining's rmse: 1.48215\tvalid_1's rmse: 1.57514\n",
      "[1900]\ttraining's rmse: 1.4789\tvalid_1's rmse: 1.57502\n",
      "[2000]\ttraining's rmse: 1.47554\tvalid_1's rmse: 1.57504\n",
      "Early stopping, best iteration is:\n",
      "[1926]\ttraining's rmse: 1.47803\tvalid_1's rmse: 1.57502\n",
      "fold 1\n",
      "Training until validation scores don't improve for 100 rounds.\n",
      "[100]\ttraining's rmse: 1.60501\tvalid_1's rmse: 1.60157\n",
      "[200]\ttraining's rmse: 1.57286\tvalid_1's rmse: 1.57483\n",
      "[300]\ttraining's rmse: 1.55801\tvalid_1's rmse: 1.56501\n",
      "[400]\ttraining's rmse: 1.5484\tvalid_1's rmse: 1.56006\n",
      "[500]\ttraining's rmse: 1.5411\tvalid_1's rmse: 1.55737\n",
      "[600]\ttraining's rmse: 1.53509\tvalid_1's rmse: 1.55571\n",
      "[700]\ttraining's rmse: 1.52981\tvalid_1's rmse: 1.5548\n",
      "[800]\ttraining's rmse: 1.52505\tvalid_1's rmse: 1.55417\n",
      "[900]\ttraining's rmse: 1.52068\tvalid_1's rmse: 1.55372\n",
      "[1000]\ttraining's rmse: 1.51667\tvalid_1's rmse: 1.55333\n",
      "[1100]\ttraining's rmse: 1.51286\tvalid_1's rmse: 1.5531\n",
      "[1200]\ttraining's rmse: 1.50903\tvalid_1's rmse: 1.55297\n",
      "[1300]\ttraining's rmse: 1.50519\tvalid_1's rmse: 1.55275\n",
      "[1400]\ttraining's rmse: 1.50168\tvalid_1's rmse: 1.55247\n",
      "[1500]\ttraining's rmse: 1.49807\tvalid_1's rmse: 1.5523\n",
      "[1600]\ttraining's rmse: 1.49463\tvalid_1's rmse: 1.55216\n",
      "[1700]\ttraining's rmse: 1.49115\tvalid_1's rmse: 1.552\n",
      "Early stopping, best iteration is:\n",
      "[1681]\ttraining's rmse: 1.49181\tvalid_1's rmse: 1.55197\n",
      "fold 2\n",
      "Training until validation scores don't improve for 100 rounds.\n",
      "[100]\ttraining's rmse: 1.59905\tvalid_1's rmse: 1.62691\n",
      "[200]\ttraining's rmse: 1.56745\tvalid_1's rmse: 1.59919\n",
      "[300]\ttraining's rmse: 1.55295\tvalid_1's rmse: 1.58816\n",
      "[400]\ttraining's rmse: 1.54358\tvalid_1's rmse: 1.58229\n",
      "[500]\ttraining's rmse: 1.53644\tvalid_1's rmse: 1.57909\n",
      "[600]\ttraining's rmse: 1.53053\tvalid_1's rmse: 1.57692\n",
      "[700]\ttraining's rmse: 1.52531\tvalid_1's rmse: 1.57559\n",
      "[800]\ttraining's rmse: 1.52064\tvalid_1's rmse: 1.57473\n",
      "[900]\ttraining's rmse: 1.51626\tvalid_1's rmse: 1.57409\n",
      "[1000]\ttraining's rmse: 1.51225\tvalid_1's rmse: 1.57367\n",
      "[1100]\ttraining's rmse: 1.50844\tvalid_1's rmse: 1.57326\n",
      "[1200]\ttraining's rmse: 1.50468\tvalid_1's rmse: 1.57303\n",
      "[1300]\ttraining's rmse: 1.50113\tvalid_1's rmse: 1.57285\n",
      "[1400]\ttraining's rmse: 1.49756\tvalid_1's rmse: 1.57257\n",
      "[1500]\ttraining's rmse: 1.49408\tvalid_1's rmse: 1.57234\n",
      "[1600]\ttraining's rmse: 1.49065\tvalid_1's rmse: 1.57208\n",
      "[1700]\ttraining's rmse: 1.48731\tvalid_1's rmse: 1.57188\n",
      "[1800]\ttraining's rmse: 1.48408\tvalid_1's rmse: 1.57172\n",
      "[1900]\ttraining's rmse: 1.48096\tvalid_1's rmse: 1.57171\n",
      "[2000]\ttraining's rmse: 1.47783\tvalid_1's rmse: 1.5717\n",
      "[2100]\ttraining's rmse: 1.47462\tvalid_1's rmse: 1.57154\n",
      "[2200]\ttraining's rmse: 1.47155\tvalid_1's rmse: 1.57146\n",
      "[2300]\ttraining's rmse: 1.46854\tvalid_1's rmse: 1.57141\n",
      "[2400]\ttraining's rmse: 1.46537\tvalid_1's rmse: 1.57139\n",
      "[2500]\ttraining's rmse: 1.46223\tvalid_1's rmse: 1.57129\n",
      "[2600]\ttraining's rmse: 1.45919\tvalid_1's rmse: 1.57118\n",
      "[2700]\ttraining's rmse: 1.45623\tvalid_1's rmse: 1.57117\n",
      "Early stopping, best iteration is:\n",
      "[2633]\ttraining's rmse: 1.45821\tvalid_1's rmse: 1.57113\n",
      "fold 3\n",
      "Training until validation scores don't improve for 100 rounds.\n",
      "[100]\ttraining's rmse: 1.60384\tvalid_1's rmse: 1.60802\n",
      "[200]\ttraining's rmse: 1.57223\tvalid_1's rmse: 1.57996\n",
      "[300]\ttraining's rmse: 1.55749\tvalid_1's rmse: 1.56889\n",
      "[400]\ttraining's rmse: 1.54804\tvalid_1's rmse: 1.56313\n",
      "[500]\ttraining's rmse: 1.54088\tvalid_1's rmse: 1.55989\n",
      "[600]\ttraining's rmse: 1.53489\tvalid_1's rmse: 1.55782\n",
      "[700]\ttraining's rmse: 1.52956\tvalid_1's rmse: 1.5566\n",
      "[800]\ttraining's rmse: 1.52488\tvalid_1's rmse: 1.55585\n",
      "[900]\ttraining's rmse: 1.52055\tvalid_1's rmse: 1.55538\n",
      "[1000]\ttraining's rmse: 1.51645\tvalid_1's rmse: 1.5549\n",
      "[1100]\ttraining's rmse: 1.51254\tvalid_1's rmse: 1.55453\n",
      "[1200]\ttraining's rmse: 1.50878\tvalid_1's rmse: 1.55435\n",
      "[1300]\ttraining's rmse: 1.50518\tvalid_1's rmse: 1.55414\n",
      "[1400]\ttraining's rmse: 1.50161\tvalid_1's rmse: 1.55402\n",
      "[1500]\ttraining's rmse: 1.49808\tvalid_1's rmse: 1.55392\n",
      "[1600]\ttraining's rmse: 1.49459\tvalid_1's rmse: 1.55377\n",
      "[1700]\ttraining's rmse: 1.49117\tvalid_1's rmse: 1.5536\n",
      "[1800]\ttraining's rmse: 1.48792\tvalid_1's rmse: 1.55348\n",
      "[1900]\ttraining's rmse: 1.48455\tvalid_1's rmse: 1.55338\n",
      "[2000]\ttraining's rmse: 1.48128\tvalid_1's rmse: 1.55331\n",
      "[2100]\ttraining's rmse: 1.47793\tvalid_1's rmse: 1.55322\n",
      "[2200]\ttraining's rmse: 1.47469\tvalid_1's rmse: 1.55325\n",
      "Early stopping, best iteration is:\n",
      "[2119]\ttraining's rmse: 1.47733\tvalid_1's rmse: 1.5532\n",
      "fold 4\n",
      "Training until validation scores don't improve for 100 rounds.\n",
      "[100]\ttraining's rmse: 1.61166\tvalid_1's rmse: 1.57508\n",
      "[200]\ttraining's rmse: 1.57984\tvalid_1's rmse: 1.54713\n",
      "[300]\ttraining's rmse: 1.56497\tvalid_1's rmse: 1.53634\n",
      "[400]\ttraining's rmse: 1.55546\tvalid_1's rmse: 1.53108\n",
      "[500]\ttraining's rmse: 1.54814\tvalid_1's rmse: 1.52798\n",
      "[600]\ttraining's rmse: 1.54208\tvalid_1's rmse: 1.52626\n",
      "[700]\ttraining's rmse: 1.53668\tvalid_1's rmse: 1.52505\n",
      "[800]\ttraining's rmse: 1.532\tvalid_1's rmse: 1.52428\n",
      "[900]\ttraining's rmse: 1.52761\tvalid_1's rmse: 1.52382\n",
      "[1000]\ttraining's rmse: 1.52365\tvalid_1's rmse: 1.52348\n",
      "[1100]\ttraining's rmse: 1.51969\tvalid_1's rmse: 1.52318\n",
      "[1200]\ttraining's rmse: 1.51593\tvalid_1's rmse: 1.52296\n",
      "[1300]\ttraining's rmse: 1.5121\tvalid_1's rmse: 1.52276\n",
      "[1400]\ttraining's rmse: 1.50846\tvalid_1's rmse: 1.52262\n",
      "[1500]\ttraining's rmse: 1.505\tvalid_1's rmse: 1.52246\n",
      "[1600]\ttraining's rmse: 1.50154\tvalid_1's rmse: 1.52241\n",
      "[1700]\ttraining's rmse: 1.49808\tvalid_1's rmse: 1.52246\n",
      "Early stopping, best iteration is:\n",
      "[1618]\ttraining's rmse: 1.50092\tvalid_1's rmse: 1.5224\n"
     ]
    },
    {
     "data": {
      "text/plain": [
       "1.554854386388378"
      ]
     },
     "execution_count": 47,
     "metadata": {},
     "output_type": "execute_result"
    }
   ],
   "source": [
    "param = {'num_leaves': 31,\n",
    "         'min_data_in_leaf': 30, \n",
    "         'objective':'regression',\n",
    "         'max_depth': -1,\n",
    "         'learning_rate': 0.01,\n",
    "         \"min_child_samples\": 20,\n",
    "         \"boosting\": \"gbdt\",\n",
    "         \"feature_fraction\": 0.9,\n",
    "         \"bagging_freq\": 1,\n",
    "         \"bagging_fraction\": 0.9 ,\n",
    "         \"bagging_seed\": 11,\n",
    "         \"metric\": 'rmse',\n",
    "         \"lambda_l1\": 0.1,\n",
    "         \"verbosity\": -1,\n",
    "         \"nthread\": 4,\n",
    "         \"random_state\": 4590}\n",
    "folds = StratifiedKFold(n_splits=5, shuffle=True, random_state=4590)\n",
    "oof = np.zeros(len(train_df2))\n",
    "predictions = np.zeros(len(test_df2))\n",
    "feature_importance_df = pd.DataFrame()\n",
    "\n",
    "for fold_, (trn_idx, val_idx) in enumerate(folds.split(train_df2,train_df2['outliers'].values)):\n",
    "    print(\"fold {}\".format(fold_))\n",
    "    trn_data = lgb.Dataset(train_df2.iloc[trn_idx][df_train_columns], label=target.iloc[trn_idx])\n",
    "    val_data = lgb.Dataset(train_df2.iloc[val_idx][df_train_columns], label=target.iloc[val_idx])\n",
    "\n",
    "    num_round = 10000\n",
    "    clf = lgb.train(param, trn_data, num_round, valid_sets = [trn_data, val_data], verbose_eval=100, early_stopping_rounds = 100)\n",
    "    oof[val_idx] = clf.predict(train_df2.iloc[val_idx][df_train_columns], num_iteration=clf.best_iteration)\n",
    "    \n",
    "    fold_importance_df = pd.DataFrame()\n",
    "    fold_importance_df[\"Feature\"] = df_train_columns\n",
    "    fold_importance_df[\"importance\"] = clf.feature_importance()\n",
    "    fold_importance_df[\"fold\"] = fold_ + 1\n",
    "    feature_importance_df = pd.concat([feature_importance_df, fold_importance_df], axis=0)\n",
    "    \n",
    "    predictions += clf.predict(test_df2[df_train_columns], num_iteration=clf.best_iteration) / folds.n_splits\n",
    "\n",
    "np.sqrt(mean_squared_error(oof, target))"
   ]
  },
  {
   "cell_type": "code",
   "execution_count": 48,
   "metadata": {},
   "outputs": [],
   "source": [
    "model_without_outliers = pd.DataFrame({\"card_id\":test_df2[\"card_id\"].values})\n",
    "model_without_outliers[\"target\"] = predictions"
   ]
  },
  {
   "cell_type": "markdown",
   "metadata": {},
   "source": [
    "### Train model to classify outliers"
   ]
  },
  {
   "cell_type": "code",
   "execution_count": 24,
   "metadata": {},
   "outputs": [],
   "source": [
    "train_df2 = feather.read_dataframe('train_df')\n",
    "test_df2 = feather.read_dataframe('test_df')"
   ]
  },
  {
   "cell_type": "code",
   "execution_count": 25,
   "metadata": {},
   "outputs": [],
   "source": [
    "target = train_df2['outliers']"
   ]
  },
  {
   "cell_type": "code",
   "execution_count": 26,
   "metadata": {},
   "outputs": [],
   "source": [
    "for df in [train_df2, test_df2]:\n",
    "    for f in ['purchase_date_max','purchase_date_min','purchase_date_max_old',\\\n",
    "                     'purchase_date_min_old']:\n",
    "        df[f] = df[f].astype(np.int64) * 1e-9"
   ]
  },
  {
   "cell_type": "code",
   "execution_count": 27,
   "metadata": {},
   "outputs": [],
   "source": [
    "del train_df2['outliers']\n",
    "del train_df2['target']"
   ]
  },
  {
   "cell_type": "code",
   "execution_count": 28,
   "metadata": {},
   "outputs": [],
   "source": [
    "df_train_columns = [c for c in train_df2.columns \n",
    "                    if c not in ['card_id', 'first_active_month','target','outliers']]"
   ]
  },
  {
   "cell_type": "code",
   "execution_count": 30,
   "metadata": {},
   "outputs": [],
   "source": [
    "categorical_feats = [c for c in df_train_columns if 'feature_' in c]"
   ]
  },
  {
   "cell_type": "code",
   "execution_count": 31,
   "metadata": {},
   "outputs": [],
   "source": [
    "param = {'num_leaves': 31,\n",
    "         'min_data_in_leaf': 30, \n",
    "         'objective':'binary',\n",
    "         'max_depth': -1,\n",
    "         'learning_rate': 0.01,\n",
    "         \"boosting\": \"rf\",\n",
    "         \"feature_fraction\": 0.9,\n",
    "         \"bagging_freq\": 1,\n",
    "         \"bagging_fraction\": 0.9 ,\n",
    "         \"bagging_seed\": 11,\n",
    "         \"metric\": 'binary_logloss',\n",
    "         \"lambda_l1\": 0.1,\n",
    "         \"verbosity\": -1,\n",
    "         \"nthread\": 4,\n",
    "         \"random_state\": 4590}"
   ]
  },
  {
   "cell_type": "code",
   "execution_count": 35,
   "metadata": {
    "scrolled": true
   },
   "outputs": [
    {
     "name": "stdout",
     "output_type": "stream",
     "text": [
      "fold 0\n"
     ]
    },
    {
     "name": "stderr",
     "output_type": "stream",
     "text": [
      "/home/chandrasekhar/anaconda3/envs/fastai/lib/python3.6/site-packages/lightgbm/basic.py:1184: UserWarning: Using categorical_feature in Dataset.\n",
      "  warnings.warn('Using categorical_feature in Dataset.')\n",
      "/home/chandrasekhar/anaconda3/envs/fastai/lib/python3.6/site-packages/lightgbm/basic.py:742: UserWarning: categorical_feature in param dict is overridden.\n",
      "  warnings.warn('categorical_feature in param dict is overridden.')\n"
     ]
    },
    {
     "name": "stdout",
     "output_type": "stream",
     "text": [
      "Training until validation scores don't improve for 100 rounds.\n",
      "[100]\ttraining's binary_logloss: 0.0449617\tvalid_1's binary_logloss: 0.0459191\n",
      "Early stopping, best iteration is:\n",
      "[61]\ttraining's binary_logloss: 0.0449114\tvalid_1's binary_logloss: 0.0458498\n",
      "fold 1\n"
     ]
    },
    {
     "name": "stderr",
     "output_type": "stream",
     "text": [
      "/home/chandrasekhar/anaconda3/envs/fastai/lib/python3.6/site-packages/lightgbm/basic.py:1184: UserWarning: Using categorical_feature in Dataset.\n",
      "  warnings.warn('Using categorical_feature in Dataset.')\n",
      "/home/chandrasekhar/anaconda3/envs/fastai/lib/python3.6/site-packages/lightgbm/basic.py:742: UserWarning: categorical_feature in param dict is overridden.\n",
      "  warnings.warn('categorical_feature in param dict is overridden.')\n"
     ]
    },
    {
     "name": "stdout",
     "output_type": "stream",
     "text": [
      "Training until validation scores don't improve for 100 rounds.\n",
      "[100]\ttraining's binary_logloss: 0.0452574\tvalid_1's binary_logloss: 0.0466596\n",
      "Early stopping, best iteration is:\n",
      "[4]\ttraining's binary_logloss: 0.0451687\tvalid_1's binary_logloss: 0.0464814\n",
      "fold 2\n"
     ]
    },
    {
     "name": "stderr",
     "output_type": "stream",
     "text": [
      "/home/chandrasekhar/anaconda3/envs/fastai/lib/python3.6/site-packages/lightgbm/basic.py:1184: UserWarning: Using categorical_feature in Dataset.\n",
      "  warnings.warn('Using categorical_feature in Dataset.')\n",
      "/home/chandrasekhar/anaconda3/envs/fastai/lib/python3.6/site-packages/lightgbm/basic.py:742: UserWarning: categorical_feature in param dict is overridden.\n",
      "  warnings.warn('categorical_feature in param dict is overridden.')\n"
     ]
    },
    {
     "name": "stdout",
     "output_type": "stream",
     "text": [
      "Training until validation scores don't improve for 100 rounds.\n",
      "[100]\ttraining's binary_logloss: 0.045184\tvalid_1's binary_logloss: 0.0469176\n",
      "Early stopping, best iteration is:\n",
      "[3]\ttraining's binary_logloss: 0.04543\tvalid_1's binary_logloss: 0.0467412\n",
      "fold 3\n"
     ]
    },
    {
     "name": "stderr",
     "output_type": "stream",
     "text": [
      "/home/chandrasekhar/anaconda3/envs/fastai/lib/python3.6/site-packages/lightgbm/basic.py:1184: UserWarning: Using categorical_feature in Dataset.\n",
      "  warnings.warn('Using categorical_feature in Dataset.')\n",
      "/home/chandrasekhar/anaconda3/envs/fastai/lib/python3.6/site-packages/lightgbm/basic.py:742: UserWarning: categorical_feature in param dict is overridden.\n",
      "  warnings.warn('categorical_feature in param dict is overridden.')\n"
     ]
    },
    {
     "name": "stdout",
     "output_type": "stream",
     "text": [
      "Training until validation scores don't improve for 100 rounds.\n",
      "[100]\ttraining's binary_logloss: 0.0450062\tvalid_1's binary_logloss: 0.0473635\n",
      "Early stopping, best iteration is:\n",
      "[59]\ttraining's binary_logloss: 0.0449437\tvalid_1's binary_logloss: 0.0472752\n",
      "fold 4\n"
     ]
    },
    {
     "name": "stderr",
     "output_type": "stream",
     "text": [
      "/home/chandrasekhar/anaconda3/envs/fastai/lib/python3.6/site-packages/lightgbm/basic.py:1184: UserWarning: Using categorical_feature in Dataset.\n",
      "  warnings.warn('Using categorical_feature in Dataset.')\n",
      "/home/chandrasekhar/anaconda3/envs/fastai/lib/python3.6/site-packages/lightgbm/basic.py:742: UserWarning: categorical_feature in param dict is overridden.\n",
      "  warnings.warn('categorical_feature in param dict is overridden.')\n"
     ]
    },
    {
     "name": "stdout",
     "output_type": "stream",
     "text": [
      "Training until validation scores don't improve for 100 rounds.\n",
      "[100]\ttraining's binary_logloss: 0.0444646\tvalid_1's binary_logloss: 0.0476774\n",
      "Early stopping, best iteration is:\n",
      "[92]\ttraining's binary_logloss: 0.0444175\tvalid_1's binary_logloss: 0.0476498\n"
     ]
    },
    {
     "data": {
      "text/plain": [
       "0.04679946742498681"
      ]
     },
     "execution_count": 35,
     "metadata": {},
     "output_type": "execute_result"
    }
   ],
   "source": [
    "folds = StratifiedKFold(n_splits=5, shuffle=True, random_state=4590)\n",
    "oof = np.zeros(len(train_df2))\n",
    "predictions = np.zeros(len(test_df2))\n",
    "feature_importance_df = pd.DataFrame()\n",
    "\n",
    "for fold_, (trn_idx, val_idx) in enumerate(folds.split(train_df2,target.values)):\n",
    "    print(\"fold {}\".format(fold_))\n",
    "    trn_data = lgb.Dataset(train_df2.iloc[trn_idx][df_train_columns], label=target.iloc[trn_idx],categorical_feature=categorical_feats)\n",
    "    val_data = lgb.Dataset(train_df2.iloc[val_idx][df_train_columns], label=target.iloc[val_idx],categorical_feature=categorical_feats)\n",
    "\n",
    "    num_round = 10000\n",
    "    clf = lgb.train(param, trn_data, num_round, valid_sets = [trn_data, val_data], verbose_eval=100, early_stopping_rounds = 100)\n",
    "    oof[val_idx] = clf.predict(train_df2.iloc[val_idx][df_train_columns], num_iteration=clf.best_iteration)\n",
    "    \n",
    "    fold_importance_df = pd.DataFrame()\n",
    "    fold_importance_df[\"Feature\"] = df_train_columns\n",
    "    fold_importance_df[\"importance\"] = clf.feature_importance()\n",
    "    fold_importance_df[\"fold\"] = fold_ + 1\n",
    "    feature_importance_df = pd.concat([feature_importance_df, fold_importance_df], axis=0)\n",
    "    \n",
    "    predictions += clf.predict(test_df2[df_train_columns], num_iteration=clf.best_iteration) / folds.n_splits\n",
    "\n",
    "log_loss(target, oof)"
   ]
  },
  {
   "cell_type": "code",
   "execution_count": 36,
   "metadata": {},
   "outputs": [
    {
     "data": {
      "text/html": [
       "<div>\n",
       "<style scoped>\n",
       "    .dataframe tbody tr th:only-of-type {\n",
       "        vertical-align: middle;\n",
       "    }\n",
       "\n",
       "    .dataframe tbody tr th {\n",
       "        vertical-align: top;\n",
       "    }\n",
       "\n",
       "    .dataframe thead th {\n",
       "        text-align: right;\n",
       "    }\n",
       "</style>\n",
       "<table border=\"1\" class=\"dataframe\">\n",
       "  <thead>\n",
       "    <tr style=\"text-align: right;\">\n",
       "      <th></th>\n",
       "      <th>card_id</th>\n",
       "      <th>target</th>\n",
       "    </tr>\n",
       "  </thead>\n",
       "  <tbody>\n",
       "    <tr>\n",
       "      <th>0</th>\n",
       "      <td>C_ID_0ab67a22ab</td>\n",
       "      <td>0.077739</td>\n",
       "    </tr>\n",
       "    <tr>\n",
       "      <th>1</th>\n",
       "      <td>C_ID_130fd0cbdd</td>\n",
       "      <td>0.002358</td>\n",
       "    </tr>\n",
       "    <tr>\n",
       "      <th>2</th>\n",
       "      <td>C_ID_b709037bc5</td>\n",
       "      <td>0.006890</td>\n",
       "    </tr>\n",
       "    <tr>\n",
       "      <th>3</th>\n",
       "      <td>C_ID_d27d835a9f</td>\n",
       "      <td>0.002358</td>\n",
       "    </tr>\n",
       "    <tr>\n",
       "      <th>4</th>\n",
       "      <td>C_ID_2b5e3df5c2</td>\n",
       "      <td>0.002358</td>\n",
       "    </tr>\n",
       "  </tbody>\n",
       "</table>\n",
       "</div>"
      ],
      "text/plain": [
       "           card_id    target\n",
       "0  C_ID_0ab67a22ab  0.077739\n",
       "1  C_ID_130fd0cbdd  0.002358\n",
       "2  C_ID_b709037bc5  0.006890\n",
       "3  C_ID_d27d835a9f  0.002358\n",
       "4  C_ID_2b5e3df5c2  0.002358"
      ]
     },
     "execution_count": 36,
     "metadata": {},
     "output_type": "execute_result"
    }
   ],
   "source": [
    "df_outlier_prob = pd.DataFrame({\"card_id\":test_df2[\"card_id\"].values})\n",
    "df_outlier_prob[\"target\"] = predictions\n",
    "df_outlier_prob.head()"
   ]
  },
  {
   "cell_type": "markdown",
   "metadata": {},
   "source": [
    "### Pick the outliers from classifed list by sorting"
   ]
  },
  {
   "cell_type": "code",
   "execution_count": 61,
   "metadata": {},
   "outputs": [
    {
     "data": {
      "text/plain": [
       "((123623, 133), (123623, 2))"
      ]
     },
     "execution_count": 61,
     "metadata": {},
     "output_type": "execute_result"
    }
   ],
   "source": [
    "test_df2.shape, df_outlier_prob.shape"
   ]
  },
  {
   "cell_type": "code",
   "execution_count": 104,
   "metadata": {},
   "outputs": [
    {
     "data": {
      "text/html": [
       "<div>\n",
       "<style scoped>\n",
       "    .dataframe tbody tr th:only-of-type {\n",
       "        vertical-align: middle;\n",
       "    }\n",
       "\n",
       "    .dataframe tbody tr th {\n",
       "        vertical-align: top;\n",
       "    }\n",
       "\n",
       "    .dataframe thead th {\n",
       "        text-align: right;\n",
       "    }\n",
       "</style>\n",
       "<table border=\"1\" class=\"dataframe\">\n",
       "  <thead>\n",
       "    <tr style=\"text-align: right;\">\n",
       "      <th></th>\n",
       "      <th>card_id</th>\n",
       "      <th>target</th>\n",
       "    </tr>\n",
       "  </thead>\n",
       "  <tbody>\n",
       "    <tr>\n",
       "      <th>78078</th>\n",
       "      <td>C_ID_922f9c5ea6</td>\n",
       "      <td>0.472498</td>\n",
       "    </tr>\n",
       "    <tr>\n",
       "      <th>35851</th>\n",
       "      <td>C_ID_5ee52cf9f6</td>\n",
       "      <td>0.457334</td>\n",
       "    </tr>\n",
       "    <tr>\n",
       "      <th>32446</th>\n",
       "      <td>C_ID_ac114ef831</td>\n",
       "      <td>0.447623</td>\n",
       "    </tr>\n",
       "    <tr>\n",
       "      <th>25568</th>\n",
       "      <td>C_ID_767923bdb9</td>\n",
       "      <td>0.446763</td>\n",
       "    </tr>\n",
       "    <tr>\n",
       "      <th>90216</th>\n",
       "      <td>C_ID_7d81662584</td>\n",
       "      <td>0.442866</td>\n",
       "    </tr>\n",
       "  </tbody>\n",
       "</table>\n",
       "</div>"
      ],
      "text/plain": [
       "               card_id    target\n",
       "78078  C_ID_922f9c5ea6  0.472498\n",
       "35851  C_ID_5ee52cf9f6  0.457334\n",
       "32446  C_ID_ac114ef831  0.447623\n",
       "25568  C_ID_767923bdb9  0.446763\n",
       "90216  C_ID_7d81662584  0.442866"
      ]
     },
     "execution_count": 104,
     "metadata": {},
     "output_type": "execute_result"
    }
   ],
   "source": [
    "df_outlier_prob.sort_values(by='target',ascending = False).head()"
   ]
  },
  {
   "cell_type": "code",
   "execution_count": 105,
   "metadata": {},
   "outputs": [],
   "source": [
    "df_outliers_sorted = df_outlier_prob.sort_values(by='target',ascending = False)"
   ]
  },
  {
   "cell_type": "code",
   "execution_count": 109,
   "metadata": {},
   "outputs": [
    {
     "data": {
      "text/plain": [
       "78078     0.472498\n",
       "35851     0.457334\n",
       "32446     0.447623\n",
       "25568     0.446763\n",
       "90216     0.442866\n",
       "48945     0.439233\n",
       "86562     0.427543\n",
       "33610     0.421394\n",
       "12446     0.420912\n",
       "79345     0.419311\n",
       "61935     0.419260\n",
       "75740     0.417255\n",
       "107920    0.416352\n",
       "77297     0.414817\n",
       "27384     0.412320\n",
       "67665     0.410338\n",
       "21724     0.407771\n",
       "5008      0.407553\n",
       "20556     0.407107\n",
       "5707      0.404124\n",
       "105394    0.402264\n",
       "31421     0.401450\n",
       "17720     0.400033\n",
       "103851    0.400002\n",
       "114462    0.394524\n",
       "31620     0.392646\n",
       "88190     0.392408\n",
       "10099     0.392354\n",
       "63477     0.391815\n",
       "57626     0.391766\n",
       "            ...   \n",
       "110040    0.008235\n",
       "16390     0.008235\n",
       "61973     0.008235\n",
       "7207      0.008235\n",
       "12643     0.008235\n",
       "66206     0.008235\n",
       "110100    0.008235\n",
       "38602     0.008235\n",
       "93428     0.008235\n",
       "3495      0.008235\n",
       "12576     0.008235\n",
       "66248     0.008235\n",
       "110070    0.008235\n",
       "118743    0.008235\n",
       "12582     0.008235\n",
       "61586     0.008235\n",
       "120580    0.008235\n",
       "32408     0.008235\n",
       "71568     0.008235\n",
       "58852     0.008235\n",
       "14890     0.008235\n",
       "26472     0.008235\n",
       "115678    0.008235\n",
       "13125     0.008235\n",
       "78943     0.008235\n",
       "32974     0.008235\n",
       "78955     0.008235\n",
       "68345     0.008235\n",
       "26492     0.008235\n",
       "71676     0.008235\n",
       "Name: target, Length: 25000, dtype: float64"
      ]
     },
     "execution_count": 109,
     "metadata": {},
     "output_type": "execute_result"
    }
   ],
   "source": [
    "(df_outliers_sorted['target'][:25000])"
   ]
  },
  {
   "cell_type": "code",
   "execution_count": 110,
   "metadata": {},
   "outputs": [],
   "source": [
    "df_outliers = pd.DataFrame(df_outliers_sorted[:25000]['card_id'])"
   ]
  },
  {
   "cell_type": "code",
   "execution_count": 73,
   "metadata": {},
   "outputs": [
    {
     "name": "stderr",
     "output_type": "stream",
     "text": [
      "/home/chandrasekhar/anaconda3/envs/fastai/lib/python3.6/site-packages/scipy/stats/stats.py:1713: FutureWarning: Using a non-tuple sequence for multidimensional indexing is deprecated; use `arr[tuple(seq)]` instead of `arr[seq]`. In the future this will be interpreted as an array index, `arr[np.array(seq)]`, which will result either in an error or a different result.\n",
      "  return np.add.reduce(sorted[indexer] * weights, axis=axis) / sumval\n"
     ]
    },
    {
     "data": {
      "text/plain": [
       "<matplotlib.axes._subplots.AxesSubplot at 0x7fe1a8465780>"
      ]
     },
     "execution_count": 73,
     "metadata": {},
     "output_type": "execute_result"
    },
    {
     "data": {
      "image/png": "[encoded data removed]",
      "text/plain": [
       "<Figure size 432x288 with 1 Axes>"
      ]
     },
     "metadata": {
      "needs_background": "light"
     },
     "output_type": "display_data"
    }
   ],
   "source": [
    "sns.distplot(df_outlier_prob['target'])"
   ]
  },
  {
   "cell_type": "code",
   "execution_count": 111,
   "metadata": {
    "scrolled": true
   },
   "outputs": [
    {
     "data": {
      "text/html": [
       "<div>\n",
       "<style scoped>\n",
       "    .dataframe tbody tr th:only-of-type {\n",
       "        vertical-align: middle;\n",
       "    }\n",
       "\n",
       "    .dataframe tbody tr th {\n",
       "        vertical-align: top;\n",
       "    }\n",
       "\n",
       "    .dataframe thead th {\n",
       "        text-align: right;\n",
       "    }\n",
       "</style>\n",
       "<table border=\"1\" class=\"dataframe\">\n",
       "  <thead>\n",
       "    <tr style=\"text-align: right;\">\n",
       "      <th></th>\n",
       "      <th>card_id</th>\n",
       "    </tr>\n",
       "  </thead>\n",
       "  <tbody>\n",
       "    <tr>\n",
       "      <th>78078</th>\n",
       "      <td>C_ID_922f9c5ea6</td>\n",
       "    </tr>\n",
       "    <tr>\n",
       "      <th>35851</th>\n",
       "      <td>C_ID_5ee52cf9f6</td>\n",
       "    </tr>\n",
       "    <tr>\n",
       "      <th>32446</th>\n",
       "      <td>C_ID_ac114ef831</td>\n",
       "    </tr>\n",
       "    <tr>\n",
       "      <th>25568</th>\n",
       "      <td>C_ID_767923bdb9</td>\n",
       "    </tr>\n",
       "    <tr>\n",
       "      <th>90216</th>\n",
       "      <td>C_ID_7d81662584</td>\n",
       "    </tr>\n",
       "    <tr>\n",
       "      <th>48945</th>\n",
       "      <td>C_ID_afbfc01b49</td>\n",
       "    </tr>\n",
       "    <tr>\n",
       "      <th>86562</th>\n",
       "      <td>C_ID_24fbe1a353</td>\n",
       "    </tr>\n",
       "    <tr>\n",
       "      <th>33610</th>\n",
       "      <td>C_ID_64b13ecfb6</td>\n",
       "    </tr>\n",
       "    <tr>\n",
       "      <th>12446</th>\n",
       "      <td>C_ID_b3e1f0a18b</td>\n",
       "    </tr>\n",
       "    <tr>\n",
       "      <th>79345</th>\n",
       "      <td>C_ID_63d38cafcb</td>\n",
       "    </tr>\n",
       "    <tr>\n",
       "      <th>61935</th>\n",
       "      <td>C_ID_18e560275f</td>\n",
       "    </tr>\n",
       "    <tr>\n",
       "      <th>75740</th>\n",
       "      <td>C_ID_c179e7bb20</td>\n",
       "    </tr>\n",
       "    <tr>\n",
       "      <th>107920</th>\n",
       "      <td>C_ID_03c363e849</td>\n",
       "    </tr>\n",
       "    <tr>\n",
       "      <th>77297</th>\n",
       "      <td>C_ID_b0c41ca140</td>\n",
       "    </tr>\n",
       "    <tr>\n",
       "      <th>27384</th>\n",
       "      <td>C_ID_1a23d403c3</td>\n",
       "    </tr>\n",
       "    <tr>\n",
       "      <th>67665</th>\n",
       "      <td>C_ID_3b5972c942</td>\n",
       "    </tr>\n",
       "    <tr>\n",
       "      <th>21724</th>\n",
       "      <td>C_ID_92df9b9d44</td>\n",
       "    </tr>\n",
       "    <tr>\n",
       "      <th>5008</th>\n",
       "      <td>C_ID_be92f84f5c</td>\n",
       "    </tr>\n",
       "    <tr>\n",
       "      <th>20556</th>\n",
       "      <td>C_ID_aae50409e7</td>\n",
       "    </tr>\n",
       "    <tr>\n",
       "      <th>5707</th>\n",
       "      <td>C_ID_a8e502820c</td>\n",
       "    </tr>\n",
       "    <tr>\n",
       "      <th>105394</th>\n",
       "      <td>C_ID_c27856d211</td>\n",
       "    </tr>\n",
       "    <tr>\n",
       "      <th>31421</th>\n",
       "      <td>C_ID_f09b0628b7</td>\n",
       "    </tr>\n",
       "    <tr>\n",
       "      <th>17720</th>\n",
       "      <td>C_ID_938dec7a1a</td>\n",
       "    </tr>\n",
       "    <tr>\n",
       "      <th>103851</th>\n",
       "      <td>C_ID_877b879853</td>\n",
       "    </tr>\n",
       "    <tr>\n",
       "      <th>114462</th>\n",
       "      <td>C_ID_2a64f34854</td>\n",
       "    </tr>\n",
       "    <tr>\n",
       "      <th>31620</th>\n",
       "      <td>C_ID_bcaa666d70</td>\n",
       "    </tr>\n",
       "    <tr>\n",
       "      <th>88190</th>\n",
       "      <td>C_ID_739df4d2ac</td>\n",
       "    </tr>\n",
       "    <tr>\n",
       "      <th>10099</th>\n",
       "      <td>C_ID_7dafddf5d5</td>\n",
       "    </tr>\n",
       "    <tr>\n",
       "      <th>63477</th>\n",
       "      <td>C_ID_77cafbf835</td>\n",
       "    </tr>\n",
       "    <tr>\n",
       "      <th>57626</th>\n",
       "      <td>C_ID_944c62886f</td>\n",
       "    </tr>\n",
       "    <tr>\n",
       "      <th>...</th>\n",
       "      <td>...</td>\n",
       "    </tr>\n",
       "    <tr>\n",
       "      <th>110040</th>\n",
       "      <td>C_ID_681e8f87b3</td>\n",
       "    </tr>\n",
       "    <tr>\n",
       "      <th>16390</th>\n",
       "      <td>C_ID_bb44945ed3</td>\n",
       "    </tr>\n",
       "    <tr>\n",
       "      <th>61973</th>\n",
       "      <td>C_ID_871b0d8845</td>\n",
       "    </tr>\n",
       "    <tr>\n",
       "      <th>7207</th>\n",
       "      <td>C_ID_8b894615aa</td>\n",
       "    </tr>\n",
       "    <tr>\n",
       "      <th>12643</th>\n",
       "      <td>C_ID_64b63897df</td>\n",
       "    </tr>\n",
       "    <tr>\n",
       "      <th>66206</th>\n",
       "      <td>C_ID_0c5cd5547c</td>\n",
       "    </tr>\n",
       "    <tr>\n",
       "      <th>110100</th>\n",
       "      <td>C_ID_5c2f479ed4</td>\n",
       "    </tr>\n",
       "    <tr>\n",
       "      <th>38602</th>\n",
       "      <td>C_ID_11c4d4d78d</td>\n",
       "    </tr>\n",
       "    <tr>\n",
       "      <th>93428</th>\n",
       "      <td>C_ID_0322dddc7b</td>\n",
       "    </tr>\n",
       "    <tr>\n",
       "      <th>3495</th>\n",
       "      <td>C_ID_736c4c13a2</td>\n",
       "    </tr>\n",
       "    <tr>\n",
       "      <th>12576</th>\n",
       "      <td>C_ID_f587bf4a3e</td>\n",
       "    </tr>\n",
       "    <tr>\n",
       "      <th>66248</th>\n",
       "      <td>C_ID_b1d333269e</td>\n",
       "    </tr>\n",
       "    <tr>\n",
       "      <th>110070</th>\n",
       "      <td>C_ID_dc7c8ba016</td>\n",
       "    </tr>\n",
       "    <tr>\n",
       "      <th>118743</th>\n",
       "      <td>C_ID_3aa59646d3</td>\n",
       "    </tr>\n",
       "    <tr>\n",
       "      <th>12582</th>\n",
       "      <td>C_ID_bdf6ffd203</td>\n",
       "    </tr>\n",
       "    <tr>\n",
       "      <th>61586</th>\n",
       "      <td>C_ID_7f5fc41c8f</td>\n",
       "    </tr>\n",
       "    <tr>\n",
       "      <th>120580</th>\n",
       "      <td>C_ID_da21215708</td>\n",
       "    </tr>\n",
       "    <tr>\n",
       "      <th>32408</th>\n",
       "      <td>C_ID_7928dcef27</td>\n",
       "    </tr>\n",
       "    <tr>\n",
       "      <th>71568</th>\n",
       "      <td>C_ID_10e497906a</td>\n",
       "    </tr>\n",
       "    <tr>\n",
       "      <th>58852</th>\n",
       "      <td>C_ID_497aca16d0</td>\n",
       "    </tr>\n",
       "    <tr>\n",
       "      <th>14890</th>\n",
       "      <td>C_ID_a03badeff6</td>\n",
       "    </tr>\n",
       "    <tr>\n",
       "      <th>26472</th>\n",
       "      <td>C_ID_19222abbca</td>\n",
       "    </tr>\n",
       "    <tr>\n",
       "      <th>115678</th>\n",
       "      <td>C_ID_f592b841ec</td>\n",
       "    </tr>\n",
       "    <tr>\n",
       "      <th>13125</th>\n",
       "      <td>C_ID_b7a2e62570</td>\n",
       "    </tr>\n",
       "    <tr>\n",
       "      <th>78943</th>\n",
       "      <td>C_ID_a3ed656d30</td>\n",
       "    </tr>\n",
       "    <tr>\n",
       "      <th>32974</th>\n",
       "      <td>C_ID_75554bf0df</td>\n",
       "    </tr>\n",
       "    <tr>\n",
       "      <th>78955</th>\n",
       "      <td>C_ID_f6e5c1118d</td>\n",
       "    </tr>\n",
       "    <tr>\n",
       "      <th>68345</th>\n",
       "      <td>C_ID_e85b51fb92</td>\n",
       "    </tr>\n",
       "    <tr>\n",
       "      <th>26492</th>\n",
       "      <td>C_ID_a643a43a70</td>\n",
       "    </tr>\n",
       "    <tr>\n",
       "      <th>71676</th>\n",
       "      <td>C_ID_d61f2d54eb</td>\n",
       "    </tr>\n",
       "  </tbody>\n",
       "</table>\n",
       "<p>25000 rows × 1 columns</p>\n",
       "</div>"
      ],
      "text/plain": [
       "                card_id\n",
       "78078   C_ID_922f9c5ea6\n",
       "35851   C_ID_5ee52cf9f6\n",
       "32446   C_ID_ac114ef831\n",
       "25568   C_ID_767923bdb9\n",
       "90216   C_ID_7d81662584\n",
       "48945   C_ID_afbfc01b49\n",
       "86562   C_ID_24fbe1a353\n",
       "33610   C_ID_64b13ecfb6\n",
       "12446   C_ID_b3e1f0a18b\n",
       "79345   C_ID_63d38cafcb\n",
       "61935   C_ID_18e560275f\n",
       "75740   C_ID_c179e7bb20\n",
       "107920  C_ID_03c363e849\n",
       "77297   C_ID_b0c41ca140\n",
       "27384   C_ID_1a23d403c3\n",
       "67665   C_ID_3b5972c942\n",
       "21724   C_ID_92df9b9d44\n",
       "5008    C_ID_be92f84f5c\n",
       "20556   C_ID_aae50409e7\n",
       "5707    C_ID_a8e502820c\n",
       "105394  C_ID_c27856d211\n",
       "31421   C_ID_f09b0628b7\n",
       "17720   C_ID_938dec7a1a\n",
       "103851  C_ID_877b879853\n",
       "114462  C_ID_2a64f34854\n",
       "31620   C_ID_bcaa666d70\n",
       "88190   C_ID_739df4d2ac\n",
       "10099   C_ID_7dafddf5d5\n",
       "63477   C_ID_77cafbf835\n",
       "57626   C_ID_944c62886f\n",
       "...                 ...\n",
       "110040  C_ID_681e8f87b3\n",
       "16390   C_ID_bb44945ed3\n",
       "61973   C_ID_871b0d8845\n",
       "7207    C_ID_8b894615aa\n",
       "12643   C_ID_64b63897df\n",
       "66206   C_ID_0c5cd5547c\n",
       "110100  C_ID_5c2f479ed4\n",
       "38602   C_ID_11c4d4d78d\n",
       "93428   C_ID_0322dddc7b\n",
       "3495    C_ID_736c4c13a2\n",
       "12576   C_ID_f587bf4a3e\n",
       "66248   C_ID_b1d333269e\n",
       "110070  C_ID_dc7c8ba016\n",
       "118743  C_ID_3aa59646d3\n",
       "12582   C_ID_bdf6ffd203\n",
       "61586   C_ID_7f5fc41c8f\n",
       "120580  C_ID_da21215708\n",
       "32408   C_ID_7928dcef27\n",
       "71568   C_ID_10e497906a\n",
       "58852   C_ID_497aca16d0\n",
       "14890   C_ID_a03badeff6\n",
       "26472   C_ID_19222abbca\n",
       "115678  C_ID_f592b841ec\n",
       "13125   C_ID_b7a2e62570\n",
       "78943   C_ID_a3ed656d30\n",
       "32974   C_ID_75554bf0df\n",
       "78955   C_ID_f6e5c1118d\n",
       "68345   C_ID_e85b51fb92\n",
       "26492   C_ID_a643a43a70\n",
       "71676   C_ID_d61f2d54eb\n",
       "\n",
       "[25000 rows x 1 columns]"
      ]
     },
     "execution_count": 111,
     "metadata": {},
     "output_type": "execute_result"
    }
   ],
   "source": [
    "df_outliers"
   ]
  },
  {
   "cell_type": "code",
   "execution_count": 112,
   "metadata": {},
   "outputs": [],
   "source": [
    "best_3696 = pd.read_csv('./submission-2019-01-22 10:35:57.465665.csv')"
   ]
  },
  {
   "cell_type": "code",
   "execution_count": 113,
   "metadata": {},
   "outputs": [
    {
     "data": {
      "text/html": [
       "<div>\n",
       "<style scoped>\n",
       "    .dataframe tbody tr th:only-of-type {\n",
       "        vertical-align: middle;\n",
       "    }\n",
       "\n",
       "    .dataframe tbody tr th {\n",
       "        vertical-align: top;\n",
       "    }\n",
       "\n",
       "    .dataframe thead th {\n",
       "        text-align: right;\n",
       "    }\n",
       "</style>\n",
       "<table border=\"1\" class=\"dataframe\">\n",
       "  <thead>\n",
       "    <tr style=\"text-align: right;\">\n",
       "      <th></th>\n",
       "      <th>card_id</th>\n",
       "      <th>target</th>\n",
       "    </tr>\n",
       "  </thead>\n",
       "  <tbody>\n",
       "    <tr>\n",
       "      <th>0</th>\n",
       "      <td>C_ID_0ab67a22ab</td>\n",
       "      <td>-2.743338</td>\n",
       "    </tr>\n",
       "    <tr>\n",
       "      <th>1</th>\n",
       "      <td>C_ID_130fd0cbdd</td>\n",
       "      <td>-0.395249</td>\n",
       "    </tr>\n",
       "    <tr>\n",
       "      <th>2</th>\n",
       "      <td>C_ID_b709037bc5</td>\n",
       "      <td>-0.958020</td>\n",
       "    </tr>\n",
       "    <tr>\n",
       "      <th>3</th>\n",
       "      <td>C_ID_d27d835a9f</td>\n",
       "      <td>-0.084196</td>\n",
       "    </tr>\n",
       "    <tr>\n",
       "      <th>4</th>\n",
       "      <td>C_ID_2b5e3df5c2</td>\n",
       "      <td>-1.241347</td>\n",
       "    </tr>\n",
       "  </tbody>\n",
       "</table>\n",
       "</div>"
      ],
      "text/plain": [
       "           card_id    target\n",
       "0  C_ID_0ab67a22ab -2.743338\n",
       "1  C_ID_130fd0cbdd -0.395249\n",
       "2  C_ID_b709037bc5 -0.958020\n",
       "3  C_ID_d27d835a9f -0.084196\n",
       "4  C_ID_2b5e3df5c2 -1.241347"
      ]
     },
     "execution_count": 113,
     "metadata": {},
     "output_type": "execute_result"
    }
   ],
   "source": [
    "best_3696.head()"
   ]
  },
  {
   "cell_type": "code",
   "execution_count": 114,
   "metadata": {},
   "outputs": [],
   "source": [
    "most_likely_liers= best_3696.merge(df_outliers,how='right')"
   ]
  },
  {
   "cell_type": "code",
   "execution_count": 115,
   "metadata": {},
   "outputs": [
    {
     "data": {
      "text/html": [
       "<div>\n",
       "<style scoped>\n",
       "    .dataframe tbody tr th:only-of-type {\n",
       "        vertical-align: middle;\n",
       "    }\n",
       "\n",
       "    .dataframe tbody tr th {\n",
       "        vertical-align: top;\n",
       "    }\n",
       "\n",
       "    .dataframe thead th {\n",
       "        text-align: right;\n",
       "    }\n",
       "</style>\n",
       "<table border=\"1\" class=\"dataframe\">\n",
       "  <thead>\n",
       "    <tr style=\"text-align: right;\">\n",
       "      <th></th>\n",
       "      <th>card_id</th>\n",
       "      <th>target</th>\n",
       "    </tr>\n",
       "  </thead>\n",
       "  <tbody>\n",
       "    <tr>\n",
       "      <th>0</th>\n",
       "      <td>C_ID_0ab67a22ab</td>\n",
       "      <td>-2.743338</td>\n",
       "    </tr>\n",
       "    <tr>\n",
       "      <th>1</th>\n",
       "      <td>C_ID_f7cada36d3</td>\n",
       "      <td>0.334094</td>\n",
       "    </tr>\n",
       "    <tr>\n",
       "      <th>2</th>\n",
       "      <td>C_ID_6d8dba8475</td>\n",
       "      <td>-1.056943</td>\n",
       "    </tr>\n",
       "    <tr>\n",
       "      <th>3</th>\n",
       "      <td>C_ID_7f1041e8e1</td>\n",
       "      <td>-4.951848</td>\n",
       "    </tr>\n",
       "    <tr>\n",
       "      <th>4</th>\n",
       "      <td>C_ID_22e4a47c72</td>\n",
       "      <td>0.115704</td>\n",
       "    </tr>\n",
       "  </tbody>\n",
       "</table>\n",
       "</div>"
      ],
      "text/plain": [
       "           card_id    target\n",
       "0  C_ID_0ab67a22ab -2.743338\n",
       "1  C_ID_f7cada36d3  0.334094\n",
       "2  C_ID_6d8dba8475 -1.056943\n",
       "3  C_ID_7f1041e8e1 -4.951848\n",
       "4  C_ID_22e4a47c72  0.115704"
      ]
     },
     "execution_count": 115,
     "metadata": {},
     "output_type": "execute_result"
    }
   ],
   "source": [
    "most_likely_liers.head()"
   ]
  },
  {
   "cell_type": "code",
   "execution_count": 116,
   "metadata": {},
   "outputs": [
    {
     "data": {
      "text/html": [
       "<div>\n",
       "<style scoped>\n",
       "    .dataframe tbody tr th:only-of-type {\n",
       "        vertical-align: middle;\n",
       "    }\n",
       "\n",
       "    .dataframe tbody tr th {\n",
       "        vertical-align: top;\n",
       "    }\n",
       "\n",
       "    .dataframe thead th {\n",
       "        text-align: right;\n",
       "    }\n",
       "</style>\n",
       "<table border=\"1\" class=\"dataframe\">\n",
       "  <thead>\n",
       "    <tr style=\"text-align: right;\">\n",
       "      <th></th>\n",
       "      <th>card_id</th>\n",
       "      <th>target</th>\n",
       "    </tr>\n",
       "  </thead>\n",
       "  <tbody>\n",
       "    <tr>\n",
       "      <th>14</th>\n",
       "      <td>C_ID_7f1041e8e1</td>\n",
       "      <td>-4.951848</td>\n",
       "    </tr>\n",
       "  </tbody>\n",
       "</table>\n",
       "</div>"
      ],
      "text/plain": [
       "            card_id    target\n",
       "14  C_ID_7f1041e8e1 -4.951848"
      ]
     },
     "execution_count": 116,
     "metadata": {},
     "output_type": "execute_result"
    }
   ],
   "source": [
    "best_3696[best_3696['card_id']=='C_ID_7f1041e8e1']"
   ]
  },
  {
   "cell_type": "code",
   "execution_count": 117,
   "metadata": {},
   "outputs": [
    {
     "data": {
      "text/plain": [
       "(25000, 2)"
      ]
     },
     "execution_count": 117,
     "metadata": {},
     "output_type": "execute_result"
    }
   ],
   "source": [
    "most_likely_liers.shape"
   ]
  },
  {
   "cell_type": "code",
   "execution_count": 118,
   "metadata": {},
   "outputs": [],
   "source": [
    "ix1 = model_without_outliers[\"card_id\"].isin(df_outliers[\"card_id\"].values)\n",
    "ix2 = best_3696[\"card_id\"].isin(df_outliers[\"card_id\"].values)\n",
    "model_without_outliers.loc[ix2, \"target\"] = best_3696[ix1][\"target\"]"
   ]
  },
  {
   "cell_type": "code",
   "execution_count": 119,
   "metadata": {},
   "outputs": [
    {
     "data": {
      "text/plain": [
       "(123623, 2)"
      ]
     },
     "execution_count": 119,
     "metadata": {},
     "output_type": "execute_result"
    }
   ],
   "source": [
    "model_without_outliers.shape"
   ]
  },
  {
   "cell_type": "code",
   "execution_count": 120,
   "metadata": {},
   "outputs": [],
   "source": [
    "model_without_outliers.to_csv(\"combining_submission.csv\", index=False)"
   ]
  },
  {
   "cell_type": "markdown",
   "metadata": {},
   "source": [
    "### Merge the outlier preds from best submission with preds without outliers"
   ]
  },
  {
   "cell_type": "code",
   "execution_count": 121,
   "metadata": {},
   "outputs": [
    {
     "data": {
      "text/html": [
       "<a href='./combining_submission.csv' target='_blank'>./combining_submission.csv</a><br>"
      ],
      "text/plain": [
       "/home/chandrasekhar/private/kaggle/combining_submission.csv"
      ]
     },
     "execution_count": 121,
     "metadata": {},
     "output_type": "execute_result"
    }
   ],
   "source": [
    "FileLink('./combining_submission.csv')"
   ]
  },
  {
   "cell_type": "code",
   "execution_count": null,
   "metadata": {},
   "outputs": [],
   "source": []
  }
 ],
 "metadata": {
  "kernelspec": {
   "display_name": "Python 3",
   "language": "python",
   "name": "python3"
  },
  "language_info": {
   "codemirror_mode": {
    "name": "ipython",
    "version": 3
   },
   "file_extension": ".py",
   "mimetype": "text/x-python",
   "name": "python",
   "nbconvert_exporter": "python",
   "pygments_lexer": "ipython3",
   "version": "3.6.7"
  },
  "toc": {
   "base_numbering": 1,
   "nav_menu": {},
   "number_sections": true,
   "sideBar": true,
   "skip_h1_title": false,
   "title_cell": "Table of Contents",
   "title_sidebar": "Contents",
   "toc_cell": true,
   "toc_position": {},
   "toc_section_display": true,
   "toc_window_display": true
  }
 },
 "nbformat": 4,
 "nbformat_minor": 2
}
