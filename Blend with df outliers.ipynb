{
 "cells": [
  {
   "cell_type": "markdown",
   "metadata": {
    "toc": true
   },
   "source": [
    "<h1>Table of Contents<span class=\"tocSkip\"></span></h1>\n",
    "<div class=\"toc\"><ul class=\"toc-item\"></ul></div>"
   ]
  },
  {
   "cell_type": "code",
   "execution_count": 1,
   "metadata": {},
   "outputs": [
    {
     "data": {
      "application/javascript": [
       "IPython.notebook.set_autosave_interval(120000)"
      ]
     },
     "metadata": {},
     "output_type": "display_data"
    },
    {
     "name": "stdout",
     "output_type": "stream",
     "text": [
      "Autosaving every 120 seconds\n"
     ]
    }
   ],
   "source": [
    "%matplotlib inline\n",
    "%load_ext autoreload\n",
    "%autoreload 4\n",
    "%autosave 120"
   ]
  },
  {
   "cell_type": "code",
   "execution_count": 2,
   "metadata": {},
   "outputs": [],
   "source": [
    "from fastai.io import *\n",
    "from fastai.structured import *\n",
    "from sklearn.ensemble import RandomForestRegressor, RandomForestClassifier\n",
    "from pandas_summary import DataFrameSummary\n",
    "from IPython.display import display\n",
    "from sklearn import metrics\n",
    "import feather\n",
    "import lightgbm as lgb\n",
    "from sklearn.model_selection import StratifiedKFold, KFold\n",
    "from sklearn.metrics import mean_squared_error\n",
    "import warnings\n",
    "import gc"
   ]
  },
  {
   "cell_type": "code",
   "execution_count": 3,
   "metadata": {},
   "outputs": [
    {
     "name": "stdout",
     "output_type": "stream",
     "text": [
      "'Blend with df outliers.ipynb'\r\n",
      "'Blending submissions.ipynb'\r\n",
      "'Combining model without outlier.ipynb'\r\n",
      "'Continuous data processing.ipynb'\r\n",
      "'DL on cont data-Copy1.ipynb'\r\n",
      "'DL on cont data.ipynb'\r\n",
      "'Elo - ML model - 3.690.ipynb'\r\n",
      "'Elo - ML model - 3.693.ipynb'\r\n",
      "'Elo - ML model - 3.695 beta.ipynb'\r\n",
      "'Elo - ML model - 3.695.ipynb'\r\n",
      "'Elo - ML model - 3.696.ipynb'\r\n",
      "'Elo - ML model - alpha.ipynb'\r\n",
      "'Elo - ML model - cat aggregates.ipynb'\r\n",
      "'Elo - ML model 3.691 beta new.ipynb'\r\n",
      "'Elo - ML model 3.691.ipynb'\r\n",
      "'Elo - ML model clean.ipynb'\r\n",
      "'Elo - ML model proc_df.ipynb'\r\n",
      "'Elo - ML model-RF copy.ipynb'\r\n",
      "'Elo - ML model-backup.ipynb'\r\n",
      "'Elo - ML model-new.ipynb'\r\n",
      "'Elo RF- New.ipynb'\r\n",
      "'Elo RF.ipynb'\r\n",
      "'Elo end 2 end.ipynb'\r\n",
      "'Elo feature engineering - 3.691 - beta.ipynb'\r\n",
      "'Elo feature engineering - 3.691.ipynb'\r\n",
      "'Elo feature engineering - 3.696.ipynb'\r\n",
      "'Elo feature engineering 3.690.ipynb'\r\n",
      "'Elo feature engineering 3.693 .ipynb'\r\n",
      "'Elo feature engineering 3.695 beta.ipynb'\r\n",
      "'Elo feature engineering 3.695.ipynb'\r\n",
      "'Elo feature engineering alpha.ipynb'\r\n",
      "'Elo feature engineering using agg.ipynb'\r\n",
      "'Elo feature engineering-backup.ipynb'\r\n",
      "'Elo feature engineering-proc_df - new-Copy1.ipynb'\r\n",
      "'Elo feature engineering-proc_df - new.ipynb'\r\n",
      "'Elo feature engineering-proc_df-OLD.ipynb'\r\n",
      "'Elo feature engineering-proc_df.ipynb'\r\n",
      "'Elo merchant category reco - using RF.ipynb'\r\n",
      "'Elo outlier predictions & blending .ipynb'\r\n",
      "'Feature selection using Boruta.ipynb'\r\n",
      "'Feature selection.ipynb'\r\n",
      " Merchants.ipynb\r\n",
      "'Model - DL & LGBM regression.ipynb'\r\n",
      "'Model - XG boost.ipynb'\r\n",
      "'Null importances - beta.ipynb'\r\n",
      "'Outlier classification using Autoencoder.ipynb'\r\n",
      " README.md\r\n",
      "'Scrap pad.ipynb'\r\n",
      "'Scrap pad.py'\r\n",
      "'TS Fresh.ipynb'\r\n",
      "'TS Fresh.py'\r\n",
      "'Train & test clean.ipynb'\r\n",
      "'Using DL beta.ipynb'\r\n",
      "'Using DL last try.ipynb'\r\n",
      "'Using DL-Copy1.ipynb'\r\n",
      "'Using DL.ipynb'\r\n",
      "'Using Feature tools - old.ipynb'\r\n",
      "'Using feature tools-Copy1.ipynb'\r\n",
      "'Using feature tools.ipynb'\r\n",
      " actual_importances_ditribution_rf.csv\r\n",
      " adf\r\n",
      " all_card_merch\r\n",
      " all_cards\r\n",
      " all_test_cont\r\n",
      " all_train_cont\r\n",
      " all_trans\r\n",
      " all_trans_merch\r\n",
      " alla.pkl\r\n",
      " authorised_trans_proc_agg\r\n",
      "'blend-2019-02-02 23:24:52.864854.csv'\r\n",
      " blend-{submission_name}\r\n",
      " blend_kfol_st.csv\r\n",
      " blend_top8_20feb.csv\r\n",
      " blend_top8_22feb.csv\r\n",
      " chandu_mean1.csv\r\n",
      " cols_keep.npy\r\n",
      " comb_15.csv\r\n",
      "'combined_submission-2019-02-15 15:07:09.944221.csv'\r\n",
      "'combined_submission-2019-02-15 15:09:20.708055.csv'\r\n",
      "'combined_submission-2019-02-20 00:21:17.597315.csv'\r\n",
      "'combined_submission-2019-02-20 00:25:02.521379.csv'\r\n",
      "'combined_submission-2019-02-20 00:26:39.776651.csv'\r\n",
      "'combined_submission-2019-02-21 13:55:21.772806.csv'\r\n",
      "'combined_submission-2019-02-22 03:43:50.172624.csv'\r\n",
      "'combined_submission-2019-02-22 20:49:55.088273.csv'\r\n",
      "'combined_submission-2019-02-22 21:40:05.269919.csv'\r\n",
      " combining_submission.csv\r\n",
      " corr_scores_null_importances.csv\r\n",
      " correlation\r\n",
      " data\r\n",
      " df_auth\r\n",
      " df_cont_proc\r\n",
      " df_hot_dropped_all\r\n",
      " df_hot_ext\r\n",
      " df_hot_test\r\n",
      " df_hot_test_ext\r\n",
      " df_new\r\n",
      " df_non_auth\r\n",
      " df_proc_dfed\r\n",
      " df_test_n_o\r\n",
      " df_xo\r\n",
      " dl_df_beta\r\n",
      " dl_df_t_beta\r\n",
      "'dl_submission-2019-02-22 21:30:24.851272.csv'\r\n",
      "'dl_submission_stacked_lgb-2019-02-22 21:37:59.515079.csv'\r\n",
      "'dl_submission_stacked_lgb-2019-02-26 22:44:02.780493.csv'\r\n",
      "'dl_xgb_submission_stacked_lgb-2019-02-26 22:45:24.597929.csv'\r\n",
      " fastai\r\n",
      " final_cols_352.txt\r\n",
      " fm_new_hist\r\n",
      " hist_trans\r\n",
      " hist_trans_3_696\r\n",
      " hist_trans_agg\r\n",
      " hist_trans_agg_3_696\r\n",
      " hist_trans_agg_beta\r\n",
      " hist_trans_agg_cat\r\n",
      " hist_trans_agg_month\r\n",
      " hist_trans_agg_n\r\n",
      " hist_trans_agg_proc\r\n",
      " hist_trans_beta\r\n",
      " hist_trans_purchase_aggs_alpha\r\n",
      "'kfold lightgbm.ipynb'\r\n",
      " latent_representation.png\r\n",
      " lgbm_importances.png\r\n",
      " lla\r\n",
      " merchants_df\r\n",
      " merchants_minimised\r\n",
      " models\r\n",
      " new_hist_prc\r\n",
      " new_hist_trans\r\n",
      " new_hist_trans_3_696\r\n",
      " new_hist_trans_agg\r\n",
      " new_hist_trans_agg_3_696\r\n",
      " new_hist_trans_agg_beta\r\n",
      " new_hist_trans_agg_cat\r\n",
      " new_hist_trans_agg_month\r\n",
      " new_hist_trans_agg_n\r\n",
      " new_hist_trans_beta\r\n",
      " new_hist_trans_purchase_aggs_alpha\r\n",
      " new_trans_agg_proc\r\n",
      " new_trans_proc_agg\r\n",
      " non_authorised_trans_proc\r\n",
      " non_authorised_trans_proc_agg\r\n",
      " null_importances_distribution_rf.csv\r\n",
      " oof_dl.npy\r\n",
      " oof_lgb_3.npy\r\n",
      " oof_lgbm.npy\r\n",
      " oof_xgb_3.npy\r\n",
      " oof_xgb_3_2.npy\r\n",
      " original.png\r\n",
      "'outlier_combining_submission-2019-02-19 02:12:16.662625.csv'\r\n",
      "'outlier_combining_submission-2019-02-19 02:28:13.811057.csv'\r\n",
      "'outlier_combining_submission-2019-02-19 02:48:44.830259.csv'\r\n",
      " predictions_dl.npy\r\n",
      " predictions_lgb_3.npy\r\n",
      " predictions_lgbm.npy\r\n",
      " predictions_xgb_3.npy\r\n",
      " predictions_xgb_3_2.npy\r\n",
      "'scrap pad 2.ipynb'\r\n",
      " selecte_cold_prune.npy\r\n",
      "'submission-2019-01-11 09:49:53.716164.csv'\r\n",
      "'submission-2019-01-11 10:18:09.909061.csv'\r\n",
      "'submission-2019-01-12 13:53:27.215115.csv'\r\n",
      "'submission-2019-01-12 16:27:31.239044.csv'\r\n",
      "'submission-2019-01-12 17:25:56.678553.csv'\r\n",
      "'submission-2019-01-12 17:33:29.475835.csv'\r\n",
      "'submission-2019-01-12 17:42:01.350278.csv'\r\n",
      "'submission-2019-01-12 22:12:59.947458.csv'\r\n",
      "'submission-2019-01-13 15:59:45.792347.csv'\r\n",
      "'submission-2019-01-13 18:24:51.237991.csv'\r\n",
      "'submission-2019-01-14 19:04:33.028609.csv'\r\n",
      "'submission-2019-01-14 19:56:09.906235.csv'\r\n",
      "'submission-2019-01-15 22:18:34.294443.csv'\r\n",
      "'submission-2019-01-15 22:24:38.071972.csv'\r\n",
      "'submission-2019-01-15 22:29:20.144417.csv'\r\n",
      "'submission-2019-01-16 00:35:46.490517.csv'\r\n",
      "'submission-2019-01-16 00:36:26.004443.csv'\r\n",
      "'submission-2019-01-16 12:20:00.957329.csv'\r\n",
      "'submission-2019-01-16 21:37:16.421927.csv'\r\n",
      "'submission-2019-01-17 10:20:06.724992.csv'\r\n",
      "'submission-2019-01-17 11:09:17.495216.csv'\r\n",
      "'submission-2019-01-17 23:23:57.743505.csv'\r\n",
      "'submission-2019-01-18 01:18:08.182115.csv'\r\n",
      "'submission-2019-01-18 01:42:20.587834.csv'\r\n",
      "'submission-2019-01-18 01:47:04.024727.csv'\r\n",
      "'submission-2019-01-18 16:16:45.475456.csv'\r\n",
      "'submission-2019-01-18 16:27:58.560480.csv'\r\n",
      "'submission-2019-01-18 17:22:46.188675.csv'\r\n",
      "'submission-2019-01-20 00:30:10.643280.csv'\r\n",
      "'submission-2019-01-20 01:28:12.077657.csv'\r\n",
      "'submission-2019-01-20 01:46:39.187580.csv'\r\n",
      "'submission-2019-01-20 02:32:16.439302.csv'\r\n",
      "'submission-2019-01-20 17:01:54.207459.csv'\r\n",
      "'submission-2019-01-20 17:27:46.797180.csv'\r\n",
      "'submission-2019-01-20 18:29:37.773532.csv'\r\n",
      "'submission-2019-01-20 19:11:58.593189.csv'\r\n",
      "'submission-2019-01-20 19:35:24.892043.csv'\r\n",
      "'submission-2019-01-20 20:47:32.743729.csv'\r\n",
      "'submission-2019-01-22 09:33:02.341491.csv'\r\n",
      "'submission-2019-01-22 10:35:57.465665.csv'\r\n",
      "'submission-2019-01-31 22:00:10.810901.csv'\r\n",
      "'submission-2019-01-31 22:04:41.815902.csv'\r\n",
      "'submission-2019-02-02 23:13:59.670630.csv'\r\n",
      "'submission-2019-02-02 23:24:52.864854.csv'\r\n",
      "'submission-2019-02-03 14:42:22.636262.csv'\r\n",
      "'submission-2019-02-03 14:43:29.797523.csv'\r\n",
      "'submission-2019-02-10 14:58:45.312994.csv'\r\n",
      "'submission-2019-02-10 17:36:17.986042.csv'\r\n",
      "'submission-2019-02-10 18:01:58.093819.csv'\r\n",
      "'submission-2019-02-12 22:57:39.862967.csv'\r\n",
      "'submission-2019-02-13 00:42:12.274968.csv'\r\n",
      "'submission-2019-02-13 01:51:25.440947.csv'\r\n",
      "'submission-2019-02-13 22:48:45.005871.csv'\r\n",
      "'submission-2019-02-15 14:22:06.881490.csv'\r\n",
      "'submission-2019-02-15 14:45:36.932530.csv'\r\n",
      "'submission-2019-02-15 18:08:33.904515.csv'\r\n",
      "'submission-2019-02-16 13:14:48.321120.csv'\r\n",
      "'submission-2019-02-16 13:22:43.779348.csv'\r\n",
      "'submission-2019-02-16 23:41:55.685750.csv'\r\n",
      "'submission-2019-02-16 23:52:03.148358.csv'\r\n",
      "'submission-2019-02-19 00:14:48.737899.csv'\r\n",
      "'submission-2019-02-19 00:42:33.872294.csv'\r\n",
      "'submission-2019-02-19 00:51:12.314011.csv'\r\n",
      "'submission-2019-02-19 00:51:48.972772.csv'\r\n",
      "'submission_kfold-2019-02-13 00:55:25.132146.csv'\r\n",
      "'submission_kfold-2019-02-13 01:29:28.856630.csv'\r\n",
      "'submission_kfold-2019-02-13 01:59:08.971995.csv'\r\n",
      "'submission_kfold-2019-02-13 23:21:24.051900.csv'\r\n",
      "'submission_kfold-2019-02-20 00:58:19.913926.csv'\r\n",
      " submissions\r\n",
      " target_all\r\n",
      " target_outliers_removed\r\n",
      " test_clean.csv\r\n",
      " test_clean.csv.zip\r\n",
      " test_df\r\n",
      " test_df_3.695\r\n",
      " test_df_3691\r\n",
      " test_df_3_696\r\n",
      " test_df_alpha\r\n",
      " test_df_beta\r\n",
      " test_df_proc\r\n",
      " test_df_proc_new\r\n",
      " test_df_proc_new_m\r\n",
      " tmp\r\n",
      " train_clean.csv\r\n",
      " train_clean.csv.zip\r\n",
      " train_clean0\r\n",
      " train_df\r\n",
      " train_df_3691\r\n",
      " train_df_3_696\r\n",
      " train_df_alpha\r\n",
      " train_df_beta\r\n",
      " train_df_proc\r\n",
      " train_df_proc_new\r\n",
      " train_df_proc_new_m\r\n",
      "'xg_submission-2019-02-21 11:18:00.066865.csv'\r\n",
      "'xg_submission_stacked_lgb-2019-02-21 13:41:48.181414.csv'\r\n",
      "'xg_submission_stacked_lgb-2019-02-22 03:43:06.565696.csv'\r\n",
      "'xg_submission_stacked_lgb-2019-02-22 20:48:54.579689.csv'\r\n",
      "'xg_submission_stacked_lgb-2019-02-22 21:37:47.622625.csv'\r\n"
     ]
    }
   ],
   "source": [
    "!ls"
   ]
  },
  {
   "cell_type": "code",
   "execution_count": 4,
   "metadata": {},
   "outputs": [],
   "source": [
    "# df_3690 = pd.read_csv('submission-2019-02-19 00:42:33.872294.csv')\n",
    "# df_combining_sub = pd.read_csv('comb_15.csv')"
   ]
  },
  {
   "cell_type": "code",
   "execution_count": 4,
   "metadata": {},
   "outputs": [],
   "source": [
    "df_3687 = pd.read_csv('dl_xgb_submission_stacked_lgb-2019-02-26 22:45:24.597929.csv')\n",
    "df_combining_sub = pd.read_csv('comb_15.csv')"
   ]
  },
  {
   "cell_type": "code",
   "execution_count": 4,
   "metadata": {},
   "outputs": [],
   "source": [
    "# df_3641_cv = pd.read_csv('submission-2019-02-19 00:51:48.972772.csv')\n",
    "# df_3690 = pd.read_csv('submission-2019-02-19 00:42:33.872294.csv')"
   ]
  },
  {
   "cell_type": "code",
   "execution_count": 5,
   "metadata": {},
   "outputs": [
    {
     "data": {
      "text/html": [
       "<div>\n",
       "<style scoped>\n",
       "    .dataframe tbody tr th:only-of-type {\n",
       "        vertical-align: middle;\n",
       "    }\n",
       "\n",
       "    .dataframe tbody tr th {\n",
       "        vertical-align: top;\n",
       "    }\n",
       "\n",
       "    .dataframe thead th {\n",
       "        text-align: right;\n",
       "    }\n",
       "</style>\n",
       "<table border=\"1\" class=\"dataframe\">\n",
       "  <thead>\n",
       "    <tr style=\"text-align: right;\">\n",
       "      <th></th>\n",
       "      <th>card_id</th>\n",
       "      <th>target</th>\n",
       "    </tr>\n",
       "  </thead>\n",
       "  <tbody>\n",
       "    <tr>\n",
       "      <th>0</th>\n",
       "      <td>C_ID_0ab67a22ab</td>\n",
       "      <td>-2.122841</td>\n",
       "    </tr>\n",
       "    <tr>\n",
       "      <th>1</th>\n",
       "      <td>C_ID_130fd0cbdd</td>\n",
       "      <td>-0.286171</td>\n",
       "    </tr>\n",
       "    <tr>\n",
       "      <th>2</th>\n",
       "      <td>C_ID_b709037bc5</td>\n",
       "      <td>-0.889205</td>\n",
       "    </tr>\n",
       "    <tr>\n",
       "      <th>3</th>\n",
       "      <td>C_ID_d27d835a9f</td>\n",
       "      <td>-0.060729</td>\n",
       "    </tr>\n",
       "    <tr>\n",
       "      <th>4</th>\n",
       "      <td>C_ID_2b5e3df5c2</td>\n",
       "      <td>-1.781597</td>\n",
       "    </tr>\n",
       "  </tbody>\n",
       "</table>\n",
       "</div>"
      ],
      "text/plain": [
       "           card_id    target\n",
       "0  C_ID_0ab67a22ab -2.122841\n",
       "1  C_ID_130fd0cbdd -0.286171\n",
       "2  C_ID_b709037bc5 -0.889205\n",
       "3  C_ID_d27d835a9f -0.060729\n",
       "4  C_ID_2b5e3df5c2 -1.781597"
      ]
     },
     "execution_count": 5,
     "metadata": {},
     "output_type": "execute_result"
    }
   ],
   "source": [
    "df_3687.head()"
   ]
  },
  {
   "cell_type": "code",
   "execution_count": 6,
   "metadata": {},
   "outputs": [
    {
     "data": {
      "text/html": [
       "<div>\n",
       "<style scoped>\n",
       "    .dataframe tbody tr th:only-of-type {\n",
       "        vertical-align: middle;\n",
       "    }\n",
       "\n",
       "    .dataframe tbody tr th {\n",
       "        vertical-align: top;\n",
       "    }\n",
       "\n",
       "    .dataframe thead th {\n",
       "        text-align: right;\n",
       "    }\n",
       "</style>\n",
       "<table border=\"1\" class=\"dataframe\">\n",
       "  <thead>\n",
       "    <tr style=\"text-align: right;\">\n",
       "      <th></th>\n",
       "      <th>card_id</th>\n",
       "      <th>target</th>\n",
       "    </tr>\n",
       "  </thead>\n",
       "  <tbody>\n",
       "    <tr>\n",
       "      <th>0</th>\n",
       "      <td>C_ID_0ab67a22ab</td>\n",
       "      <td>-2.502326</td>\n",
       "    </tr>\n",
       "    <tr>\n",
       "      <th>1</th>\n",
       "      <td>C_ID_130fd0cbdd</td>\n",
       "      <td>-0.367306</td>\n",
       "    </tr>\n",
       "    <tr>\n",
       "      <th>2</th>\n",
       "      <td>C_ID_b709037bc5</td>\n",
       "      <td>-0.800308</td>\n",
       "    </tr>\n",
       "    <tr>\n",
       "      <th>3</th>\n",
       "      <td>C_ID_d27d835a9f</td>\n",
       "      <td>-0.108871</td>\n",
       "    </tr>\n",
       "    <tr>\n",
       "      <th>4</th>\n",
       "      <td>C_ID_2b5e3df5c2</td>\n",
       "      <td>-1.059855</td>\n",
       "    </tr>\n",
       "  </tbody>\n",
       "</table>\n",
       "</div>"
      ],
      "text/plain": [
       "           card_id    target\n",
       "0  C_ID_0ab67a22ab -2.502326\n",
       "1  C_ID_130fd0cbdd -0.367306\n",
       "2  C_ID_b709037bc5 -0.800308\n",
       "3  C_ID_d27d835a9f -0.108871\n",
       "4  C_ID_2b5e3df5c2 -1.059855"
      ]
     },
     "execution_count": 6,
     "metadata": {},
     "output_type": "execute_result"
    }
   ],
   "source": [
    "df_combining_sub.head()"
   ]
  },
  {
   "cell_type": "code",
   "execution_count": 7,
   "metadata": {},
   "outputs": [],
   "source": [
    "df_combining_sub['target'] = .5*df_3687['target'] + .5*df_combining_sub['target']"
   ]
  },
  {
   "cell_type": "code",
   "execution_count": 8,
   "metadata": {},
   "outputs": [
    {
     "data": {
      "text/html": [
       "<div>\n",
       "<style scoped>\n",
       "    .dataframe tbody tr th:only-of-type {\n",
       "        vertical-align: middle;\n",
       "    }\n",
       "\n",
       "    .dataframe tbody tr th {\n",
       "        vertical-align: top;\n",
       "    }\n",
       "\n",
       "    .dataframe thead th {\n",
       "        text-align: right;\n",
       "    }\n",
       "</style>\n",
       "<table border=\"1\" class=\"dataframe\">\n",
       "  <thead>\n",
       "    <tr style=\"text-align: right;\">\n",
       "      <th></th>\n",
       "      <th>card_id</th>\n",
       "      <th>target</th>\n",
       "    </tr>\n",
       "  </thead>\n",
       "  <tbody>\n",
       "    <tr>\n",
       "      <th>0</th>\n",
       "      <td>C_ID_0ab67a22ab</td>\n",
       "      <td>-2.312583</td>\n",
       "    </tr>\n",
       "    <tr>\n",
       "      <th>1</th>\n",
       "      <td>C_ID_130fd0cbdd</td>\n",
       "      <td>-0.326738</td>\n",
       "    </tr>\n",
       "    <tr>\n",
       "      <th>2</th>\n",
       "      <td>C_ID_b709037bc5</td>\n",
       "      <td>-0.844756</td>\n",
       "    </tr>\n",
       "    <tr>\n",
       "      <th>3</th>\n",
       "      <td>C_ID_d27d835a9f</td>\n",
       "      <td>-0.084800</td>\n",
       "    </tr>\n",
       "    <tr>\n",
       "      <th>4</th>\n",
       "      <td>C_ID_2b5e3df5c2</td>\n",
       "      <td>-1.420726</td>\n",
       "    </tr>\n",
       "  </tbody>\n",
       "</table>\n",
       "</div>"
      ],
      "text/plain": [
       "           card_id    target\n",
       "0  C_ID_0ab67a22ab -2.312583\n",
       "1  C_ID_130fd0cbdd -0.326738\n",
       "2  C_ID_b709037bc5 -0.844756\n",
       "3  C_ID_d27d835a9f -0.084800\n",
       "4  C_ID_2b5e3df5c2 -1.420726"
      ]
     },
     "execution_count": 8,
     "metadata": {},
     "output_type": "execute_result"
    }
   ],
   "source": [
    "df_combining_sub.head()"
   ]
  },
  {
   "cell_type": "code",
   "execution_count": 9,
   "metadata": {},
   "outputs": [],
   "source": [
    "submission_name = pd.to_datetime(\"today\")"
   ]
  },
  {
   "cell_type": "code",
   "execution_count": 10,
   "metadata": {},
   "outputs": [],
   "source": [
    "df_combining_sub.to_csv(f'combined_submission-{submission_name}.csv', index=False)"
   ]
  },
  {
   "cell_type": "code",
   "execution_count": 11,
   "metadata": {},
   "outputs": [],
   "source": [
    "filename = f'combined_submission-{submission_name}.csv'"
   ]
  },
  {
   "cell_type": "code",
   "execution_count": 12,
   "metadata": {},
   "outputs": [
    {
     "data": {
      "text/plain": [
       "'combined_submission-2019-02-26 22:47:23.452323.csv'"
      ]
     },
     "execution_count": 12,
     "metadata": {},
     "output_type": "execute_result"
    }
   ],
   "source": [
    "filename"
   ]
  },
  {
   "cell_type": "code",
   "execution_count": 13,
   "metadata": {},
   "outputs": [
    {
     "name": "stdout",
     "output_type": "stream",
     "text": [
      "100%|#######################################| 4.23M/4.23M [00:22<00:00, 196kB/s]\n",
      "Successfully submitted to Elo Merchant Category Recommendation"
     ]
    }
   ],
   "source": [
    "!kaggle competitions submit elo-merchant-category-recommendation -f 'combined_submission-2019-02-26 22:47:23.452323.csv' -m 'blended & stacked - 3.643089002165104'"
   ]
  },
  {
   "cell_type": "code",
   "execution_count": 15,
   "metadata": {},
   "outputs": [
    {
     "data": {
      "text/html": [
       "<a href='combined_submission-2019-02-21 13:55:21.772806.csv' target='_blank'>combined_submission-2019-02-21 13:55:21.772806.csv</a><br>"
      ],
      "text/plain": [
       "/home/chandrasekhar/private/kaggle/combined_submission-2019-02-21 13:55:21.772806.csv"
      ]
     },
     "execution_count": 15,
     "metadata": {},
     "output_type": "execute_result"
    }
   ],
   "source": [
    "FileLink(filename)"
   ]
  },
  {
   "cell_type": "code",
   "execution_count": null,
   "metadata": {},
   "outputs": [],
   "source": []
  }
 ],
 "metadata": {
  "kernelspec": {
   "display_name": "Python 3",
   "language": "python",
   "name": "python3"
  },
  "language_info": {
   "codemirror_mode": {
    "name": "ipython",
    "version": 3
   },
   "file_extension": ".py",
   "mimetype": "text/x-python",
   "name": "python",
   "nbconvert_exporter": "python",
   "pygments_lexer": "ipython3",
   "version": "3.6.8"
  },
  "toc": {
   "base_numbering": 1,
   "nav_menu": {},
   "number_sections": true,
   "sideBar": true,
   "skip_h1_title": false,
   "title_cell": "Table of Contents",
   "title_sidebar": "Contents",
   "toc_cell": true,
   "toc_position": {},
   "toc_section_display": true,
   "toc_window_display": true
  }
 },
 "nbformat": 4,
 "nbformat_minor": 2
}
