{
 "cells": [
  {
   "cell_type": "markdown",
   "metadata": {
    "toc": true
   },
   "source": [
    "<h1>Table of Contents<span class=\"tocSkip\"></span></h1>\n",
    "<div class=\"toc\"><ul class=\"toc-item\"><li><span><a href=\"#Submit-DL-preds\" data-toc-modified-id=\"Submit-DL-preds-1\"><span class=\"toc-item-num\">1&nbsp;&nbsp;</span>Submit DL preds</a></span></li><li><span><a href=\"#Load-lgbm-preds\" data-toc-modified-id=\"Load-lgbm-preds-2\"><span class=\"toc-item-num\">2&nbsp;&nbsp;</span>Load lgbm preds</a></span></li><li><span><a href=\"#Ridge-regression-of-lgbm-&amp;-dl-preds\" data-toc-modified-id=\"Ridge-regression-of-lgbm-&amp;-dl-preds-3\"><span class=\"toc-item-num\">3&nbsp;&nbsp;</span>Ridge regression of lgbm &amp; dl preds</a></span></li><li><span><a href=\"#Load-XGboost-preds\" data-toc-modified-id=\"Load-XGboost-preds-4\"><span class=\"toc-item-num\">4&nbsp;&nbsp;</span>Load XGboost preds</a></span></li><li><span><a href=\"#Stack-lgbm,-dl,-xgboost\" data-toc-modified-id=\"Stack-lgbm,-dl,-xgboost-5\"><span class=\"toc-item-num\">5&nbsp;&nbsp;</span>Stack lgbm, dl, xgboost</a></span></li></ul></div>"
   ]
  },
  {
   "cell_type": "code",
   "execution_count": 1,
   "metadata": {},
   "outputs": [
    {
     "data": {
      "application/javascript": [
       "IPython.notebook.set_autosave_interval(120000)"
      ]
     },
     "metadata": {},
     "output_type": "display_data"
    },
    {
     "name": "stdout",
     "output_type": "stream",
     "text": [
      "Autosaving every 120 seconds\n"
     ]
    }
   ],
   "source": [
    "%matplotlib inline\n",
    "%load_ext autoreload\n",
    "%autoreload 4\n",
    "%autosave 120"
   ]
  },
  {
   "cell_type": "code",
   "execution_count": 2,
   "metadata": {},
   "outputs": [],
   "source": [
    "from fastai.io import *\n",
    "from fastai.structured import *\n",
    "from sklearn.ensemble import RandomForestRegressor, RandomForestClassifier\n",
    "from pandas_summary import DataFrameSummary\n",
    "from IPython.display import display\n",
    "from sklearn import metrics\n",
    "import feather\n",
    "import lightgbm as lgb\n",
    "from sklearn.model_selection import StratifiedKFold, KFold\n",
    "from sklearn.metrics import mean_squared_error\n",
    "import warnings\n",
    "import gc\n",
    "from sklearn.linear_model import Ridge\n",
    "import xgboost as xgb"
   ]
  },
  {
   "cell_type": "code",
   "execution_count": 8,
   "metadata": {},
   "outputs": [
    {
     "name": "stderr",
     "output_type": "stream",
     "text": [
      "/home/chandrasekhar/anaconda3/envs/fastai/lib/python3.6/site-packages/pyarrow/pandas_compat.py:752: FutureWarning: .labels was deprecated in version 0.24.0. Use .codes instead.\n",
      "  labels, = index.labels\n"
     ]
    }
   ],
   "source": [
    "train_df2 = feather.read_dataframe('train_df_alpha')\n",
    "test_df2 = feather.read_dataframe('test_df_alpha')"
   ]
  },
  {
   "cell_type": "code",
   "execution_count": 17,
   "metadata": {},
   "outputs": [],
   "source": [
    "target = train_df2['target']"
   ]
  },
  {
   "cell_type": "markdown",
   "metadata": {},
   "source": [
    "### Submit DL preds"
   ]
  },
  {
   "cell_type": "code",
   "execution_count": 3,
   "metadata": {},
   "outputs": [],
   "source": [
    "oof_dl = np.load('oof_dl.npy')\n",
    "predictions_dl = np.load('predictions_dl.npy')"
   ]
  },
  {
   "cell_type": "code",
   "execution_count": 4,
   "metadata": {},
   "outputs": [
    {
     "data": {
      "text/plain": [
       "array([-0.52861,  0.30983,  0.7462 , ..., -0.39692, -3.28557, -0.75396])"
      ]
     },
     "execution_count": 4,
     "metadata": {},
     "output_type": "execute_result"
    }
   ],
   "source": [
    "oof_dl"
   ]
  },
  {
   "cell_type": "code",
   "execution_count": 5,
   "metadata": {},
   "outputs": [
    {
     "data": {
      "text/plain": [
       "array([-1.86731, -0.53013, -0.85165, ...,  0.39517, -3.64371,  0.1123 ])"
      ]
     },
     "execution_count": 5,
     "metadata": {},
     "output_type": "execute_result"
    }
   ],
   "source": [
    "predictions_dl"
   ]
  },
  {
   "cell_type": "code",
   "execution_count": 7,
   "metadata": {},
   "outputs": [
    {
     "data": {
      "text/plain": [
       "(201917, 123623)"
      ]
     },
     "execution_count": 7,
     "metadata": {},
     "output_type": "execute_result"
    }
   ],
   "source": [
    "len(oof_dl), len(predictions_dl)"
   ]
  },
  {
   "cell_type": "code",
   "execution_count": 9,
   "metadata": {},
   "outputs": [
    {
     "data": {
      "text/plain": [
       "((201917, 386), (123623, 384))"
      ]
     },
     "execution_count": 9,
     "metadata": {},
     "output_type": "execute_result"
    }
   ],
   "source": [
    "train_df2.shape, test_df2.shape"
   ]
  },
  {
   "cell_type": "code",
   "execution_count": 14,
   "metadata": {},
   "outputs": [
    {
     "data": {
      "text/plain": [
       "-79481.86060092675"
      ]
     },
     "execution_count": 14,
     "metadata": {},
     "output_type": "execute_result"
    }
   ],
   "source": [
    "sum(train_df2.target.values)"
   ]
  },
  {
   "cell_type": "code",
   "execution_count": 12,
   "metadata": {},
   "outputs": [
    {
     "data": {
      "text/plain": [
       "-49717.78315293922"
      ]
     },
     "execution_count": 12,
     "metadata": {},
     "output_type": "execute_result"
    }
   ],
   "source": [
    "sum(predictions_dl)"
   ]
  },
  {
   "cell_type": "code",
   "execution_count": 8,
   "metadata": {},
   "outputs": [
    {
     "data": {
      "text/plain": [
       "3.6963961816811954"
      ]
     },
     "execution_count": 8,
     "metadata": {},
     "output_type": "execute_result"
    }
   ],
   "source": [
    "np.sqrt(mean_squared_error(target.values, oof_dl))"
   ]
  },
  {
   "cell_type": "code",
   "execution_count": 5,
   "metadata": {},
   "outputs": [],
   "source": [
    "submission_name = pd.to_datetime(\"today\")"
   ]
  },
  {
   "cell_type": "code",
   "execution_count": 6,
   "metadata": {},
   "outputs": [],
   "source": [
    "sub_df = pd.DataFrame({\"card_id\":test_df2[\"card_id\"].values})\n",
    "sub_df[\"target\"] = predictions_dl\n",
    "sub_df.to_csv(f'dl_submission-{submission_name}.csv', index=False)"
   ]
  },
  {
   "cell_type": "code",
   "execution_count": 7,
   "metadata": {},
   "outputs": [],
   "source": [
    "filename = f'dl_submission-{submission_name}.csv'"
   ]
  },
  {
   "cell_type": "code",
   "execution_count": 8,
   "metadata": {},
   "outputs": [
    {
     "data": {
      "text/plain": [
       "'dl_submission-2019-02-22 21:30:24.851272.csv'"
      ]
     },
     "execution_count": 8,
     "metadata": {},
     "output_type": "execute_result"
    }
   ],
   "source": [
    "filename"
   ]
  },
  {
   "cell_type": "code",
   "execution_count": 9,
   "metadata": {},
   "outputs": [
    {
     "name": "stdout",
     "output_type": "stream",
     "text": [
      "100%|#######################################| 4.24M/4.24M [00:07<00:00, 592kB/s]\n",
      "Successfully submitted to Elo Merchant Category Recommendation"
     ]
    }
   ],
   "source": [
    "!kaggle competitions submit elo-merchant-category-recommendation -f 'dl_submission-2019-02-22 21:30:24.851272.csv' -m \"dl with 178 cols\""
   ]
  },
  {
   "cell_type": "markdown",
   "metadata": {},
   "source": [
    "### Load lgbm preds"
   ]
  },
  {
   "cell_type": "code",
   "execution_count": 15,
   "metadata": {},
   "outputs": [],
   "source": [
    "oof_lgbm = np.load('oof_lgbm.npy')\n",
    "predictions_lgbm = np.load('predictions_lgbm.npy')"
   ]
  },
  {
   "cell_type": "code",
   "execution_count": 18,
   "metadata": {},
   "outputs": [
    {
     "data": {
      "text/plain": [
       "3.6437856343297264"
      ]
     },
     "execution_count": 18,
     "metadata": {},
     "output_type": "execute_result"
    }
   ],
   "source": [
    "np.sqrt(mean_squared_error(target.values, oof_lgbm))"
   ]
  },
  {
   "cell_type": "code",
   "execution_count": 19,
   "metadata": {},
   "outputs": [
    {
     "data": {
      "text/plain": [
       "((123623,), (123623,))"
      ]
     },
     "execution_count": 19,
     "metadata": {},
     "output_type": "execute_result"
    }
   ],
   "source": [
    "predictions_lgbm.shape, predictions_dl.shape"
   ]
  },
  {
   "cell_type": "code",
   "execution_count": 20,
   "metadata": {},
   "outputs": [
    {
     "data": {
      "text/plain": [
       "((201917,), (201917,))"
      ]
     },
     "execution_count": 20,
     "metadata": {},
     "output_type": "execute_result"
    }
   ],
   "source": [
    "oof_lgbm.shape, oof_dl.shape"
   ]
  },
  {
   "cell_type": "markdown",
   "metadata": {},
   "source": [
    "### Ridge regression of lgbm & dl preds"
   ]
  },
  {
   "cell_type": "code",
   "execution_count": 11,
   "metadata": {},
   "outputs": [
    {
     "name": "stdout",
     "output_type": "stream",
     "text": [
      "fold n°0\n",
      "fold n°1\n",
      "fold n°2\n",
      "fold n°3\n",
      "fold n°4\n"
     ]
    },
    {
     "data": {
      "text/plain": [
       "3.643089002165104"
      ]
     },
     "execution_count": 11,
     "metadata": {},
     "output_type": "execute_result"
    }
   ],
   "source": [
    "train_stack = np.vstack([oof_lgbm, oof_dl]).transpose()\n",
    "test_stack = np.vstack([predictions_lgbm, predictions_dl]).transpose()\n",
    "\n",
    "folds = StratifiedKFold(n_splits=5, shuffle=True, random_state=15)\n",
    "oof_stacked = np.zeros(train_stack.shape[0])\n",
    "predictions_stacked = np.zeros(test_stack.shape[0])\n",
    "\n",
    "for fold_, (trn_idx, val_idx) in enumerate(folds.split(train_stack, train_df2['outliers'].values)):\n",
    "    print(\"fold n°{}\".format(fold_))\n",
    "    trn_data, trn_y = train_stack[trn_idx], target.iloc[trn_idx].values\n",
    "    val_data, val_y = train_stack[val_idx], target.iloc[val_idx].values\n",
    "\n",
    "    clf = Ridge(alpha=1)\n",
    "    clf.fit(trn_data, trn_y)\n",
    "    \n",
    "    oof_stacked[val_idx] = clf.predict(val_data)\n",
    "    predictions_stacked += clf.predict(test_stack) / folds.n_splits\n",
    "\n",
    "\n",
    "\n",
    "np.sqrt(mean_squared_error(target.values, oof_stacked))"
   ]
  },
  {
   "cell_type": "markdown",
   "metadata": {},
   "source": [
    "### Load XGboost preds"
   ]
  },
  {
   "cell_type": "code",
   "execution_count": 12,
   "metadata": {},
   "outputs": [],
   "source": [
    "oof_xgb_3_2 = np.load('oof_xgb_3_2.npy')\n",
    "predictions_xgb_3_2 = np.load('predictions_xgb_3_2.npy')"
   ]
  },
  {
   "cell_type": "code",
   "execution_count": 13,
   "metadata": {},
   "outputs": [
    {
     "data": {
      "text/plain": [
       "3.649844028552147"
      ]
     },
     "execution_count": 13,
     "metadata": {},
     "output_type": "execute_result"
    }
   ],
   "source": [
    "np.sqrt(mean_squared_error(target.values, oof_xgb_3_2))"
   ]
  },
  {
   "cell_type": "markdown",
   "metadata": {},
   "source": [
    "### Stack lgbm, dl, xgboost"
   ]
  },
  {
   "cell_type": "code",
   "execution_count": 14,
   "metadata": {},
   "outputs": [
    {
     "name": "stdout",
     "output_type": "stream",
     "text": [
      "fold n°0\n",
      "fold n°1\n",
      "fold n°2\n",
      "fold n°3\n",
      "fold n°4\n"
     ]
    },
    {
     "data": {
      "text/plain": [
       "3.641238686022574"
      ]
     },
     "execution_count": 14,
     "metadata": {},
     "output_type": "execute_result"
    }
   ],
   "source": [
    "train_stack = np.vstack([oof_lgbm, oof_dl, oof_xgb_3_2]).transpose()\n",
    "test_stack = np.vstack([predictions_lgbm, predictions_dl, predictions_xgb_3_2]).transpose()\n",
    "\n",
    "folds = StratifiedKFold(n_splits=5, shuffle=True, random_state=15)\n",
    "oof_stacked = np.zeros(train_stack.shape[0])\n",
    "predictions_stacked = np.zeros(test_stack.shape[0])\n",
    "\n",
    "for fold_, (trn_idx, val_idx) in enumerate(folds.split(train_stack, train_df2['outliers'].values)):\n",
    "    print(\"fold n°{}\".format(fold_))\n",
    "    trn_data, trn_y = train_stack[trn_idx], target.iloc[trn_idx].values\n",
    "    val_data, val_y = train_stack[val_idx], target.iloc[val_idx].values\n",
    "\n",
    "    clf = Ridge(alpha=1)\n",
    "    clf.fit(trn_data, trn_y)\n",
    "    \n",
    "    oof_stacked[val_idx] = clf.predict(val_data)\n",
    "    predictions_stacked += clf.predict(test_stack) / folds.n_splits\n",
    "\n",
    "\n",
    "\n",
    "np.sqrt(mean_squared_error(target.values, oof_stacked))"
   ]
  },
  {
   "cell_type": "markdown",
   "metadata": {},
   "source": [
    "1. Round 1\n",
    "    - XGB - 3.649844028552147\n",
    "    - LGB - 3.6437856343297264 \n",
    "    - Stacked - 3.6416503351286953\n",
    "1. Round 2\n",
    "    - DL - 3.6963961816811954\n",
    "    - LGB - 3.6437856343297264 \n",
    "    - Stacked - 3.643089002165104\n",
    "1. Round 3\n",
    "    - DL - 3.6963961816811954\n",
    "    - LGB - 3.6437856343297264 \n",
    "    - XGB - 3.649844028552147\n",
    "    - Stacked - 3.641238686022574"
   ]
  },
  {
   "cell_type": "code",
   "execution_count": 18,
   "metadata": {},
   "outputs": [],
   "source": [
    "submission_name = pd.to_datetime(\"today\")\n",
    "sub_df = pd.DataFrame({\"card_id\":test_df2[\"card_id\"].values})\n",
    "sub_df[\"target\"] = predictions_stacked\n",
    "sub_df.to_csv(f'dl_xgb_submission_stacked_lgb-{submission_name}.csv', index=False)\n",
    "filename = f'dl_xgb_submission_stacked_lgb-{submission_name}.csv'"
   ]
  },
  {
   "cell_type": "code",
   "execution_count": 19,
   "metadata": {},
   "outputs": [
    {
     "data": {
      "text/plain": [
       "'dl_xgb_submission_stacked_lgb-2019-02-26 22:45:24.597929.csv'"
      ]
     },
     "execution_count": 19,
     "metadata": {},
     "output_type": "execute_result"
    }
   ],
   "source": [
    "filename"
   ]
  },
  {
   "cell_type": "code",
   "execution_count": 20,
   "metadata": {},
   "outputs": [
    {
     "name": "stdout",
     "output_type": "stream",
     "text": [
      "100%|#######################################| 4.23M/4.23M [00:22<00:00, 196kB/s]\n",
      "Successfully submitted to Elo Merchant Category Recommendation"
     ]
    }
   ],
   "source": [
    "!kaggle competitions submit elo-merchant-category-recommendation -f 'dl_xgb_submission_stacked_lgb-2019-02-26 22:45:24.597929.csv' -m \"dl & xgb & lgbm stacked with 178 cols - 3.641238686022574\""
   ]
  },
  {
   "cell_type": "code",
   "execution_count": null,
   "metadata": {},
   "outputs": [],
   "source": []
  }
 ],
 "metadata": {
  "kernelspec": {
   "display_name": "Python 3",
   "language": "python",
   "name": "python3"
  },
  "language_info": {
   "codemirror_mode": {
    "name": "ipython",
    "version": 3
   },
   "file_extension": ".py",
   "mimetype": "text/x-python",
   "name": "python",
   "nbconvert_exporter": "python",
   "pygments_lexer": "ipython3",
   "version": "3.6.8"
  },
  "toc": {
   "base_numbering": 1,
   "nav_menu": {},
   "number_sections": true,
   "sideBar": true,
   "skip_h1_title": false,
   "title_cell": "Table of Contents",
   "title_sidebar": "Contents",
   "toc_cell": true,
   "toc_position": {},
   "toc_section_display": true,
   "toc_window_display": true
  }
 },
 "nbformat": 4,
 "nbformat_minor": 2
}
