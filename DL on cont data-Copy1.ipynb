{
 "cells": [
  {
   "cell_type": "markdown",
   "metadata": {
    "toc": true
   },
   "source": [
    "<h1>Table of Contents<span class=\"tocSkip\"></span></h1>\n",
    "<div class=\"toc\"><ul class=\"toc-item\"><li><span><a href=\"#Post-proc-df\" data-toc-modified-id=\"Post-proc-df-1\"><span class=\"toc-item-num\">1&nbsp;&nbsp;</span>Post proc df</a></span></li><li><span><a href=\"#proc_df\" data-toc-modified-id=\"proc_df-2\"><span class=\"toc-item-num\">2&nbsp;&nbsp;</span>proc_df</a></span></li></ul></div>"
   ]
  },
  {
   "cell_type": "code",
   "execution_count": 1,
   "metadata": {},
   "outputs": [
    {
     "data": {
      "application/javascript": [
       "IPython.notebook.set_autosave_interval(120000)"
      ]
     },
     "metadata": {},
     "output_type": "display_data"
    },
    {
     "name": "stdout",
     "output_type": "stream",
     "text": [
      "Autosaving every 120 seconds\n"
     ]
    }
   ],
   "source": [
    "%matplotlib inline\n",
    "%load_ext autoreload\n",
    "%autoreload 4\n",
    "%autosave 120"
   ]
  },
  {
   "cell_type": "code",
   "execution_count": 2,
   "metadata": {},
   "outputs": [],
   "source": [
    "%matplotlib inline\n",
    "\n",
    "from fastai.imports import *\n",
    "from fastai.torch_imports import *\n",
    "from fastai.dataset import *\n",
    "from fastai.learner import *\n",
    "from fastai.structured import *\n",
    "from fastai.column_data import *\n",
    "import feather\n",
    "import gc"
   ]
  },
  {
   "cell_type": "code",
   "execution_count": 6,
   "metadata": {},
   "outputs": [],
   "source": [
    "df_raw = feather.read_dataframe('all_train_cont')\n",
    "# df_test = feather.read_dataframe('all_test_cont')"
   ]
  },
  {
   "cell_type": "code",
   "execution_count": 7,
   "metadata": {},
   "outputs": [],
   "source": [
    "dep = 'target'"
   ]
  },
  {
   "cell_type": "code",
   "execution_count": 8,
   "metadata": {},
   "outputs": [],
   "source": [
    "for df in [df_raw]:\n",
    "    df.drop('price', axis=1, inplace=True)\n",
    "    df.drop('purchase_amount_sum_ratio', axis=1, inplace=True)\n",
    "    df.drop('installments_ratio', axis=1, inplace=True)\n",
    "    df.drop('month_diff_ratio', axis=1, inplace=True)\n",
    "    for f in ['purchase_date']:\n",
    "        df[f] = df[f].astype(np.int64) * 1e-9\n",
    "    for c in ['avg_purchases_lag3', 'avg_purchases_lag6', 'avg_purchases_lag12']:\n",
    "        df[c] = df[c].replace(np.inf, df[c].median())"
   ]
  },
  {
   "cell_type": "code",
   "execution_count": 9,
   "metadata": {},
   "outputs": [],
   "source": [
    "def reduce_mem_usage(df, verbose=True):\n",
    "    numerics = ['int16', 'int32', 'int64', 'float16', 'float32', 'float64']\n",
    "    start_mem = df.memory_usage().sum() / 1024**2    \n",
    "    for col in df.columns:\n",
    "        col_type = df[col].dtypes\n",
    "        if col_type in numerics:\n",
    "            c_min = df[col].min()\n",
    "            c_max = df[col].max()\n",
    "            if str(col_type)[:3] == 'int':\n",
    "                if c_min > np.iinfo(np.int8).min and c_max < np.iinfo(np.int8).max:\n",
    "                    df[col] = df[col].astype(np.int8)\n",
    "                elif c_min > np.iinfo(np.int16).min and c_max < np.iinfo(np.int16).max:\n",
    "                    df[col] = df[col].astype(np.int16)\n",
    "                elif c_min > np.iinfo(np.int32).min and c_max < np.iinfo(np.int32).max:\n",
    "                    df[col] = df[col].astype(np.int32)\n",
    "                elif c_min > np.iinfo(np.int64).min and c_max < np.iinfo(np.int64).max:\n",
    "                    df[col] = df[col].astype(np.int64)  \n",
    "            else:\n",
    "                if c_min > np.finfo(np.float16).min and c_max < np.finfo(np.float16).max:\n",
    "                    df[col] = df[col].astype(np.float16)\n",
    "                elif c_min > np.finfo(np.float32).min and c_max < np.finfo(np.float32).max:\n",
    "                    df[col] = df[col].astype(np.float32)\n",
    "                else:\n",
    "                    df[col] = df[col].astype(np.float64)    \n",
    "    end_mem = df.memory_usage().sum() / 1024**2\n",
    "    if verbose: print('Mem. usage decreased to {:5.2f} Mb ({:.1f}% reduction)'.format(end_mem, 100 * (start_mem - end_mem) / start_mem))\n",
    "    return df"
   ]
  },
  {
   "cell_type": "code",
   "execution_count": 10,
   "metadata": {},
   "outputs": [
    {
     "name": "stdout",
     "output_type": "stream",
     "text": [
      "Mem. usage decreased to 3127.28 Mb (43.5% reduction)\n"
     ]
    }
   ],
   "source": [
    "df_raw = reduce_mem_usage(df_raw)"
   ]
  },
  {
   "cell_type": "code",
   "execution_count": 6,
   "metadata": {},
   "outputs": [],
   "source": [
    "train_cards = df_raw['card_id'].unique()"
   ]
  },
  {
   "cell_type": "code",
   "execution_count": 7,
   "metadata": {},
   "outputs": [
    {
     "data": {
      "text/plain": [
       "(201917,)"
      ]
     },
     "execution_count": 7,
     "metadata": {},
     "output_type": "execute_result"
    }
   ],
   "source": [
    "train_cards.shape"
   ]
  },
  {
   "cell_type": "code",
   "execution_count": 8,
   "metadata": {},
   "outputs": [],
   "source": [
    "val_cards = np.random.choice(train_cards, 40000)"
   ]
  },
  {
   "cell_type": "code",
   "execution_count": 9,
   "metadata": {},
   "outputs": [
    {
     "data": {
      "text/plain": [
       "(40000,)"
      ]
     },
     "execution_count": 9,
     "metadata": {},
     "output_type": "execute_result"
    }
   ],
   "source": [
    "val_cards.shape"
   ]
  },
  {
   "cell_type": "code",
   "execution_count": 10,
   "metadata": {},
   "outputs": [],
   "source": [
    "val_idx = df_raw.index[df_raw.card_id.isin(val_cards)]"
   ]
  },
  {
   "cell_type": "code",
   "execution_count": 11,
   "metadata": {},
   "outputs": [],
   "source": [
    "val_cards2 = np.random.choice(val_cards, 8000)"
   ]
  },
  {
   "cell_type": "code",
   "execution_count": 12,
   "metadata": {},
   "outputs": [],
   "source": [
    "df_valid = df_raw.iloc[val_idx]"
   ]
  },
  {
   "cell_type": "code",
   "execution_count": 13,
   "metadata": {},
   "outputs": [],
   "source": [
    "val_idx2 = df_valid.index[df_valid.card_id.isin(val_cards2)]"
   ]
  },
  {
   "cell_type": "code",
   "execution_count": 14,
   "metadata": {},
   "outputs": [
    {
     "data": {
      "text/plain": [
       "((19249698, 91), (3433782, 91), 678088)"
      ]
     },
     "execution_count": 14,
     "metadata": {},
     "output_type": "execute_result"
    }
   ],
   "source": [
    "df_raw.shape, df_valid.shape, len(val_idx2)"
   ]
  },
  {
   "cell_type": "code",
   "execution_count": 15,
   "metadata": {},
   "outputs": [],
   "source": [
    "df_valid_trn = df_valid[~df_valid.card_id.isin(val_cards2)]"
   ]
  },
  {
   "cell_type": "code",
   "execution_count": 16,
   "metadata": {},
   "outputs": [
    {
     "data": {
      "text/plain": [
       "((2755694, 91), (3433782, 91), 678088)"
      ]
     },
     "execution_count": 16,
     "metadata": {},
     "output_type": "execute_result"
    }
   ],
   "source": [
    "df_valid_trn.shape, df_valid.shape, len(val_idx2)"
   ]
  },
  {
   "cell_type": "code",
   "execution_count": 11,
   "metadata": {},
   "outputs": [
    {
     "data": {
      "text/plain": [
       "19"
      ]
     },
     "execution_count": 11,
     "metadata": {},
     "output_type": "execute_result"
    }
   ],
   "source": [
    "gc.collect()"
   ]
  },
  {
   "cell_type": "code",
   "execution_count": 18,
   "metadata": {},
   "outputs": [
    {
     "data": {
      "text/plain": [
       "(3433782,)"
      ]
     },
     "execution_count": 18,
     "metadata": {},
     "output_type": "execute_result"
    }
   ],
   "source": [
    "val_idx.shape"
   ]
  },
  {
   "cell_type": "code",
   "execution_count": 16,
   "metadata": {
    "collapsed": true
   },
   "outputs": [
    {
     "ename": "MemoryError",
     "evalue": "",
     "output_type": "error",
     "traceback": [
      "\u001b[0;31m---------------------------------------------------------------------------\u001b[0m",
      "\u001b[0;31mMemoryError\u001b[0m                               Traceback (most recent call last)",
      "\u001b[0;32m<ipython-input-16-41486728f3b1>\u001b[0m in \u001b[0;36m<module>\u001b[0;34m\u001b[0m\n\u001b[0;32m----> 1\u001b[0;31m \u001b[0mtrn_idx\u001b[0m \u001b[0;34m=\u001b[0m \u001b[0mdf_raw\u001b[0m\u001b[0;34m[\u001b[0m\u001b[0;34m~\u001b[0m\u001b[0mdf_raw\u001b[0m\u001b[0;34m.\u001b[0m\u001b[0mcard_id\u001b[0m\u001b[0;34m.\u001b[0m\u001b[0misin\u001b[0m\u001b[0;34m(\u001b[0m\u001b[0mval_cards\u001b[0m\u001b[0;34m)\u001b[0m\u001b[0;34m]\u001b[0m\u001b[0;34m\u001b[0m\u001b[0;34m\u001b[0m\u001b[0m\n\u001b[0m",
      "\u001b[0;32m~/anaconda3/envs/fastai/lib/python3.6/site-packages/pandas/core/frame.py\u001b[0m in \u001b[0;36m__getitem__\u001b[0;34m(self, key)\u001b[0m\n\u001b[1;32m   2916\u001b[0m         \u001b[0;31m# Do we have a (boolean) 1d indexer?\u001b[0m\u001b[0;34m\u001b[0m\u001b[0;34m\u001b[0m\u001b[0;34m\u001b[0m\u001b[0m\n\u001b[1;32m   2917\u001b[0m         \u001b[0;32mif\u001b[0m \u001b[0mcom\u001b[0m\u001b[0;34m.\u001b[0m\u001b[0mis_bool_indexer\u001b[0m\u001b[0;34m(\u001b[0m\u001b[0mkey\u001b[0m\u001b[0;34m)\u001b[0m\u001b[0;34m:\u001b[0m\u001b[0;34m\u001b[0m\u001b[0;34m\u001b[0m\u001b[0m\n\u001b[0;32m-> 2918\u001b[0;31m             \u001b[0;32mreturn\u001b[0m \u001b[0mself\u001b[0m\u001b[0;34m.\u001b[0m\u001b[0m_getitem_bool_array\u001b[0m\u001b[0;34m(\u001b[0m\u001b[0mkey\u001b[0m\u001b[0;34m)\u001b[0m\u001b[0;34m\u001b[0m\u001b[0;34m\u001b[0m\u001b[0m\n\u001b[0m\u001b[1;32m   2919\u001b[0m \u001b[0;34m\u001b[0m\u001b[0m\n\u001b[1;32m   2920\u001b[0m         \u001b[0;31m# We are left with two options: a single key, and a collection of keys,\u001b[0m\u001b[0;34m\u001b[0m\u001b[0;34m\u001b[0m\u001b[0;34m\u001b[0m\u001b[0m\n",
      "\u001b[0;32m~/anaconda3/envs/fastai/lib/python3.6/site-packages/pandas/core/frame.py\u001b[0m in \u001b[0;36m_getitem_bool_array\u001b[0;34m(self, key)\u001b[0m\n\u001b[1;32m   2967\u001b[0m         \u001b[0mkey\u001b[0m \u001b[0;34m=\u001b[0m \u001b[0mcheck_bool_indexer\u001b[0m\u001b[0;34m(\u001b[0m\u001b[0mself\u001b[0m\u001b[0;34m.\u001b[0m\u001b[0mindex\u001b[0m\u001b[0;34m,\u001b[0m \u001b[0mkey\u001b[0m\u001b[0;34m)\u001b[0m\u001b[0;34m\u001b[0m\u001b[0;34m\u001b[0m\u001b[0m\n\u001b[1;32m   2968\u001b[0m         \u001b[0mindexer\u001b[0m \u001b[0;34m=\u001b[0m \u001b[0mkey\u001b[0m\u001b[0;34m.\u001b[0m\u001b[0mnonzero\u001b[0m\u001b[0;34m(\u001b[0m\u001b[0;34m)\u001b[0m\u001b[0;34m[\u001b[0m\u001b[0;36m0\u001b[0m\u001b[0;34m]\u001b[0m\u001b[0;34m\u001b[0m\u001b[0;34m\u001b[0m\u001b[0m\n\u001b[0;32m-> 2969\u001b[0;31m         \u001b[0;32mreturn\u001b[0m \u001b[0mself\u001b[0m\u001b[0;34m.\u001b[0m\u001b[0m_take\u001b[0m\u001b[0;34m(\u001b[0m\u001b[0mindexer\u001b[0m\u001b[0;34m,\u001b[0m \u001b[0maxis\u001b[0m\u001b[0;34m=\u001b[0m\u001b[0;36m0\u001b[0m\u001b[0;34m)\u001b[0m\u001b[0;34m\u001b[0m\u001b[0;34m\u001b[0m\u001b[0m\n\u001b[0m\u001b[1;32m   2970\u001b[0m \u001b[0;34m\u001b[0m\u001b[0m\n\u001b[1;32m   2971\u001b[0m     \u001b[0;32mdef\u001b[0m \u001b[0m_getitem_multilevel\u001b[0m\u001b[0;34m(\u001b[0m\u001b[0mself\u001b[0m\u001b[0;34m,\u001b[0m \u001b[0mkey\u001b[0m\u001b[0;34m)\u001b[0m\u001b[0;34m:\u001b[0m\u001b[0;34m\u001b[0m\u001b[0;34m\u001b[0m\u001b[0m\n",
      "\u001b[0;32m~/anaconda3/envs/fastai/lib/python3.6/site-packages/pandas/core/generic.py\u001b[0m in \u001b[0;36m_take\u001b[0;34m(self, indices, axis, is_copy)\u001b[0m\n\u001b[1;32m   3357\u001b[0m         new_data = self._data.take(indices,\n\u001b[1;32m   3358\u001b[0m                                    \u001b[0maxis\u001b[0m\u001b[0;34m=\u001b[0m\u001b[0mself\u001b[0m\u001b[0;34m.\u001b[0m\u001b[0m_get_block_manager_axis\u001b[0m\u001b[0;34m(\u001b[0m\u001b[0maxis\u001b[0m\u001b[0;34m)\u001b[0m\u001b[0;34m,\u001b[0m\u001b[0;34m\u001b[0m\u001b[0;34m\u001b[0m\u001b[0m\n\u001b[0;32m-> 3359\u001b[0;31m                                    verify=True)\n\u001b[0m\u001b[1;32m   3360\u001b[0m         \u001b[0mresult\u001b[0m \u001b[0;34m=\u001b[0m \u001b[0mself\u001b[0m\u001b[0;34m.\u001b[0m\u001b[0m_constructor\u001b[0m\u001b[0;34m(\u001b[0m\u001b[0mnew_data\u001b[0m\u001b[0;34m)\u001b[0m\u001b[0;34m.\u001b[0m\u001b[0m__finalize__\u001b[0m\u001b[0;34m(\u001b[0m\u001b[0mself\u001b[0m\u001b[0;34m)\u001b[0m\u001b[0;34m\u001b[0m\u001b[0;34m\u001b[0m\u001b[0m\n\u001b[1;32m   3361\u001b[0m \u001b[0;34m\u001b[0m\u001b[0m\n",
      "\u001b[0;32m~/anaconda3/envs/fastai/lib/python3.6/site-packages/pandas/core/internals/managers.py\u001b[0m in \u001b[0;36mtake\u001b[0;34m(self, indexer, axis, verify, convert)\u001b[0m\n\u001b[1;32m   1348\u001b[0m         \u001b[0mnew_labels\u001b[0m \u001b[0;34m=\u001b[0m \u001b[0mself\u001b[0m\u001b[0;34m.\u001b[0m\u001b[0maxes\u001b[0m\u001b[0;34m[\u001b[0m\u001b[0maxis\u001b[0m\u001b[0;34m]\u001b[0m\u001b[0;34m.\u001b[0m\u001b[0mtake\u001b[0m\u001b[0;34m(\u001b[0m\u001b[0mindexer\u001b[0m\u001b[0;34m)\u001b[0m\u001b[0;34m\u001b[0m\u001b[0;34m\u001b[0m\u001b[0m\n\u001b[1;32m   1349\u001b[0m         return self.reindex_indexer(new_axis=new_labels, indexer=indexer,\n\u001b[0;32m-> 1350\u001b[0;31m                                     axis=axis, allow_dups=True)\n\u001b[0m\u001b[1;32m   1351\u001b[0m \u001b[0;34m\u001b[0m\u001b[0m\n\u001b[1;32m   1352\u001b[0m     \u001b[0;32mdef\u001b[0m \u001b[0mmerge\u001b[0m\u001b[0;34m(\u001b[0m\u001b[0mself\u001b[0m\u001b[0;34m,\u001b[0m \u001b[0mother\u001b[0m\u001b[0;34m,\u001b[0m \u001b[0mlsuffix\u001b[0m\u001b[0;34m=\u001b[0m\u001b[0;34m''\u001b[0m\u001b[0;34m,\u001b[0m \u001b[0mrsuffix\u001b[0m\u001b[0;34m=\u001b[0m\u001b[0;34m''\u001b[0m\u001b[0;34m)\u001b[0m\u001b[0;34m:\u001b[0m\u001b[0;34m\u001b[0m\u001b[0;34m\u001b[0m\u001b[0m\n",
      "\u001b[0;32m~/anaconda3/envs/fastai/lib/python3.6/site-packages/pandas/core/internals/managers.py\u001b[0m in \u001b[0;36mreindex_indexer\u001b[0;34m(self, new_axis, indexer, axis, fill_value, allow_dups, copy)\u001b[0m\n\u001b[1;32m   1233\u001b[0m             new_blocks = [blk.take_nd(indexer, axis=axis, fill_tuple=(\n\u001b[1;32m   1234\u001b[0m                 fill_value if fill_value is not None else blk.fill_value,))\n\u001b[0;32m-> 1235\u001b[0;31m                 for blk in self.blocks]\n\u001b[0m\u001b[1;32m   1236\u001b[0m \u001b[0;34m\u001b[0m\u001b[0m\n\u001b[1;32m   1237\u001b[0m         \u001b[0mnew_axes\u001b[0m \u001b[0;34m=\u001b[0m \u001b[0mlist\u001b[0m\u001b[0;34m(\u001b[0m\u001b[0mself\u001b[0m\u001b[0;34m.\u001b[0m\u001b[0maxes\u001b[0m\u001b[0;34m)\u001b[0m\u001b[0;34m\u001b[0m\u001b[0;34m\u001b[0m\u001b[0m\n",
      "\u001b[0;32m~/anaconda3/envs/fastai/lib/python3.6/site-packages/pandas/core/internals/managers.py\u001b[0m in \u001b[0;36m<listcomp>\u001b[0;34m(.0)\u001b[0m\n\u001b[1;32m   1233\u001b[0m             new_blocks = [blk.take_nd(indexer, axis=axis, fill_tuple=(\n\u001b[1;32m   1234\u001b[0m                 fill_value if fill_value is not None else blk.fill_value,))\n\u001b[0;32m-> 1235\u001b[0;31m                 for blk in self.blocks]\n\u001b[0m\u001b[1;32m   1236\u001b[0m \u001b[0;34m\u001b[0m\u001b[0m\n\u001b[1;32m   1237\u001b[0m         \u001b[0mnew_axes\u001b[0m \u001b[0;34m=\u001b[0m \u001b[0mlist\u001b[0m\u001b[0;34m(\u001b[0m\u001b[0mself\u001b[0m\u001b[0;34m.\u001b[0m\u001b[0maxes\u001b[0m\u001b[0;34m)\u001b[0m\u001b[0;34m\u001b[0m\u001b[0;34m\u001b[0m\u001b[0m\n",
      "\u001b[0;32m~/anaconda3/envs/fastai/lib/python3.6/site-packages/pandas/core/internals/blocks.py\u001b[0m in \u001b[0;36mtake_nd\u001b[0;34m(self, indexer, axis, new_mgr_locs, fill_tuple)\u001b[0m\n\u001b[1;32m   1236\u001b[0m             \u001b[0mfill_value\u001b[0m \u001b[0;34m=\u001b[0m \u001b[0mfill_tuple\u001b[0m\u001b[0;34m[\u001b[0m\u001b[0;36m0\u001b[0m\u001b[0;34m]\u001b[0m\u001b[0;34m\u001b[0m\u001b[0;34m\u001b[0m\u001b[0m\n\u001b[1;32m   1237\u001b[0m             new_values = algos.take_nd(values, indexer, axis=axis,\n\u001b[0;32m-> 1238\u001b[0;31m                                        allow_fill=True, fill_value=fill_value)\n\u001b[0m\u001b[1;32m   1239\u001b[0m \u001b[0;34m\u001b[0m\u001b[0m\n\u001b[1;32m   1240\u001b[0m         \u001b[0;32mif\u001b[0m \u001b[0mnew_mgr_locs\u001b[0m \u001b[0;32mis\u001b[0m \u001b[0;32mNone\u001b[0m\u001b[0;34m:\u001b[0m\u001b[0;34m\u001b[0m\u001b[0;34m\u001b[0m\u001b[0m\n",
      "\u001b[0;32m~/anaconda3/envs/fastai/lib/python3.6/site-packages/pandas/core/algorithms.py\u001b[0m in \u001b[0;36mtake_nd\u001b[0;34m(arr, indexer, axis, out, fill_value, mask_info, allow_fill)\u001b[0m\n\u001b[1;32m   1643\u001b[0m             \u001b[0mout\u001b[0m \u001b[0;34m=\u001b[0m \u001b[0mnp\u001b[0m\u001b[0;34m.\u001b[0m\u001b[0mempty\u001b[0m\u001b[0;34m(\u001b[0m\u001b[0mout_shape\u001b[0m\u001b[0;34m,\u001b[0m \u001b[0mdtype\u001b[0m\u001b[0;34m=\u001b[0m\u001b[0mdtype\u001b[0m\u001b[0;34m,\u001b[0m \u001b[0morder\u001b[0m\u001b[0;34m=\u001b[0m\u001b[0;34m'F'\u001b[0m\u001b[0;34m)\u001b[0m\u001b[0;34m\u001b[0m\u001b[0;34m\u001b[0m\u001b[0m\n\u001b[1;32m   1644\u001b[0m         \u001b[0;32melse\u001b[0m\u001b[0;34m:\u001b[0m\u001b[0;34m\u001b[0m\u001b[0;34m\u001b[0m\u001b[0m\n\u001b[0;32m-> 1645\u001b[0;31m             \u001b[0mout\u001b[0m \u001b[0;34m=\u001b[0m \u001b[0mnp\u001b[0m\u001b[0;34m.\u001b[0m\u001b[0mempty\u001b[0m\u001b[0;34m(\u001b[0m\u001b[0mout_shape\u001b[0m\u001b[0;34m,\u001b[0m \u001b[0mdtype\u001b[0m\u001b[0;34m=\u001b[0m\u001b[0mdtype\u001b[0m\u001b[0;34m)\u001b[0m\u001b[0;34m\u001b[0m\u001b[0;34m\u001b[0m\u001b[0m\n\u001b[0m\u001b[1;32m   1646\u001b[0m \u001b[0;34m\u001b[0m\u001b[0m\n\u001b[1;32m   1647\u001b[0m     func = _get_take_nd_function(arr.ndim, arr.dtype, out.dtype, axis=axis,\n",
      "\u001b[0;31mMemoryError\u001b[0m: "
     ]
    }
   ],
   "source": [
    "trn_idx = df_raw[~df_raw.card_id.isin(val_cards)]"
   ]
  },
  {
   "cell_type": "code",
   "execution_count": 19,
   "metadata": {},
   "outputs": [
    {
     "ename": "NameError",
     "evalue": "name 'trn_idx' is not defined",
     "output_type": "error",
     "traceback": [
      "\u001b[0;31m---------------------------------------------------------------------------\u001b[0m",
      "\u001b[0;31mNameError\u001b[0m                                 Traceback (most recent call last)",
      "\u001b[0;32m<ipython-input-19-264356339c73>\u001b[0m in \u001b[0;36m<module>\u001b[0;34m\u001b[0m\n\u001b[0;32m----> 1\u001b[0;31m \u001b[0mval_idx\u001b[0m\u001b[0;34m.\u001b[0m\u001b[0mshape\u001b[0m\u001b[0;34m,\u001b[0m \u001b[0mtrn_idx\u001b[0m\u001b[0;34m.\u001b[0m\u001b[0mshape\u001b[0m\u001b[0;34m,\u001b[0m \u001b[0mdf_raw\u001b[0m\u001b[0;34m.\u001b[0m\u001b[0mshape\u001b[0m\u001b[0;34m\u001b[0m\u001b[0;34m\u001b[0m\u001b[0m\n\u001b[0m",
      "\u001b[0;31mNameError\u001b[0m: name 'trn_idx' is not defined"
     ]
    }
   ],
   "source": [
    "val_idx.shape, trn_idx.shape, df_raw.shape"
   ]
  },
  {
   "cell_type": "code",
   "execution_count": 18,
   "metadata": {},
   "outputs": [
    {
     "data": {
      "text/plain": [
       "array(['authorized_flag', 'card_id', 'installments', 'category_3', 'merchant_category_id', 'merchant_id',\n",
       "       'month_lag', 'purchase_amount', 'purchase_date', 'purchase_Year', 'purchase_Month', 'purchase_Week',\n",
       "       'purchase_Day', 'purchase_Dayofweek', 'purchase_Dayofyear', 'purchase_Is_month_end',\n",
       "       'purchase_Is_month_start', 'purchase_Is_quarter_end', 'purchase_Is_quarter_start',\n",
       "       'purchase_Is_year_end', 'purchase_Is_year_start', 'purchase_Hour', 'purchase_Minute',\n",
       "       'purchase_Second', 'purchase_Elapsed', 'purchased_on_weekend', 'purchased_on_weekday', 'month_diff',\n",
       "       'purchase_date_successive_diff', 'Christmas_Day_2017', 'Mothers_Day_2017', 'fathers_day_2017',\n",
       "       'Children_day_2017', 'Valentine_Day_2017', 'Black_Friday_2017', 'Mothers_Day_2018', 'duration',\n",
       "       'amount_month_ratio', 'merchant_address_id', 'numerical_range', 'merchant_rating',\n",
       "       'merchant_group_id', 'merchant_category_id_y', 'subsector_id', 'numerical_1', 'numerical_2',\n",
       "       'category_1', 'most_recent_sales_range', 'most_recent_purchases_range', 'avg_sales_lag3',\n",
       "       'avg_purchases_lag3', 'active_months_lag3', 'avg_sales_lag6', 'avg_purchases_lag6',\n",
       "       'active_months_lag6', 'avg_sales_lag12', 'avg_purchases_lag12', 'active_months_lag12', 'category_4',\n",
       "       'city_id', 'state_id', 'category_2', 'CLV', 'CLV_old', 'CLV_ratio', 'card_id_count_ratio',\n",
       "       'days_feature1', 'days_feature1_ratio', 'days_feature2', 'days_feature2_ratio', 'days_feature3',\n",
       "       'days_feature3_ratio', 'feature_1', 'feature_2', 'feature_3', 'feature_max', 'feature_mean',\n",
       "       'feature_min', 'feature_sum', 'feature_var', 'hist_first_buy', 'hist_last_buy', 'installments_ratio',\n",
       "       'month_diff_ratio', 'new_first_buy', 'new_last_buy', 'observed_elapsed_time', 'outliers',\n",
       "       'purchase_amount_sum_ratio', 'quarter', 'target'], dtype=object)"
      ]
     },
     "execution_count": 18,
     "metadata": {},
     "output_type": "execute_result"
    }
   ],
   "source": [
    "df_raw.columns.values"
   ]
  },
  {
   "cell_type": "code",
   "execution_count": 57,
   "metadata": {},
   "outputs": [],
   "source": [
    "pd.set_option('display.max_rows', 100)"
   ]
  },
  {
   "cell_type": "code",
   "execution_count": 13,
   "metadata": {},
   "outputs": [
    {
     "data": {
      "text/plain": [
       "authorized_flag                  category\n",
       "card_id                            object\n",
       "installments                      float64\n",
       "category_3                       category\n",
       "merchant_category_id             category\n",
       "merchant_id                        object\n",
       "month_lag                           int64\n",
       "purchase_amount                   float64\n",
       "purchase_date                     float64\n",
       "purchase_Year                    category\n",
       "purchase_Month                   category\n",
       "purchase_Week                    category\n",
       "purchase_Day                     category\n",
       "purchase_Dayofweek               category\n",
       "purchase_Dayofyear               category\n",
       "purchase_Is_month_end                bool\n",
       "purchase_Is_month_start              bool\n",
       "purchase_Is_quarter_end              bool\n",
       "purchase_Is_quarter_start            bool\n",
       "purchase_Is_year_end                 bool\n",
       "purchase_Is_year_start               bool\n",
       "purchase_Hour                    category\n",
       "purchase_Minute                  category\n",
       "purchase_Second                  category\n",
       "purchase_Elapsed                    int64\n",
       "purchased_on_weekend             category\n",
       "purchased_on_weekday             category\n",
       "month_diff                          int64\n",
       "purchase_date_successive_diff     float64\n",
       "Christmas_Day_2017               category\n",
       "                                   ...   \n",
       "category_2                       category\n",
       "CLV                               float64\n",
       "CLV_old                           float64\n",
       "CLV_ratio                         float64\n",
       "card_id_count_ratio               float64\n",
       "days_feature1                    category\n",
       "days_feature1_ratio              category\n",
       "days_feature2                    category\n",
       "days_feature2_ratio              category\n",
       "days_feature3                    category\n",
       "days_feature3_ratio              category\n",
       "feature_1                        category\n",
       "feature_2                        category\n",
       "feature_3                        category\n",
       "feature_max                      category\n",
       "feature_mean                     category\n",
       "feature_min                      category\n",
       "feature_sum                      category\n",
       "feature_var                      category\n",
       "hist_first_buy                   category\n",
       "hist_last_buy                    category\n",
       "installments_ratio                float64\n",
       "month_diff_ratio                  float64\n",
       "new_first_buy                    category\n",
       "new_last_buy                     category\n",
       "observed_elapsed_time            category\n",
       "outliers                            int64\n",
       "purchase_amount_sum_ratio         float64\n",
       "quarter                          category\n",
       "target                            float64\n",
       "Length: 91, dtype: object"
      ]
     },
     "execution_count": 13,
     "metadata": {},
     "output_type": "execute_result"
    }
   ],
   "source": [
    "df_raw.dtypes"
   ]
  },
  {
   "cell_type": "code",
   "execution_count": 8,
   "metadata": {},
   "outputs": [
    {
     "data": {
      "text/plain": [
       "array(['authorized_flag', 'category_3', 'merchant_category_id', 'purchase_Year', 'purchase_Month',\n",
       "       'purchase_Week', 'purchase_Day', 'purchase_Dayofweek', 'purchase_Dayofyear', 'purchase_Hour',\n",
       "       'purchase_Minute', 'purchase_Second', 'purchased_on_weekend', 'purchased_on_weekday',\n",
       "       'Christmas_Day_2017', 'Mothers_Day_2017', 'fathers_day_2017', 'Children_day_2017',\n",
       "       'Valentine_Day_2017', 'Black_Friday_2017', 'Mothers_Day_2018', 'merchant_rating', 'merchant_group_id',\n",
       "       'subsector_id', 'category_1', 'most_recent_sales_range', 'most_recent_purchases_range',\n",
       "       'active_months_lag3', 'active_months_lag6', 'active_months_lag12', 'category_4', 'city_id',\n",
       "       'state_id', 'category_2', 'days_feature1', 'days_feature1_ratio', 'days_feature2',\n",
       "       'days_feature2_ratio', 'days_feature3', 'days_feature3_ratio', 'feature_1', 'feature_2', 'feature_3',\n",
       "       'feature_max', 'feature_mean', 'feature_min', 'feature_sum', 'feature_var', 'hist_first_buy',\n",
       "       'hist_last_buy', 'new_first_buy', 'new_last_buy', 'observed_elapsed_time', 'quarter'], dtype=object)"
      ]
     },
     "execution_count": 8,
     "metadata": {},
     "output_type": "execute_result"
    }
   ],
   "source": [
    "df_raw.select_dtypes(include=['category']).columns.values"
   ]
  },
  {
   "cell_type": "code",
   "execution_count": 8,
   "metadata": {},
   "outputs": [
    {
     "data": {
      "text/plain": [
       "array(['authorized_flag', 'category_3', 'merchant_category_id', 'purchase_Year', 'purchase_Month',\n",
       "       'purchase_Week', 'purchase_Day', 'purchase_Dayofweek', 'purchase_Dayofyear', 'purchase_Hour',\n",
       "       'purchase_Minute', 'purchase_Second', 'purchased_on_weekend', 'purchased_on_weekday',\n",
       "       'Christmas_Day_2017', 'Mothers_Day_2017', 'fathers_day_2017', 'Children_day_2017',\n",
       "       'Valentine_Day_2017', 'Black_Friday_2017', 'Mothers_Day_2018', 'merchant_rating', 'merchant_group_id',\n",
       "       'subsector_id', 'category_1', 'most_recent_sales_range', 'most_recent_purchases_range',\n",
       "       'active_months_lag3', 'active_months_lag6', 'active_months_lag12', 'category_4', 'city_id',\n",
       "       'state_id', 'category_2', 'days_feature1', 'days_feature1_ratio', 'days_feature2',\n",
       "       'days_feature2_ratio', 'days_feature3', 'days_feature3_ratio', 'feature_1', 'feature_2', 'feature_3',\n",
       "       'feature_max', 'feature_mean', 'feature_min', 'feature_sum', 'feature_var', 'hist_first_buy',\n",
       "       'hist_last_buy', 'new_first_buy', 'new_last_buy', 'observed_elapsed_time', 'quarter'], dtype=object)"
      ]
     },
     "execution_count": 8,
     "metadata": {},
     "output_type": "execute_result"
    }
   ],
   "source": [
    "df_test.select_dtypes(include=['category']).columns.values"
   ]
  },
  {
   "cell_type": "code",
   "execution_count": 12,
   "metadata": {},
   "outputs": [],
   "source": [
    "cat_flds = df_raw.select_dtypes(include=['category']).columns.values"
   ]
  },
  {
   "cell_type": "code",
   "execution_count": 13,
   "metadata": {},
   "outputs": [],
   "source": [
    "cat_flds = cat_flds.tolist() + ['card_id', 'merchant_id', 'merchant_address_id']"
   ]
  },
  {
   "cell_type": "code",
   "execution_count": 14,
   "metadata": {},
   "outputs": [
    {
     "data": {
      "text/plain": [
       "0"
      ]
     },
     "execution_count": 14,
     "metadata": {},
     "output_type": "execute_result"
    }
   ],
   "source": [
    "gc.collect()"
   ]
  },
  {
   "cell_type": "code",
   "execution_count": 29,
   "metadata": {},
   "outputs": [],
   "source": [
    "pd.set_option('display.max_rows', 100)"
   ]
  },
  {
   "cell_type": "code",
   "execution_count": 23,
   "metadata": {
    "collapsed": true
   },
   "outputs": [
    {
     "data": {
      "text/html": [
       "<div>\n",
       "<style scoped>\n",
       "    .dataframe tbody tr th:only-of-type {\n",
       "        vertical-align: middle;\n",
       "    }\n",
       "\n",
       "    .dataframe tbody tr th {\n",
       "        vertical-align: top;\n",
       "    }\n",
       "\n",
       "    .dataframe thead th {\n",
       "        text-align: right;\n",
       "    }\n",
       "</style>\n",
       "<table border=\"1\" class=\"dataframe\">\n",
       "  <thead>\n",
       "    <tr style=\"text-align: right;\">\n",
       "      <th></th>\n",
       "      <th>0</th>\n",
       "      <th>1</th>\n",
       "      <th>2</th>\n",
       "      <th>3</th>\n",
       "      <th>4</th>\n",
       "    </tr>\n",
       "  </thead>\n",
       "  <tbody>\n",
       "    <tr>\n",
       "      <th>authorized_flag</th>\n",
       "      <td>1</td>\n",
       "      <td>1</td>\n",
       "      <td>1</td>\n",
       "      <td>0</td>\n",
       "      <td>1</td>\n",
       "    </tr>\n",
       "    <tr>\n",
       "      <th>card_id</th>\n",
       "      <td>C_ID_da2090f28e</td>\n",
       "      <td>C_ID_efced389a0</td>\n",
       "      <td>C_ID_479fd6392a</td>\n",
       "      <td>C_ID_79296614ed</td>\n",
       "      <td>C_ID_f43ae18887</td>\n",
       "    </tr>\n",
       "    <tr>\n",
       "      <th>installments</th>\n",
       "      <td>0</td>\n",
       "      <td>1</td>\n",
       "      <td>1</td>\n",
       "      <td>0</td>\n",
       "      <td>0</td>\n",
       "    </tr>\n",
       "    <tr>\n",
       "      <th>category_3</th>\n",
       "      <td>0</td>\n",
       "      <td>1</td>\n",
       "      <td>1</td>\n",
       "      <td>0</td>\n",
       "      <td>0</td>\n",
       "    </tr>\n",
       "    <tr>\n",
       "      <th>merchant_category_id</th>\n",
       "      <td>623</td>\n",
       "      <td>842</td>\n",
       "      <td>839</td>\n",
       "      <td>360</td>\n",
       "      <td>511</td>\n",
       "    </tr>\n",
       "    <tr>\n",
       "      <th>merchant_id</th>\n",
       "      <td>M_ID_f001319a61</td>\n",
       "      <td>M_ID_18038b5ae7</td>\n",
       "      <td>M_ID_e5374dabc0</td>\n",
       "      <td>M_ID_257157f6ee</td>\n",
       "      <td>M_ID_00a6ca8a8a</td>\n",
       "    </tr>\n",
       "    <tr>\n",
       "      <th>month_lag</th>\n",
       "      <td>-11</td>\n",
       "      <td>-12</td>\n",
       "      <td>-1</td>\n",
       "      <td>-3</td>\n",
       "      <td>-13</td>\n",
       "    </tr>\n",
       "    <tr>\n",
       "      <th>purchase_amount</th>\n",
       "      <td>40</td>\n",
       "      <td>120</td>\n",
       "      <td>6</td>\n",
       "      <td>108.5</td>\n",
       "      <td>39</td>\n",
       "    </tr>\n",
       "    <tr>\n",
       "      <th>purchase_date</th>\n",
       "      <td>1.48323e+09</td>\n",
       "      <td>1.48323e+09</td>\n",
       "      <td>1.48323e+09</td>\n",
       "      <td>1.48323e+09</td>\n",
       "      <td>1.48323e+09</td>\n",
       "    </tr>\n",
       "    <tr>\n",
       "      <th>purchase_Year</th>\n",
       "      <td>2017</td>\n",
       "      <td>2017</td>\n",
       "      <td>2017</td>\n",
       "      <td>2017</td>\n",
       "      <td>2017</td>\n",
       "    </tr>\n",
       "    <tr>\n",
       "      <th>purchase_Month</th>\n",
       "      <td>1</td>\n",
       "      <td>1</td>\n",
       "      <td>1</td>\n",
       "      <td>1</td>\n",
       "      <td>1</td>\n",
       "    </tr>\n",
       "    <tr>\n",
       "      <th>purchase_Week</th>\n",
       "      <td>52</td>\n",
       "      <td>52</td>\n",
       "      <td>52</td>\n",
       "      <td>52</td>\n",
       "      <td>52</td>\n",
       "    </tr>\n",
       "    <tr>\n",
       "      <th>purchase_Day</th>\n",
       "      <td>1</td>\n",
       "      <td>1</td>\n",
       "      <td>1</td>\n",
       "      <td>1</td>\n",
       "      <td>1</td>\n",
       "    </tr>\n",
       "    <tr>\n",
       "      <th>purchase_Dayofweek</th>\n",
       "      <td>6</td>\n",
       "      <td>6</td>\n",
       "      <td>6</td>\n",
       "      <td>6</td>\n",
       "      <td>6</td>\n",
       "    </tr>\n",
       "    <tr>\n",
       "      <th>purchase_Dayofyear</th>\n",
       "      <td>1</td>\n",
       "      <td>1</td>\n",
       "      <td>1</td>\n",
       "      <td>1</td>\n",
       "      <td>1</td>\n",
       "    </tr>\n",
       "    <tr>\n",
       "      <th>purchase_Is_month_end</th>\n",
       "      <td>False</td>\n",
       "      <td>False</td>\n",
       "      <td>False</td>\n",
       "      <td>False</td>\n",
       "      <td>False</td>\n",
       "    </tr>\n",
       "    <tr>\n",
       "      <th>purchase_Is_month_start</th>\n",
       "      <td>True</td>\n",
       "      <td>True</td>\n",
       "      <td>True</td>\n",
       "      <td>True</td>\n",
       "      <td>True</td>\n",
       "    </tr>\n",
       "    <tr>\n",
       "      <th>purchase_Is_quarter_end</th>\n",
       "      <td>False</td>\n",
       "      <td>False</td>\n",
       "      <td>False</td>\n",
       "      <td>False</td>\n",
       "      <td>False</td>\n",
       "    </tr>\n",
       "    <tr>\n",
       "      <th>purchase_Is_quarter_start</th>\n",
       "      <td>True</td>\n",
       "      <td>True</td>\n",
       "      <td>True</td>\n",
       "      <td>True</td>\n",
       "      <td>True</td>\n",
       "    </tr>\n",
       "    <tr>\n",
       "      <th>purchase_Is_year_end</th>\n",
       "      <td>False</td>\n",
       "      <td>False</td>\n",
       "      <td>False</td>\n",
       "      <td>False</td>\n",
       "      <td>False</td>\n",
       "    </tr>\n",
       "    <tr>\n",
       "      <th>purchase_Is_year_start</th>\n",
       "      <td>True</td>\n",
       "      <td>True</td>\n",
       "      <td>True</td>\n",
       "      <td>True</td>\n",
       "      <td>True</td>\n",
       "    </tr>\n",
       "    <tr>\n",
       "      <th>purchase_Hour</th>\n",
       "      <td>0</td>\n",
       "      <td>0</td>\n",
       "      <td>0</td>\n",
       "      <td>0</td>\n",
       "      <td>0</td>\n",
       "    </tr>\n",
       "    <tr>\n",
       "      <th>purchase_Minute</th>\n",
       "      <td>0</td>\n",
       "      <td>0</td>\n",
       "      <td>2</td>\n",
       "      <td>2</td>\n",
       "      <td>2</td>\n",
       "    </tr>\n",
       "    <tr>\n",
       "      <th>purchase_Second</th>\n",
       "      <td>8</td>\n",
       "      <td>59</td>\n",
       "      <td>3</td>\n",
       "      <td>14</td>\n",
       "      <td>25</td>\n",
       "    </tr>\n",
       "    <tr>\n",
       "      <th>purchase_Elapsed</th>\n",
       "      <td>1483228808</td>\n",
       "      <td>1483228859</td>\n",
       "      <td>1483228923</td>\n",
       "      <td>1483228934</td>\n",
       "      <td>1483228945</td>\n",
       "    </tr>\n",
       "    <tr>\n",
       "      <th>purchased_on_weekend</th>\n",
       "      <td>1</td>\n",
       "      <td>1</td>\n",
       "      <td>1</td>\n",
       "      <td>1</td>\n",
       "      <td>1</td>\n",
       "    </tr>\n",
       "    <tr>\n",
       "      <th>purchased_on_weekday</th>\n",
       "      <td>0</td>\n",
       "      <td>0</td>\n",
       "      <td>0</td>\n",
       "      <td>0</td>\n",
       "      <td>0</td>\n",
       "    </tr>\n",
       "    <tr>\n",
       "      <th>month_diff</th>\n",
       "      <td>14</td>\n",
       "      <td>13</td>\n",
       "      <td>24</td>\n",
       "      <td>22</td>\n",
       "      <td>12</td>\n",
       "    </tr>\n",
       "    <tr>\n",
       "      <th>purchase_date_successive_diff</th>\n",
       "      <td>0</td>\n",
       "      <td>0</td>\n",
       "      <td>0</td>\n",
       "      <td>0</td>\n",
       "      <td>0</td>\n",
       "    </tr>\n",
       "    <tr>\n",
       "      <th>Christmas_Day_2017</th>\n",
       "      <td>0</td>\n",
       "      <td>0</td>\n",
       "      <td>0</td>\n",
       "      <td>0</td>\n",
       "      <td>0</td>\n",
       "    </tr>\n",
       "    <tr>\n",
       "      <th>Mothers_Day_2017</th>\n",
       "      <td>0</td>\n",
       "      <td>0</td>\n",
       "      <td>0</td>\n",
       "      <td>0</td>\n",
       "      <td>0</td>\n",
       "    </tr>\n",
       "    <tr>\n",
       "      <th>fathers_day_2017</th>\n",
       "      <td>0</td>\n",
       "      <td>0</td>\n",
       "      <td>0</td>\n",
       "      <td>0</td>\n",
       "      <td>0</td>\n",
       "    </tr>\n",
       "    <tr>\n",
       "      <th>Children_day_2017</th>\n",
       "      <td>0</td>\n",
       "      <td>0</td>\n",
       "      <td>0</td>\n",
       "      <td>0</td>\n",
       "      <td>0</td>\n",
       "    </tr>\n",
       "    <tr>\n",
       "      <th>Valentine_Day_2017</th>\n",
       "      <td>0</td>\n",
       "      <td>0</td>\n",
       "      <td>0</td>\n",
       "      <td>0</td>\n",
       "      <td>0</td>\n",
       "    </tr>\n",
       "    <tr>\n",
       "      <th>Black_Friday_2017</th>\n",
       "      <td>0</td>\n",
       "      <td>0</td>\n",
       "      <td>0</td>\n",
       "      <td>0</td>\n",
       "      <td>0</td>\n",
       "    </tr>\n",
       "    <tr>\n",
       "      <th>Mothers_Day_2018</th>\n",
       "      <td>0</td>\n",
       "      <td>0</td>\n",
       "      <td>0</td>\n",
       "      <td>0</td>\n",
       "      <td>0</td>\n",
       "    </tr>\n",
       "    <tr>\n",
       "      <th>duration</th>\n",
       "      <td>560</td>\n",
       "      <td>1560</td>\n",
       "      <td>144</td>\n",
       "      <td>2387</td>\n",
       "      <td>468</td>\n",
       "    </tr>\n",
       "    <tr>\n",
       "      <th>amount_month_ratio</th>\n",
       "      <td>2.85714</td>\n",
       "      <td>9.23077</td>\n",
       "      <td>0.25</td>\n",
       "      <td>4.93182</td>\n",
       "      <td>3.25</td>\n",
       "    </tr>\n",
       "    <tr>\n",
       "      <th>merchant_address_id</th>\n",
       "      <td>M_ID_f001319a61_623_4_0_9_1</td>\n",
       "      <td>M_ID_18038b5ae7_842_37_76_2_3</td>\n",
       "      <td>M_ID_e5374dabc0_839_29_0_0_0</td>\n",
       "      <td>M_ID_257157f6ee_705_33_212_4_4</td>\n",
       "      <td>M_ID_00a6ca8a8a_511_7_0_0_0</td>\n",
       "    </tr>\n",
       "    <tr>\n",
       "      <th>numerical_range</th>\n",
       "      <td>0</td>\n",
       "      <td>189</td>\n",
       "      <td>0</td>\n",
       "      <td>1689</td>\n",
       "      <td>1</td>\n",
       "    </tr>\n",
       "    <tr>\n",
       "      <th>merchant_rating</th>\n",
       "      <td>12</td>\n",
       "      <td>12</td>\n",
       "      <td>6</td>\n",
       "      <td>10</td>\n",
       "      <td>18</td>\n",
       "    </tr>\n",
       "    <tr>\n",
       "      <th>merchant_group_id</th>\n",
       "      <td>2119</td>\n",
       "      <td>35</td>\n",
       "      <td>35</td>\n",
       "      <td>35</td>\n",
       "      <td>35</td>\n",
       "    </tr>\n",
       "    <tr>\n",
       "      <th>merchant_category_id_y</th>\n",
       "      <td>623</td>\n",
       "      <td>842</td>\n",
       "      <td>839</td>\n",
       "      <td>705</td>\n",
       "      <td>511</td>\n",
       "    </tr>\n",
       "    <tr>\n",
       "      <th>subsector_id</th>\n",
       "      <td>4</td>\n",
       "      <td>37</td>\n",
       "      <td>29</td>\n",
       "      <td>33</td>\n",
       "      <td>7</td>\n",
       "    </tr>\n",
       "    <tr>\n",
       "      <th>numerical_1</th>\n",
       "      <td>-0.0574706</td>\n",
       "      <td>0.884445</td>\n",
       "      <td>-0.0574706</td>\n",
       "      <td>8.32062</td>\n",
       "      <td>-0.0475558</td>\n",
       "    </tr>\n",
       "    <tr>\n",
       "      <th>numerical_2</th>\n",
       "      <td>-0.0574706</td>\n",
       "      <td>0.87453</td>\n",
       "      <td>-0.0574706</td>\n",
       "      <td>8.31071</td>\n",
       "      <td>-0.0574706</td>\n",
       "    </tr>\n",
       "    <tr>\n",
       "      <th>category_1</th>\n",
       "      <td>N</td>\n",
       "      <td>N</td>\n",
       "      <td>Y</td>\n",
       "      <td>N</td>\n",
       "      <td>Y</td>\n",
       "    </tr>\n",
       "    <tr>\n",
       "      <th>most_recent_sales_range</th>\n",
       "      <td>B</td>\n",
       "      <td>B</td>\n",
       "      <td>A</td>\n",
       "      <td>A</td>\n",
       "      <td>E</td>\n",
       "    </tr>\n",
       "    <tr>\n",
       "      <th>most_recent_purchases_range</th>\n",
       "      <td>B</td>\n",
       "      <td>B</td>\n",
       "      <td>A</td>\n",
       "      <td>A</td>\n",
       "      <td>E</td>\n",
       "    </tr>\n",
       "    <tr>\n",
       "      <th>avg_sales_lag3</th>\n",
       "      <td>1.02</td>\n",
       "      <td>1.11</td>\n",
       "      <td>0.94</td>\n",
       "      <td>1.19</td>\n",
       "      <td>6.93</td>\n",
       "    </tr>\n",
       "    <tr>\n",
       "      <th>avg_purchases_lag3</th>\n",
       "      <td>1.02696</td>\n",
       "      <td>1.09963</td>\n",
       "      <td>0.911346</td>\n",
       "      <td>1.16483</td>\n",
       "      <td>12.7051</td>\n",
       "    </tr>\n",
       "    <tr>\n",
       "      <th>active_months_lag3</th>\n",
       "      <td>3</td>\n",
       "      <td>3</td>\n",
       "      <td>3</td>\n",
       "      <td>3</td>\n",
       "      <td>3</td>\n",
       "    </tr>\n",
       "    <tr>\n",
       "      <th>avg_sales_lag6</th>\n",
       "      <td>1</td>\n",
       "      <td>1.28</td>\n",
       "      <td>0.81</td>\n",
       "      <td>1.27</td>\n",
       "      <td>8.42</td>\n",
       "    </tr>\n",
       "    <tr>\n",
       "      <th>avg_purchases_lag6</th>\n",
       "      <td>1.01143</td>\n",
       "      <td>1.2036</td>\n",
       "      <td>0.777814</td>\n",
       "      <td>1.2324</td>\n",
       "      <td>15.8558</td>\n",
       "    </tr>\n",
       "    <tr>\n",
       "      <th>active_months_lag6</th>\n",
       "      <td>6</td>\n",
       "      <td>6</td>\n",
       "      <td>6</td>\n",
       "      <td>6</td>\n",
       "      <td>6</td>\n",
       "    </tr>\n",
       "    <tr>\n",
       "      <th>avg_sales_lag12</th>\n",
       "      <td>1.07</td>\n",
       "      <td>1.48</td>\n",
       "      <td>0.62</td>\n",
       "      <td>1.35</td>\n",
       "      <td>8.57</td>\n",
       "    </tr>\n",
       "    <tr>\n",
       "      <th>avg_purchases_lag12</th>\n",
       "      <td>1.06246</td>\n",
       "      <td>1.33641</td>\n",
       "      <td>0.583477</td>\n",
       "      <td>1.2875</td>\n",
       "      <td>16.2198</td>\n",
       "    </tr>\n",
       "    <tr>\n",
       "      <th>active_months_lag12</th>\n",
       "      <td>12</td>\n",
       "      <td>12</td>\n",
       "      <td>12</td>\n",
       "      <td>12</td>\n",
       "      <td>7</td>\n",
       "    </tr>\n",
       "    <tr>\n",
       "      <th>category_4</th>\n",
       "      <td>N</td>\n",
       "      <td>Y</td>\n",
       "      <td>Y</td>\n",
       "      <td>Y</td>\n",
       "      <td>Y</td>\n",
       "    </tr>\n",
       "    <tr>\n",
       "      <th>city_id</th>\n",
       "      <td>-1</td>\n",
       "      <td>76</td>\n",
       "      <td>-1</td>\n",
       "      <td>212</td>\n",
       "      <td>-1</td>\n",
       "    </tr>\n",
       "    <tr>\n",
       "      <th>state_id</th>\n",
       "      <td>9</td>\n",
       "      <td>2</td>\n",
       "      <td>-1</td>\n",
       "      <td>4</td>\n",
       "      <td>-1</td>\n",
       "    </tr>\n",
       "    <tr>\n",
       "      <th>category_2</th>\n",
       "      <td>1</td>\n",
       "      <td>3</td>\n",
       "      <td>NaN</td>\n",
       "      <td>4</td>\n",
       "      <td>NaN</td>\n",
       "    </tr>\n",
       "    <tr>\n",
       "      <th>CLV</th>\n",
       "      <td>843.02</td>\n",
       "      <td>6449.36</td>\n",
       "      <td>134.591</td>\n",
       "      <td>960.884</td>\n",
       "      <td>1048.01</td>\n",
       "    </tr>\n",
       "    <tr>\n",
       "      <th>CLV_old</th>\n",
       "      <td>216088</td>\n",
       "      <td>277773</td>\n",
       "      <td>70.3312</td>\n",
       "      <td>11599.4</td>\n",
       "      <td>620636</td>\n",
       "    </tr>\n",
       "    <tr>\n",
       "      <th>CLV_ratio</th>\n",
       "      <td>0.00390128</td>\n",
       "      <td>0.0232181</td>\n",
       "      <td>0.00560192</td>\n",
       "      <td>0.0828392</td>\n",
       "      <td>0.0016886</td>\n",
       "    </tr>\n",
       "    <tr>\n",
       "      <th>card_id_count_ratio</th>\n",
       "      <td>0.0451389</td>\n",
       "      <td>0.125</td>\n",
       "      <td>0.0789474</td>\n",
       "      <td>0.1875</td>\n",
       "      <td>0.0445205</td>\n",
       "    </tr>\n",
       "    <tr>\n",
       "      <th>days_feature1</th>\n",
       "      <td>3747</td>\n",
       "      <td>427</td>\n",
       "      <td>NaN</td>\n",
       "      <td>1641</td>\n",
       "      <td>910</td>\n",
       "    </tr>\n",
       "    <tr>\n",
       "      <th>days_feature1_ratio</th>\n",
       "      <td>0.00240192</td>\n",
       "      <td>0.00234192</td>\n",
       "      <td>NaN</td>\n",
       "      <td>0.00548446</td>\n",
       "      <td>0.0043956</td>\n",
       "    </tr>\n",
       "    <tr>\n",
       "      <th>days_feature2</th>\n",
       "      <td>3747</td>\n",
       "      <td>1281</td>\n",
       "      <td>NaN</td>\n",
       "      <td>547</td>\n",
       "      <td>910</td>\n",
       "    </tr>\n",
       "    <tr>\n",
       "      <th>days_feature2_ratio</th>\n",
       "      <td>0.00240192</td>\n",
       "      <td>0.00702576</td>\n",
       "      <td>NaN</td>\n",
       "      <td>0.00182815</td>\n",
       "      <td>0.0043956</td>\n",
       "    </tr>\n",
       "    <tr>\n",
       "      <th>days_feature3</th>\n",
       "      <td>1249</td>\n",
       "      <td>0</td>\n",
       "      <td>NaN</td>\n",
       "      <td>547</td>\n",
       "      <td>0</td>\n",
       "    </tr>\n",
       "    <tr>\n",
       "      <th>days_feature3_ratio</th>\n",
       "      <td>0.000800641</td>\n",
       "      <td>0</td>\n",
       "      <td>NaN</td>\n",
       "      <td>0.00182815</td>\n",
       "      <td>0</td>\n",
       "    </tr>\n",
       "    <tr>\n",
       "      <th>feature_1</th>\n",
       "      <td>0.0104794</td>\n",
       "      <td>0.00805849</td>\n",
       "      <td>0.00805849</td>\n",
       "      <td>0.0104794</td>\n",
       "      <td>0.0106099</td>\n",
       "    </tr>\n",
       "    <tr>\n",
       "      <th>feature_2</th>\n",
       "      <td>0.0141664</td>\n",
       "      <td>0.0141664</td>\n",
       "      <td>0.0113848</td>\n",
       "      <td>0.0113848</td>\n",
       "      <td>0.00875212</td>\n",
       "    </tr>\n",
       "    <tr>\n",
       "      <th>feature_3</th>\n",
       "      <td>0.0114275</td>\n",
       "      <td>0.0102828</td>\n",
       "      <td>0.0102828</td>\n",
       "      <td>0.0114275</td>\n",
       "      <td>0.0102828</td>\n",
       "    </tr>\n",
       "    <tr>\n",
       "      <th>feature_max</th>\n",
       "      <td>3</td>\n",
       "      <td>3</td>\n",
       "      <td>1</td>\n",
       "      <td>3</td>\n",
       "      <td>2</td>\n",
       "    </tr>\n",
       "    <tr>\n",
       "      <th>feature_mean</th>\n",
       "      <td>2.33333</td>\n",
       "      <td>1.33333</td>\n",
       "      <td>0.666667</td>\n",
       "      <td>1.66667</td>\n",
       "      <td>1.33333</td>\n",
       "    </tr>\n",
       "    <tr>\n",
       "      <th>feature_min</th>\n",
       "      <td>1</td>\n",
       "      <td>0</td>\n",
       "      <td>0</td>\n",
       "      <td>1</td>\n",
       "      <td>0</td>\n",
       "    </tr>\n",
       "    <tr>\n",
       "      <th>feature_sum</th>\n",
       "      <td>7</td>\n",
       "      <td>4</td>\n",
       "      <td>2</td>\n",
       "      <td>5</td>\n",
       "      <td>4</td>\n",
       "    </tr>\n",
       "    <tr>\n",
       "      <th>feature_var</th>\n",
       "      <td>1.1547</td>\n",
       "      <td>1.52753</td>\n",
       "      <td>0.57735</td>\n",
       "      <td>1.1547</td>\n",
       "      <td>1.1547</td>\n",
       "    </tr>\n",
       "    <tr>\n",
       "      <th>hist_first_buy</th>\n",
       "      <td>884</td>\n",
       "      <td>31</td>\n",
       "      <td>92</td>\n",
       "      <td>427</td>\n",
       "      <td>31</td>\n",
       "    </tr>\n",
       "    <tr>\n",
       "      <th>hist_last_buy</th>\n",
       "      <td>1247</td>\n",
       "      <td>412</td>\n",
       "      <td>149</td>\n",
       "      <td>539</td>\n",
       "      <td>454</td>\n",
       "    </tr>\n",
       "    <tr>\n",
       "      <th>installments_ratio</th>\n",
       "      <td>0.0408163</td>\n",
       "      <td>0.072327</td>\n",
       "      <td>0.0408163</td>\n",
       "      <td>0</td>\n",
       "      <td>0.0408163</td>\n",
       "    </tr>\n",
       "    <tr>\n",
       "      <th>month_diff_ratio</th>\n",
       "      <td>0.976801</td>\n",
       "      <td>1.00398</td>\n",
       "      <td>1.00117</td>\n",
       "      <td>1.00081</td>\n",
       "      <td>0.998291</td>\n",
       "    </tr>\n",
       "    <tr>\n",
       "      <th>new_first_buy</th>\n",
       "      <td>1263</td>\n",
       "      <td>445</td>\n",
       "      <td>NaN</td>\n",
       "      <td>550</td>\n",
       "      <td>455</td>\n",
       "    </tr>\n",
       "    <tr>\n",
       "      <th>new_last_buy</th>\n",
       "      <td>1289</td>\n",
       "      <td>478</td>\n",
       "      <td>NaN</td>\n",
       "      <td>592</td>\n",
       "      <td>513</td>\n",
       "    </tr>\n",
       "    <tr>\n",
       "      <th>observed_elapsed_time</th>\n",
       "      <td>1249</td>\n",
       "      <td>427</td>\n",
       "      <td>NaN</td>\n",
       "      <td>547</td>\n",
       "      <td>455</td>\n",
       "    </tr>\n",
       "    <tr>\n",
       "      <th>outliers</th>\n",
       "      <td>0</td>\n",
       "      <td>0</td>\n",
       "      <td>0</td>\n",
       "      <td>0</td>\n",
       "      <td>0</td>\n",
       "    </tr>\n",
       "    <tr>\n",
       "      <th>purchase_amount_sum_ratio</th>\n",
       "      <td>0.0844233</td>\n",
       "      <td>0.186483</td>\n",
       "      <td>0.0712785</td>\n",
       "      <td>0.442168</td>\n",
       "      <td>0.0378638</td>\n",
       "    </tr>\n",
       "    <tr>\n",
       "      <th>quarter</th>\n",
       "      <td>3</td>\n",
       "      <td>4</td>\n",
       "      <td>4</td>\n",
       "      <td>4</td>\n",
       "      <td>4</td>\n",
       "    </tr>\n",
       "    <tr>\n",
       "      <th>target</th>\n",
       "      <td>-1.99163</td>\n",
       "      <td>-1.84033</td>\n",
       "      <td>0.89228</td>\n",
       "      <td>-1.34976</td>\n",
       "      <td>-0.964822</td>\n",
       "    </tr>\n",
       "  </tbody>\n",
       "</table>\n",
       "</div>"
      ],
      "text/plain": [
       "                                                         0  \\\n",
       "authorized_flag                                          1   \n",
       "card_id                                    C_ID_da2090f28e   \n",
       "installments                                             0   \n",
       "category_3                                               0   \n",
       "merchant_category_id                                   623   \n",
       "merchant_id                                M_ID_f001319a61   \n",
       "month_lag                                              -11   \n",
       "purchase_amount                                         40   \n",
       "purchase_date                                  1.48323e+09   \n",
       "purchase_Year                                         2017   \n",
       "purchase_Month                                           1   \n",
       "purchase_Week                                           52   \n",
       "purchase_Day                                             1   \n",
       "purchase_Dayofweek                                       6   \n",
       "purchase_Dayofyear                                       1   \n",
       "purchase_Is_month_end                                False   \n",
       "purchase_Is_month_start                               True   \n",
       "purchase_Is_quarter_end                              False   \n",
       "purchase_Is_quarter_start                             True   \n",
       "purchase_Is_year_end                                 False   \n",
       "purchase_Is_year_start                                True   \n",
       "purchase_Hour                                            0   \n",
       "purchase_Minute                                          0   \n",
       "purchase_Second                                          8   \n",
       "purchase_Elapsed                                1483228808   \n",
       "purchased_on_weekend                                     1   \n",
       "purchased_on_weekday                                     0   \n",
       "month_diff                                              14   \n",
       "purchase_date_successive_diff                            0   \n",
       "Christmas_Day_2017                                       0   \n",
       "Mothers_Day_2017                                         0   \n",
       "fathers_day_2017                                         0   \n",
       "Children_day_2017                                        0   \n",
       "Valentine_Day_2017                                       0   \n",
       "Black_Friday_2017                                        0   \n",
       "Mothers_Day_2018                                         0   \n",
       "duration                                               560   \n",
       "amount_month_ratio                                 2.85714   \n",
       "merchant_address_id            M_ID_f001319a61_623_4_0_9_1   \n",
       "numerical_range                                          0   \n",
       "merchant_rating                                         12   \n",
       "merchant_group_id                                     2119   \n",
       "merchant_category_id_y                                 623   \n",
       "subsector_id                                             4   \n",
       "numerical_1                                     -0.0574706   \n",
       "numerical_2                                     -0.0574706   \n",
       "category_1                                               N   \n",
       "most_recent_sales_range                                  B   \n",
       "most_recent_purchases_range                              B   \n",
       "avg_sales_lag3                                        1.02   \n",
       "avg_purchases_lag3                                 1.02696   \n",
       "active_months_lag3                                       3   \n",
       "avg_sales_lag6                                           1   \n",
       "avg_purchases_lag6                                 1.01143   \n",
       "active_months_lag6                                       6   \n",
       "avg_sales_lag12                                       1.07   \n",
       "avg_purchases_lag12                                1.06246   \n",
       "active_months_lag12                                     12   \n",
       "category_4                                               N   \n",
       "city_id                                                 -1   \n",
       "state_id                                                 9   \n",
       "category_2                                               1   \n",
       "CLV                                                 843.02   \n",
       "CLV_old                                             216088   \n",
       "CLV_ratio                                       0.00390128   \n",
       "card_id_count_ratio                              0.0451389   \n",
       "days_feature1                                         3747   \n",
       "days_feature1_ratio                             0.00240192   \n",
       "days_feature2                                         3747   \n",
       "days_feature2_ratio                             0.00240192   \n",
       "days_feature3                                         1249   \n",
       "days_feature3_ratio                            0.000800641   \n",
       "feature_1                                        0.0104794   \n",
       "feature_2                                        0.0141664   \n",
       "feature_3                                        0.0114275   \n",
       "feature_max                                              3   \n",
       "feature_mean                                       2.33333   \n",
       "feature_min                                              1   \n",
       "feature_sum                                              7   \n",
       "feature_var                                         1.1547   \n",
       "hist_first_buy                                         884   \n",
       "hist_last_buy                                         1247   \n",
       "installments_ratio                               0.0408163   \n",
       "month_diff_ratio                                  0.976801   \n",
       "new_first_buy                                         1263   \n",
       "new_last_buy                                          1289   \n",
       "observed_elapsed_time                                 1249   \n",
       "outliers                                                 0   \n",
       "purchase_amount_sum_ratio                        0.0844233   \n",
       "quarter                                                  3   \n",
       "target                                            -1.99163   \n",
       "\n",
       "                                                           1  \\\n",
       "authorized_flag                                            1   \n",
       "card_id                                      C_ID_efced389a0   \n",
       "installments                                               1   \n",
       "category_3                                                 1   \n",
       "merchant_category_id                                     842   \n",
       "merchant_id                                  M_ID_18038b5ae7   \n",
       "month_lag                                                -12   \n",
       "purchase_amount                                          120   \n",
       "purchase_date                                    1.48323e+09   \n",
       "purchase_Year                                           2017   \n",
       "purchase_Month                                             1   \n",
       "purchase_Week                                             52   \n",
       "purchase_Day                                               1   \n",
       "purchase_Dayofweek                                         6   \n",
       "purchase_Dayofyear                                         1   \n",
       "purchase_Is_month_end                                  False   \n",
       "purchase_Is_month_start                                 True   \n",
       "purchase_Is_quarter_end                                False   \n",
       "purchase_Is_quarter_start                               True   \n",
       "purchase_Is_year_end                                   False   \n",
       "purchase_Is_year_start                                  True   \n",
       "purchase_Hour                                              0   \n",
       "purchase_Minute                                            0   \n",
       "purchase_Second                                           59   \n",
       "purchase_Elapsed                                  1483228859   \n",
       "purchased_on_weekend                                       1   \n",
       "purchased_on_weekday                                       0   \n",
       "month_diff                                                13   \n",
       "purchase_date_successive_diff                              0   \n",
       "Christmas_Day_2017                                         0   \n",
       "Mothers_Day_2017                                           0   \n",
       "fathers_day_2017                                           0   \n",
       "Children_day_2017                                          0   \n",
       "Valentine_Day_2017                                         0   \n",
       "Black_Friday_2017                                          0   \n",
       "Mothers_Day_2018                                           0   \n",
       "duration                                                1560   \n",
       "amount_month_ratio                                   9.23077   \n",
       "merchant_address_id            M_ID_18038b5ae7_842_37_76_2_3   \n",
       "numerical_range                                          189   \n",
       "merchant_rating                                           12   \n",
       "merchant_group_id                                         35   \n",
       "merchant_category_id_y                                   842   \n",
       "subsector_id                                              37   \n",
       "numerical_1                                         0.884445   \n",
       "numerical_2                                          0.87453   \n",
       "category_1                                                 N   \n",
       "most_recent_sales_range                                    B   \n",
       "most_recent_purchases_range                                B   \n",
       "avg_sales_lag3                                          1.11   \n",
       "avg_purchases_lag3                                   1.09963   \n",
       "active_months_lag3                                         3   \n",
       "avg_sales_lag6                                          1.28   \n",
       "avg_purchases_lag6                                    1.2036   \n",
       "active_months_lag6                                         6   \n",
       "avg_sales_lag12                                         1.48   \n",
       "avg_purchases_lag12                                  1.33641   \n",
       "active_months_lag12                                       12   \n",
       "category_4                                                 Y   \n",
       "city_id                                                   76   \n",
       "state_id                                                   2   \n",
       "category_2                                                 3   \n",
       "CLV                                                  6449.36   \n",
       "CLV_old                                               277773   \n",
       "CLV_ratio                                          0.0232181   \n",
       "card_id_count_ratio                                    0.125   \n",
       "days_feature1                                            427   \n",
       "days_feature1_ratio                               0.00234192   \n",
       "days_feature2                                           1281   \n",
       "days_feature2_ratio                               0.00702576   \n",
       "days_feature3                                              0   \n",
       "days_feature3_ratio                                        0   \n",
       "feature_1                                         0.00805849   \n",
       "feature_2                                          0.0141664   \n",
       "feature_3                                          0.0102828   \n",
       "feature_max                                                3   \n",
       "feature_mean                                         1.33333   \n",
       "feature_min                                                0   \n",
       "feature_sum                                                4   \n",
       "feature_var                                          1.52753   \n",
       "hist_first_buy                                            31   \n",
       "hist_last_buy                                            412   \n",
       "installments_ratio                                  0.072327   \n",
       "month_diff_ratio                                     1.00398   \n",
       "new_first_buy                                            445   \n",
       "new_last_buy                                             478   \n",
       "observed_elapsed_time                                    427   \n",
       "outliers                                                   0   \n",
       "purchase_amount_sum_ratio                           0.186483   \n",
       "quarter                                                    4   \n",
       "target                                              -1.84033   \n",
       "\n",
       "                                                          2  \\\n",
       "authorized_flag                                           1   \n",
       "card_id                                     C_ID_479fd6392a   \n",
       "installments                                              1   \n",
       "category_3                                                1   \n",
       "merchant_category_id                                    839   \n",
       "merchant_id                                 M_ID_e5374dabc0   \n",
       "month_lag                                                -1   \n",
       "purchase_amount                                           6   \n",
       "purchase_date                                   1.48323e+09   \n",
       "purchase_Year                                          2017   \n",
       "purchase_Month                                            1   \n",
       "purchase_Week                                            52   \n",
       "purchase_Day                                              1   \n",
       "purchase_Dayofweek                                        6   \n",
       "purchase_Dayofyear                                        1   \n",
       "purchase_Is_month_end                                 False   \n",
       "purchase_Is_month_start                                True   \n",
       "purchase_Is_quarter_end                               False   \n",
       "purchase_Is_quarter_start                              True   \n",
       "purchase_Is_year_end                                  False   \n",
       "purchase_Is_year_start                                 True   \n",
       "purchase_Hour                                             0   \n",
       "purchase_Minute                                           2   \n",
       "purchase_Second                                           3   \n",
       "purchase_Elapsed                                 1483228923   \n",
       "purchased_on_weekend                                      1   \n",
       "purchased_on_weekday                                      0   \n",
       "month_diff                                               24   \n",
       "purchase_date_successive_diff                             0   \n",
       "Christmas_Day_2017                                        0   \n",
       "Mothers_Day_2017                                          0   \n",
       "fathers_day_2017                                          0   \n",
       "Children_day_2017                                         0   \n",
       "Valentine_Day_2017                                        0   \n",
       "Black_Friday_2017                                         0   \n",
       "Mothers_Day_2018                                          0   \n",
       "duration                                                144   \n",
       "amount_month_ratio                                     0.25   \n",
       "merchant_address_id            M_ID_e5374dabc0_839_29_0_0_0   \n",
       "numerical_range                                           0   \n",
       "merchant_rating                                           6   \n",
       "merchant_group_id                                        35   \n",
       "merchant_category_id_y                                  839   \n",
       "subsector_id                                             29   \n",
       "numerical_1                                      -0.0574706   \n",
       "numerical_2                                      -0.0574706   \n",
       "category_1                                                Y   \n",
       "most_recent_sales_range                                   A   \n",
       "most_recent_purchases_range                               A   \n",
       "avg_sales_lag3                                         0.94   \n",
       "avg_purchases_lag3                                 0.911346   \n",
       "active_months_lag3                                        3   \n",
       "avg_sales_lag6                                         0.81   \n",
       "avg_purchases_lag6                                 0.777814   \n",
       "active_months_lag6                                        6   \n",
       "avg_sales_lag12                                        0.62   \n",
       "avg_purchases_lag12                                0.583477   \n",
       "active_months_lag12                                      12   \n",
       "category_4                                                Y   \n",
       "city_id                                                  -1   \n",
       "state_id                                                 -1   \n",
       "category_2                                              NaN   \n",
       "CLV                                                 134.591   \n",
       "CLV_old                                             70.3312   \n",
       "CLV_ratio                                        0.00560192   \n",
       "card_id_count_ratio                               0.0789474   \n",
       "days_feature1                                           NaN   \n",
       "days_feature1_ratio                                     NaN   \n",
       "days_feature2                                           NaN   \n",
       "days_feature2_ratio                                     NaN   \n",
       "days_feature3                                           NaN   \n",
       "days_feature3_ratio                                     NaN   \n",
       "feature_1                                        0.00805849   \n",
       "feature_2                                         0.0113848   \n",
       "feature_3                                         0.0102828   \n",
       "feature_max                                               1   \n",
       "feature_mean                                       0.666667   \n",
       "feature_min                                               0   \n",
       "feature_sum                                               2   \n",
       "feature_var                                         0.57735   \n",
       "hist_first_buy                                           92   \n",
       "hist_last_buy                                           149   \n",
       "installments_ratio                                0.0408163   \n",
       "month_diff_ratio                                    1.00117   \n",
       "new_first_buy                                           NaN   \n",
       "new_last_buy                                            NaN   \n",
       "observed_elapsed_time                                   NaN   \n",
       "outliers                                                  0   \n",
       "purchase_amount_sum_ratio                         0.0712785   \n",
       "quarter                                                   4   \n",
       "target                                              0.89228   \n",
       "\n",
       "                                                            3  \\\n",
       "authorized_flag                                             0   \n",
       "card_id                                       C_ID_79296614ed   \n",
       "installments                                                0   \n",
       "category_3                                                  0   \n",
       "merchant_category_id                                      360   \n",
       "merchant_id                                   M_ID_257157f6ee   \n",
       "month_lag                                                  -3   \n",
       "purchase_amount                                         108.5   \n",
       "purchase_date                                     1.48323e+09   \n",
       "purchase_Year                                            2017   \n",
       "purchase_Month                                              1   \n",
       "purchase_Week                                              52   \n",
       "purchase_Day                                                1   \n",
       "purchase_Dayofweek                                          6   \n",
       "purchase_Dayofyear                                          1   \n",
       "purchase_Is_month_end                                   False   \n",
       "purchase_Is_month_start                                  True   \n",
       "purchase_Is_quarter_end                                 False   \n",
       "purchase_Is_quarter_start                                True   \n",
       "purchase_Is_year_end                                    False   \n",
       "purchase_Is_year_start                                   True   \n",
       "purchase_Hour                                               0   \n",
       "purchase_Minute                                             2   \n",
       "purchase_Second                                            14   \n",
       "purchase_Elapsed                                   1483228934   \n",
       "purchased_on_weekend                                        1   \n",
       "purchased_on_weekday                                        0   \n",
       "month_diff                                                 22   \n",
       "purchase_date_successive_diff                               0   \n",
       "Christmas_Day_2017                                          0   \n",
       "Mothers_Day_2017                                            0   \n",
       "fathers_day_2017                                            0   \n",
       "Children_day_2017                                           0   \n",
       "Valentine_Day_2017                                          0   \n",
       "Black_Friday_2017                                           0   \n",
       "Mothers_Day_2018                                            0   \n",
       "duration                                                 2387   \n",
       "amount_month_ratio                                    4.93182   \n",
       "merchant_address_id            M_ID_257157f6ee_705_33_212_4_4   \n",
       "numerical_range                                          1689   \n",
       "merchant_rating                                            10   \n",
       "merchant_group_id                                          35   \n",
       "merchant_category_id_y                                    705   \n",
       "subsector_id                                               33   \n",
       "numerical_1                                           8.32062   \n",
       "numerical_2                                           8.31071   \n",
       "category_1                                                  N   \n",
       "most_recent_sales_range                                     A   \n",
       "most_recent_purchases_range                                 A   \n",
       "avg_sales_lag3                                           1.19   \n",
       "avg_purchases_lag3                                    1.16483   \n",
       "active_months_lag3                                          3   \n",
       "avg_sales_lag6                                           1.27   \n",
       "avg_purchases_lag6                                     1.2324   \n",
       "active_months_lag6                                          6   \n",
       "avg_sales_lag12                                          1.35   \n",
       "avg_purchases_lag12                                    1.2875   \n",
       "active_months_lag12                                        12   \n",
       "category_4                                                  Y   \n",
       "city_id                                                   212   \n",
       "state_id                                                    4   \n",
       "category_2                                                  4   \n",
       "CLV                                                   960.884   \n",
       "CLV_old                                               11599.4   \n",
       "CLV_ratio                                           0.0828392   \n",
       "card_id_count_ratio                                    0.1875   \n",
       "days_feature1                                            1641   \n",
       "days_feature1_ratio                                0.00548446   \n",
       "days_feature2                                             547   \n",
       "days_feature2_ratio                                0.00182815   \n",
       "days_feature3                                             547   \n",
       "days_feature3_ratio                                0.00182815   \n",
       "feature_1                                           0.0104794   \n",
       "feature_2                                           0.0113848   \n",
       "feature_3                                           0.0114275   \n",
       "feature_max                                                 3   \n",
       "feature_mean                                          1.66667   \n",
       "feature_min                                                 1   \n",
       "feature_sum                                                 5   \n",
       "feature_var                                            1.1547   \n",
       "hist_first_buy                                            427   \n",
       "hist_last_buy                                             539   \n",
       "installments_ratio                                          0   \n",
       "month_diff_ratio                                      1.00081   \n",
       "new_first_buy                                             550   \n",
       "new_last_buy                                              592   \n",
       "observed_elapsed_time                                     547   \n",
       "outliers                                                    0   \n",
       "purchase_amount_sum_ratio                            0.442168   \n",
       "quarter                                                     4   \n",
       "target                                               -1.34976   \n",
       "\n",
       "                                                         4  \n",
       "authorized_flag                                          1  \n",
       "card_id                                    C_ID_f43ae18887  \n",
       "installments                                             0  \n",
       "category_3                                               0  \n",
       "merchant_category_id                                   511  \n",
       "merchant_id                                M_ID_00a6ca8a8a  \n",
       "month_lag                                              -13  \n",
       "purchase_amount                                         39  \n",
       "purchase_date                                  1.48323e+09  \n",
       "purchase_Year                                         2017  \n",
       "purchase_Month                                           1  \n",
       "purchase_Week                                           52  \n",
       "purchase_Day                                             1  \n",
       "purchase_Dayofweek                                       6  \n",
       "purchase_Dayofyear                                       1  \n",
       "purchase_Is_month_end                                False  \n",
       "purchase_Is_month_start                               True  \n",
       "purchase_Is_quarter_end                              False  \n",
       "purchase_Is_quarter_start                             True  \n",
       "purchase_Is_year_end                                 False  \n",
       "purchase_Is_year_start                                True  \n",
       "purchase_Hour                                            0  \n",
       "purchase_Minute                                          2  \n",
       "purchase_Second                                         25  \n",
       "purchase_Elapsed                                1483228945  \n",
       "purchased_on_weekend                                     1  \n",
       "purchased_on_weekday                                     0  \n",
       "month_diff                                              12  \n",
       "purchase_date_successive_diff                            0  \n",
       "Christmas_Day_2017                                       0  \n",
       "Mothers_Day_2017                                         0  \n",
       "fathers_day_2017                                         0  \n",
       "Children_day_2017                                        0  \n",
       "Valentine_Day_2017                                       0  \n",
       "Black_Friday_2017                                        0  \n",
       "Mothers_Day_2018                                         0  \n",
       "duration                                               468  \n",
       "amount_month_ratio                                    3.25  \n",
       "merchant_address_id            M_ID_00a6ca8a8a_511_7_0_0_0  \n",
       "numerical_range                                          1  \n",
       "merchant_rating                                         18  \n",
       "merchant_group_id                                       35  \n",
       "merchant_category_id_y                                 511  \n",
       "subsector_id                                             7  \n",
       "numerical_1                                     -0.0475558  \n",
       "numerical_2                                     -0.0574706  \n",
       "category_1                                               Y  \n",
       "most_recent_sales_range                                  E  \n",
       "most_recent_purchases_range                              E  \n",
       "avg_sales_lag3                                        6.93  \n",
       "avg_purchases_lag3                                 12.7051  \n",
       "active_months_lag3                                       3  \n",
       "avg_sales_lag6                                        8.42  \n",
       "avg_purchases_lag6                                 15.8558  \n",
       "active_months_lag6                                       6  \n",
       "avg_sales_lag12                                       8.57  \n",
       "avg_purchases_lag12                                16.2198  \n",
       "active_months_lag12                                      7  \n",
       "category_4                                               Y  \n",
       "city_id                                                 -1  \n",
       "state_id                                                -1  \n",
       "category_2                                             NaN  \n",
       "CLV                                                1048.01  \n",
       "CLV_old                                             620636  \n",
       "CLV_ratio                                        0.0016886  \n",
       "card_id_count_ratio                              0.0445205  \n",
       "days_feature1                                          910  \n",
       "days_feature1_ratio                              0.0043956  \n",
       "days_feature2                                          910  \n",
       "days_feature2_ratio                              0.0043956  \n",
       "days_feature3                                            0  \n",
       "days_feature3_ratio                                      0  \n",
       "feature_1                                        0.0106099  \n",
       "feature_2                                       0.00875212  \n",
       "feature_3                                        0.0102828  \n",
       "feature_max                                              2  \n",
       "feature_mean                                       1.33333  \n",
       "feature_min                                              0  \n",
       "feature_sum                                              4  \n",
       "feature_var                                         1.1547  \n",
       "hist_first_buy                                          31  \n",
       "hist_last_buy                                          454  \n",
       "installments_ratio                               0.0408163  \n",
       "month_diff_ratio                                  0.998291  \n",
       "new_first_buy                                          455  \n",
       "new_last_buy                                           513  \n",
       "observed_elapsed_time                                  455  \n",
       "outliers                                                 0  \n",
       "purchase_amount_sum_ratio                        0.0378638  \n",
       "quarter                                                  4  \n",
       "target                                           -0.964822  "
      ]
     },
     "execution_count": 23,
     "metadata": {},
     "output_type": "execute_result"
    }
   ],
   "source": [
    "df_raw.head().T"
   ]
  },
  {
   "cell_type": "code",
   "execution_count": 14,
   "metadata": {},
   "outputs": [
    {
     "data": {
      "text/plain": [
       "((19249698, 91), (11825701, 91))"
      ]
     },
     "execution_count": 14,
     "metadata": {},
     "output_type": "execute_result"
    }
   ],
   "source": [
    "df_raw.shape, df_test.shape"
   ]
  },
  {
   "cell_type": "code",
   "execution_count": 15,
   "metadata": {},
   "outputs": [],
   "source": [
    "bool_flds = df_raw.select_dtypes(include=['bool']).columns.values"
   ]
  },
  {
   "cell_type": "code",
   "execution_count": 16,
   "metadata": {},
   "outputs": [],
   "source": [
    "cat_flds = cat_flds + bool_flds.tolist()"
   ]
  },
  {
   "cell_type": "code",
   "execution_count": 17,
   "metadata": {},
   "outputs": [],
   "source": [
    "cont_flds = [n for n in df_raw.columns if n not in cat_flds and n!= 'outliers']"
   ]
  },
  {
   "cell_type": "code",
   "execution_count": 18,
   "metadata": {},
   "outputs": [
    {
     "data": {
      "text/plain": [
       "0"
      ]
     },
     "execution_count": 18,
     "metadata": {},
     "output_type": "execute_result"
    }
   ],
   "source": [
    "gc.collect()"
   ]
  },
  {
   "cell_type": "code",
   "execution_count": 15,
   "metadata": {},
   "outputs": [],
   "source": [
    "# %%time\n",
    "# df_raw = df_raw[cat_flds+cont_flds]\n",
    "# df, y, nas, mapper_t = proc_df(df_raw, 'target', do_scale=True)"
   ]
  },
  {
   "cell_type": "code",
   "execution_count": 19,
   "metadata": {},
   "outputs": [],
   "source": [
    "for c in bool_flds:\n",
    "    df_raw[c] = df_raw[c].astype('category')"
   ]
  },
  {
   "cell_type": "code",
   "execution_count": 17,
   "metadata": {},
   "outputs": [
    {
     "data": {
      "text/plain": [
       "[]"
      ]
     },
     "execution_count": 17,
     "metadata": {},
     "output_type": "execute_result"
    }
   ],
   "source": [
    "[n for n in df_raw.drop(cat_flds,axis=1).columns if not is_numeric_dtype(df_raw[n])]"
   ]
  },
  {
   "cell_type": "code",
   "execution_count": 20,
   "metadata": {},
   "outputs": [],
   "source": [
    "for c in cat_flds: df_raw[c] = df_raw[c].astype('category')"
   ]
  },
  {
   "cell_type": "code",
   "execution_count": 21,
   "metadata": {},
   "outputs": [
    {
     "data": {
      "text/plain": [
       "0"
      ]
     },
     "execution_count": 21,
     "metadata": {},
     "output_type": "execute_result"
    }
   ],
   "source": [
    "gc.collect()"
   ]
  },
  {
   "cell_type": "code",
   "execution_count": 22,
   "metadata": {},
   "outputs": [],
   "source": [
    "df_raw = df_raw[cat_flds+cont_flds]"
   ]
  },
  {
   "cell_type": "code",
   "execution_count": 23,
   "metadata": {},
   "outputs": [
    {
     "name": "stderr",
     "output_type": "stream",
     "text": [
      "/home/chandrasekhar/anaconda3/envs/fastai/lib/python3.6/site-packages/ipykernel_launcher.py:20: SettingWithCopyWarning: \n",
      "A value is trying to be set on a copy of a slice from a DataFrame.\n",
      "Try using .loc[row_indexer,col_indexer] = value instead\n",
      "\n",
      "See the caveats in the documentation: http://pandas.pydata.org/pandas-docs/stable/indexing.html#indexing-view-versus-copy\n",
      "/home/chandrasekhar/anaconda3/envs/fastai/lib/python3.6/site-packages/ipykernel_launcher.py:22: SettingWithCopyWarning: \n",
      "A value is trying to be set on a copy of a slice from a DataFrame.\n",
      "Try using .loc[row_indexer,col_indexer] = value instead\n",
      "\n",
      "See the caveats in the documentation: http://pandas.pydata.org/pandas-docs/stable/indexing.html#indexing-view-versus-copy\n",
      "/home/chandrasekhar/anaconda3/envs/fastai/lib/python3.6/site-packages/ipykernel_launcher.py:15: SettingWithCopyWarning: \n",
      "A value is trying to be set on a copy of a slice from a DataFrame.\n",
      "Try using .loc[row_indexer,col_indexer] = value instead\n",
      "\n",
      "See the caveats in the documentation: http://pandas.pydata.org/pandas-docs/stable/indexing.html#indexing-view-versus-copy\n",
      "  from ipykernel import kernelapp as app\n",
      "/home/chandrasekhar/anaconda3/envs/fastai/lib/python3.6/site-packages/ipykernel_launcher.py:13: SettingWithCopyWarning: \n",
      "A value is trying to be set on a copy of a slice from a DataFrame.\n",
      "Try using .loc[row_indexer,col_indexer] = value instead\n",
      "\n",
      "See the caveats in the documentation: http://pandas.pydata.org/pandas-docs/stable/indexing.html#indexing-view-versus-copy\n",
      "  del sys.path[0]\n"
     ]
    },
    {
     "name": "stdout",
     "output_type": "stream",
     "text": [
      "Mem. usage decreased to 2924.95 Mb (0.0% reduction)\n"
     ]
    }
   ],
   "source": [
    "df_raw = reduce_mem_usage(df_raw)"
   ]
  },
  {
   "cell_type": "code",
   "execution_count": 28,
   "metadata": {},
   "outputs": [
    {
     "data": {
      "text/plain": [
       "['installments',\n",
       " 'month_lag',\n",
       " 'purchase_amount',\n",
       " 'purchase_date',\n",
       " 'purchase_Elapsed',\n",
       " 'month_diff',\n",
       " 'purchase_date_successive_diff',\n",
       " 'duration',\n",
       " 'amount_month_ratio',\n",
       " 'numerical_range',\n",
       " 'merchant_category_id_y',\n",
       " 'numerical_1',\n",
       " 'numerical_2',\n",
       " 'avg_sales_lag3',\n",
       " 'avg_purchases_lag3',\n",
       " 'avg_sales_lag6',\n",
       " 'avg_purchases_lag6',\n",
       " 'avg_sales_lag12',\n",
       " 'avg_purchases_lag12',\n",
       " 'CLV',\n",
       " 'CLV_old',\n",
       " 'CLV_ratio',\n",
       " 'card_id_count_ratio',\n",
       " 'target']"
      ]
     },
     "execution_count": 28,
     "metadata": {},
     "output_type": "execute_result"
    }
   ],
   "source": [
    "cont_flds"
   ]
  },
  {
   "cell_type": "code",
   "execution_count": 29,
   "metadata": {},
   "outputs": [],
   "source": [
    "for df in [df_raw]:\n",
    "    df.drop('CLV', axis=1, inplace=True)\n",
    "    df.drop('CLV_old', axis=1, inplace=True)\n",
    "    df.drop('card_id_count_ratio', axis=1, inplace=True)\n",
    "    df.drop('amount_month_ratio', axis=1, inplace=True)"
   ]
  },
  {
   "cell_type": "code",
   "execution_count": 31,
   "metadata": {},
   "outputs": [],
   "source": [
    "for df in [df_raw]:\n",
    "    df.drop('CLV_ratio', axis=1, inplace=True)"
   ]
  },
  {
   "cell_type": "code",
   "execution_count": 34,
   "metadata": {},
   "outputs": [
    {
     "data": {
      "text/plain": [
       "0"
      ]
     },
     "execution_count": 34,
     "metadata": {},
     "output_type": "execute_result"
    }
   ],
   "source": [
    "gc.collect()"
   ]
  },
  {
   "cell_type": "code",
   "execution_count": 35,
   "metadata": {
    "scrolled": true
   },
   "outputs": [
    {
     "name": "stderr",
     "output_type": "stream",
     "text": [
      "/home/chandrasekhar/anaconda3/envs/fastai/lib/python3.6/site-packages/numpy/core/_methods.py:36: RuntimeWarning: overflow encountered in reduce\n",
      "  return umr_sum(a, axis, dtype, out, keepdims, initial)\n",
      "/home/chandrasekhar/anaconda3/envs/fastai/lib/python3.6/site-packages/numpy/core/fromnumeric.py:83: RuntimeWarning: overflow encountered in reduce\n",
      "  return ufunc.reduce(obj, axis, dtype, out, **passkwargs)\n",
      "/home/chandrasekhar/anaconda3/envs/fastai/lib/python3.6/site-packages/numpy/core/_methods.py:36: RuntimeWarning: overflow encountered in reduce\n",
      "  return umr_sum(a, axis, dtype, out, keepdims, initial)\n",
      "/home/chandrasekhar/anaconda3/envs/fastai/lib/python3.6/site-packages/numpy/core/fromnumeric.py:83: RuntimeWarning: overflow encountered in reduce\n",
      "  return ufunc.reduce(obj, axis, dtype, out, **passkwargs)\n",
      "/home/chandrasekhar/anaconda3/envs/fastai/lib/python3.6/site-packages/numpy/core/_methods.py:36: RuntimeWarning: overflow encountered in reduce\n",
      "  return umr_sum(a, axis, dtype, out, keepdims, initial)\n",
      "/home/chandrasekhar/anaconda3/envs/fastai/lib/python3.6/site-packages/numpy/core/fromnumeric.py:83: RuntimeWarning: overflow encountered in reduce\n",
      "  return ufunc.reduce(obj, axis, dtype, out, **passkwargs)\n",
      "/home/chandrasekhar/anaconda3/envs/fastai/lib/python3.6/site-packages/numpy/core/_methods.py:36: RuntimeWarning: overflow encountered in reduce\n",
      "  return umr_sum(a, axis, dtype, out, keepdims, initial)\n",
      "/home/chandrasekhar/anaconda3/envs/fastai/lib/python3.6/site-packages/numpy/core/fromnumeric.py:83: RuntimeWarning: overflow encountered in reduce\n",
      "  return ufunc.reduce(obj, axis, dtype, out, **passkwargs)\n",
      "/home/chandrasekhar/anaconda3/envs/fastai/lib/python3.6/site-packages/numpy/core/_methods.py:36: RuntimeWarning: overflow encountered in reduce\n",
      "  return umr_sum(a, axis, dtype, out, keepdims, initial)\n",
      "/home/chandrasekhar/anaconda3/envs/fastai/lib/python3.6/site-packages/numpy/core/fromnumeric.py:83: RuntimeWarning: overflow encountered in reduce\n",
      "  return ufunc.reduce(obj, axis, dtype, out, **passkwargs)\n",
      "/home/chandrasekhar/anaconda3/envs/fastai/lib/python3.6/site-packages/numpy/core/_methods.py:36: RuntimeWarning: overflow encountered in reduce\n",
      "  return umr_sum(a, axis, dtype, out, keepdims, initial)\n",
      "/home/chandrasekhar/anaconda3/envs/fastai/lib/python3.6/site-packages/numpy/core/fromnumeric.py:83: RuntimeWarning: overflow encountered in reduce\n",
      "  return ufunc.reduce(obj, axis, dtype, out, **passkwargs)\n",
      "/home/chandrasekhar/anaconda3/envs/fastai/lib/python3.6/site-packages/numpy/core/_methods.py:36: RuntimeWarning: overflow encountered in reduce\n",
      "  return umr_sum(a, axis, dtype, out, keepdims, initial)\n",
      "/home/chandrasekhar/anaconda3/envs/fastai/lib/python3.6/site-packages/numpy/core/fromnumeric.py:83: RuntimeWarning: overflow encountered in reduce\n",
      "  return ufunc.reduce(obj, axis, dtype, out, **passkwargs)\n",
      "/home/chandrasekhar/anaconda3/envs/fastai/lib/python3.6/site-packages/numpy/core/_methods.py:36: RuntimeWarning: overflow encountered in reduce\n",
      "  return umr_sum(a, axis, dtype, out, keepdims, initial)\n",
      "/home/chandrasekhar/anaconda3/envs/fastai/lib/python3.6/site-packages/sklearn/preprocessing/data.py:765: RuntimeWarning: invalid value encountered in true_divide\n",
      "  X /= self.scale_\n",
      "/home/chandrasekhar/anaconda3/envs/fastai/lib/python3.6/site-packages/numpy/core/_methods.py:36: RuntimeWarning: overflow encountered in reduce\n",
      "  return umr_sum(a, axis, dtype, out, keepdims, initial)\n",
      "/home/chandrasekhar/anaconda3/envs/fastai/lib/python3.6/site-packages/sklearn/preprocessing/data.py:765: RuntimeWarning: invalid value encountered in true_divide\n",
      "  X /= self.scale_\n",
      "/home/chandrasekhar/anaconda3/envs/fastai/lib/python3.6/site-packages/numpy/core/_methods.py:36: RuntimeWarning: overflow encountered in reduce\n",
      "  return umr_sum(a, axis, dtype, out, keepdims, initial)\n",
      "/home/chandrasekhar/anaconda3/envs/fastai/lib/python3.6/site-packages/sklearn/preprocessing/data.py:765: RuntimeWarning: invalid value encountered in true_divide\n",
      "  X /= self.scale_\n",
      "/home/chandrasekhar/anaconda3/envs/fastai/lib/python3.6/site-packages/numpy/core/_methods.py:36: RuntimeWarning: overflow encountered in reduce\n",
      "  return umr_sum(a, axis, dtype, out, keepdims, initial)\n",
      "/home/chandrasekhar/anaconda3/envs/fastai/lib/python3.6/site-packages/sklearn/preprocessing/data.py:765: RuntimeWarning: invalid value encountered in true_divide\n",
      "  X /= self.scale_\n",
      "/home/chandrasekhar/anaconda3/envs/fastai/lib/python3.6/site-packages/numpy/core/_methods.py:36: RuntimeWarning: overflow encountered in reduce\n",
      "  return umr_sum(a, axis, dtype, out, keepdims, initial)\n",
      "/home/chandrasekhar/anaconda3/envs/fastai/lib/python3.6/site-packages/sklearn/preprocessing/data.py:765: RuntimeWarning: invalid value encountered in true_divide\n",
      "  X /= self.scale_\n",
      "/home/chandrasekhar/anaconda3/envs/fastai/lib/python3.6/site-packages/numpy/core/_methods.py:36: RuntimeWarning: overflow encountered in reduce\n",
      "  return umr_sum(a, axis, dtype, out, keepdims, initial)\n",
      "/home/chandrasekhar/anaconda3/envs/fastai/lib/python3.6/site-packages/sklearn/preprocessing/data.py:765: RuntimeWarning: invalid value encountered in true_divide\n",
      "  X /= self.scale_\n",
      "/home/chandrasekhar/anaconda3/envs/fastai/lib/python3.6/site-packages/numpy/core/_methods.py:36: RuntimeWarning: overflow encountered in reduce\n",
      "  return umr_sum(a, axis, dtype, out, keepdims, initial)\n",
      "/home/chandrasekhar/anaconda3/envs/fastai/lib/python3.6/site-packages/sklearn/preprocessing/data.py:765: RuntimeWarning: invalid value encountered in true_divide\n",
      "  X /= self.scale_\n"
     ]
    },
    {
     "name": "stdout",
     "output_type": "stream",
     "text": [
      "CPU times: user 2min 32s, sys: 18.8 s, total: 2min 51s\n",
      "Wall time: 1min 32s\n"
     ]
    }
   ],
   "source": [
    "%%time\n",
    "df, y, nas, mapper_t = proc_df(df_raw, 'target', do_scale=True)"
   ]
  },
  {
   "cell_type": "code",
   "execution_count": 36,
   "metadata": {},
   "outputs": [
    {
     "data": {
      "text/plain": [
       "(19249698, 82)"
      ]
     },
     "execution_count": 36,
     "metadata": {},
     "output_type": "execute_result"
    }
   ],
   "source": [
    "df.shape"
   ]
  },
  {
   "cell_type": "code",
   "execution_count": 37,
   "metadata": {},
   "outputs": [
    {
     "data": {
      "text/plain": [
       "48"
      ]
     },
     "execution_count": 37,
     "metadata": {},
     "output_type": "execute_result"
    }
   ],
   "source": [
    "gc.collect()"
   ]
  },
  {
   "cell_type": "code",
   "execution_count": 39,
   "metadata": {},
   "outputs": [
    {
     "data": {
      "text/plain": [
       "authorized_flag                     int8\n",
       "category_3                          int8\n",
       "merchant_category_id               int16\n",
       "purchase_Year                       int8\n",
       "purchase_Month                      int8\n",
       "purchase_Week                       int8\n",
       "purchase_Day                        int8\n",
       "purchase_Dayofweek                  int8\n",
       "purchase_Dayofyear                 int16\n",
       "purchase_Hour                       int8\n",
       "purchase_Minute                     int8\n",
       "purchase_Second                     int8\n",
       "purchased_on_weekend                int8\n",
       "purchased_on_weekday                int8\n",
       "Christmas_Day_2017                  int8\n",
       "Mothers_Day_2017                    int8\n",
       "fathers_day_2017                    int8\n",
       "Children_day_2017                   int8\n",
       "Valentine_Day_2017                  int8\n",
       "Black_Friday_2017                   int8\n",
       "Mothers_Day_2018                    int8\n",
       "merchant_rating                     int8\n",
       "merchant_group_id                  int64\n",
       "subsector_id                        int8\n",
       "category_1                          int8\n",
       "most_recent_sales_range             int8\n",
       "most_recent_purchases_range         int8\n",
       "active_months_lag3                  int8\n",
       "active_months_lag6                  int8\n",
       "active_months_lag12                 int8\n",
       "                                  ...   \n",
       "observed_elapsed_time              int16\n",
       "quarter                             int8\n",
       "card_id                            int64\n",
       "merchant_id                        int64\n",
       "merchant_address_id                int64\n",
       "purchase_Is_month_end               int8\n",
       "purchase_Is_month_start             int8\n",
       "purchase_Is_quarter_end             int8\n",
       "purchase_Is_quarter_start           int8\n",
       "purchase_Is_year_end                int8\n",
       "purchase_Is_year_start              int8\n",
       "installments                     float64\n",
       "month_lag                        float64\n",
       "purchase_amount                  float64\n",
       "purchase_date                    float64\n",
       "purchase_Elapsed                 float64\n",
       "month_diff                       float64\n",
       "purchase_date_successive_diff    float64\n",
       "duration                         float64\n",
       "numerical_range                  float64\n",
       "merchant_category_id_y           float64\n",
       "numerical_1                      float64\n",
       "numerical_2                      float64\n",
       "avg_sales_lag3                   float64\n",
       "avg_purchases_lag3               float64\n",
       "avg_sales_lag6                   float64\n",
       "avg_purchases_lag6               float64\n",
       "avg_sales_lag12                  float64\n",
       "avg_purchases_lag12              float64\n",
       "installments_na                  float64\n",
       "Length: 82, dtype: object"
      ]
     },
     "execution_count": 39,
     "metadata": {},
     "output_type": "execute_result"
    }
   ],
   "source": [
    "df.dtypes"
   ]
  },
  {
   "cell_type": "code",
   "execution_count": 40,
   "metadata": {},
   "outputs": [],
   "source": [
    "df.to_feather('df_cont_proc')"
   ]
  },
  {
   "cell_type": "markdown",
   "metadata": {},
   "source": [
    "### Post proc df"
   ]
  },
  {
   "cell_type": "code",
   "execution_count": 41,
   "metadata": {},
   "outputs": [
    {
     "name": "stdout",
     "output_type": "stream",
     "text": [
      "Mem. usage decreased to 3102.49 Mb (34.2% reduction)\n"
     ]
    }
   ],
   "source": [
    "df = reduce_mem_usage(df)"
   ]
  },
  {
   "cell_type": "code",
   "execution_count": 46,
   "metadata": {},
   "outputs": [],
   "source": [
    "train_cards = df['card_id'].unique()"
   ]
  },
  {
   "cell_type": "code",
   "execution_count": 47,
   "metadata": {},
   "outputs": [
    {
     "data": {
      "text/plain": [
       "(201917,)"
      ]
     },
     "execution_count": 47,
     "metadata": {},
     "output_type": "execute_result"
    }
   ],
   "source": [
    "train_cards.shape"
   ]
  },
  {
   "cell_type": "code",
   "execution_count": 48,
   "metadata": {},
   "outputs": [],
   "source": [
    "val_cards = np.random.choice(train_cards, 40000)"
   ]
  },
  {
   "cell_type": "code",
   "execution_count": 49,
   "metadata": {},
   "outputs": [],
   "source": [
    "val_idx = df.index[df.card_id.isin(val_cards)]"
   ]
  },
  {
   "cell_type": "code",
   "execution_count": 51,
   "metadata": {},
   "outputs": [
    {
     "data": {
      "text/plain": [
       "(19249698,)"
      ]
     },
     "execution_count": 51,
     "metadata": {},
     "output_type": "execute_result"
    }
   ],
   "source": [
    "y.shape"
   ]
  },
  {
   "cell_type": "code",
   "execution_count": 32,
   "metadata": {},
   "outputs": [],
   "source": [
    "y_val = df_valid['target']"
   ]
  },
  {
   "cell_type": "markdown",
   "metadata": {},
   "source": [
    "### proc_df"
   ]
  },
  {
   "cell_type": "code",
   "execution_count": 52,
   "metadata": {},
   "outputs": [],
   "source": [
    "# df_sorted = df_valid.sort_values(['card_id', 'purchase_date'])"
   ]
  },
  {
   "cell_type": "code",
   "execution_count": 53,
   "metadata": {},
   "outputs": [],
   "source": [
    "# df_sorted.reset_index(inplace=True)"
   ]
  },
  {
   "cell_type": "code",
   "execution_count": 54,
   "metadata": {},
   "outputs": [],
   "source": [
    "# df_sorted.drop('index', axis=1, inplace=True)"
   ]
  },
  {
   "cell_type": "code",
   "execution_count": 55,
   "metadata": {},
   "outputs": [],
   "source": [
    "# df_valid.shape, df_sorted.shape"
   ]
  },
  {
   "cell_type": "code",
   "execution_count": 35,
   "metadata": {},
   "outputs": [
    {
     "name": "stdout",
     "output_type": "stream",
     "text": [
      "CPU times: user 1min, sys: 3.28 s, total: 1min 4s\n",
      "Wall time: 20.3 s\n"
     ]
    }
   ],
   "source": [
    "%%time\n",
    "df,y, nas, mapper_t = proc_df(df_sorted, 'target', do_scale=True)"
   ]
  },
  {
   "cell_type": "code",
   "execution_count": 56,
   "metadata": {},
   "outputs": [
    {
     "data": {
      "text/plain": [
       "748"
      ]
     },
     "execution_count": 56,
     "metadata": {},
     "output_type": "execute_result"
    }
   ],
   "source": [
    "gc.collect()"
   ]
  },
  {
   "cell_type": "code",
   "execution_count": 27,
   "metadata": {},
   "outputs": [
    {
     "ename": "NameError",
     "evalue": "name 'mapper_t' is not defined",
     "output_type": "error",
     "traceback": [
      "\u001b[0;31m---------------------------------------------------------------------------\u001b[0m",
      "\u001b[0;31mNameError\u001b[0m                                 Traceback (most recent call last)",
      "\u001b[0;32m<timed exec>\u001b[0m in \u001b[0;36m<module>\u001b[0;34m\u001b[0m\n",
      "\u001b[0;31mNameError\u001b[0m: name 'mapper_t' is not defined"
     ]
    }
   ],
   "source": [
    "%%time\n",
    "df_test_copy = df_test[cat_flds+cont_flds+[dep]].copy()\n",
    "df_t, _, nas, mapper = proc_df(df_test_copy,'target', do_scale=True, mapper=mapper_t)"
   ]
  },
  {
   "cell_type": "code",
   "execution_count": 57,
   "metadata": {},
   "outputs": [
    {
     "data": {
      "text/plain": [
       "(19249698, 82)"
      ]
     },
     "execution_count": 57,
     "metadata": {},
     "output_type": "execute_result"
    }
   ],
   "source": [
    "df.shape"
   ]
  },
  {
   "cell_type": "code",
   "execution_count": 58,
   "metadata": {},
   "outputs": [],
   "source": [
    "def rmse(x,y): return math.sqrt(((x-y)**2).mean())"
   ]
  },
  {
   "cell_type": "code",
   "execution_count": 62,
   "metadata": {},
   "outputs": [
    {
     "data": {
      "text/plain": [
       "{'authorized_flag': 3,\n",
       " 'category_3': 4,\n",
       " 'merchant_category_id': 328,\n",
       " 'purchase_Year': 3,\n",
       " 'purchase_Month': 13,\n",
       " 'purchase_Week': 53,\n",
       " 'purchase_Day': 32,\n",
       " 'purchase_Dayofweek': 8,\n",
       " 'purchase_Dayofyear': 366,\n",
       " 'purchase_Hour': 25,\n",
       " 'purchase_Minute': 61,\n",
       " 'purchase_Second': 61,\n",
       " 'purchased_on_weekend': 3,\n",
       " 'purchased_on_weekday': 3,\n",
       " 'Christmas_Day_2017': 101,\n",
       " 'Mothers_Day_2017': 101,\n",
       " 'fathers_day_2017': 101,\n",
       " 'Children_day_2017': 101,\n",
       " 'Valentine_Day_2017': 101,\n",
       " 'Black_Friday_2017': 101,\n",
       " 'Mothers_Day_2018': 29,\n",
       " 'merchant_rating': 17,\n",
       " 'merchant_group_id': 109392,\n",
       " 'subsector_id': 42,\n",
       " 'category_1': 3,\n",
       " 'most_recent_sales_range': 6,\n",
       " 'most_recent_purchases_range': 6,\n",
       " 'active_months_lag3': 4,\n",
       " 'active_months_lag6': 7,\n",
       " 'active_months_lag12': 13,\n",
       " 'category_4': 3,\n",
       " 'city_id': 272,\n",
       " 'state_id': 26,\n",
       " 'category_2': 6,\n",
       " 'days_feature1': 644,\n",
       " 'days_feature1_ratio': 647,\n",
       " 'days_feature2': 488,\n",
       " 'days_feature2_ratio': 505,\n",
       " 'days_feature3': 233,\n",
       " 'days_feature3_ratio': 234,\n",
       " 'feature_1': 6,\n",
       " 'feature_2': 4,\n",
       " 'feature_3': 3,\n",
       " 'feature_max': 6,\n",
       " 'feature_mean': 8,\n",
       " 'feature_min': 3,\n",
       " 'feature_sum': 8,\n",
       " 'feature_var': 10,\n",
       " 'hist_first_buy': 2005,\n",
       " 'hist_last_buy': 1955,\n",
       " 'new_first_buy': 1963,\n",
       " 'new_last_buy': 1991,\n",
       " 'observed_elapsed_time': 233,\n",
       " 'quarter': 5,\n",
       " 'card_id': 201918,\n",
       " 'merchant_id': 313542,\n",
       " 'merchant_address_id': 313543,\n",
       " 'purchase_Is_month_end': 3,\n",
       " 'purchase_Is_month_start': 3,\n",
       " 'purchase_Is_quarter_end': 3,\n",
       " 'purchase_Is_quarter_start': 3,\n",
       " 'purchase_Is_year_end': 3,\n",
       " 'purchase_Is_year_start': 3}"
      ]
     },
     "execution_count": 62,
     "metadata": {},
     "output_type": "execute_result"
    }
   ],
   "source": [
    "emb_c = {n: len(c.cat.categories)+1 for n,c in df_raw[cat_flds].items()}\n",
    "emb_c"
   ]
  },
  {
   "cell_type": "code",
   "execution_count": 63,
   "metadata": {},
   "outputs": [],
   "source": [
    "emb_szs = [(c, min(30, (c+1)//2)) for _,c in emb_c.items()]\n",
    "metrics=[rmse]"
   ]
  },
  {
   "cell_type": "code",
   "execution_count": 64,
   "metadata": {},
   "outputs": [],
   "source": [
    "y_range=(np.min(y)*1,np.max(y))"
   ]
  },
  {
   "cell_type": "code",
   "execution_count": 65,
   "metadata": {},
   "outputs": [
    {
     "data": {
      "text/plain": [
       "[(3, 2),\n",
       " (4, 2),\n",
       " (328, 30),\n",
       " (3, 2),\n",
       " (13, 7),\n",
       " (53, 27),\n",
       " (32, 16),\n",
       " (8, 4),\n",
       " (366, 30),\n",
       " (25, 13),\n",
       " (61, 30),\n",
       " (61, 30),\n",
       " (3, 2),\n",
       " (3, 2),\n",
       " (101, 30),\n",
       " (101, 30),\n",
       " (101, 30),\n",
       " (101, 30),\n",
       " (101, 30),\n",
       " (101, 30),\n",
       " (29, 15),\n",
       " (17, 9),\n",
       " (109392, 30),\n",
       " (42, 21),\n",
       " (3, 2),\n",
       " (6, 3),\n",
       " (6, 3),\n",
       " (4, 2),\n",
       " (7, 4),\n",
       " (13, 7),\n",
       " (3, 2),\n",
       " (272, 30),\n",
       " (26, 13),\n",
       " (6, 3),\n",
       " (644, 30),\n",
       " (647, 30),\n",
       " (488, 30),\n",
       " (505, 30),\n",
       " (233, 30),\n",
       " (234, 30),\n",
       " (6, 3),\n",
       " (4, 2),\n",
       " (3, 2),\n",
       " (6, 3),\n",
       " (8, 4),\n",
       " (3, 2),\n",
       " (8, 4),\n",
       " (10, 5),\n",
       " (2005, 30),\n",
       " (1955, 30),\n",
       " (1963, 30),\n",
       " (1991, 30),\n",
       " (233, 30),\n",
       " (5, 3),\n",
       " (201918, 30),\n",
       " (313542, 30),\n",
       " (313543, 30),\n",
       " (3, 2),\n",
       " (3, 2),\n",
       " (3, 2),\n",
       " (3, 2),\n",
       " (3, 2),\n",
       " (3, 2)]"
      ]
     },
     "execution_count": 65,
     "metadata": {},
     "output_type": "execute_result"
    }
   ],
   "source": [
    "emb_szs"
   ]
  },
  {
   "cell_type": "code",
   "execution_count": 66,
   "metadata": {},
   "outputs": [
    {
     "data": {
      "text/plain": [
       "(63, 24, 82)"
      ]
     },
     "execution_count": 66,
     "metadata": {},
     "output_type": "execute_result"
    }
   ],
   "source": [
    "len(cat_flds), len(cont_flds), len(df.columns)"
   ]
  },
  {
   "cell_type": "code",
   "execution_count": 67,
   "metadata": {},
   "outputs": [
    {
     "data": {
      "text/plain": [
       "(19249698, 82)"
      ]
     },
     "execution_count": 67,
     "metadata": {},
     "output_type": "execute_result"
    }
   ],
   "source": [
    "df.shape"
   ]
  },
  {
   "cell_type": "code",
   "execution_count": 47,
   "metadata": {},
   "outputs": [
    {
     "data": {
      "text/html": [
       "<div>\n",
       "<style scoped>\n",
       "    .dataframe tbody tr th:only-of-type {\n",
       "        vertical-align: middle;\n",
       "    }\n",
       "\n",
       "    .dataframe tbody tr th {\n",
       "        vertical-align: top;\n",
       "    }\n",
       "\n",
       "    .dataframe thead th {\n",
       "        text-align: right;\n",
       "    }\n",
       "</style>\n",
       "<table border=\"1\" class=\"dataframe\">\n",
       "  <thead>\n",
       "    <tr style=\"text-align: right;\">\n",
       "      <th></th>\n",
       "      <th>authorized_flag</th>\n",
       "      <th>card_id</th>\n",
       "      <th>installments</th>\n",
       "      <th>category_3</th>\n",
       "      <th>merchant_category_id</th>\n",
       "      <th>merchant_id</th>\n",
       "      <th>month_lag</th>\n",
       "      <th>purchase_amount</th>\n",
       "      <th>purchase_date</th>\n",
       "      <th>purchase_Year</th>\n",
       "      <th>...</th>\n",
       "      <th>hist_last_buy</th>\n",
       "      <th>installments_ratio</th>\n",
       "      <th>month_diff_ratio</th>\n",
       "      <th>new_first_buy</th>\n",
       "      <th>new_last_buy</th>\n",
       "      <th>observed_elapsed_time</th>\n",
       "      <th>outliers</th>\n",
       "      <th>purchase_amount_sum_ratio</th>\n",
       "      <th>quarter</th>\n",
       "      <th>installments_na</th>\n",
       "    </tr>\n",
       "  </thead>\n",
       "  <tbody>\n",
       "    <tr>\n",
       "      <th>643378</th>\n",
       "      <td>2</td>\n",
       "      <td>6769</td>\n",
       "      <td>0.295405</td>\n",
       "      <td>2</td>\n",
       "      <td>269</td>\n",
       "      <td>164944</td>\n",
       "      <td>1.091061</td>\n",
       "      <td>-0.000064</td>\n",
       "      <td>0.767393</td>\n",
       "      <td>1</td>\n",
       "      <td>...</td>\n",
       "      <td>195</td>\n",
       "      <td>0.026446</td>\n",
       "      <td>-0.749105</td>\n",
       "      <td>168</td>\n",
       "      <td>190</td>\n",
       "      <td>23</td>\n",
       "      <td>-0.102886</td>\n",
       "      <td>-0.217039</td>\n",
       "      <td>2</td>\n",
       "      <td>-0.086818</td>\n",
       "    </tr>\n",
       "    <tr>\n",
       "      <th>643379</th>\n",
       "      <td>2</td>\n",
       "      <td>6769</td>\n",
       "      <td>1.999314</td>\n",
       "      <td>3</td>\n",
       "      <td>321</td>\n",
       "      <td>526</td>\n",
       "      <td>1.091061</td>\n",
       "      <td>-0.002828</td>\n",
       "      <td>0.801695</td>\n",
       "      <td>1</td>\n",
       "      <td>...</td>\n",
       "      <td>195</td>\n",
       "      <td>0.026446</td>\n",
       "      <td>-0.749105</td>\n",
       "      <td>168</td>\n",
       "      <td>190</td>\n",
       "      <td>23</td>\n",
       "      <td>-0.102886</td>\n",
       "      <td>-0.217039</td>\n",
       "      <td>2</td>\n",
       "      <td>-0.086818</td>\n",
       "    </tr>\n",
       "    <tr>\n",
       "      <th>643380</th>\n",
       "      <td>2</td>\n",
       "      <td>6769</td>\n",
       "      <td>0.295405</td>\n",
       "      <td>2</td>\n",
       "      <td>263</td>\n",
       "      <td>183722</td>\n",
       "      <td>1.091061</td>\n",
       "      <td>-0.003234</td>\n",
       "      <td>0.802041</td>\n",
       "      <td>1</td>\n",
       "      <td>...</td>\n",
       "      <td>195</td>\n",
       "      <td>0.026446</td>\n",
       "      <td>-0.749105</td>\n",
       "      <td>168</td>\n",
       "      <td>190</td>\n",
       "      <td>23</td>\n",
       "      <td>-0.102886</td>\n",
       "      <td>-0.217039</td>\n",
       "      <td>2</td>\n",
       "      <td>-0.086818</td>\n",
       "    </tr>\n",
       "    <tr>\n",
       "      <th>643381</th>\n",
       "      <td>2</td>\n",
       "      <td>6769</td>\n",
       "      <td>0.295405</td>\n",
       "      <td>2</td>\n",
       "      <td>86</td>\n",
       "      <td>83008</td>\n",
       "      <td>1.091061</td>\n",
       "      <td>-0.003209</td>\n",
       "      <td>0.807492</td>\n",
       "      <td>1</td>\n",
       "      <td>...</td>\n",
       "      <td>195</td>\n",
       "      <td>0.026446</td>\n",
       "      <td>-0.749105</td>\n",
       "      <td>168</td>\n",
       "      <td>190</td>\n",
       "      <td>23</td>\n",
       "      <td>-0.102886</td>\n",
       "      <td>-0.217039</td>\n",
       "      <td>2</td>\n",
       "      <td>-0.086818</td>\n",
       "    </tr>\n",
       "    <tr>\n",
       "      <th>643382</th>\n",
       "      <td>1</td>\n",
       "      <td>6769</td>\n",
       "      <td>0.295405</td>\n",
       "      <td>2</td>\n",
       "      <td>282</td>\n",
       "      <td>55457</td>\n",
       "      <td>1.091061</td>\n",
       "      <td>-0.003539</td>\n",
       "      <td>0.811787</td>\n",
       "      <td>1</td>\n",
       "      <td>...</td>\n",
       "      <td>195</td>\n",
       "      <td>0.026446</td>\n",
       "      <td>-0.749105</td>\n",
       "      <td>168</td>\n",
       "      <td>190</td>\n",
       "      <td>23</td>\n",
       "      <td>-0.102886</td>\n",
       "      <td>-0.217039</td>\n",
       "      <td>2</td>\n",
       "      <td>-0.086818</td>\n",
       "    </tr>\n",
       "    <tr>\n",
       "      <th>643383</th>\n",
       "      <td>2</td>\n",
       "      <td>6769</td>\n",
       "      <td>0.295405</td>\n",
       "      <td>2</td>\n",
       "      <td>282</td>\n",
       "      <td>55457</td>\n",
       "      <td>1.091061</td>\n",
       "      <td>-0.003539</td>\n",
       "      <td>0.811813</td>\n",
       "      <td>1</td>\n",
       "      <td>...</td>\n",
       "      <td>195</td>\n",
       "      <td>0.026446</td>\n",
       "      <td>-0.749105</td>\n",
       "      <td>168</td>\n",
       "      <td>190</td>\n",
       "      <td>23</td>\n",
       "      <td>-0.102886</td>\n",
       "      <td>-0.217039</td>\n",
       "      <td>2</td>\n",
       "      <td>-0.086818</td>\n",
       "    </tr>\n",
       "    <tr>\n",
       "      <th>643384</th>\n",
       "      <td>2</td>\n",
       "      <td>6769</td>\n",
       "      <td>0.295405</td>\n",
       "      <td>2</td>\n",
       "      <td>28</td>\n",
       "      <td>169141</td>\n",
       "      <td>1.091061</td>\n",
       "      <td>-0.003311</td>\n",
       "      <td>0.833055</td>\n",
       "      <td>1</td>\n",
       "      <td>...</td>\n",
       "      <td>195</td>\n",
       "      <td>0.026446</td>\n",
       "      <td>-0.749105</td>\n",
       "      <td>168</td>\n",
       "      <td>190</td>\n",
       "      <td>23</td>\n",
       "      <td>-0.102886</td>\n",
       "      <td>-0.217039</td>\n",
       "      <td>2</td>\n",
       "      <td>-0.086818</td>\n",
       "    </tr>\n",
       "    <tr>\n",
       "      <th>643385</th>\n",
       "      <td>2</td>\n",
       "      <td>6769</td>\n",
       "      <td>0.295405</td>\n",
       "      <td>2</td>\n",
       "      <td>269</td>\n",
       "      <td>131376</td>\n",
       "      <td>1.091061</td>\n",
       "      <td>-0.001745</td>\n",
       "      <td>0.833306</td>\n",
       "      <td>1</td>\n",
       "      <td>...</td>\n",
       "      <td>195</td>\n",
       "      <td>0.026446</td>\n",
       "      <td>-0.749105</td>\n",
       "      <td>168</td>\n",
       "      <td>190</td>\n",
       "      <td>23</td>\n",
       "      <td>-0.102886</td>\n",
       "      <td>-0.217039</td>\n",
       "      <td>2</td>\n",
       "      <td>-0.086818</td>\n",
       "    </tr>\n",
       "    <tr>\n",
       "      <th>643386</th>\n",
       "      <td>2</td>\n",
       "      <td>6769</td>\n",
       "      <td>-0.556550</td>\n",
       "      <td>1</td>\n",
       "      <td>8</td>\n",
       "      <td>115522</td>\n",
       "      <td>1.091061</td>\n",
       "      <td>-0.003281</td>\n",
       "      <td>0.842458</td>\n",
       "      <td>1</td>\n",
       "      <td>...</td>\n",
       "      <td>195</td>\n",
       "      <td>0.026446</td>\n",
       "      <td>-0.749105</td>\n",
       "      <td>168</td>\n",
       "      <td>190</td>\n",
       "      <td>23</td>\n",
       "      <td>-0.102886</td>\n",
       "      <td>-0.217039</td>\n",
       "      <td>2</td>\n",
       "      <td>11.518360</td>\n",
       "    </tr>\n",
       "    <tr>\n",
       "      <th>643387</th>\n",
       "      <td>2</td>\n",
       "      <td>6769</td>\n",
       "      <td>0.295405</td>\n",
       "      <td>2</td>\n",
       "      <td>160</td>\n",
       "      <td>178958</td>\n",
       "      <td>1.091061</td>\n",
       "      <td>-0.003539</td>\n",
       "      <td>0.848663</td>\n",
       "      <td>1</td>\n",
       "      <td>...</td>\n",
       "      <td>195</td>\n",
       "      <td>0.026446</td>\n",
       "      <td>-0.749105</td>\n",
       "      <td>168</td>\n",
       "      <td>190</td>\n",
       "      <td>23</td>\n",
       "      <td>-0.102886</td>\n",
       "      <td>-0.217039</td>\n",
       "      <td>2</td>\n",
       "      <td>-0.086818</td>\n",
       "    </tr>\n",
       "    <tr>\n",
       "      <th>643388</th>\n",
       "      <td>2</td>\n",
       "      <td>6769</td>\n",
       "      <td>1.147359</td>\n",
       "      <td>3</td>\n",
       "      <td>196</td>\n",
       "      <td>171153</td>\n",
       "      <td>1.091061</td>\n",
       "      <td>-0.003135</td>\n",
       "      <td>0.851916</td>\n",
       "      <td>1</td>\n",
       "      <td>...</td>\n",
       "      <td>195</td>\n",
       "      <td>0.026446</td>\n",
       "      <td>-0.749105</td>\n",
       "      <td>168</td>\n",
       "      <td>190</td>\n",
       "      <td>23</td>\n",
       "      <td>-0.102886</td>\n",
       "      <td>-0.217039</td>\n",
       "      <td>2</td>\n",
       "      <td>-0.086818</td>\n",
       "    </tr>\n",
       "    <tr>\n",
       "      <th>643389</th>\n",
       "      <td>2</td>\n",
       "      <td>6769</td>\n",
       "      <td>-0.556550</td>\n",
       "      <td>1</td>\n",
       "      <td>190</td>\n",
       "      <td>184010</td>\n",
       "      <td>1.357698</td>\n",
       "      <td>-0.002427</td>\n",
       "      <td>0.915228</td>\n",
       "      <td>2</td>\n",
       "      <td>...</td>\n",
       "      <td>195</td>\n",
       "      <td>0.026446</td>\n",
       "      <td>-0.749105</td>\n",
       "      <td>168</td>\n",
       "      <td>190</td>\n",
       "      <td>23</td>\n",
       "      <td>-0.102886</td>\n",
       "      <td>-0.217039</td>\n",
       "      <td>2</td>\n",
       "      <td>11.518360</td>\n",
       "    </tr>\n",
       "    <tr>\n",
       "      <th>643390</th>\n",
       "      <td>2</td>\n",
       "      <td>6769</td>\n",
       "      <td>1.147359</td>\n",
       "      <td>3</td>\n",
       "      <td>28</td>\n",
       "      <td>198513</td>\n",
       "      <td>1.357698</td>\n",
       "      <td>-0.002533</td>\n",
       "      <td>0.916183</td>\n",
       "      <td>2</td>\n",
       "      <td>...</td>\n",
       "      <td>195</td>\n",
       "      <td>0.026446</td>\n",
       "      <td>-0.749105</td>\n",
       "      <td>168</td>\n",
       "      <td>190</td>\n",
       "      <td>23</td>\n",
       "      <td>-0.102886</td>\n",
       "      <td>-0.217039</td>\n",
       "      <td>2</td>\n",
       "      <td>-0.086818</td>\n",
       "    </tr>\n",
       "    <tr>\n",
       "      <th>643391</th>\n",
       "      <td>2</td>\n",
       "      <td>6769</td>\n",
       "      <td>0.295405</td>\n",
       "      <td>2</td>\n",
       "      <td>216</td>\n",
       "      <td>65693</td>\n",
       "      <td>1.357698</td>\n",
       "      <td>-0.003530</td>\n",
       "      <td>1.089687</td>\n",
       "      <td>2</td>\n",
       "      <td>...</td>\n",
       "      <td>195</td>\n",
       "      <td>0.026446</td>\n",
       "      <td>-0.749105</td>\n",
       "      <td>168</td>\n",
       "      <td>190</td>\n",
       "      <td>23</td>\n",
       "      <td>-0.102886</td>\n",
       "      <td>-0.217039</td>\n",
       "      <td>2</td>\n",
       "      <td>-0.086818</td>\n",
       "    </tr>\n",
       "    <tr>\n",
       "      <th>643392</th>\n",
       "      <td>2</td>\n",
       "      <td>6769</td>\n",
       "      <td>0.295405</td>\n",
       "      <td>2</td>\n",
       "      <td>134</td>\n",
       "      <td>101128</td>\n",
       "      <td>1.357698</td>\n",
       "      <td>-0.003227</td>\n",
       "      <td>1.096555</td>\n",
       "      <td>2</td>\n",
       "      <td>...</td>\n",
       "      <td>195</td>\n",
       "      <td>0.026446</td>\n",
       "      <td>-0.749105</td>\n",
       "      <td>168</td>\n",
       "      <td>190</td>\n",
       "      <td>23</td>\n",
       "      <td>-0.102886</td>\n",
       "      <td>-0.217039</td>\n",
       "      <td>2</td>\n",
       "      <td>-0.086818</td>\n",
       "    </tr>\n",
       "    <tr>\n",
       "      <th>643393</th>\n",
       "      <td>2</td>\n",
       "      <td>6769</td>\n",
       "      <td>1.147359</td>\n",
       "      <td>3</td>\n",
       "      <td>190</td>\n",
       "      <td>137752</td>\n",
       "      <td>1.357698</td>\n",
       "      <td>-0.002322</td>\n",
       "      <td>1.114606</td>\n",
       "      <td>2</td>\n",
       "      <td>...</td>\n",
       "      <td>195</td>\n",
       "      <td>0.026446</td>\n",
       "      <td>-0.749105</td>\n",
       "      <td>168</td>\n",
       "      <td>190</td>\n",
       "      <td>23</td>\n",
       "      <td>-0.102886</td>\n",
       "      <td>-0.217039</td>\n",
       "      <td>2</td>\n",
       "      <td>-0.086818</td>\n",
       "    </tr>\n",
       "    <tr>\n",
       "      <th>643394</th>\n",
       "      <td>2</td>\n",
       "      <td>6769</td>\n",
       "      <td>0.295405</td>\n",
       "      <td>2</td>\n",
       "      <td>102</td>\n",
       "      <td>180318</td>\n",
       "      <td>1.624336</td>\n",
       "      <td>-0.002657</td>\n",
       "      <td>1.150165</td>\n",
       "      <td>2</td>\n",
       "      <td>...</td>\n",
       "      <td>195</td>\n",
       "      <td>0.026446</td>\n",
       "      <td>-0.749105</td>\n",
       "      <td>168</td>\n",
       "      <td>190</td>\n",
       "      <td>23</td>\n",
       "      <td>-0.102886</td>\n",
       "      <td>-0.217039</td>\n",
       "      <td>2</td>\n",
       "      <td>-0.086818</td>\n",
       "    </tr>\n",
       "  </tbody>\n",
       "</table>\n",
       "<p>17 rows × 91 columns</p>\n",
       "</div>"
      ],
      "text/plain": [
       "        authorized_flag  card_id  installments  category_3  \\\n",
       "643378                2     6769      0.295405           2   \n",
       "643379                2     6769      1.999314           3   \n",
       "643380                2     6769      0.295405           2   \n",
       "643381                2     6769      0.295405           2   \n",
       "643382                1     6769      0.295405           2   \n",
       "643383                2     6769      0.295405           2   \n",
       "643384                2     6769      0.295405           2   \n",
       "643385                2     6769      0.295405           2   \n",
       "643386                2     6769     -0.556550           1   \n",
       "643387                2     6769      0.295405           2   \n",
       "643388                2     6769      1.147359           3   \n",
       "643389                2     6769     -0.556550           1   \n",
       "643390                2     6769      1.147359           3   \n",
       "643391                2     6769      0.295405           2   \n",
       "643392                2     6769      0.295405           2   \n",
       "643393                2     6769      1.147359           3   \n",
       "643394                2     6769      0.295405           2   \n",
       "\n",
       "        merchant_category_id  merchant_id  month_lag  purchase_amount  \\\n",
       "643378                   269       164944   1.091061        -0.000064   \n",
       "643379                   321          526   1.091061        -0.002828   \n",
       "643380                   263       183722   1.091061        -0.003234   \n",
       "643381                    86        83008   1.091061        -0.003209   \n",
       "643382                   282        55457   1.091061        -0.003539   \n",
       "643383                   282        55457   1.091061        -0.003539   \n",
       "643384                    28       169141   1.091061        -0.003311   \n",
       "643385                   269       131376   1.091061        -0.001745   \n",
       "643386                     8       115522   1.091061        -0.003281   \n",
       "643387                   160       178958   1.091061        -0.003539   \n",
       "643388                   196       171153   1.091061        -0.003135   \n",
       "643389                   190       184010   1.357698        -0.002427   \n",
       "643390                    28       198513   1.357698        -0.002533   \n",
       "643391                   216        65693   1.357698        -0.003530   \n",
       "643392                   134       101128   1.357698        -0.003227   \n",
       "643393                   190       137752   1.357698        -0.002322   \n",
       "643394                   102       180318   1.624336        -0.002657   \n",
       "\n",
       "        purchase_date  purchase_Year  ...  hist_last_buy  installments_ratio  \\\n",
       "643378       0.767393              1  ...            195            0.026446   \n",
       "643379       0.801695              1  ...            195            0.026446   \n",
       "643380       0.802041              1  ...            195            0.026446   \n",
       "643381       0.807492              1  ...            195            0.026446   \n",
       "643382       0.811787              1  ...            195            0.026446   \n",
       "643383       0.811813              1  ...            195            0.026446   \n",
       "643384       0.833055              1  ...            195            0.026446   \n",
       "643385       0.833306              1  ...            195            0.026446   \n",
       "643386       0.842458              1  ...            195            0.026446   \n",
       "643387       0.848663              1  ...            195            0.026446   \n",
       "643388       0.851916              1  ...            195            0.026446   \n",
       "643389       0.915228              2  ...            195            0.026446   \n",
       "643390       0.916183              2  ...            195            0.026446   \n",
       "643391       1.089687              2  ...            195            0.026446   \n",
       "643392       1.096555              2  ...            195            0.026446   \n",
       "643393       1.114606              2  ...            195            0.026446   \n",
       "643394       1.150165              2  ...            195            0.026446   \n",
       "\n",
       "        month_diff_ratio  new_first_buy  new_last_buy  observed_elapsed_time  \\\n",
       "643378         -0.749105            168           190                     23   \n",
       "643379         -0.749105            168           190                     23   \n",
       "643380         -0.749105            168           190                     23   \n",
       "643381         -0.749105            168           190                     23   \n",
       "643382         -0.749105            168           190                     23   \n",
       "643383         -0.749105            168           190                     23   \n",
       "643384         -0.749105            168           190                     23   \n",
       "643385         -0.749105            168           190                     23   \n",
       "643386         -0.749105            168           190                     23   \n",
       "643387         -0.749105            168           190                     23   \n",
       "643388         -0.749105            168           190                     23   \n",
       "643389         -0.749105            168           190                     23   \n",
       "643390         -0.749105            168           190                     23   \n",
       "643391         -0.749105            168           190                     23   \n",
       "643392         -0.749105            168           190                     23   \n",
       "643393         -0.749105            168           190                     23   \n",
       "643394         -0.749105            168           190                     23   \n",
       "\n",
       "        outliers  purchase_amount_sum_ratio  quarter  installments_na  \n",
       "643378 -0.102886                  -0.217039        2        -0.086818  \n",
       "643379 -0.102886                  -0.217039        2        -0.086818  \n",
       "643380 -0.102886                  -0.217039        2        -0.086818  \n",
       "643381 -0.102886                  -0.217039        2        -0.086818  \n",
       "643382 -0.102886                  -0.217039        2        -0.086818  \n",
       "643383 -0.102886                  -0.217039        2        -0.086818  \n",
       "643384 -0.102886                  -0.217039        2        -0.086818  \n",
       "643385 -0.102886                  -0.217039        2        -0.086818  \n",
       "643386 -0.102886                  -0.217039        2        11.518360  \n",
       "643387 -0.102886                  -0.217039        2        -0.086818  \n",
       "643388 -0.102886                  -0.217039        2        -0.086818  \n",
       "643389 -0.102886                  -0.217039        2        11.518360  \n",
       "643390 -0.102886                  -0.217039        2        -0.086818  \n",
       "643391 -0.102886                  -0.217039        2        -0.086818  \n",
       "643392 -0.102886                  -0.217039        2        -0.086818  \n",
       "643393 -0.102886                  -0.217039        2        -0.086818  \n",
       "643394 -0.102886                  -0.217039        2        -0.086818  \n",
       "\n",
       "[17 rows x 91 columns]"
      ]
     },
     "execution_count": 47,
     "metadata": {},
     "output_type": "execute_result"
    }
   ],
   "source": [
    "df[643378:643395]"
   ]
  },
  {
   "cell_type": "code",
   "execution_count": 48,
   "metadata": {},
   "outputs": [],
   "source": [
    "val_idx2 = list(range(0, 643395))"
   ]
  },
  {
   "cell_type": "code",
   "execution_count": 49,
   "metadata": {},
   "outputs": [
    {
     "data": {
      "text/plain": [
       "643395"
      ]
     },
     "execution_count": 49,
     "metadata": {},
     "output_type": "execute_result"
    }
   ],
   "source": [
    "len(val_idx2)"
   ]
  },
  {
   "cell_type": "code",
   "execution_count": 50,
   "metadata": {},
   "outputs": [
    {
     "data": {
      "text/plain": [
       "1874"
      ]
     },
     "execution_count": 50,
     "metadata": {},
     "output_type": "execute_result"
    }
   ],
   "source": [
    "gc.collect()"
   ]
  },
  {
   "cell_type": "code",
   "execution_count": 54,
   "metadata": {},
   "outputs": [
    {
     "data": {
      "text/plain": [
       "(643395, (3433782, 91), (3433782,))"
      ]
     },
     "execution_count": 54,
     "metadata": {},
     "output_type": "execute_result"
    }
   ],
   "source": [
    "len(val_idx2), df.shape, y.shape"
   ]
  },
  {
   "cell_type": "code",
   "execution_count": 52,
   "metadata": {},
   "outputs": [
    {
     "data": {
      "text/plain": [
       "91"
      ]
     },
     "execution_count": 52,
     "metadata": {},
     "output_type": "execute_result"
    }
   ],
   "source": [
    "len(np.unique(df.columns.values))"
   ]
  },
  {
   "cell_type": "code",
   "execution_count": 75,
   "metadata": {},
   "outputs": [
    {
     "data": {
      "text/plain": [
       "0"
      ]
     },
     "execution_count": 75,
     "metadata": {},
     "output_type": "execute_result"
    }
   ],
   "source": [
    "gc.collect()"
   ]
  },
  {
   "cell_type": "code",
   "execution_count": 73,
   "metadata": {},
   "outputs": [
    {
     "data": {
      "text/plain": [
       "((19249698, 82), (3456857,))"
      ]
     },
     "execution_count": 73,
     "metadata": {},
     "output_type": "execute_result"
    }
   ],
   "source": [
    "df.shape, val_idx.shape"
   ]
  },
  {
   "cell_type": "code",
   "execution_count": 76,
   "metadata": {},
   "outputs": [],
   "source": [
    "md = ColumnarModelData.from_data_frame('./', val_idx, df, y.astype(np.float32), cat_flds=cat_flds, bs=1024, test_df=df[:1000])"
   ]
  },
  {
   "cell_type": "code",
   "execution_count": 77,
   "metadata": {},
   "outputs": [
    {
     "data": {
      "text/plain": [
       "42"
      ]
     },
     "execution_count": 77,
     "metadata": {},
     "output_type": "execute_result"
    }
   ],
   "source": [
    "gc.collect()"
   ]
  },
  {
   "cell_type": "code",
   "execution_count": 78,
   "metadata": {},
   "outputs": [
    {
     "name": "stdout",
     "output_type": "stream",
     "text": [
      "CPU times: user 2.21 s, sys: 492 ms, total: 2.71 s\n",
      "Wall time: 3.15 s\n"
     ]
    }
   ],
   "source": [
    "%%time\n",
    "m = md.get_learner(emb_szs, len(df.columns)-len(cat_flds),\n",
    "                   0.4, 1, [500, 250], [0.1, 0.01], y_range=y_range)"
   ]
  },
  {
   "cell_type": "code",
   "execution_count": 79,
   "metadata": {},
   "outputs": [
    {
     "data": {
      "application/vnd.jupyter.widget-view+json": {
       "model_id": "d7533162e4134ac8adf9989d6653a5e7",
       "version_major": 2,
       "version_minor": 0
      },
      "text/plain": [
       "HBox(children=(IntProgress(value=0, description='Epoch', max=1, style=ProgressStyle(description_width='initial…"
      ]
     },
     "metadata": {},
     "output_type": "display_data"
    },
    {
     "name": "stdout",
     "output_type": "stream",
     "text": [
      " 95%|█████████▌| 14721/15423 [07:45<00:22, 30.56it/s, loss=41.7]"
     ]
    }
   ],
   "source": [
    "m.lr_find()"
   ]
  },
  {
   "cell_type": "code",
   "execution_count": 80,
   "metadata": {},
   "outputs": [
    {
     "data": {
      "image/png": "[encoded data removed]",
      "text/plain": [
       "<Figure size 432x288 with 1 Axes>"
      ]
     },
     "metadata": {
      "needs_background": "light"
     },
     "output_type": "display_data"
    }
   ],
   "source": [
    "m.sched.plot()"
   ]
  },
  {
   "cell_type": "code",
   "execution_count": 81,
   "metadata": {},
   "outputs": [],
   "source": [
    "lr=5e-5; wd=1e-6"
   ]
  },
  {
   "cell_type": "code",
   "execution_count": 82,
   "metadata": {},
   "outputs": [
    {
     "data": {
      "application/vnd.jupyter.widget-view+json": {
       "model_id": "913be3d041d14ebeabe5e1987334960a",
       "version_major": 2,
       "version_minor": 0
      },
      "text/plain": [
       "HBox(children=(IntProgress(value=0, description='Epoch', max=2, style=ProgressStyle(description_width='initial…"
      ]
     },
     "metadata": {},
     "output_type": "display_data"
    },
    {
     "name": "stdout",
     "output_type": "stream",
     "text": [
      "epoch      trn_loss   val_loss   rmse                           \n",
      "    0      13.28498   13.348087  3.4782    \n",
      "    1      12.876462  13.348195  3.477882                       \n",
      "CPU times: user 14min, sys: 3min 10s, total: 17min 10s\n",
      "Wall time: 16min 28s\n"
     ]
    },
    {
     "data": {
      "text/plain": [
       "[array([13.3482]), 3.4778819355627983]"
      ]
     },
     "execution_count": 82,
     "metadata": {},
     "output_type": "execute_result"
    }
   ],
   "source": [
    "%time m.fit(lr, 1, cycle_len=2, cycle_mult=2, metrics=[rmse])"
   ]
  },
  {
   "cell_type": "code",
   "execution_count": 83,
   "metadata": {},
   "outputs": [],
   "source": [
    "l = m.predict()"
   ]
  },
  {
   "cell_type": "code",
   "execution_count": 84,
   "metadata": {},
   "outputs": [
    {
     "data": {
      "text/plain": [
       "(3456857, 1)"
      ]
     },
     "execution_count": 84,
     "metadata": {},
     "output_type": "execute_result"
    }
   ],
   "source": [
    "l.shape"
   ]
  },
  {
   "cell_type": "code",
   "execution_count": 93,
   "metadata": {},
   "outputs": [],
   "source": [
    "df_true_val = df_raw.iloc[val_idx]"
   ]
  },
  {
   "cell_type": "code",
   "execution_count": 94,
   "metadata": {},
   "outputs": [
    {
     "data": {
      "text/plain": [
       "(3456857, 82)"
      ]
     },
     "execution_count": 94,
     "metadata": {},
     "output_type": "execute_result"
    }
   ],
   "source": [
    "df_true_val.shape"
   ]
  },
  {
   "cell_type": "code",
   "execution_count": 95,
   "metadata": {},
   "outputs": [
    {
     "name": "stderr",
     "output_type": "stream",
     "text": [
      "/home/chandrasekhar/anaconda3/envs/fastai/lib/python3.6/site-packages/ipykernel_launcher.py:1: SettingWithCopyWarning: \n",
      "A value is trying to be set on a copy of a slice from a DataFrame.\n",
      "Try using .loc[row_indexer,col_indexer] = value instead\n",
      "\n",
      "See the caveats in the documentation: http://pandas.pydata.org/pandas-docs/stable/indexing.html#indexing-view-versus-copy\n",
      "  \"\"\"Entry point for launching an IPython kernel.\n"
     ]
    }
   ],
   "source": [
    "df_true_val['target_new'] = l"
   ]
  },
  {
   "cell_type": "code",
   "execution_count": 96,
   "metadata": {},
   "outputs": [
    {
     "data": {
      "text/html": [
       "<div>\n",
       "<style scoped>\n",
       "    .dataframe tbody tr th:only-of-type {\n",
       "        vertical-align: middle;\n",
       "    }\n",
       "\n",
       "    .dataframe tbody tr th {\n",
       "        vertical-align: top;\n",
       "    }\n",
       "\n",
       "    .dataframe thead th {\n",
       "        text-align: right;\n",
       "    }\n",
       "</style>\n",
       "<table border=\"1\" class=\"dataframe\">\n",
       "  <thead>\n",
       "    <tr style=\"text-align: right;\">\n",
       "      <th></th>\n",
       "      <th>target</th>\n",
       "      <th>target_new</th>\n",
       "    </tr>\n",
       "  </thead>\n",
       "  <tbody>\n",
       "    <tr>\n",
       "      <th>1</th>\n",
       "      <td>-1.839844</td>\n",
       "      <td>-0.455933</td>\n",
       "    </tr>\n",
       "    <tr>\n",
       "      <th>7</th>\n",
       "      <td>-33.218750</td>\n",
       "      <td>-0.455933</td>\n",
       "    </tr>\n",
       "    <tr>\n",
       "      <th>10</th>\n",
       "      <td>-1.161133</td>\n",
       "      <td>-0.455933</td>\n",
       "    </tr>\n",
       "    <tr>\n",
       "      <th>14</th>\n",
       "      <td>0.290527</td>\n",
       "      <td>-0.455933</td>\n",
       "    </tr>\n",
       "    <tr>\n",
       "      <th>15</th>\n",
       "      <td>1.162109</td>\n",
       "      <td>-0.455933</td>\n",
       "    </tr>\n",
       "  </tbody>\n",
       "</table>\n",
       "</div>"
      ],
      "text/plain": [
       "       target  target_new\n",
       "1   -1.839844   -0.455933\n",
       "7  -33.218750   -0.455933\n",
       "10  -1.161133   -0.455933\n",
       "14   0.290527   -0.455933\n",
       "15   1.162109   -0.455933"
      ]
     },
     "execution_count": 96,
     "metadata": {},
     "output_type": "execute_result"
    }
   ],
   "source": [
    "df_true_val[['target', 'target_new']].head()"
   ]
  },
  {
   "cell_type": "code",
   "execution_count": 100,
   "metadata": {},
   "outputs": [
    {
     "data": {
      "text/plain": [
       "array([[-0.45593],\n",
       "       [-0.45593],\n",
       "       [-0.45593],\n",
       "       ...,\n",
       "       [-0.45593],\n",
       "       [-0.45593],\n",
       "       [-0.45593]], dtype=float32)"
      ]
     },
     "execution_count": 100,
     "metadata": {},
     "output_type": "execute_result"
    }
   ],
   "source": [
    "l"
   ]
  },
  {
   "cell_type": "code",
   "execution_count": 98,
   "metadata": {},
   "outputs": [
    {
     "data": {
      "text/html": [
       "<div>\n",
       "<style scoped>\n",
       "    .dataframe tbody tr th:only-of-type {\n",
       "        vertical-align: middle;\n",
       "    }\n",
       "\n",
       "    .dataframe tbody tr th {\n",
       "        vertical-align: top;\n",
       "    }\n",
       "\n",
       "    .dataframe thead tr th {\n",
       "        text-align: left;\n",
       "    }\n",
       "\n",
       "    .dataframe thead tr:last-of-type th {\n",
       "        text-align: right;\n",
       "    }\n",
       "</style>\n",
       "<table border=\"1\" class=\"dataframe\">\n",
       "  <thead>\n",
       "    <tr>\n",
       "      <th></th>\n",
       "      <th>target</th>\n",
       "      <th>target_new</th>\n",
       "    </tr>\n",
       "    <tr>\n",
       "      <th></th>\n",
       "      <th>mean</th>\n",
       "      <th>mean</th>\n",
       "    </tr>\n",
       "    <tr>\n",
       "      <th>card_id</th>\n",
       "      <th></th>\n",
       "      <th></th>\n",
       "    </tr>\n",
       "  </thead>\n",
       "  <tbody>\n",
       "    <tr>\n",
       "      <th>C_ID_00007093c1</th>\n",
       "      <td>NaN</td>\n",
       "      <td>NaN</td>\n",
       "    </tr>\n",
       "    <tr>\n",
       "      <th>C_ID_0001506ef0</th>\n",
       "      <td>0.884277</td>\n",
       "      <td>-0.455933</td>\n",
       "    </tr>\n",
       "    <tr>\n",
       "      <th>C_ID_000183fdda</th>\n",
       "      <td>NaN</td>\n",
       "      <td>NaN</td>\n",
       "    </tr>\n",
       "    <tr>\n",
       "      <th>C_ID_00027503e2</th>\n",
       "      <td>NaN</td>\n",
       "      <td>NaN</td>\n",
       "    </tr>\n",
       "    <tr>\n",
       "      <th>C_ID_0002c7c2c1</th>\n",
       "      <td>NaN</td>\n",
       "      <td>NaN</td>\n",
       "    </tr>\n",
       "    <tr>\n",
       "      <th>C_ID_0003be3c83</th>\n",
       "      <td>-0.083252</td>\n",
       "      <td>-0.455933</td>\n",
       "    </tr>\n",
       "    <tr>\n",
       "      <th>C_ID_00042d509c</th>\n",
       "      <td>NaN</td>\n",
       "      <td>NaN</td>\n",
       "    </tr>\n",
       "    <tr>\n",
       "      <th>C_ID_0004888ddd</th>\n",
       "      <td>NaN</td>\n",
       "      <td>NaN</td>\n",
       "    </tr>\n",
       "    <tr>\n",
       "      <th>C_ID_0004b68c49</th>\n",
       "      <td>2.070312</td>\n",
       "      <td>-0.455933</td>\n",
       "    </tr>\n",
       "    <tr>\n",
       "      <th>C_ID_0004c2a5ab</th>\n",
       "      <td>NaN</td>\n",
       "      <td>NaN</td>\n",
       "    </tr>\n",
       "    <tr>\n",
       "      <th>C_ID_0005b2f279</th>\n",
       "      <td>2.945312</td>\n",
       "      <td>-0.455933</td>\n",
       "    </tr>\n",
       "    <tr>\n",
       "      <th>C_ID_0005b5804f</th>\n",
       "      <td>NaN</td>\n",
       "      <td>NaN</td>\n",
       "    </tr>\n",
       "    <tr>\n",
       "      <th>C_ID_0005f16cc8</th>\n",
       "      <td>NaN</td>\n",
       "      <td>NaN</td>\n",
       "    </tr>\n",
       "    <tr>\n",
       "      <th>C_ID_0006152db8</th>\n",
       "      <td>-0.211060</td>\n",
       "      <td>-0.455933</td>\n",
       "    </tr>\n",
       "    <tr>\n",
       "      <th>C_ID_000616f4a8</th>\n",
       "      <td>NaN</td>\n",
       "      <td>NaN</td>\n",
       "    </tr>\n",
       "    <tr>\n",
       "      <th>C_ID_000664aa02</th>\n",
       "      <td>NaN</td>\n",
       "      <td>NaN</td>\n",
       "    </tr>\n",
       "    <tr>\n",
       "      <th>C_ID_00079fec55</th>\n",
       "      <td>NaN</td>\n",
       "      <td>NaN</td>\n",
       "    </tr>\n",
       "    <tr>\n",
       "      <th>C_ID_0007a60a33</th>\n",
       "      <td>NaN</td>\n",
       "      <td>NaN</td>\n",
       "    </tr>\n",
       "    <tr>\n",
       "      <th>C_ID_0007fe3157</th>\n",
       "      <td>NaN</td>\n",
       "      <td>NaN</td>\n",
       "    </tr>\n",
       "    <tr>\n",
       "      <th>C_ID_000844d8f1</th>\n",
       "      <td>NaN</td>\n",
       "      <td>NaN</td>\n",
       "    </tr>\n",
       "    <tr>\n",
       "      <th>C_ID_000950bc78</th>\n",
       "      <td>NaN</td>\n",
       "      <td>NaN</td>\n",
       "    </tr>\n",
       "    <tr>\n",
       "      <th>C_ID_00099cb909</th>\n",
       "      <td>NaN</td>\n",
       "      <td>NaN</td>\n",
       "    </tr>\n",
       "    <tr>\n",
       "      <th>C_ID_0009ae74c1</th>\n",
       "      <td>NaN</td>\n",
       "      <td>NaN</td>\n",
       "    </tr>\n",
       "    <tr>\n",
       "      <th>C_ID_0009d25138</th>\n",
       "      <td>NaN</td>\n",
       "      <td>NaN</td>\n",
       "    </tr>\n",
       "    <tr>\n",
       "      <th>C_ID_0009ef1dc2</th>\n",
       "      <td>1.015625</td>\n",
       "      <td>-0.455933</td>\n",
       "    </tr>\n",
       "    <tr>\n",
       "      <th>C_ID_000a6044e9</th>\n",
       "      <td>NaN</td>\n",
       "      <td>NaN</td>\n",
       "    </tr>\n",
       "    <tr>\n",
       "      <th>C_ID_000a9864df</th>\n",
       "      <td>NaN</td>\n",
       "      <td>NaN</td>\n",
       "    </tr>\n",
       "    <tr>\n",
       "      <th>C_ID_000acab1f6</th>\n",
       "      <td>NaN</td>\n",
       "      <td>NaN</td>\n",
       "    </tr>\n",
       "    <tr>\n",
       "      <th>C_ID_000b13135b</th>\n",
       "      <td>NaN</td>\n",
       "      <td>NaN</td>\n",
       "    </tr>\n",
       "    <tr>\n",
       "      <th>C_ID_000b503737</th>\n",
       "      <td>NaN</td>\n",
       "      <td>NaN</td>\n",
       "    </tr>\n",
       "    <tr>\n",
       "      <th>...</th>\n",
       "      <td>...</td>\n",
       "      <td>...</td>\n",
       "    </tr>\n",
       "    <tr>\n",
       "      <th>C_ID_fffa2280c9</th>\n",
       "      <td>NaN</td>\n",
       "      <td>NaN</td>\n",
       "    </tr>\n",
       "    <tr>\n",
       "      <th>C_ID_fffa362304</th>\n",
       "      <td>NaN</td>\n",
       "      <td>NaN</td>\n",
       "    </tr>\n",
       "    <tr>\n",
       "      <th>C_ID_fffa99d1da</th>\n",
       "      <td>-1.495117</td>\n",
       "      <td>-0.455933</td>\n",
       "    </tr>\n",
       "    <tr>\n",
       "      <th>C_ID_fffadd3551</th>\n",
       "      <td>NaN</td>\n",
       "      <td>NaN</td>\n",
       "    </tr>\n",
       "    <tr>\n",
       "      <th>C_ID_fffaed41f0</th>\n",
       "      <td>-0.443604</td>\n",
       "      <td>-0.455933</td>\n",
       "    </tr>\n",
       "    <tr>\n",
       "      <th>C_ID_fffb59b27a</th>\n",
       "      <td>0.000000</td>\n",
       "      <td>-0.455933</td>\n",
       "    </tr>\n",
       "    <tr>\n",
       "      <th>C_ID_fffb67f260</th>\n",
       "      <td>NaN</td>\n",
       "      <td>NaN</td>\n",
       "    </tr>\n",
       "    <tr>\n",
       "      <th>C_ID_fffb79fb56</th>\n",
       "      <td>NaN</td>\n",
       "      <td>NaN</td>\n",
       "    </tr>\n",
       "    <tr>\n",
       "      <th>C_ID_fffb9ea3f6</th>\n",
       "      <td>NaN</td>\n",
       "      <td>NaN</td>\n",
       "    </tr>\n",
       "    <tr>\n",
       "      <th>C_ID_fffba72dc5</th>\n",
       "      <td>0.049530</td>\n",
       "      <td>-0.455933</td>\n",
       "    </tr>\n",
       "    <tr>\n",
       "      <th>C_ID_fffbee5c24</th>\n",
       "      <td>NaN</td>\n",
       "      <td>NaN</td>\n",
       "    </tr>\n",
       "    <tr>\n",
       "      <th>C_ID_fffc96bf24</th>\n",
       "      <td>NaN</td>\n",
       "      <td>NaN</td>\n",
       "    </tr>\n",
       "    <tr>\n",
       "      <th>C_ID_fffcf66e12</th>\n",
       "      <td>0.605469</td>\n",
       "      <td>-0.455933</td>\n",
       "    </tr>\n",
       "    <tr>\n",
       "      <th>C_ID_fffd070e0e</th>\n",
       "      <td>-3.015625</td>\n",
       "      <td>-0.455933</td>\n",
       "    </tr>\n",
       "    <tr>\n",
       "      <th>C_ID_fffd1207a8</th>\n",
       "      <td>NaN</td>\n",
       "      <td>NaN</td>\n",
       "    </tr>\n",
       "    <tr>\n",
       "      <th>C_ID_fffd24dcf3</th>\n",
       "      <td>NaN</td>\n",
       "      <td>NaN</td>\n",
       "    </tr>\n",
       "    <tr>\n",
       "      <th>C_ID_fffd351e7f</th>\n",
       "      <td>NaN</td>\n",
       "      <td>NaN</td>\n",
       "    </tr>\n",
       "    <tr>\n",
       "      <th>C_ID_fffd93c8bf</th>\n",
       "      <td>NaN</td>\n",
       "      <td>NaN</td>\n",
       "    </tr>\n",
       "    <tr>\n",
       "      <th>C_ID_fffdad8aa0</th>\n",
       "      <td>NaN</td>\n",
       "      <td>NaN</td>\n",
       "    </tr>\n",
       "    <tr>\n",
       "      <th>C_ID_fffde15ab6</th>\n",
       "      <td>3.544922</td>\n",
       "      <td>-0.455933</td>\n",
       "    </tr>\n",
       "    <tr>\n",
       "      <th>C_ID_fffdf34798</th>\n",
       "      <td>NaN</td>\n",
       "      <td>NaN</td>\n",
       "    </tr>\n",
       "    <tr>\n",
       "      <th>C_ID_fffe29a04a</th>\n",
       "      <td>NaN</td>\n",
       "      <td>NaN</td>\n",
       "    </tr>\n",
       "    <tr>\n",
       "      <th>C_ID_fffe78b232</th>\n",
       "      <td>NaN</td>\n",
       "      <td>NaN</td>\n",
       "    </tr>\n",
       "    <tr>\n",
       "      <th>C_ID_fffe866457</th>\n",
       "      <td>0.193726</td>\n",
       "      <td>-0.455933</td>\n",
       "    </tr>\n",
       "    <tr>\n",
       "      <th>C_ID_fffea6de74</th>\n",
       "      <td>NaN</td>\n",
       "      <td>NaN</td>\n",
       "    </tr>\n",
       "    <tr>\n",
       "      <th>C_ID_fffeced303</th>\n",
       "      <td>NaN</td>\n",
       "      <td>NaN</td>\n",
       "    </tr>\n",
       "    <tr>\n",
       "      <th>C_ID_fffeed3a89</th>\n",
       "      <td>NaN</td>\n",
       "      <td>NaN</td>\n",
       "    </tr>\n",
       "    <tr>\n",
       "      <th>C_ID_ffff579d3a</th>\n",
       "      <td>NaN</td>\n",
       "      <td>NaN</td>\n",
       "    </tr>\n",
       "    <tr>\n",
       "      <th>C_ID_ffff828181</th>\n",
       "      <td>NaN</td>\n",
       "      <td>NaN</td>\n",
       "    </tr>\n",
       "    <tr>\n",
       "      <th>C_ID_fffffd5772</th>\n",
       "      <td>NaN</td>\n",
       "      <td>NaN</td>\n",
       "    </tr>\n",
       "  </tbody>\n",
       "</table>\n",
       "<p>201917 rows × 2 columns</p>\n",
       "</div>"
      ],
      "text/plain": [
       "                   target target_new\n",
       "                     mean       mean\n",
       "card_id                             \n",
       "C_ID_00007093c1       NaN        NaN\n",
       "C_ID_0001506ef0  0.884277  -0.455933\n",
       "C_ID_000183fdda       NaN        NaN\n",
       "C_ID_00027503e2       NaN        NaN\n",
       "C_ID_0002c7c2c1       NaN        NaN\n",
       "C_ID_0003be3c83 -0.083252  -0.455933\n",
       "C_ID_00042d509c       NaN        NaN\n",
       "C_ID_0004888ddd       NaN        NaN\n",
       "C_ID_0004b68c49  2.070312  -0.455933\n",
       "C_ID_0004c2a5ab       NaN        NaN\n",
       "C_ID_0005b2f279  2.945312  -0.455933\n",
       "C_ID_0005b5804f       NaN        NaN\n",
       "C_ID_0005f16cc8       NaN        NaN\n",
       "C_ID_0006152db8 -0.211060  -0.455933\n",
       "C_ID_000616f4a8       NaN        NaN\n",
       "C_ID_000664aa02       NaN        NaN\n",
       "C_ID_00079fec55       NaN        NaN\n",
       "C_ID_0007a60a33       NaN        NaN\n",
       "C_ID_0007fe3157       NaN        NaN\n",
       "C_ID_000844d8f1       NaN        NaN\n",
       "C_ID_000950bc78       NaN        NaN\n",
       "C_ID_00099cb909       NaN        NaN\n",
       "C_ID_0009ae74c1       NaN        NaN\n",
       "C_ID_0009d25138       NaN        NaN\n",
       "C_ID_0009ef1dc2  1.015625  -0.455933\n",
       "C_ID_000a6044e9       NaN        NaN\n",
       "C_ID_000a9864df       NaN        NaN\n",
       "C_ID_000acab1f6       NaN        NaN\n",
       "C_ID_000b13135b       NaN        NaN\n",
       "C_ID_000b503737       NaN        NaN\n",
       "...                   ...        ...\n",
       "C_ID_fffa2280c9       NaN        NaN\n",
       "C_ID_fffa362304       NaN        NaN\n",
       "C_ID_fffa99d1da -1.495117  -0.455933\n",
       "C_ID_fffadd3551       NaN        NaN\n",
       "C_ID_fffaed41f0 -0.443604  -0.455933\n",
       "C_ID_fffb59b27a  0.000000  -0.455933\n",
       "C_ID_fffb67f260       NaN        NaN\n",
       "C_ID_fffb79fb56       NaN        NaN\n",
       "C_ID_fffb9ea3f6       NaN        NaN\n",
       "C_ID_fffba72dc5  0.049530  -0.455933\n",
       "C_ID_fffbee5c24       NaN        NaN\n",
       "C_ID_fffc96bf24       NaN        NaN\n",
       "C_ID_fffcf66e12  0.605469  -0.455933\n",
       "C_ID_fffd070e0e -3.015625  -0.455933\n",
       "C_ID_fffd1207a8       NaN        NaN\n",
       "C_ID_fffd24dcf3       NaN        NaN\n",
       "C_ID_fffd351e7f       NaN        NaN\n",
       "C_ID_fffd93c8bf       NaN        NaN\n",
       "C_ID_fffdad8aa0       NaN        NaN\n",
       "C_ID_fffde15ab6  3.544922  -0.455933\n",
       "C_ID_fffdf34798       NaN        NaN\n",
       "C_ID_fffe29a04a       NaN        NaN\n",
       "C_ID_fffe78b232       NaN        NaN\n",
       "C_ID_fffe866457  0.193726  -0.455933\n",
       "C_ID_fffea6de74       NaN        NaN\n",
       "C_ID_fffeced303       NaN        NaN\n",
       "C_ID_fffeed3a89       NaN        NaN\n",
       "C_ID_ffff579d3a       NaN        NaN\n",
       "C_ID_ffff828181       NaN        NaN\n",
       "C_ID_fffffd5772       NaN        NaN\n",
       "\n",
       "[201917 rows x 2 columns]"
      ]
     },
     "execution_count": 98,
     "metadata": {},
     "output_type": "execute_result"
    }
   ],
   "source": [
    "df_true_val.groupby(['card_id']).agg({'target': ['mean'], 'target_new': ['mean']})"
   ]
  },
  {
   "cell_type": "code",
   "execution_count": null,
   "metadata": {},
   "outputs": [],
   "source": []
  },
  {
   "cell_type": "code",
   "execution_count": null,
   "metadata": {},
   "outputs": [],
   "source": []
  },
  {
   "cell_type": "code",
   "execution_count": 97,
   "metadata": {},
   "outputs": [
    {
     "data": {
      "text/plain": [
       "3456857"
      ]
     },
     "execution_count": 97,
     "metadata": {},
     "output_type": "execute_result"
    }
   ],
   "source": [
    "len(val_idx)"
   ]
  },
  {
   "cell_type": "code",
   "execution_count": 66,
   "metadata": {},
   "outputs": [],
   "source": [
    "l_t = m.predict(is_test=True)"
   ]
  },
  {
   "cell_type": "code",
   "execution_count": 72,
   "metadata": {},
   "outputs": [
    {
     "data": {
      "text/plain": [
       "((3433782, 1), (643395, 1), (3433782, 91))"
      ]
     },
     "execution_count": 72,
     "metadata": {},
     "output_type": "execute_result"
    }
   ],
   "source": [
    "l_t.shape, l.shape, df_valid.shape"
   ]
  },
  {
   "cell_type": "code",
   "execution_count": 75,
   "metadata": {},
   "outputs": [
    {
     "name": "stderr",
     "output_type": "stream",
     "text": [
      "/home/chandrasekhar/anaconda3/envs/fastai/lib/python3.6/site-packages/ipykernel_launcher.py:1: SettingWithCopyWarning: \n",
      "A value is trying to be set on a copy of a slice from a DataFrame.\n",
      "Try using .loc[row_indexer,col_indexer] = value instead\n",
      "\n",
      "See the caveats in the documentation: http://pandas.pydata.org/pandas-docs/stable/indexing.html#indexing-view-versus-copy\n",
      "  \"\"\"Entry point for launching an IPython kernel.\n"
     ]
    }
   ],
   "source": [
    "df_valid['target_new'] = l_t"
   ]
  },
  {
   "cell_type": "code",
   "execution_count": 77,
   "metadata": {},
   "outputs": [
    {
     "data": {
      "text/html": [
       "<div>\n",
       "<style scoped>\n",
       "    .dataframe tbody tr th:only-of-type {\n",
       "        vertical-align: middle;\n",
       "    }\n",
       "\n",
       "    .dataframe tbody tr th {\n",
       "        vertical-align: top;\n",
       "    }\n",
       "\n",
       "    .dataframe thead th {\n",
       "        text-align: right;\n",
       "    }\n",
       "</style>\n",
       "<table border=\"1\" class=\"dataframe\">\n",
       "  <thead>\n",
       "    <tr style=\"text-align: right;\">\n",
       "      <th></th>\n",
       "      <th>card_id</th>\n",
       "      <th>target</th>\n",
       "      <th>target_new</th>\n",
       "    </tr>\n",
       "  </thead>\n",
       "  <tbody>\n",
       "    <tr>\n",
       "      <th>1</th>\n",
       "      <td>C_ID_efced389a0</td>\n",
       "      <td>-1.840332</td>\n",
       "      <td>0.658630</td>\n",
       "    </tr>\n",
       "    <tr>\n",
       "      <th>5</th>\n",
       "      <td>C_ID_ecf77791d8</td>\n",
       "      <td>-1.065921</td>\n",
       "      <td>1.004230</td>\n",
       "    </tr>\n",
       "    <tr>\n",
       "      <th>6</th>\n",
       "      <td>C_ID_a24df943dd</td>\n",
       "      <td>3.130923</td>\n",
       "      <td>0.989231</td>\n",
       "    </tr>\n",
       "    <tr>\n",
       "      <th>15</th>\n",
       "      <td>C_ID_ce778b86f8</td>\n",
       "      <td>1.162205</td>\n",
       "      <td>0.969341</td>\n",
       "    </tr>\n",
       "    <tr>\n",
       "      <th>18</th>\n",
       "      <td>C_ID_7ba7751d53</td>\n",
       "      <td>0.679358</td>\n",
       "      <td>0.706181</td>\n",
       "    </tr>\n",
       "  </tbody>\n",
       "</table>\n",
       "</div>"
      ],
      "text/plain": [
       "            card_id    target  target_new\n",
       "1   C_ID_efced389a0 -1.840332    0.658630\n",
       "5   C_ID_ecf77791d8 -1.065921    1.004230\n",
       "6   C_ID_a24df943dd  3.130923    0.989231\n",
       "15  C_ID_ce778b86f8  1.162205    0.969341\n",
       "18  C_ID_7ba7751d53  0.679358    0.706181"
      ]
     },
     "execution_count": 77,
     "metadata": {},
     "output_type": "execute_result"
    }
   ],
   "source": [
    "df_valid[['card_id', 'target', 'target_new']].head()"
   ]
  },
  {
   "cell_type": "code",
   "execution_count": 96,
   "metadata": {},
   "outputs": [],
   "source": [
    "df_haa = df_valid.groupby('card_id').agg({'target': ['median'], 'target_new': ['median']})"
   ]
  },
  {
   "cell_type": "code",
   "execution_count": 97,
   "metadata": {},
   "outputs": [],
   "source": [
    "df_haa.columns = ['_'.join(c) for c in df_haa.columns.values]"
   ]
  },
  {
   "cell_type": "code",
   "execution_count": 98,
   "metadata": {},
   "outputs": [
    {
     "data": {
      "text/plain": [
       "28"
      ]
     },
     "execution_count": 98,
     "metadata": {},
     "output_type": "execute_result"
    }
   ],
   "source": [
    "gc.collect()"
   ]
  },
  {
   "cell_type": "code",
   "execution_count": 99,
   "metadata": {},
   "outputs": [
    {
     "data": {
      "text/plain": [
       "3.9617159691277544"
      ]
     },
     "execution_count": 99,
     "metadata": {},
     "output_type": "execute_result"
    }
   ],
   "source": [
    "rmse(df_haa.target_median.values, df_haa.target_new_median.values)"
   ]
  },
  {
   "cell_type": "code",
   "execution_count": 100,
   "metadata": {},
   "outputs": [
    {
     "data": {
      "text/html": [
       "<div>\n",
       "<style scoped>\n",
       "    .dataframe tbody tr th:only-of-type {\n",
       "        vertical-align: middle;\n",
       "    }\n",
       "\n",
       "    .dataframe tbody tr th {\n",
       "        vertical-align: top;\n",
       "    }\n",
       "\n",
       "    .dataframe thead th {\n",
       "        text-align: right;\n",
       "    }\n",
       "</style>\n",
       "<table border=\"1\" class=\"dataframe\">\n",
       "  <thead>\n",
       "    <tr style=\"text-align: right;\">\n",
       "      <th></th>\n",
       "      <th>target_median</th>\n",
       "      <th>target_new_median</th>\n",
       "    </tr>\n",
       "    <tr>\n",
       "      <th>card_id</th>\n",
       "      <th></th>\n",
       "      <th></th>\n",
       "    </tr>\n",
       "  </thead>\n",
       "  <tbody>\n",
       "    <tr>\n",
       "      <th>C_ID_0005b2f279</th>\n",
       "      <td>2.945304</td>\n",
       "      <td>-1.311934</td>\n",
       "    </tr>\n",
       "    <tr>\n",
       "      <th>C_ID_0005b5804f</th>\n",
       "      <td>0.685599</td>\n",
       "      <td>-1.000813</td>\n",
       "    </tr>\n",
       "    <tr>\n",
       "      <th>C_ID_0007a60a33</th>\n",
       "      <td>-1.614517</td>\n",
       "      <td>-1.164612</td>\n",
       "    </tr>\n",
       "    <tr>\n",
       "      <th>C_ID_000844d8f1</th>\n",
       "      <td>-0.868258</td>\n",
       "      <td>-1.182117</td>\n",
       "    </tr>\n",
       "    <tr>\n",
       "      <th>C_ID_000a6044e9</th>\n",
       "      <td>-3.774958</td>\n",
       "      <td>-1.102848</td>\n",
       "    </tr>\n",
       "  </tbody>\n",
       "</table>\n",
       "</div>"
      ],
      "text/plain": [
       "                 target_median  target_new_median\n",
       "card_id                                          \n",
       "C_ID_0005b2f279       2.945304          -1.311934\n",
       "C_ID_0005b5804f       0.685599          -1.000813\n",
       "C_ID_0007a60a33      -1.614517          -1.164612\n",
       "C_ID_000844d8f1      -0.868258          -1.182117\n",
       "C_ID_000a6044e9      -3.774958          -1.102848"
      ]
     },
     "execution_count": 100,
     "metadata": {},
     "output_type": "execute_result"
    }
   ],
   "source": [
    "df_haa.head()"
   ]
  },
  {
   "cell_type": "code",
   "execution_count": 101,
   "metadata": {},
   "outputs": [],
   "source": [
    "df_vla = df_sorted[:643395]"
   ]
  },
  {
   "cell_type": "code",
   "execution_count": 102,
   "metadata": {},
   "outputs": [
    {
     "data": {
      "text/plain": [
       "((643395, 91), (643395, 1))"
      ]
     },
     "execution_count": 102,
     "metadata": {},
     "output_type": "execute_result"
    }
   ],
   "source": [
    "df_vla.shape, l.shape"
   ]
  },
  {
   "cell_type": "code",
   "execution_count": 103,
   "metadata": {},
   "outputs": [
    {
     "name": "stderr",
     "output_type": "stream",
     "text": [
      "/home/chandrasekhar/anaconda3/envs/fastai/lib/python3.6/site-packages/ipykernel_launcher.py:1: SettingWithCopyWarning: \n",
      "A value is trying to be set on a copy of a slice from a DataFrame.\n",
      "Try using .loc[row_indexer,col_indexer] = value instead\n",
      "\n",
      "See the caveats in the documentation: http://pandas.pydata.org/pandas-docs/stable/indexing.html#indexing-view-versus-copy\n",
      "  \"\"\"Entry point for launching an IPython kernel.\n"
     ]
    }
   ],
   "source": [
    "df_vla['target_pred'] = l"
   ]
  },
  {
   "cell_type": "code",
   "execution_count": 104,
   "metadata": {},
   "outputs": [
    {
     "data": {
      "text/html": [
       "<div>\n",
       "<style scoped>\n",
       "    .dataframe tbody tr th:only-of-type {\n",
       "        vertical-align: middle;\n",
       "    }\n",
       "\n",
       "    .dataframe tbody tr th {\n",
       "        vertical-align: top;\n",
       "    }\n",
       "\n",
       "    .dataframe thead th {\n",
       "        text-align: right;\n",
       "    }\n",
       "</style>\n",
       "<table border=\"1\" class=\"dataframe\">\n",
       "  <thead>\n",
       "    <tr style=\"text-align: right;\">\n",
       "      <th></th>\n",
       "      <th>authorized_flag</th>\n",
       "      <th>card_id</th>\n",
       "      <th>installments</th>\n",
       "      <th>category_3</th>\n",
       "      <th>merchant_category_id</th>\n",
       "      <th>merchant_id</th>\n",
       "      <th>month_lag</th>\n",
       "      <th>purchase_amount</th>\n",
       "      <th>purchase_date</th>\n",
       "      <th>purchase_Year</th>\n",
       "      <th>...</th>\n",
       "      <th>installments_ratio</th>\n",
       "      <th>month_diff_ratio</th>\n",
       "      <th>new_first_buy</th>\n",
       "      <th>new_last_buy</th>\n",
       "      <th>observed_elapsed_time</th>\n",
       "      <th>outliers</th>\n",
       "      <th>purchase_amount_sum_ratio</th>\n",
       "      <th>quarter</th>\n",
       "      <th>target</th>\n",
       "      <th>target_pred</th>\n",
       "    </tr>\n",
       "  </thead>\n",
       "  <tbody>\n",
       "    <tr>\n",
       "      <th>0</th>\n",
       "      <td>1</td>\n",
       "      <td>C_ID_0005b2f279</td>\n",
       "      <td>1.0</td>\n",
       "      <td>1</td>\n",
       "      <td>818</td>\n",
       "      <td>M_ID_431d369269</td>\n",
       "      <td>-11</td>\n",
       "      <td>106.0</td>\n",
       "      <td>1.485686e+09</td>\n",
       "      <td>2017</td>\n",
       "      <td>...</td>\n",
       "      <td>0.040816</td>\n",
       "      <td>1.001172</td>\n",
       "      <td>NaN</td>\n",
       "      <td>NaN</td>\n",
       "      <td>NaN</td>\n",
       "      <td>0</td>\n",
       "      <td>0.071279</td>\n",
       "      <td>2.0</td>\n",
       "      <td>2.945304</td>\n",
       "      <td>0.658630</td>\n",
       "    </tr>\n",
       "    <tr>\n",
       "      <th>1</th>\n",
       "      <td>1</td>\n",
       "      <td>C_ID_0005b2f279</td>\n",
       "      <td>1.0</td>\n",
       "      <td>1</td>\n",
       "      <td>278</td>\n",
       "      <td>M_ID_f064c2a380</td>\n",
       "      <td>-11</td>\n",
       "      <td>62.9</td>\n",
       "      <td>1.485695e+09</td>\n",
       "      <td>2017</td>\n",
       "      <td>...</td>\n",
       "      <td>0.040816</td>\n",
       "      <td>1.001172</td>\n",
       "      <td>NaN</td>\n",
       "      <td>NaN</td>\n",
       "      <td>NaN</td>\n",
       "      <td>0</td>\n",
       "      <td>0.071279</td>\n",
       "      <td>2.0</td>\n",
       "      <td>2.945304</td>\n",
       "      <td>1.004230</td>\n",
       "    </tr>\n",
       "    <tr>\n",
       "      <th>2</th>\n",
       "      <td>1</td>\n",
       "      <td>C_ID_0005b2f279</td>\n",
       "      <td>1.0</td>\n",
       "      <td>1</td>\n",
       "      <td>307</td>\n",
       "      <td>M_ID_256a900ace</td>\n",
       "      <td>-10</td>\n",
       "      <td>100.0</td>\n",
       "      <td>1.486204e+09</td>\n",
       "      <td>2017</td>\n",
       "      <td>...</td>\n",
       "      <td>0.040816</td>\n",
       "      <td>1.001172</td>\n",
       "      <td>NaN</td>\n",
       "      <td>NaN</td>\n",
       "      <td>NaN</td>\n",
       "      <td>0</td>\n",
       "      <td>0.071279</td>\n",
       "      <td>2.0</td>\n",
       "      <td>2.945304</td>\n",
       "      <td>0.989231</td>\n",
       "    </tr>\n",
       "    <tr>\n",
       "      <th>3</th>\n",
       "      <td>1</td>\n",
       "      <td>C_ID_0005b2f279</td>\n",
       "      <td>1.0</td>\n",
       "      <td>1</td>\n",
       "      <td>842</td>\n",
       "      <td>M_ID_30be6cf889</td>\n",
       "      <td>-7</td>\n",
       "      <td>38.0</td>\n",
       "      <td>1.494040e+09</td>\n",
       "      <td>2017</td>\n",
       "      <td>...</td>\n",
       "      <td>0.040816</td>\n",
       "      <td>1.001172</td>\n",
       "      <td>NaN</td>\n",
       "      <td>NaN</td>\n",
       "      <td>NaN</td>\n",
       "      <td>0</td>\n",
       "      <td>0.071279</td>\n",
       "      <td>2.0</td>\n",
       "      <td>2.945304</td>\n",
       "      <td>0.969341</td>\n",
       "    </tr>\n",
       "    <tr>\n",
       "      <th>4</th>\n",
       "      <td>1</td>\n",
       "      <td>C_ID_0005b2f279</td>\n",
       "      <td>1.0</td>\n",
       "      <td>1</td>\n",
       "      <td>278</td>\n",
       "      <td>M_ID_8c0ebe57c6</td>\n",
       "      <td>-7</td>\n",
       "      <td>30.0</td>\n",
       "      <td>1.495985e+09</td>\n",
       "      <td>2017</td>\n",
       "      <td>...</td>\n",
       "      <td>0.040816</td>\n",
       "      <td>1.001172</td>\n",
       "      <td>NaN</td>\n",
       "      <td>NaN</td>\n",
       "      <td>NaN</td>\n",
       "      <td>0</td>\n",
       "      <td>0.071279</td>\n",
       "      <td>2.0</td>\n",
       "      <td>2.945304</td>\n",
       "      <td>0.706181</td>\n",
       "    </tr>\n",
       "  </tbody>\n",
       "</table>\n",
       "<p>5 rows × 92 columns</p>\n",
       "</div>"
      ],
      "text/plain": [
       "  authorized_flag          card_id  installments category_3  \\\n",
       "0               1  C_ID_0005b2f279           1.0          1   \n",
       "1               1  C_ID_0005b2f279           1.0          1   \n",
       "2               1  C_ID_0005b2f279           1.0          1   \n",
       "3               1  C_ID_0005b2f279           1.0          1   \n",
       "4               1  C_ID_0005b2f279           1.0          1   \n",
       "\n",
       "  merchant_category_id      merchant_id  month_lag  purchase_amount  \\\n",
       "0                  818  M_ID_431d369269        -11            106.0   \n",
       "1                  278  M_ID_f064c2a380        -11             62.9   \n",
       "2                  307  M_ID_256a900ace        -10            100.0   \n",
       "3                  842  M_ID_30be6cf889         -7             38.0   \n",
       "4                  278  M_ID_8c0ebe57c6         -7             30.0   \n",
       "\n",
       "   purchase_date purchase_Year  ... installments_ratio month_diff_ratio  \\\n",
       "0   1.485686e+09          2017  ...           0.040816         1.001172   \n",
       "1   1.485695e+09          2017  ...           0.040816         1.001172   \n",
       "2   1.486204e+09          2017  ...           0.040816         1.001172   \n",
       "3   1.494040e+09          2017  ...           0.040816         1.001172   \n",
       "4   1.495985e+09          2017  ...           0.040816         1.001172   \n",
       "\n",
       "  new_first_buy new_last_buy observed_elapsed_time outliers  \\\n",
       "0           NaN          NaN                   NaN        0   \n",
       "1           NaN          NaN                   NaN        0   \n",
       "2           NaN          NaN                   NaN        0   \n",
       "3           NaN          NaN                   NaN        0   \n",
       "4           NaN          NaN                   NaN        0   \n",
       "\n",
       "  purchase_amount_sum_ratio quarter    target target_pred  \n",
       "0                  0.071279     2.0  2.945304    0.658630  \n",
       "1                  0.071279     2.0  2.945304    1.004230  \n",
       "2                  0.071279     2.0  2.945304    0.989231  \n",
       "3                  0.071279     2.0  2.945304    0.969341  \n",
       "4                  0.071279     2.0  2.945304    0.706181  \n",
       "\n",
       "[5 rows x 92 columns]"
      ]
     },
     "execution_count": 104,
     "metadata": {},
     "output_type": "execute_result"
    }
   ],
   "source": [
    "df_vla.head()"
   ]
  },
  {
   "cell_type": "code",
   "execution_count": 120,
   "metadata": {},
   "outputs": [],
   "source": [
    "df_lol = df_vla.groupby('card_id').agg({'target': ['mean'], 'target_pred': ['mean']})"
   ]
  },
  {
   "cell_type": "code",
   "execution_count": 121,
   "metadata": {},
   "outputs": [],
   "source": [
    "df_lol.columns = ['_'.join(c) for c in df_lol.columns.values]"
   ]
  },
  {
   "cell_type": "code",
   "execution_count": 122,
   "metadata": {},
   "outputs": [
    {
     "data": {
      "text/plain": [
       "nan"
      ]
     },
     "execution_count": 122,
     "metadata": {},
     "output_type": "execute_result"
    }
   ],
   "source": [
    "rmse(df_lol.target_mean.values, df_lol.target_pred_mean.values)"
   ]
  },
  {
   "cell_type": "code",
   "execution_count": 125,
   "metadata": {},
   "outputs": [
    {
     "data": {
      "text/html": [
       "<div>\n",
       "<style scoped>\n",
       "    .dataframe tbody tr th:only-of-type {\n",
       "        vertical-align: middle;\n",
       "    }\n",
       "\n",
       "    .dataframe tbody tr th {\n",
       "        vertical-align: top;\n",
       "    }\n",
       "\n",
       "    .dataframe thead th {\n",
       "        text-align: right;\n",
       "    }\n",
       "</style>\n",
       "<table border=\"1\" class=\"dataframe\">\n",
       "  <thead>\n",
       "    <tr style=\"text-align: right;\">\n",
       "      <th></th>\n",
       "      <th>target_mean</th>\n",
       "      <th>target_pred_mean</th>\n",
       "    </tr>\n",
       "    <tr>\n",
       "      <th>card_id</th>\n",
       "      <th></th>\n",
       "      <th></th>\n",
       "    </tr>\n",
       "  </thead>\n",
       "  <tbody>\n",
       "    <tr>\n",
       "      <th>C_ID_fffaed41f0</th>\n",
       "      <td>NaN</td>\n",
       "      <td>NaN</td>\n",
       "    </tr>\n",
       "    <tr>\n",
       "      <th>C_ID_fffb67f260</th>\n",
       "      <td>NaN</td>\n",
       "      <td>NaN</td>\n",
       "    </tr>\n",
       "    <tr>\n",
       "      <th>C_ID_fffd070e0e</th>\n",
       "      <td>NaN</td>\n",
       "      <td>NaN</td>\n",
       "    </tr>\n",
       "    <tr>\n",
       "      <th>C_ID_fffd24dcf3</th>\n",
       "      <td>NaN</td>\n",
       "      <td>NaN</td>\n",
       "    </tr>\n",
       "    <tr>\n",
       "      <th>C_ID_fffd93c8bf</th>\n",
       "      <td>NaN</td>\n",
       "      <td>NaN</td>\n",
       "    </tr>\n",
       "  </tbody>\n",
       "</table>\n",
       "</div>"
      ],
      "text/plain": [
       "                 target_mean  target_pred_mean\n",
       "card_id                                       \n",
       "C_ID_fffaed41f0          NaN               NaN\n",
       "C_ID_fffb67f260          NaN               NaN\n",
       "C_ID_fffd070e0e          NaN               NaN\n",
       "C_ID_fffd24dcf3          NaN               NaN\n",
       "C_ID_fffd93c8bf          NaN               NaN"
      ]
     },
     "execution_count": 125,
     "metadata": {},
     "output_type": "execute_result"
    }
   ],
   "source": [
    "df_lol.tail()"
   ]
  },
  {
   "cell_type": "code",
   "execution_count": 138,
   "metadata": {},
   "outputs": [
    {
     "data": {
      "text/html": [
       "<div>\n",
       "<style scoped>\n",
       "    .dataframe tbody tr th:only-of-type {\n",
       "        vertical-align: middle;\n",
       "    }\n",
       "\n",
       "    .dataframe tbody tr th {\n",
       "        vertical-align: top;\n",
       "    }\n",
       "\n",
       "    .dataframe thead th {\n",
       "        text-align: right;\n",
       "    }\n",
       "</style>\n",
       "<table border=\"1\" class=\"dataframe\">\n",
       "  <thead>\n",
       "    <tr style=\"text-align: right;\">\n",
       "      <th></th>\n",
       "      <th>authorized_flag</th>\n",
       "      <th>card_id</th>\n",
       "      <th>installments</th>\n",
       "      <th>category_3</th>\n",
       "      <th>merchant_category_id</th>\n",
       "      <th>merchant_id</th>\n",
       "      <th>month_lag</th>\n",
       "      <th>purchase_amount</th>\n",
       "      <th>purchase_date</th>\n",
       "      <th>purchase_Year</th>\n",
       "      <th>...</th>\n",
       "      <th>installments_ratio</th>\n",
       "      <th>month_diff_ratio</th>\n",
       "      <th>new_first_buy</th>\n",
       "      <th>new_last_buy</th>\n",
       "      <th>observed_elapsed_time</th>\n",
       "      <th>outliers</th>\n",
       "      <th>purchase_amount_sum_ratio</th>\n",
       "      <th>quarter</th>\n",
       "      <th>target</th>\n",
       "      <th>target_pred</th>\n",
       "    </tr>\n",
       "  </thead>\n",
       "  <tbody>\n",
       "  </tbody>\n",
       "</table>\n",
       "<p>0 rows × 92 columns</p>\n",
       "</div>"
      ],
      "text/plain": [
       "Empty DataFrame\n",
       "Columns: [authorized_flag, card_id, installments, category_3, merchant_category_id, merchant_id, month_lag, purchase_amount, purchase_date, purchase_Year, purchase_Month, purchase_Week, purchase_Day, purchase_Dayofweek, purchase_Dayofyear, purchase_Is_month_end, purchase_Is_month_start, purchase_Is_quarter_end, purchase_Is_quarter_start, purchase_Is_year_end, purchase_Is_year_start, purchase_Hour, purchase_Minute, purchase_Second, purchase_Elapsed, purchased_on_weekend, purchased_on_weekday, month_diff, purchase_date_successive_diff, Christmas_Day_2017, Mothers_Day_2017, fathers_day_2017, Children_day_2017, Valentine_Day_2017, Black_Friday_2017, Mothers_Day_2018, duration, amount_month_ratio, merchant_address_id, numerical_range, merchant_rating, merchant_group_id, merchant_category_id_y, subsector_id, numerical_1, numerical_2, category_1, most_recent_sales_range, most_recent_purchases_range, avg_sales_lag3, avg_purchases_lag3, active_months_lag3, avg_sales_lag6, avg_purchases_lag6, active_months_lag6, avg_sales_lag12, avg_purchases_lag12, active_months_lag12, category_4, city_id, state_id, category_2, CLV, CLV_old, CLV_ratio, card_id_count_ratio, days_feature1, days_feature1_ratio, days_feature2, days_feature2_ratio, days_feature3, days_feature3_ratio, feature_1, feature_2, feature_3, feature_max, feature_mean, feature_min, feature_sum, feature_var, hist_first_buy, hist_last_buy, installments_ratio, month_diff_ratio, new_first_buy, new_last_buy, observed_elapsed_time, outliers, purchase_amount_sum_ratio, quarter, target, target_pred]\n",
       "Index: []\n",
       "\n",
       "[0 rows x 92 columns]"
      ]
     },
     "execution_count": 138,
     "metadata": {},
     "output_type": "execute_result"
    }
   ],
   "source": [
    "df_vla[df_vla['card_id']=='C_ID_fffd93c8bf']"
   ]
  },
  {
   "cell_type": "code",
   "execution_count": 131,
   "metadata": {},
   "outputs": [
    {
     "data": {
      "text/plain": [
       "array([ 2.9453 ,  0.6856 , -1.61452, ...,      nan,      nan,      nan])"
      ]
     },
     "execution_count": 131,
     "metadata": {},
     "output_type": "execute_result"
    }
   ],
   "source": [
    "df_lol.target_mean.values"
   ]
  },
  {
   "cell_type": "code",
   "execution_count": 137,
   "metadata": {},
   "outputs": [
    {
     "data": {
      "text/plain": [
       "0.8951409180500303"
      ]
     },
     "execution_count": 137,
     "metadata": {},
     "output_type": "execute_result"
    }
   ],
   "source": [
    "rmse(df_lol.target_mean.values, df_lol.target_pred_mean.values)"
   ]
  },
  {
   "cell_type": "code",
   "execution_count": 135,
   "metadata": {},
   "outputs": [],
   "source": [
    "df_lol.fillna(0, inplace=True)"
   ]
  },
  {
   "cell_type": "code",
   "execution_count": 139,
   "metadata": {},
   "outputs": [
    {
     "data": {
      "text/plain": [
       "0.0"
      ]
     },
     "execution_count": 139,
     "metadata": {},
     "output_type": "execute_result"
    }
   ],
   "source": [
    "df_vla['target'].isnull().mean()"
   ]
  },
  {
   "cell_type": "code",
   "execution_count": 140,
   "metadata": {},
   "outputs": [
    {
     "data": {
      "text/html": [
       "<div>\n",
       "<style scoped>\n",
       "    .dataframe tbody tr th:only-of-type {\n",
       "        vertical-align: middle;\n",
       "    }\n",
       "\n",
       "    .dataframe tbody tr th {\n",
       "        vertical-align: top;\n",
       "    }\n",
       "\n",
       "    .dataframe thead th {\n",
       "        text-align: right;\n",
       "    }\n",
       "</style>\n",
       "<table border=\"1\" class=\"dataframe\">\n",
       "  <thead>\n",
       "    <tr style=\"text-align: right;\">\n",
       "      <th></th>\n",
       "      <th>authorized_flag</th>\n",
       "      <th>card_id</th>\n",
       "      <th>installments</th>\n",
       "      <th>category_3</th>\n",
       "      <th>merchant_category_id</th>\n",
       "      <th>merchant_id</th>\n",
       "      <th>month_lag</th>\n",
       "      <th>purchase_amount</th>\n",
       "      <th>purchase_date</th>\n",
       "      <th>purchase_Year</th>\n",
       "      <th>...</th>\n",
       "      <th>installments_ratio</th>\n",
       "      <th>month_diff_ratio</th>\n",
       "      <th>new_first_buy</th>\n",
       "      <th>new_last_buy</th>\n",
       "      <th>observed_elapsed_time</th>\n",
       "      <th>outliers</th>\n",
       "      <th>purchase_amount_sum_ratio</th>\n",
       "      <th>quarter</th>\n",
       "      <th>target</th>\n",
       "      <th>target_pred</th>\n",
       "    </tr>\n",
       "  </thead>\n",
       "  <tbody>\n",
       "    <tr>\n",
       "      <th>0</th>\n",
       "      <td>1</td>\n",
       "      <td>C_ID_0005b2f279</td>\n",
       "      <td>1.0</td>\n",
       "      <td>1</td>\n",
       "      <td>818</td>\n",
       "      <td>M_ID_431d369269</td>\n",
       "      <td>-11</td>\n",
       "      <td>106.0</td>\n",
       "      <td>1.485686e+09</td>\n",
       "      <td>2017</td>\n",
       "      <td>...</td>\n",
       "      <td>0.040816</td>\n",
       "      <td>1.001172</td>\n",
       "      <td>NaN</td>\n",
       "      <td>NaN</td>\n",
       "      <td>NaN</td>\n",
       "      <td>0</td>\n",
       "      <td>0.071279</td>\n",
       "      <td>2.0</td>\n",
       "      <td>2.945304</td>\n",
       "      <td>0.658630</td>\n",
       "    </tr>\n",
       "    <tr>\n",
       "      <th>1</th>\n",
       "      <td>1</td>\n",
       "      <td>C_ID_0005b2f279</td>\n",
       "      <td>1.0</td>\n",
       "      <td>1</td>\n",
       "      <td>278</td>\n",
       "      <td>M_ID_f064c2a380</td>\n",
       "      <td>-11</td>\n",
       "      <td>62.9</td>\n",
       "      <td>1.485695e+09</td>\n",
       "      <td>2017</td>\n",
       "      <td>...</td>\n",
       "      <td>0.040816</td>\n",
       "      <td>1.001172</td>\n",
       "      <td>NaN</td>\n",
       "      <td>NaN</td>\n",
       "      <td>NaN</td>\n",
       "      <td>0</td>\n",
       "      <td>0.071279</td>\n",
       "      <td>2.0</td>\n",
       "      <td>2.945304</td>\n",
       "      <td>1.004230</td>\n",
       "    </tr>\n",
       "    <tr>\n",
       "      <th>2</th>\n",
       "      <td>1</td>\n",
       "      <td>C_ID_0005b2f279</td>\n",
       "      <td>1.0</td>\n",
       "      <td>1</td>\n",
       "      <td>307</td>\n",
       "      <td>M_ID_256a900ace</td>\n",
       "      <td>-10</td>\n",
       "      <td>100.0</td>\n",
       "      <td>1.486204e+09</td>\n",
       "      <td>2017</td>\n",
       "      <td>...</td>\n",
       "      <td>0.040816</td>\n",
       "      <td>1.001172</td>\n",
       "      <td>NaN</td>\n",
       "      <td>NaN</td>\n",
       "      <td>NaN</td>\n",
       "      <td>0</td>\n",
       "      <td>0.071279</td>\n",
       "      <td>2.0</td>\n",
       "      <td>2.945304</td>\n",
       "      <td>0.989231</td>\n",
       "    </tr>\n",
       "    <tr>\n",
       "      <th>3</th>\n",
       "      <td>1</td>\n",
       "      <td>C_ID_0005b2f279</td>\n",
       "      <td>1.0</td>\n",
       "      <td>1</td>\n",
       "      <td>842</td>\n",
       "      <td>M_ID_30be6cf889</td>\n",
       "      <td>-7</td>\n",
       "      <td>38.0</td>\n",
       "      <td>1.494040e+09</td>\n",
       "      <td>2017</td>\n",
       "      <td>...</td>\n",
       "      <td>0.040816</td>\n",
       "      <td>1.001172</td>\n",
       "      <td>NaN</td>\n",
       "      <td>NaN</td>\n",
       "      <td>NaN</td>\n",
       "      <td>0</td>\n",
       "      <td>0.071279</td>\n",
       "      <td>2.0</td>\n",
       "      <td>2.945304</td>\n",
       "      <td>0.969341</td>\n",
       "    </tr>\n",
       "    <tr>\n",
       "      <th>4</th>\n",
       "      <td>1</td>\n",
       "      <td>C_ID_0005b2f279</td>\n",
       "      <td>1.0</td>\n",
       "      <td>1</td>\n",
       "      <td>278</td>\n",
       "      <td>M_ID_8c0ebe57c6</td>\n",
       "      <td>-7</td>\n",
       "      <td>30.0</td>\n",
       "      <td>1.495985e+09</td>\n",
       "      <td>2017</td>\n",
       "      <td>...</td>\n",
       "      <td>0.040816</td>\n",
       "      <td>1.001172</td>\n",
       "      <td>NaN</td>\n",
       "      <td>NaN</td>\n",
       "      <td>NaN</td>\n",
       "      <td>0</td>\n",
       "      <td>0.071279</td>\n",
       "      <td>2.0</td>\n",
       "      <td>2.945304</td>\n",
       "      <td>0.706181</td>\n",
       "    </tr>\n",
       "  </tbody>\n",
       "</table>\n",
       "<p>5 rows × 92 columns</p>\n",
       "</div>"
      ],
      "text/plain": [
       "  authorized_flag          card_id  installments category_3  \\\n",
       "0               1  C_ID_0005b2f279           1.0          1   \n",
       "1               1  C_ID_0005b2f279           1.0          1   \n",
       "2               1  C_ID_0005b2f279           1.0          1   \n",
       "3               1  C_ID_0005b2f279           1.0          1   \n",
       "4               1  C_ID_0005b2f279           1.0          1   \n",
       "\n",
       "  merchant_category_id      merchant_id  month_lag  purchase_amount  \\\n",
       "0                  818  M_ID_431d369269        -11            106.0   \n",
       "1                  278  M_ID_f064c2a380        -11             62.9   \n",
       "2                  307  M_ID_256a900ace        -10            100.0   \n",
       "3                  842  M_ID_30be6cf889         -7             38.0   \n",
       "4                  278  M_ID_8c0ebe57c6         -7             30.0   \n",
       "\n",
       "   purchase_date purchase_Year  ... installments_ratio month_diff_ratio  \\\n",
       "0   1.485686e+09          2017  ...           0.040816         1.001172   \n",
       "1   1.485695e+09          2017  ...           0.040816         1.001172   \n",
       "2   1.486204e+09          2017  ...           0.040816         1.001172   \n",
       "3   1.494040e+09          2017  ...           0.040816         1.001172   \n",
       "4   1.495985e+09          2017  ...           0.040816         1.001172   \n",
       "\n",
       "  new_first_buy new_last_buy observed_elapsed_time outliers  \\\n",
       "0           NaN          NaN                   NaN        0   \n",
       "1           NaN          NaN                   NaN        0   \n",
       "2           NaN          NaN                   NaN        0   \n",
       "3           NaN          NaN                   NaN        0   \n",
       "4           NaN          NaN                   NaN        0   \n",
       "\n",
       "  purchase_amount_sum_ratio quarter    target target_pred  \n",
       "0                  0.071279     2.0  2.945304    0.658630  \n",
       "1                  0.071279     2.0  2.945304    1.004230  \n",
       "2                  0.071279     2.0  2.945304    0.989231  \n",
       "3                  0.071279     2.0  2.945304    0.969341  \n",
       "4                  0.071279     2.0  2.945304    0.706181  \n",
       "\n",
       "[5 rows x 92 columns]"
      ]
     },
     "execution_count": 140,
     "metadata": {},
     "output_type": "execute_result"
    }
   ],
   "source": [
    "df_vla.head()"
   ]
  },
  {
   "cell_type": "code",
   "execution_count": null,
   "metadata": {},
   "outputs": [],
   "source": []
  }
 ],
 "metadata": {
  "kernelspec": {
   "display_name": "Python 3",
   "language": "python",
   "name": "python3"
  },
  "language_info": {
   "codemirror_mode": {
    "name": "ipython",
    "version": 3
   },
   "file_extension": ".py",
   "mimetype": "text/x-python",
   "name": "python",
   "nbconvert_exporter": "python",
   "pygments_lexer": "ipython3",
   "version": "3.6.8"
  },
  "toc": {
   "base_numbering": 1,
   "nav_menu": {},
   "number_sections": true,
   "sideBar": true,
   "skip_h1_title": false,
   "title_cell": "Table of Contents",
   "title_sidebar": "Contents",
   "toc_cell": true,
   "toc_position": {},
   "toc_section_display": true,
   "toc_window_display": true
  }
 },
 "nbformat": 4,
 "nbformat_minor": 2
}
